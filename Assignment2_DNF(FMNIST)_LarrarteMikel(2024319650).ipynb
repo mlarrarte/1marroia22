{
  "nbformat": 4,
  "nbformat_minor": 0,
  "metadata": {
    "colab": {
      "provenance": [],
      "gpuType": "T4",
      "include_colab_link": true
    },
    "kernelspec": {
      "name": "python3",
      "display_name": "Python 3"
    },
    "language_info": {
      "name": "python"
    },
    "accelerator": "GPU",
    "widgets": {
      "application/vnd.jupyter.widget-state+json": {
        "cdfd3ab7154a4634933d556cb83cb516": {
          "model_module": "@jupyter-widgets/controls",
          "model_name": "HBoxModel",
          "model_module_version": "1.5.0",
          "state": {
            "_dom_classes": [],
            "_model_module": "@jupyter-widgets/controls",
            "_model_module_version": "1.5.0",
            "_model_name": "HBoxModel",
            "_view_count": null,
            "_view_module": "@jupyter-widgets/controls",
            "_view_module_version": "1.5.0",
            "_view_name": "HBoxView",
            "box_style": "",
            "children": [
              "IPY_MODEL_e10ad1f56e77482184e0a8389be829f1",
              "IPY_MODEL_fda31c3ae3be429895ea84d5a45782de",
              "IPY_MODEL_9dcc7fb51a124eaba163fb6b6c2b06d8"
            ],
            "layout": "IPY_MODEL_3ad8691e0648423c9ecd1ca0a23b60ac"
          }
        },
        "e10ad1f56e77482184e0a8389be829f1": {
          "model_module": "@jupyter-widgets/controls",
          "model_name": "HTMLModel",
          "model_module_version": "1.5.0",
          "state": {
            "_dom_classes": [],
            "_model_module": "@jupyter-widgets/controls",
            "_model_module_version": "1.5.0",
            "_model_name": "HTMLModel",
            "_view_count": null,
            "_view_module": "@jupyter-widgets/controls",
            "_view_module_version": "1.5.0",
            "_view_name": "HTMLView",
            "description": "",
            "description_tooltip": null,
            "layout": "IPY_MODEL_1a1e1bb922da468caff120e503f4a600",
            "placeholder": "​",
            "style": "IPY_MODEL_f812853220c241b29b0e3d7a138223a8",
            "value": "Sanity Checking DataLoader 0: 100%"
          }
        },
        "fda31c3ae3be429895ea84d5a45782de": {
          "model_module": "@jupyter-widgets/controls",
          "model_name": "FloatProgressModel",
          "model_module_version": "1.5.0",
          "state": {
            "_dom_classes": [],
            "_model_module": "@jupyter-widgets/controls",
            "_model_module_version": "1.5.0",
            "_model_name": "FloatProgressModel",
            "_view_count": null,
            "_view_module": "@jupyter-widgets/controls",
            "_view_module_version": "1.5.0",
            "_view_name": "ProgressView",
            "bar_style": "",
            "description": "",
            "description_tooltip": null,
            "layout": "IPY_MODEL_f7b2247ba6a0446da4ce86ee014ce9fa",
            "max": 2,
            "min": 0,
            "orientation": "horizontal",
            "style": "IPY_MODEL_c535573d2a35426585fb04e324f8b65e",
            "value": 2
          }
        },
        "9dcc7fb51a124eaba163fb6b6c2b06d8": {
          "model_module": "@jupyter-widgets/controls",
          "model_name": "HTMLModel",
          "model_module_version": "1.5.0",
          "state": {
            "_dom_classes": [],
            "_model_module": "@jupyter-widgets/controls",
            "_model_module_version": "1.5.0",
            "_model_name": "HTMLModel",
            "_view_count": null,
            "_view_module": "@jupyter-widgets/controls",
            "_view_module_version": "1.5.0",
            "_view_name": "HTMLView",
            "description": "",
            "description_tooltip": null,
            "layout": "IPY_MODEL_60da4af9b26d4667915cdf5db9c82803",
            "placeholder": "​",
            "style": "IPY_MODEL_4c050018ed0b445db7a1ee316378c4a0",
            "value": " 2/2 [00:00&lt;00:00, 13.97it/s]"
          }
        },
        "3ad8691e0648423c9ecd1ca0a23b60ac": {
          "model_module": "@jupyter-widgets/base",
          "model_name": "LayoutModel",
          "model_module_version": "1.2.0",
          "state": {
            "_model_module": "@jupyter-widgets/base",
            "_model_module_version": "1.2.0",
            "_model_name": "LayoutModel",
            "_view_count": null,
            "_view_module": "@jupyter-widgets/base",
            "_view_module_version": "1.2.0",
            "_view_name": "LayoutView",
            "align_content": null,
            "align_items": null,
            "align_self": null,
            "border": null,
            "bottom": null,
            "display": "inline-flex",
            "flex": null,
            "flex_flow": "row wrap",
            "grid_area": null,
            "grid_auto_columns": null,
            "grid_auto_flow": null,
            "grid_auto_rows": null,
            "grid_column": null,
            "grid_gap": null,
            "grid_row": null,
            "grid_template_areas": null,
            "grid_template_columns": null,
            "grid_template_rows": null,
            "height": null,
            "justify_content": null,
            "justify_items": null,
            "left": null,
            "margin": null,
            "max_height": null,
            "max_width": null,
            "min_height": null,
            "min_width": null,
            "object_fit": null,
            "object_position": null,
            "order": null,
            "overflow": null,
            "overflow_x": null,
            "overflow_y": null,
            "padding": null,
            "right": null,
            "top": null,
            "visibility": "hidden",
            "width": "100%"
          }
        },
        "1a1e1bb922da468caff120e503f4a600": {
          "model_module": "@jupyter-widgets/base",
          "model_name": "LayoutModel",
          "model_module_version": "1.2.0",
          "state": {
            "_model_module": "@jupyter-widgets/base",
            "_model_module_version": "1.2.0",
            "_model_name": "LayoutModel",
            "_view_count": null,
            "_view_module": "@jupyter-widgets/base",
            "_view_module_version": "1.2.0",
            "_view_name": "LayoutView",
            "align_content": null,
            "align_items": null,
            "align_self": null,
            "border": null,
            "bottom": null,
            "display": null,
            "flex": null,
            "flex_flow": null,
            "grid_area": null,
            "grid_auto_columns": null,
            "grid_auto_flow": null,
            "grid_auto_rows": null,
            "grid_column": null,
            "grid_gap": null,
            "grid_row": null,
            "grid_template_areas": null,
            "grid_template_columns": null,
            "grid_template_rows": null,
            "height": null,
            "justify_content": null,
            "justify_items": null,
            "left": null,
            "margin": null,
            "max_height": null,
            "max_width": null,
            "min_height": null,
            "min_width": null,
            "object_fit": null,
            "object_position": null,
            "order": null,
            "overflow": null,
            "overflow_x": null,
            "overflow_y": null,
            "padding": null,
            "right": null,
            "top": null,
            "visibility": null,
            "width": null
          }
        },
        "f812853220c241b29b0e3d7a138223a8": {
          "model_module": "@jupyter-widgets/controls",
          "model_name": "DescriptionStyleModel",
          "model_module_version": "1.5.0",
          "state": {
            "_model_module": "@jupyter-widgets/controls",
            "_model_module_version": "1.5.0",
            "_model_name": "DescriptionStyleModel",
            "_view_count": null,
            "_view_module": "@jupyter-widgets/base",
            "_view_module_version": "1.2.0",
            "_view_name": "StyleView",
            "description_width": ""
          }
        },
        "f7b2247ba6a0446da4ce86ee014ce9fa": {
          "model_module": "@jupyter-widgets/base",
          "model_name": "LayoutModel",
          "model_module_version": "1.2.0",
          "state": {
            "_model_module": "@jupyter-widgets/base",
            "_model_module_version": "1.2.0",
            "_model_name": "LayoutModel",
            "_view_count": null,
            "_view_module": "@jupyter-widgets/base",
            "_view_module_version": "1.2.0",
            "_view_name": "LayoutView",
            "align_content": null,
            "align_items": null,
            "align_self": null,
            "border": null,
            "bottom": null,
            "display": null,
            "flex": "2",
            "flex_flow": null,
            "grid_area": null,
            "grid_auto_columns": null,
            "grid_auto_flow": null,
            "grid_auto_rows": null,
            "grid_column": null,
            "grid_gap": null,
            "grid_row": null,
            "grid_template_areas": null,
            "grid_template_columns": null,
            "grid_template_rows": null,
            "height": null,
            "justify_content": null,
            "justify_items": null,
            "left": null,
            "margin": null,
            "max_height": null,
            "max_width": null,
            "min_height": null,
            "min_width": null,
            "object_fit": null,
            "object_position": null,
            "order": null,
            "overflow": null,
            "overflow_x": null,
            "overflow_y": null,
            "padding": null,
            "right": null,
            "top": null,
            "visibility": null,
            "width": null
          }
        },
        "c535573d2a35426585fb04e324f8b65e": {
          "model_module": "@jupyter-widgets/controls",
          "model_name": "ProgressStyleModel",
          "model_module_version": "1.5.0",
          "state": {
            "_model_module": "@jupyter-widgets/controls",
            "_model_module_version": "1.5.0",
            "_model_name": "ProgressStyleModel",
            "_view_count": null,
            "_view_module": "@jupyter-widgets/base",
            "_view_module_version": "1.2.0",
            "_view_name": "StyleView",
            "bar_color": null,
            "description_width": ""
          }
        },
        "60da4af9b26d4667915cdf5db9c82803": {
          "model_module": "@jupyter-widgets/base",
          "model_name": "LayoutModel",
          "model_module_version": "1.2.0",
          "state": {
            "_model_module": "@jupyter-widgets/base",
            "_model_module_version": "1.2.0",
            "_model_name": "LayoutModel",
            "_view_count": null,
            "_view_module": "@jupyter-widgets/base",
            "_view_module_version": "1.2.0",
            "_view_name": "LayoutView",
            "align_content": null,
            "align_items": null,
            "align_self": null,
            "border": null,
            "bottom": null,
            "display": null,
            "flex": null,
            "flex_flow": null,
            "grid_area": null,
            "grid_auto_columns": null,
            "grid_auto_flow": null,
            "grid_auto_rows": null,
            "grid_column": null,
            "grid_gap": null,
            "grid_row": null,
            "grid_template_areas": null,
            "grid_template_columns": null,
            "grid_template_rows": null,
            "height": null,
            "justify_content": null,
            "justify_items": null,
            "left": null,
            "margin": null,
            "max_height": null,
            "max_width": null,
            "min_height": null,
            "min_width": null,
            "object_fit": null,
            "object_position": null,
            "order": null,
            "overflow": null,
            "overflow_x": null,
            "overflow_y": null,
            "padding": null,
            "right": null,
            "top": null,
            "visibility": null,
            "width": null
          }
        },
        "4c050018ed0b445db7a1ee316378c4a0": {
          "model_module": "@jupyter-widgets/controls",
          "model_name": "DescriptionStyleModel",
          "model_module_version": "1.5.0",
          "state": {
            "_model_module": "@jupyter-widgets/controls",
            "_model_module_version": "1.5.0",
            "_model_name": "DescriptionStyleModel",
            "_view_count": null,
            "_view_module": "@jupyter-widgets/base",
            "_view_module_version": "1.2.0",
            "_view_name": "StyleView",
            "description_width": ""
          }
        },
        "380ff16ac23a4f3b8b3a68b6bdf3f650": {
          "model_module": "@jupyter-widgets/controls",
          "model_name": "HBoxModel",
          "model_module_version": "1.5.0",
          "state": {
            "_dom_classes": [],
            "_model_module": "@jupyter-widgets/controls",
            "_model_module_version": "1.5.0",
            "_model_name": "HBoxModel",
            "_view_count": null,
            "_view_module": "@jupyter-widgets/controls",
            "_view_module_version": "1.5.0",
            "_view_name": "HBoxView",
            "box_style": "",
            "children": [
              "IPY_MODEL_112bf9968b9644c7a1aae9c4263ce7eb",
              "IPY_MODEL_dadccb51821141fbac9c3f3db755616c",
              "IPY_MODEL_5c4b31351b1d453aa3a1466f086b5abf"
            ],
            "layout": "IPY_MODEL_983472666516460184c0c5c3e117f239"
          }
        },
        "112bf9968b9644c7a1aae9c4263ce7eb": {
          "model_module": "@jupyter-widgets/controls",
          "model_name": "HTMLModel",
          "model_module_version": "1.5.0",
          "state": {
            "_dom_classes": [],
            "_model_module": "@jupyter-widgets/controls",
            "_model_module_version": "1.5.0",
            "_model_name": "HTMLModel",
            "_view_count": null,
            "_view_module": "@jupyter-widgets/controls",
            "_view_module_version": "1.5.0",
            "_view_name": "HTMLView",
            "description": "",
            "description_tooltip": null,
            "layout": "IPY_MODEL_2957c0805890432eb9c1398c7a641158",
            "placeholder": "​",
            "style": "IPY_MODEL_22fcfd5b5d5143378e30045d6d2bd4a0",
            "value": "Epoch 4: 100%"
          }
        },
        "dadccb51821141fbac9c3f3db755616c": {
          "model_module": "@jupyter-widgets/controls",
          "model_name": "FloatProgressModel",
          "model_module_version": "1.5.0",
          "state": {
            "_dom_classes": [],
            "_model_module": "@jupyter-widgets/controls",
            "_model_module_version": "1.5.0",
            "_model_name": "FloatProgressModel",
            "_view_count": null,
            "_view_module": "@jupyter-widgets/controls",
            "_view_module_version": "1.5.0",
            "_view_name": "ProgressView",
            "bar_style": "success",
            "description": "",
            "description_tooltip": null,
            "layout": "IPY_MODEL_e2b822a2034f4ff897100bbe50d55001",
            "max": 390,
            "min": 0,
            "orientation": "horizontal",
            "style": "IPY_MODEL_04b66587042540fca15d5efcc08efe48",
            "value": 390
          }
        },
        "5c4b31351b1d453aa3a1466f086b5abf": {
          "model_module": "@jupyter-widgets/controls",
          "model_name": "HTMLModel",
          "model_module_version": "1.5.0",
          "state": {
            "_dom_classes": [],
            "_model_module": "@jupyter-widgets/controls",
            "_model_module_version": "1.5.0",
            "_model_name": "HTMLModel",
            "_view_count": null,
            "_view_module": "@jupyter-widgets/controls",
            "_view_module_version": "1.5.0",
            "_view_name": "HTMLView",
            "description": "",
            "description_tooltip": null,
            "layout": "IPY_MODEL_190e6cb1d8fd4b2d98d2a4bca693dc2d",
            "placeholder": "​",
            "style": "IPY_MODEL_8adc66d084384a268deba8f5498706d2",
            "value": " 390/390 [02:11&lt;00:00,  2.97it/s, v_num=4]"
          }
        },
        "983472666516460184c0c5c3e117f239": {
          "model_module": "@jupyter-widgets/base",
          "model_name": "LayoutModel",
          "model_module_version": "1.2.0",
          "state": {
            "_model_module": "@jupyter-widgets/base",
            "_model_module_version": "1.2.0",
            "_model_name": "LayoutModel",
            "_view_count": null,
            "_view_module": "@jupyter-widgets/base",
            "_view_module_version": "1.2.0",
            "_view_name": "LayoutView",
            "align_content": null,
            "align_items": null,
            "align_self": null,
            "border": null,
            "bottom": null,
            "display": "inline-flex",
            "flex": null,
            "flex_flow": "row wrap",
            "grid_area": null,
            "grid_auto_columns": null,
            "grid_auto_flow": null,
            "grid_auto_rows": null,
            "grid_column": null,
            "grid_gap": null,
            "grid_row": null,
            "grid_template_areas": null,
            "grid_template_columns": null,
            "grid_template_rows": null,
            "height": null,
            "justify_content": null,
            "justify_items": null,
            "left": null,
            "margin": null,
            "max_height": null,
            "max_width": null,
            "min_height": null,
            "min_width": null,
            "object_fit": null,
            "object_position": null,
            "order": null,
            "overflow": null,
            "overflow_x": null,
            "overflow_y": null,
            "padding": null,
            "right": null,
            "top": null,
            "visibility": null,
            "width": "100%"
          }
        },
        "2957c0805890432eb9c1398c7a641158": {
          "model_module": "@jupyter-widgets/base",
          "model_name": "LayoutModel",
          "model_module_version": "1.2.0",
          "state": {
            "_model_module": "@jupyter-widgets/base",
            "_model_module_version": "1.2.0",
            "_model_name": "LayoutModel",
            "_view_count": null,
            "_view_module": "@jupyter-widgets/base",
            "_view_module_version": "1.2.0",
            "_view_name": "LayoutView",
            "align_content": null,
            "align_items": null,
            "align_self": null,
            "border": null,
            "bottom": null,
            "display": null,
            "flex": null,
            "flex_flow": null,
            "grid_area": null,
            "grid_auto_columns": null,
            "grid_auto_flow": null,
            "grid_auto_rows": null,
            "grid_column": null,
            "grid_gap": null,
            "grid_row": null,
            "grid_template_areas": null,
            "grid_template_columns": null,
            "grid_template_rows": null,
            "height": null,
            "justify_content": null,
            "justify_items": null,
            "left": null,
            "margin": null,
            "max_height": null,
            "max_width": null,
            "min_height": null,
            "min_width": null,
            "object_fit": null,
            "object_position": null,
            "order": null,
            "overflow": null,
            "overflow_x": null,
            "overflow_y": null,
            "padding": null,
            "right": null,
            "top": null,
            "visibility": null,
            "width": null
          }
        },
        "22fcfd5b5d5143378e30045d6d2bd4a0": {
          "model_module": "@jupyter-widgets/controls",
          "model_name": "DescriptionStyleModel",
          "model_module_version": "1.5.0",
          "state": {
            "_model_module": "@jupyter-widgets/controls",
            "_model_module_version": "1.5.0",
            "_model_name": "DescriptionStyleModel",
            "_view_count": null,
            "_view_module": "@jupyter-widgets/base",
            "_view_module_version": "1.2.0",
            "_view_name": "StyleView",
            "description_width": ""
          }
        },
        "e2b822a2034f4ff897100bbe50d55001": {
          "model_module": "@jupyter-widgets/base",
          "model_name": "LayoutModel",
          "model_module_version": "1.2.0",
          "state": {
            "_model_module": "@jupyter-widgets/base",
            "_model_module_version": "1.2.0",
            "_model_name": "LayoutModel",
            "_view_count": null,
            "_view_module": "@jupyter-widgets/base",
            "_view_module_version": "1.2.0",
            "_view_name": "LayoutView",
            "align_content": null,
            "align_items": null,
            "align_self": null,
            "border": null,
            "bottom": null,
            "display": null,
            "flex": "2",
            "flex_flow": null,
            "grid_area": null,
            "grid_auto_columns": null,
            "grid_auto_flow": null,
            "grid_auto_rows": null,
            "grid_column": null,
            "grid_gap": null,
            "grid_row": null,
            "grid_template_areas": null,
            "grid_template_columns": null,
            "grid_template_rows": null,
            "height": null,
            "justify_content": null,
            "justify_items": null,
            "left": null,
            "margin": null,
            "max_height": null,
            "max_width": null,
            "min_height": null,
            "min_width": null,
            "object_fit": null,
            "object_position": null,
            "order": null,
            "overflow": null,
            "overflow_x": null,
            "overflow_y": null,
            "padding": null,
            "right": null,
            "top": null,
            "visibility": null,
            "width": null
          }
        },
        "04b66587042540fca15d5efcc08efe48": {
          "model_module": "@jupyter-widgets/controls",
          "model_name": "ProgressStyleModel",
          "model_module_version": "1.5.0",
          "state": {
            "_model_module": "@jupyter-widgets/controls",
            "_model_module_version": "1.5.0",
            "_model_name": "ProgressStyleModel",
            "_view_count": null,
            "_view_module": "@jupyter-widgets/base",
            "_view_module_version": "1.2.0",
            "_view_name": "StyleView",
            "bar_color": null,
            "description_width": ""
          }
        },
        "190e6cb1d8fd4b2d98d2a4bca693dc2d": {
          "model_module": "@jupyter-widgets/base",
          "model_name": "LayoutModel",
          "model_module_version": "1.2.0",
          "state": {
            "_model_module": "@jupyter-widgets/base",
            "_model_module_version": "1.2.0",
            "_model_name": "LayoutModel",
            "_view_count": null,
            "_view_module": "@jupyter-widgets/base",
            "_view_module_version": "1.2.0",
            "_view_name": "LayoutView",
            "align_content": null,
            "align_items": null,
            "align_self": null,
            "border": null,
            "bottom": null,
            "display": null,
            "flex": null,
            "flex_flow": null,
            "grid_area": null,
            "grid_auto_columns": null,
            "grid_auto_flow": null,
            "grid_auto_rows": null,
            "grid_column": null,
            "grid_gap": null,
            "grid_row": null,
            "grid_template_areas": null,
            "grid_template_columns": null,
            "grid_template_rows": null,
            "height": null,
            "justify_content": null,
            "justify_items": null,
            "left": null,
            "margin": null,
            "max_height": null,
            "max_width": null,
            "min_height": null,
            "min_width": null,
            "object_fit": null,
            "object_position": null,
            "order": null,
            "overflow": null,
            "overflow_x": null,
            "overflow_y": null,
            "padding": null,
            "right": null,
            "top": null,
            "visibility": null,
            "width": null
          }
        },
        "8adc66d084384a268deba8f5498706d2": {
          "model_module": "@jupyter-widgets/controls",
          "model_name": "DescriptionStyleModel",
          "model_module_version": "1.5.0",
          "state": {
            "_model_module": "@jupyter-widgets/controls",
            "_model_module_version": "1.5.0",
            "_model_name": "DescriptionStyleModel",
            "_view_count": null,
            "_view_module": "@jupyter-widgets/base",
            "_view_module_version": "1.2.0",
            "_view_name": "StyleView",
            "description_width": ""
          }
        },
        "8d6b871d7e374d3babb11eda1b8334c1": {
          "model_module": "@jupyter-widgets/controls",
          "model_name": "HBoxModel",
          "model_module_version": "1.5.0",
          "state": {
            "_dom_classes": [],
            "_model_module": "@jupyter-widgets/controls",
            "_model_module_version": "1.5.0",
            "_model_name": "HBoxModel",
            "_view_count": null,
            "_view_module": "@jupyter-widgets/controls",
            "_view_module_version": "1.5.0",
            "_view_name": "HBoxView",
            "box_style": "",
            "children": [
              "IPY_MODEL_18c7c273bb934d158dc94bb5e9aa2e22",
              "IPY_MODEL_b5cab6f2cf1c43d99176697480a813df",
              "IPY_MODEL_417a8b04717f4374a3969a20a4d0182e"
            ],
            "layout": "IPY_MODEL_c36637a01bef443d998f709c6fb39eef"
          }
        },
        "18c7c273bb934d158dc94bb5e9aa2e22": {
          "model_module": "@jupyter-widgets/controls",
          "model_name": "HTMLModel",
          "model_module_version": "1.5.0",
          "state": {
            "_dom_classes": [],
            "_model_module": "@jupyter-widgets/controls",
            "_model_module_version": "1.5.0",
            "_model_name": "HTMLModel",
            "_view_count": null,
            "_view_module": "@jupyter-widgets/controls",
            "_view_module_version": "1.5.0",
            "_view_name": "HTMLView",
            "description": "",
            "description_tooltip": null,
            "layout": "IPY_MODEL_3560734956af417bb90569987935ad2b",
            "placeholder": "​",
            "style": "IPY_MODEL_301bec4a552641929371d86574c4d800",
            "value": "Validation DataLoader 0: 100%"
          }
        },
        "b5cab6f2cf1c43d99176697480a813df": {
          "model_module": "@jupyter-widgets/controls",
          "model_name": "FloatProgressModel",
          "model_module_version": "1.5.0",
          "state": {
            "_dom_classes": [],
            "_model_module": "@jupyter-widgets/controls",
            "_model_module_version": "1.5.0",
            "_model_name": "FloatProgressModel",
            "_view_count": null,
            "_view_module": "@jupyter-widgets/controls",
            "_view_module_version": "1.5.0",
            "_view_name": "ProgressView",
            "bar_style": "",
            "description": "",
            "description_tooltip": null,
            "layout": "IPY_MODEL_b8fa52ca72994329a65b5b309aa16f27",
            "max": 157,
            "min": 0,
            "orientation": "horizontal",
            "style": "IPY_MODEL_3c156ead5eb54616a263f24807333256",
            "value": 157
          }
        },
        "417a8b04717f4374a3969a20a4d0182e": {
          "model_module": "@jupyter-widgets/controls",
          "model_name": "HTMLModel",
          "model_module_version": "1.5.0",
          "state": {
            "_dom_classes": [],
            "_model_module": "@jupyter-widgets/controls",
            "_model_module_version": "1.5.0",
            "_model_name": "HTMLModel",
            "_view_count": null,
            "_view_module": "@jupyter-widgets/controls",
            "_view_module_version": "1.5.0",
            "_view_name": "HTMLView",
            "description": "",
            "description_tooltip": null,
            "layout": "IPY_MODEL_1a68534db1a8409183039732982a8e0d",
            "placeholder": "​",
            "style": "IPY_MODEL_629e0ac4f62245fb859af2dd67f1c2fd",
            "value": " 157/157 [00:09&lt;00:00, 16.81it/s]"
          }
        },
        "c36637a01bef443d998f709c6fb39eef": {
          "model_module": "@jupyter-widgets/base",
          "model_name": "LayoutModel",
          "model_module_version": "1.2.0",
          "state": {
            "_model_module": "@jupyter-widgets/base",
            "_model_module_version": "1.2.0",
            "_model_name": "LayoutModel",
            "_view_count": null,
            "_view_module": "@jupyter-widgets/base",
            "_view_module_version": "1.2.0",
            "_view_name": "LayoutView",
            "align_content": null,
            "align_items": null,
            "align_self": null,
            "border": null,
            "bottom": null,
            "display": "inline-flex",
            "flex": null,
            "flex_flow": "row wrap",
            "grid_area": null,
            "grid_auto_columns": null,
            "grid_auto_flow": null,
            "grid_auto_rows": null,
            "grid_column": null,
            "grid_gap": null,
            "grid_row": null,
            "grid_template_areas": null,
            "grid_template_columns": null,
            "grid_template_rows": null,
            "height": null,
            "justify_content": null,
            "justify_items": null,
            "left": null,
            "margin": null,
            "max_height": null,
            "max_width": null,
            "min_height": null,
            "min_width": null,
            "object_fit": null,
            "object_position": null,
            "order": null,
            "overflow": null,
            "overflow_x": null,
            "overflow_y": null,
            "padding": null,
            "right": null,
            "top": null,
            "visibility": "hidden",
            "width": "100%"
          }
        },
        "3560734956af417bb90569987935ad2b": {
          "model_module": "@jupyter-widgets/base",
          "model_name": "LayoutModel",
          "model_module_version": "1.2.0",
          "state": {
            "_model_module": "@jupyter-widgets/base",
            "_model_module_version": "1.2.0",
            "_model_name": "LayoutModel",
            "_view_count": null,
            "_view_module": "@jupyter-widgets/base",
            "_view_module_version": "1.2.0",
            "_view_name": "LayoutView",
            "align_content": null,
            "align_items": null,
            "align_self": null,
            "border": null,
            "bottom": null,
            "display": null,
            "flex": null,
            "flex_flow": null,
            "grid_area": null,
            "grid_auto_columns": null,
            "grid_auto_flow": null,
            "grid_auto_rows": null,
            "grid_column": null,
            "grid_gap": null,
            "grid_row": null,
            "grid_template_areas": null,
            "grid_template_columns": null,
            "grid_template_rows": null,
            "height": null,
            "justify_content": null,
            "justify_items": null,
            "left": null,
            "margin": null,
            "max_height": null,
            "max_width": null,
            "min_height": null,
            "min_width": null,
            "object_fit": null,
            "object_position": null,
            "order": null,
            "overflow": null,
            "overflow_x": null,
            "overflow_y": null,
            "padding": null,
            "right": null,
            "top": null,
            "visibility": null,
            "width": null
          }
        },
        "301bec4a552641929371d86574c4d800": {
          "model_module": "@jupyter-widgets/controls",
          "model_name": "DescriptionStyleModel",
          "model_module_version": "1.5.0",
          "state": {
            "_model_module": "@jupyter-widgets/controls",
            "_model_module_version": "1.5.0",
            "_model_name": "DescriptionStyleModel",
            "_view_count": null,
            "_view_module": "@jupyter-widgets/base",
            "_view_module_version": "1.2.0",
            "_view_name": "StyleView",
            "description_width": ""
          }
        },
        "b8fa52ca72994329a65b5b309aa16f27": {
          "model_module": "@jupyter-widgets/base",
          "model_name": "LayoutModel",
          "model_module_version": "1.2.0",
          "state": {
            "_model_module": "@jupyter-widgets/base",
            "_model_module_version": "1.2.0",
            "_model_name": "LayoutModel",
            "_view_count": null,
            "_view_module": "@jupyter-widgets/base",
            "_view_module_version": "1.2.0",
            "_view_name": "LayoutView",
            "align_content": null,
            "align_items": null,
            "align_self": null,
            "border": null,
            "bottom": null,
            "display": null,
            "flex": "2",
            "flex_flow": null,
            "grid_area": null,
            "grid_auto_columns": null,
            "grid_auto_flow": null,
            "grid_auto_rows": null,
            "grid_column": null,
            "grid_gap": null,
            "grid_row": null,
            "grid_template_areas": null,
            "grid_template_columns": null,
            "grid_template_rows": null,
            "height": null,
            "justify_content": null,
            "justify_items": null,
            "left": null,
            "margin": null,
            "max_height": null,
            "max_width": null,
            "min_height": null,
            "min_width": null,
            "object_fit": null,
            "object_position": null,
            "order": null,
            "overflow": null,
            "overflow_x": null,
            "overflow_y": null,
            "padding": null,
            "right": null,
            "top": null,
            "visibility": null,
            "width": null
          }
        },
        "3c156ead5eb54616a263f24807333256": {
          "model_module": "@jupyter-widgets/controls",
          "model_name": "ProgressStyleModel",
          "model_module_version": "1.5.0",
          "state": {
            "_model_module": "@jupyter-widgets/controls",
            "_model_module_version": "1.5.0",
            "_model_name": "ProgressStyleModel",
            "_view_count": null,
            "_view_module": "@jupyter-widgets/base",
            "_view_module_version": "1.2.0",
            "_view_name": "StyleView",
            "bar_color": null,
            "description_width": ""
          }
        },
        "1a68534db1a8409183039732982a8e0d": {
          "model_module": "@jupyter-widgets/base",
          "model_name": "LayoutModel",
          "model_module_version": "1.2.0",
          "state": {
            "_model_module": "@jupyter-widgets/base",
            "_model_module_version": "1.2.0",
            "_model_name": "LayoutModel",
            "_view_count": null,
            "_view_module": "@jupyter-widgets/base",
            "_view_module_version": "1.2.0",
            "_view_name": "LayoutView",
            "align_content": null,
            "align_items": null,
            "align_self": null,
            "border": null,
            "bottom": null,
            "display": null,
            "flex": null,
            "flex_flow": null,
            "grid_area": null,
            "grid_auto_columns": null,
            "grid_auto_flow": null,
            "grid_auto_rows": null,
            "grid_column": null,
            "grid_gap": null,
            "grid_row": null,
            "grid_template_areas": null,
            "grid_template_columns": null,
            "grid_template_rows": null,
            "height": null,
            "justify_content": null,
            "justify_items": null,
            "left": null,
            "margin": null,
            "max_height": null,
            "max_width": null,
            "min_height": null,
            "min_width": null,
            "object_fit": null,
            "object_position": null,
            "order": null,
            "overflow": null,
            "overflow_x": null,
            "overflow_y": null,
            "padding": null,
            "right": null,
            "top": null,
            "visibility": null,
            "width": null
          }
        },
        "629e0ac4f62245fb859af2dd67f1c2fd": {
          "model_module": "@jupyter-widgets/controls",
          "model_name": "DescriptionStyleModel",
          "model_module_version": "1.5.0",
          "state": {
            "_model_module": "@jupyter-widgets/controls",
            "_model_module_version": "1.5.0",
            "_model_name": "DescriptionStyleModel",
            "_view_count": null,
            "_view_module": "@jupyter-widgets/base",
            "_view_module_version": "1.2.0",
            "_view_name": "StyleView",
            "description_width": ""
          }
        },
        "8877924a22444ba7a3ff18d4edc7132f": {
          "model_module": "@jupyter-widgets/controls",
          "model_name": "HBoxModel",
          "model_module_version": "1.5.0",
          "state": {
            "_dom_classes": [],
            "_model_module": "@jupyter-widgets/controls",
            "_model_module_version": "1.5.0",
            "_model_name": "HBoxModel",
            "_view_count": null,
            "_view_module": "@jupyter-widgets/controls",
            "_view_module_version": "1.5.0",
            "_view_name": "HBoxView",
            "box_style": "",
            "children": [
              "IPY_MODEL_8e41f08a719440c7915bed0aa4e3bfd2",
              "IPY_MODEL_10e383ef712045a099c1e5271ace079c",
              "IPY_MODEL_e6ad58dfbe7e4a19a95eb1c2572bd63c"
            ],
            "layout": "IPY_MODEL_5b33d682d71e41118f3e6a1724ada490"
          }
        },
        "8e41f08a719440c7915bed0aa4e3bfd2": {
          "model_module": "@jupyter-widgets/controls",
          "model_name": "HTMLModel",
          "model_module_version": "1.5.0",
          "state": {
            "_dom_classes": [],
            "_model_module": "@jupyter-widgets/controls",
            "_model_module_version": "1.5.0",
            "_model_name": "HTMLModel",
            "_view_count": null,
            "_view_module": "@jupyter-widgets/controls",
            "_view_module_version": "1.5.0",
            "_view_name": "HTMLView",
            "description": "",
            "description_tooltip": null,
            "layout": "IPY_MODEL_4367d89ae9fc4a418bae6e2141b5ac84",
            "placeholder": "​",
            "style": "IPY_MODEL_17d7468a2bec4cf1b2f9ec6c53c86c9c",
            "value": "Testing DataLoader 0: 100%"
          }
        },
        "10e383ef712045a099c1e5271ace079c": {
          "model_module": "@jupyter-widgets/controls",
          "model_name": "FloatProgressModel",
          "model_module_version": "1.5.0",
          "state": {
            "_dom_classes": [],
            "_model_module": "@jupyter-widgets/controls",
            "_model_module_version": "1.5.0",
            "_model_name": "FloatProgressModel",
            "_view_count": null,
            "_view_module": "@jupyter-widgets/controls",
            "_view_module_version": "1.5.0",
            "_view_name": "ProgressView",
            "bar_style": "success",
            "description": "",
            "description_tooltip": null,
            "layout": "IPY_MODEL_c81759010a8c4f74b2a16a32ed114cb0",
            "max": 157,
            "min": 0,
            "orientation": "horizontal",
            "style": "IPY_MODEL_5130fba558c1475a9df7a93a66187398",
            "value": 157
          }
        },
        "e6ad58dfbe7e4a19a95eb1c2572bd63c": {
          "model_module": "@jupyter-widgets/controls",
          "model_name": "HTMLModel",
          "model_module_version": "1.5.0",
          "state": {
            "_dom_classes": [],
            "_model_module": "@jupyter-widgets/controls",
            "_model_module_version": "1.5.0",
            "_model_name": "HTMLModel",
            "_view_count": null,
            "_view_module": "@jupyter-widgets/controls",
            "_view_module_version": "1.5.0",
            "_view_name": "HTMLView",
            "description": "",
            "description_tooltip": null,
            "layout": "IPY_MODEL_892f9434d05e4acb92a7d258ae610014",
            "placeholder": "​",
            "style": "IPY_MODEL_892e7659a49a4e138bfb4bd41820bd40",
            "value": " 157/157 [01:05&lt;00:00,  2.40it/s]"
          }
        },
        "5b33d682d71e41118f3e6a1724ada490": {
          "model_module": "@jupyter-widgets/base",
          "model_name": "LayoutModel",
          "model_module_version": "1.2.0",
          "state": {
            "_model_module": "@jupyter-widgets/base",
            "_model_module_version": "1.2.0",
            "_model_name": "LayoutModel",
            "_view_count": null,
            "_view_module": "@jupyter-widgets/base",
            "_view_module_version": "1.2.0",
            "_view_name": "LayoutView",
            "align_content": null,
            "align_items": null,
            "align_self": null,
            "border": null,
            "bottom": null,
            "display": "inline-flex",
            "flex": null,
            "flex_flow": "row wrap",
            "grid_area": null,
            "grid_auto_columns": null,
            "grid_auto_flow": null,
            "grid_auto_rows": null,
            "grid_column": null,
            "grid_gap": null,
            "grid_row": null,
            "grid_template_areas": null,
            "grid_template_columns": null,
            "grid_template_rows": null,
            "height": null,
            "justify_content": null,
            "justify_items": null,
            "left": null,
            "margin": null,
            "max_height": null,
            "max_width": null,
            "min_height": null,
            "min_width": null,
            "object_fit": null,
            "object_position": null,
            "order": null,
            "overflow": null,
            "overflow_x": null,
            "overflow_y": null,
            "padding": null,
            "right": null,
            "top": null,
            "visibility": null,
            "width": "100%"
          }
        },
        "4367d89ae9fc4a418bae6e2141b5ac84": {
          "model_module": "@jupyter-widgets/base",
          "model_name": "LayoutModel",
          "model_module_version": "1.2.0",
          "state": {
            "_model_module": "@jupyter-widgets/base",
            "_model_module_version": "1.2.0",
            "_model_name": "LayoutModel",
            "_view_count": null,
            "_view_module": "@jupyter-widgets/base",
            "_view_module_version": "1.2.0",
            "_view_name": "LayoutView",
            "align_content": null,
            "align_items": null,
            "align_self": null,
            "border": null,
            "bottom": null,
            "display": null,
            "flex": null,
            "flex_flow": null,
            "grid_area": null,
            "grid_auto_columns": null,
            "grid_auto_flow": null,
            "grid_auto_rows": null,
            "grid_column": null,
            "grid_gap": null,
            "grid_row": null,
            "grid_template_areas": null,
            "grid_template_columns": null,
            "grid_template_rows": null,
            "height": null,
            "justify_content": null,
            "justify_items": null,
            "left": null,
            "margin": null,
            "max_height": null,
            "max_width": null,
            "min_height": null,
            "min_width": null,
            "object_fit": null,
            "object_position": null,
            "order": null,
            "overflow": null,
            "overflow_x": null,
            "overflow_y": null,
            "padding": null,
            "right": null,
            "top": null,
            "visibility": null,
            "width": null
          }
        },
        "17d7468a2bec4cf1b2f9ec6c53c86c9c": {
          "model_module": "@jupyter-widgets/controls",
          "model_name": "DescriptionStyleModel",
          "model_module_version": "1.5.0",
          "state": {
            "_model_module": "@jupyter-widgets/controls",
            "_model_module_version": "1.5.0",
            "_model_name": "DescriptionStyleModel",
            "_view_count": null,
            "_view_module": "@jupyter-widgets/base",
            "_view_module_version": "1.2.0",
            "_view_name": "StyleView",
            "description_width": ""
          }
        },
        "c81759010a8c4f74b2a16a32ed114cb0": {
          "model_module": "@jupyter-widgets/base",
          "model_name": "LayoutModel",
          "model_module_version": "1.2.0",
          "state": {
            "_model_module": "@jupyter-widgets/base",
            "_model_module_version": "1.2.0",
            "_model_name": "LayoutModel",
            "_view_count": null,
            "_view_module": "@jupyter-widgets/base",
            "_view_module_version": "1.2.0",
            "_view_name": "LayoutView",
            "align_content": null,
            "align_items": null,
            "align_self": null,
            "border": null,
            "bottom": null,
            "display": null,
            "flex": "2",
            "flex_flow": null,
            "grid_area": null,
            "grid_auto_columns": null,
            "grid_auto_flow": null,
            "grid_auto_rows": null,
            "grid_column": null,
            "grid_gap": null,
            "grid_row": null,
            "grid_template_areas": null,
            "grid_template_columns": null,
            "grid_template_rows": null,
            "height": null,
            "justify_content": null,
            "justify_items": null,
            "left": null,
            "margin": null,
            "max_height": null,
            "max_width": null,
            "min_height": null,
            "min_width": null,
            "object_fit": null,
            "object_position": null,
            "order": null,
            "overflow": null,
            "overflow_x": null,
            "overflow_y": null,
            "padding": null,
            "right": null,
            "top": null,
            "visibility": null,
            "width": null
          }
        },
        "5130fba558c1475a9df7a93a66187398": {
          "model_module": "@jupyter-widgets/controls",
          "model_name": "ProgressStyleModel",
          "model_module_version": "1.5.0",
          "state": {
            "_model_module": "@jupyter-widgets/controls",
            "_model_module_version": "1.5.0",
            "_model_name": "ProgressStyleModel",
            "_view_count": null,
            "_view_module": "@jupyter-widgets/base",
            "_view_module_version": "1.2.0",
            "_view_name": "StyleView",
            "bar_color": null,
            "description_width": ""
          }
        },
        "892f9434d05e4acb92a7d258ae610014": {
          "model_module": "@jupyter-widgets/base",
          "model_name": "LayoutModel",
          "model_module_version": "1.2.0",
          "state": {
            "_model_module": "@jupyter-widgets/base",
            "_model_module_version": "1.2.0",
            "_model_name": "LayoutModel",
            "_view_count": null,
            "_view_module": "@jupyter-widgets/base",
            "_view_module_version": "1.2.0",
            "_view_name": "LayoutView",
            "align_content": null,
            "align_items": null,
            "align_self": null,
            "border": null,
            "bottom": null,
            "display": null,
            "flex": null,
            "flex_flow": null,
            "grid_area": null,
            "grid_auto_columns": null,
            "grid_auto_flow": null,
            "grid_auto_rows": null,
            "grid_column": null,
            "grid_gap": null,
            "grid_row": null,
            "grid_template_areas": null,
            "grid_template_columns": null,
            "grid_template_rows": null,
            "height": null,
            "justify_content": null,
            "justify_items": null,
            "left": null,
            "margin": null,
            "max_height": null,
            "max_width": null,
            "min_height": null,
            "min_width": null,
            "object_fit": null,
            "object_position": null,
            "order": null,
            "overflow": null,
            "overflow_x": null,
            "overflow_y": null,
            "padding": null,
            "right": null,
            "top": null,
            "visibility": null,
            "width": null
          }
        },
        "892e7659a49a4e138bfb4bd41820bd40": {
          "model_module": "@jupyter-widgets/controls",
          "model_name": "DescriptionStyleModel",
          "model_module_version": "1.5.0",
          "state": {
            "_model_module": "@jupyter-widgets/controls",
            "_model_module_version": "1.5.0",
            "_model_name": "DescriptionStyleModel",
            "_view_count": null,
            "_view_module": "@jupyter-widgets/base",
            "_view_module_version": "1.2.0",
            "_view_name": "StyleView",
            "description_width": ""
          }
        },
        "1af6654a87cb467382edfa470b1984fa": {
          "model_module": "@jupyter-widgets/controls",
          "model_name": "HBoxModel",
          "model_module_version": "1.5.0",
          "state": {
            "_dom_classes": [],
            "_model_module": "@jupyter-widgets/controls",
            "_model_module_version": "1.5.0",
            "_model_name": "HBoxModel",
            "_view_count": null,
            "_view_module": "@jupyter-widgets/controls",
            "_view_module_version": "1.5.0",
            "_view_name": "HBoxView",
            "box_style": "",
            "children": [
              "IPY_MODEL_eb19bf6e4f334b908365138190f9fdfd",
              "IPY_MODEL_e07dbafab0e94edb98e51c125c272047",
              "IPY_MODEL_a8f15a9b3e43445b94abf2dae5fad6c8"
            ],
            "layout": "IPY_MODEL_7d977a4f33fa483382e16afb725c203f"
          }
        },
        "eb19bf6e4f334b908365138190f9fdfd": {
          "model_module": "@jupyter-widgets/controls",
          "model_name": "HTMLModel",
          "model_module_version": "1.5.0",
          "state": {
            "_dom_classes": [],
            "_model_module": "@jupyter-widgets/controls",
            "_model_module_version": "1.5.0",
            "_model_name": "HTMLModel",
            "_view_count": null,
            "_view_module": "@jupyter-widgets/controls",
            "_view_module_version": "1.5.0",
            "_view_name": "HTMLView",
            "description": "",
            "description_tooltip": null,
            "layout": "IPY_MODEL_397a82b5c65742709f85bf30d0899493",
            "placeholder": "​",
            "style": "IPY_MODEL_8856df010cff426bb7fd9e40b2dbc1cf",
            "value": "Testing DataLoader 0: 100%"
          }
        },
        "e07dbafab0e94edb98e51c125c272047": {
          "model_module": "@jupyter-widgets/controls",
          "model_name": "FloatProgressModel",
          "model_module_version": "1.5.0",
          "state": {
            "_dom_classes": [],
            "_model_module": "@jupyter-widgets/controls",
            "_model_module_version": "1.5.0",
            "_model_name": "FloatProgressModel",
            "_view_count": null,
            "_view_module": "@jupyter-widgets/controls",
            "_view_module_version": "1.5.0",
            "_view_name": "ProgressView",
            "bar_style": "success",
            "description": "",
            "description_tooltip": null,
            "layout": "IPY_MODEL_d926ddf137e44f56a848203791114d8e",
            "max": 157,
            "min": 0,
            "orientation": "horizontal",
            "style": "IPY_MODEL_ffa5785e7af84fc6ab43b3742043a255",
            "value": 157
          }
        },
        "a8f15a9b3e43445b94abf2dae5fad6c8": {
          "model_module": "@jupyter-widgets/controls",
          "model_name": "HTMLModel",
          "model_module_version": "1.5.0",
          "state": {
            "_dom_classes": [],
            "_model_module": "@jupyter-widgets/controls",
            "_model_module_version": "1.5.0",
            "_model_name": "HTMLModel",
            "_view_count": null,
            "_view_module": "@jupyter-widgets/controls",
            "_view_module_version": "1.5.0",
            "_view_name": "HTMLView",
            "description": "",
            "description_tooltip": null,
            "layout": "IPY_MODEL_2464ecac329344568c838bbcac78cf0a",
            "placeholder": "​",
            "style": "IPY_MODEL_36275609488449a6a3be9ae510431c58",
            "value": " 157/157 [01:05&lt;00:00,  2.39it/s]"
          }
        },
        "7d977a4f33fa483382e16afb725c203f": {
          "model_module": "@jupyter-widgets/base",
          "model_name": "LayoutModel",
          "model_module_version": "1.2.0",
          "state": {
            "_model_module": "@jupyter-widgets/base",
            "_model_module_version": "1.2.0",
            "_model_name": "LayoutModel",
            "_view_count": null,
            "_view_module": "@jupyter-widgets/base",
            "_view_module_version": "1.2.0",
            "_view_name": "LayoutView",
            "align_content": null,
            "align_items": null,
            "align_self": null,
            "border": null,
            "bottom": null,
            "display": "inline-flex",
            "flex": null,
            "flex_flow": "row wrap",
            "grid_area": null,
            "grid_auto_columns": null,
            "grid_auto_flow": null,
            "grid_auto_rows": null,
            "grid_column": null,
            "grid_gap": null,
            "grid_row": null,
            "grid_template_areas": null,
            "grid_template_columns": null,
            "grid_template_rows": null,
            "height": null,
            "justify_content": null,
            "justify_items": null,
            "left": null,
            "margin": null,
            "max_height": null,
            "max_width": null,
            "min_height": null,
            "min_width": null,
            "object_fit": null,
            "object_position": null,
            "order": null,
            "overflow": null,
            "overflow_x": null,
            "overflow_y": null,
            "padding": null,
            "right": null,
            "top": null,
            "visibility": null,
            "width": "100%"
          }
        },
        "397a82b5c65742709f85bf30d0899493": {
          "model_module": "@jupyter-widgets/base",
          "model_name": "LayoutModel",
          "model_module_version": "1.2.0",
          "state": {
            "_model_module": "@jupyter-widgets/base",
            "_model_module_version": "1.2.0",
            "_model_name": "LayoutModel",
            "_view_count": null,
            "_view_module": "@jupyter-widgets/base",
            "_view_module_version": "1.2.0",
            "_view_name": "LayoutView",
            "align_content": null,
            "align_items": null,
            "align_self": null,
            "border": null,
            "bottom": null,
            "display": null,
            "flex": null,
            "flex_flow": null,
            "grid_area": null,
            "grid_auto_columns": null,
            "grid_auto_flow": null,
            "grid_auto_rows": null,
            "grid_column": null,
            "grid_gap": null,
            "grid_row": null,
            "grid_template_areas": null,
            "grid_template_columns": null,
            "grid_template_rows": null,
            "height": null,
            "justify_content": null,
            "justify_items": null,
            "left": null,
            "margin": null,
            "max_height": null,
            "max_width": null,
            "min_height": null,
            "min_width": null,
            "object_fit": null,
            "object_position": null,
            "order": null,
            "overflow": null,
            "overflow_x": null,
            "overflow_y": null,
            "padding": null,
            "right": null,
            "top": null,
            "visibility": null,
            "width": null
          }
        },
        "8856df010cff426bb7fd9e40b2dbc1cf": {
          "model_module": "@jupyter-widgets/controls",
          "model_name": "DescriptionStyleModel",
          "model_module_version": "1.5.0",
          "state": {
            "_model_module": "@jupyter-widgets/controls",
            "_model_module_version": "1.5.0",
            "_model_name": "DescriptionStyleModel",
            "_view_count": null,
            "_view_module": "@jupyter-widgets/base",
            "_view_module_version": "1.2.0",
            "_view_name": "StyleView",
            "description_width": ""
          }
        },
        "d926ddf137e44f56a848203791114d8e": {
          "model_module": "@jupyter-widgets/base",
          "model_name": "LayoutModel",
          "model_module_version": "1.2.0",
          "state": {
            "_model_module": "@jupyter-widgets/base",
            "_model_module_version": "1.2.0",
            "_model_name": "LayoutModel",
            "_view_count": null,
            "_view_module": "@jupyter-widgets/base",
            "_view_module_version": "1.2.0",
            "_view_name": "LayoutView",
            "align_content": null,
            "align_items": null,
            "align_self": null,
            "border": null,
            "bottom": null,
            "display": null,
            "flex": "2",
            "flex_flow": null,
            "grid_area": null,
            "grid_auto_columns": null,
            "grid_auto_flow": null,
            "grid_auto_rows": null,
            "grid_column": null,
            "grid_gap": null,
            "grid_row": null,
            "grid_template_areas": null,
            "grid_template_columns": null,
            "grid_template_rows": null,
            "height": null,
            "justify_content": null,
            "justify_items": null,
            "left": null,
            "margin": null,
            "max_height": null,
            "max_width": null,
            "min_height": null,
            "min_width": null,
            "object_fit": null,
            "object_position": null,
            "order": null,
            "overflow": null,
            "overflow_x": null,
            "overflow_y": null,
            "padding": null,
            "right": null,
            "top": null,
            "visibility": null,
            "width": null
          }
        },
        "ffa5785e7af84fc6ab43b3742043a255": {
          "model_module": "@jupyter-widgets/controls",
          "model_name": "ProgressStyleModel",
          "model_module_version": "1.5.0",
          "state": {
            "_model_module": "@jupyter-widgets/controls",
            "_model_module_version": "1.5.0",
            "_model_name": "ProgressStyleModel",
            "_view_count": null,
            "_view_module": "@jupyter-widgets/base",
            "_view_module_version": "1.2.0",
            "_view_name": "StyleView",
            "bar_color": null,
            "description_width": ""
          }
        },
        "2464ecac329344568c838bbcac78cf0a": {
          "model_module": "@jupyter-widgets/base",
          "model_name": "LayoutModel",
          "model_module_version": "1.2.0",
          "state": {
            "_model_module": "@jupyter-widgets/base",
            "_model_module_version": "1.2.0",
            "_model_name": "LayoutModel",
            "_view_count": null,
            "_view_module": "@jupyter-widgets/base",
            "_view_module_version": "1.2.0",
            "_view_name": "LayoutView",
            "align_content": null,
            "align_items": null,
            "align_self": null,
            "border": null,
            "bottom": null,
            "display": null,
            "flex": null,
            "flex_flow": null,
            "grid_area": null,
            "grid_auto_columns": null,
            "grid_auto_flow": null,
            "grid_auto_rows": null,
            "grid_column": null,
            "grid_gap": null,
            "grid_row": null,
            "grid_template_areas": null,
            "grid_template_columns": null,
            "grid_template_rows": null,
            "height": null,
            "justify_content": null,
            "justify_items": null,
            "left": null,
            "margin": null,
            "max_height": null,
            "max_width": null,
            "min_height": null,
            "min_width": null,
            "object_fit": null,
            "object_position": null,
            "order": null,
            "overflow": null,
            "overflow_x": null,
            "overflow_y": null,
            "padding": null,
            "right": null,
            "top": null,
            "visibility": null,
            "width": null
          }
        },
        "36275609488449a6a3be9ae510431c58": {
          "model_module": "@jupyter-widgets/controls",
          "model_name": "DescriptionStyleModel",
          "model_module_version": "1.5.0",
          "state": {
            "_model_module": "@jupyter-widgets/controls",
            "_model_module_version": "1.5.0",
            "_model_name": "DescriptionStyleModel",
            "_view_count": null,
            "_view_module": "@jupyter-widgets/base",
            "_view_module_version": "1.2.0",
            "_view_name": "StyleView",
            "description_width": ""
          }
        },
        "7b5b445b3d16412b95586c9e0e59327d": {
          "model_module": "@jupyter-widgets/controls",
          "model_name": "HBoxModel",
          "model_module_version": "1.5.0",
          "state": {
            "_dom_classes": [],
            "_model_module": "@jupyter-widgets/controls",
            "_model_module_version": "1.5.0",
            "_model_name": "HBoxModel",
            "_view_count": null,
            "_view_module": "@jupyter-widgets/controls",
            "_view_module_version": "1.5.0",
            "_view_name": "HBoxView",
            "box_style": "",
            "children": [
              "IPY_MODEL_5b88285eb9364f8aae577fef3c52b0de",
              "IPY_MODEL_167a08b4e3e04a54899ce249a443edf4",
              "IPY_MODEL_a880a2a13adc4ff88affe7abafe9133c"
            ],
            "layout": "IPY_MODEL_8e4c741516904539952fd68ea14550d9"
          }
        },
        "5b88285eb9364f8aae577fef3c52b0de": {
          "model_module": "@jupyter-widgets/controls",
          "model_name": "HTMLModel",
          "model_module_version": "1.5.0",
          "state": {
            "_dom_classes": [],
            "_model_module": "@jupyter-widgets/controls",
            "_model_module_version": "1.5.0",
            "_model_name": "HTMLModel",
            "_view_count": null,
            "_view_module": "@jupyter-widgets/controls",
            "_view_module_version": "1.5.0",
            "_view_name": "HTMLView",
            "description": "",
            "description_tooltip": null,
            "layout": "IPY_MODEL_9e69f2a6f826480fbc832890c2266799",
            "placeholder": "​",
            "style": "IPY_MODEL_38204da4998a4ae78146780614bf990b",
            "value": "Sanity Checking DataLoader 0: 100%"
          }
        },
        "167a08b4e3e04a54899ce249a443edf4": {
          "model_module": "@jupyter-widgets/controls",
          "model_name": "FloatProgressModel",
          "model_module_version": "1.5.0",
          "state": {
            "_dom_classes": [],
            "_model_module": "@jupyter-widgets/controls",
            "_model_module_version": "1.5.0",
            "_model_name": "FloatProgressModel",
            "_view_count": null,
            "_view_module": "@jupyter-widgets/controls",
            "_view_module_version": "1.5.0",
            "_view_name": "ProgressView",
            "bar_style": "",
            "description": "",
            "description_tooltip": null,
            "layout": "IPY_MODEL_7266b9d4031f4588b061cc0bc0cf28a0",
            "max": 2,
            "min": 0,
            "orientation": "horizontal",
            "style": "IPY_MODEL_ac66a1ab3aff4542b385effcff9b2390",
            "value": 2
          }
        },
        "a880a2a13adc4ff88affe7abafe9133c": {
          "model_module": "@jupyter-widgets/controls",
          "model_name": "HTMLModel",
          "model_module_version": "1.5.0",
          "state": {
            "_dom_classes": [],
            "_model_module": "@jupyter-widgets/controls",
            "_model_module_version": "1.5.0",
            "_model_name": "HTMLModel",
            "_view_count": null,
            "_view_module": "@jupyter-widgets/controls",
            "_view_module_version": "1.5.0",
            "_view_name": "HTMLView",
            "description": "",
            "description_tooltip": null,
            "layout": "IPY_MODEL_ad40222602744f19bb769c3212020444",
            "placeholder": "​",
            "style": "IPY_MODEL_900c4f29b8fe4888a607ba50ec7bfd6b",
            "value": " 2/2 [00:00&lt;00:00,  8.37it/s]"
          }
        },
        "8e4c741516904539952fd68ea14550d9": {
          "model_module": "@jupyter-widgets/base",
          "model_name": "LayoutModel",
          "model_module_version": "1.2.0",
          "state": {
            "_model_module": "@jupyter-widgets/base",
            "_model_module_version": "1.2.0",
            "_model_name": "LayoutModel",
            "_view_count": null,
            "_view_module": "@jupyter-widgets/base",
            "_view_module_version": "1.2.0",
            "_view_name": "LayoutView",
            "align_content": null,
            "align_items": null,
            "align_self": null,
            "border": null,
            "bottom": null,
            "display": "inline-flex",
            "flex": null,
            "flex_flow": "row wrap",
            "grid_area": null,
            "grid_auto_columns": null,
            "grid_auto_flow": null,
            "grid_auto_rows": null,
            "grid_column": null,
            "grid_gap": null,
            "grid_row": null,
            "grid_template_areas": null,
            "grid_template_columns": null,
            "grid_template_rows": null,
            "height": null,
            "justify_content": null,
            "justify_items": null,
            "left": null,
            "margin": null,
            "max_height": null,
            "max_width": null,
            "min_height": null,
            "min_width": null,
            "object_fit": null,
            "object_position": null,
            "order": null,
            "overflow": null,
            "overflow_x": null,
            "overflow_y": null,
            "padding": null,
            "right": null,
            "top": null,
            "visibility": "hidden",
            "width": "100%"
          }
        },
        "9e69f2a6f826480fbc832890c2266799": {
          "model_module": "@jupyter-widgets/base",
          "model_name": "LayoutModel",
          "model_module_version": "1.2.0",
          "state": {
            "_model_module": "@jupyter-widgets/base",
            "_model_module_version": "1.2.0",
            "_model_name": "LayoutModel",
            "_view_count": null,
            "_view_module": "@jupyter-widgets/base",
            "_view_module_version": "1.2.0",
            "_view_name": "LayoutView",
            "align_content": null,
            "align_items": null,
            "align_self": null,
            "border": null,
            "bottom": null,
            "display": null,
            "flex": null,
            "flex_flow": null,
            "grid_area": null,
            "grid_auto_columns": null,
            "grid_auto_flow": null,
            "grid_auto_rows": null,
            "grid_column": null,
            "grid_gap": null,
            "grid_row": null,
            "grid_template_areas": null,
            "grid_template_columns": null,
            "grid_template_rows": null,
            "height": null,
            "justify_content": null,
            "justify_items": null,
            "left": null,
            "margin": null,
            "max_height": null,
            "max_width": null,
            "min_height": null,
            "min_width": null,
            "object_fit": null,
            "object_position": null,
            "order": null,
            "overflow": null,
            "overflow_x": null,
            "overflow_y": null,
            "padding": null,
            "right": null,
            "top": null,
            "visibility": null,
            "width": null
          }
        },
        "38204da4998a4ae78146780614bf990b": {
          "model_module": "@jupyter-widgets/controls",
          "model_name": "DescriptionStyleModel",
          "model_module_version": "1.5.0",
          "state": {
            "_model_module": "@jupyter-widgets/controls",
            "_model_module_version": "1.5.0",
            "_model_name": "DescriptionStyleModel",
            "_view_count": null,
            "_view_module": "@jupyter-widgets/base",
            "_view_module_version": "1.2.0",
            "_view_name": "StyleView",
            "description_width": ""
          }
        },
        "7266b9d4031f4588b061cc0bc0cf28a0": {
          "model_module": "@jupyter-widgets/base",
          "model_name": "LayoutModel",
          "model_module_version": "1.2.0",
          "state": {
            "_model_module": "@jupyter-widgets/base",
            "_model_module_version": "1.2.0",
            "_model_name": "LayoutModel",
            "_view_count": null,
            "_view_module": "@jupyter-widgets/base",
            "_view_module_version": "1.2.0",
            "_view_name": "LayoutView",
            "align_content": null,
            "align_items": null,
            "align_self": null,
            "border": null,
            "bottom": null,
            "display": null,
            "flex": "2",
            "flex_flow": null,
            "grid_area": null,
            "grid_auto_columns": null,
            "grid_auto_flow": null,
            "grid_auto_rows": null,
            "grid_column": null,
            "grid_gap": null,
            "grid_row": null,
            "grid_template_areas": null,
            "grid_template_columns": null,
            "grid_template_rows": null,
            "height": null,
            "justify_content": null,
            "justify_items": null,
            "left": null,
            "margin": null,
            "max_height": null,
            "max_width": null,
            "min_height": null,
            "min_width": null,
            "object_fit": null,
            "object_position": null,
            "order": null,
            "overflow": null,
            "overflow_x": null,
            "overflow_y": null,
            "padding": null,
            "right": null,
            "top": null,
            "visibility": null,
            "width": null
          }
        },
        "ac66a1ab3aff4542b385effcff9b2390": {
          "model_module": "@jupyter-widgets/controls",
          "model_name": "ProgressStyleModel",
          "model_module_version": "1.5.0",
          "state": {
            "_model_module": "@jupyter-widgets/controls",
            "_model_module_version": "1.5.0",
            "_model_name": "ProgressStyleModel",
            "_view_count": null,
            "_view_module": "@jupyter-widgets/base",
            "_view_module_version": "1.2.0",
            "_view_name": "StyleView",
            "bar_color": null,
            "description_width": ""
          }
        },
        "ad40222602744f19bb769c3212020444": {
          "model_module": "@jupyter-widgets/base",
          "model_name": "LayoutModel",
          "model_module_version": "1.2.0",
          "state": {
            "_model_module": "@jupyter-widgets/base",
            "_model_module_version": "1.2.0",
            "_model_name": "LayoutModel",
            "_view_count": null,
            "_view_module": "@jupyter-widgets/base",
            "_view_module_version": "1.2.0",
            "_view_name": "LayoutView",
            "align_content": null,
            "align_items": null,
            "align_self": null,
            "border": null,
            "bottom": null,
            "display": null,
            "flex": null,
            "flex_flow": null,
            "grid_area": null,
            "grid_auto_columns": null,
            "grid_auto_flow": null,
            "grid_auto_rows": null,
            "grid_column": null,
            "grid_gap": null,
            "grid_row": null,
            "grid_template_areas": null,
            "grid_template_columns": null,
            "grid_template_rows": null,
            "height": null,
            "justify_content": null,
            "justify_items": null,
            "left": null,
            "margin": null,
            "max_height": null,
            "max_width": null,
            "min_height": null,
            "min_width": null,
            "object_fit": null,
            "object_position": null,
            "order": null,
            "overflow": null,
            "overflow_x": null,
            "overflow_y": null,
            "padding": null,
            "right": null,
            "top": null,
            "visibility": null,
            "width": null
          }
        },
        "900c4f29b8fe4888a607ba50ec7bfd6b": {
          "model_module": "@jupyter-widgets/controls",
          "model_name": "DescriptionStyleModel",
          "model_module_version": "1.5.0",
          "state": {
            "_model_module": "@jupyter-widgets/controls",
            "_model_module_version": "1.5.0",
            "_model_name": "DescriptionStyleModel",
            "_view_count": null,
            "_view_module": "@jupyter-widgets/base",
            "_view_module_version": "1.2.0",
            "_view_name": "StyleView",
            "description_width": ""
          }
        },
        "d54258c33312491c8c17d5981a20f80b": {
          "model_module": "@jupyter-widgets/controls",
          "model_name": "HBoxModel",
          "model_module_version": "1.5.0",
          "state": {
            "_dom_classes": [],
            "_model_module": "@jupyter-widgets/controls",
            "_model_module_version": "1.5.0",
            "_model_name": "HBoxModel",
            "_view_count": null,
            "_view_module": "@jupyter-widgets/controls",
            "_view_module_version": "1.5.0",
            "_view_name": "HBoxView",
            "box_style": "",
            "children": [
              "IPY_MODEL_38d65a2e04fd48d1b245dd783d832465",
              "IPY_MODEL_b5904b84c0714356989bee74aa2eeb86",
              "IPY_MODEL_368ed7e92f61439eb6f2d209a3aeba8b"
            ],
            "layout": "IPY_MODEL_273a86fa06dc45e6bf62eaf7821ec142"
          }
        },
        "38d65a2e04fd48d1b245dd783d832465": {
          "model_module": "@jupyter-widgets/controls",
          "model_name": "HTMLModel",
          "model_module_version": "1.5.0",
          "state": {
            "_dom_classes": [],
            "_model_module": "@jupyter-widgets/controls",
            "_model_module_version": "1.5.0",
            "_model_name": "HTMLModel",
            "_view_count": null,
            "_view_module": "@jupyter-widgets/controls",
            "_view_module_version": "1.5.0",
            "_view_name": "HTMLView",
            "description": "",
            "description_tooltip": null,
            "layout": "IPY_MODEL_cfccf8deb53648de9aa9c6a880635e96",
            "placeholder": "​",
            "style": "IPY_MODEL_2b88add53c83452ba5ca6a0d4841bb2c",
            "value": "Epoch 2:  72%"
          }
        },
        "b5904b84c0714356989bee74aa2eeb86": {
          "model_module": "@jupyter-widgets/controls",
          "model_name": "FloatProgressModel",
          "model_module_version": "1.5.0",
          "state": {
            "_dom_classes": [],
            "_model_module": "@jupyter-widgets/controls",
            "_model_module_version": "1.5.0",
            "_model_name": "FloatProgressModel",
            "_view_count": null,
            "_view_module": "@jupyter-widgets/controls",
            "_view_module_version": "1.5.0",
            "_view_name": "ProgressView",
            "bar_style": "",
            "description": "",
            "description_tooltip": null,
            "layout": "IPY_MODEL_0667af94311f415990e954062a7ced75",
            "max": 390,
            "min": 0,
            "orientation": "horizontal",
            "style": "IPY_MODEL_667a5e53bce2479491e8acf81c7f824a",
            "value": 280
          }
        },
        "368ed7e92f61439eb6f2d209a3aeba8b": {
          "model_module": "@jupyter-widgets/controls",
          "model_name": "HTMLModel",
          "model_module_version": "1.5.0",
          "state": {
            "_dom_classes": [],
            "_model_module": "@jupyter-widgets/controls",
            "_model_module_version": "1.5.0",
            "_model_name": "HTMLModel",
            "_view_count": null,
            "_view_module": "@jupyter-widgets/controls",
            "_view_module_version": "1.5.0",
            "_view_name": "HTMLView",
            "description": "",
            "description_tooltip": null,
            "layout": "IPY_MODEL_d90052538db34ca8821d8d184df7fb11",
            "placeholder": "​",
            "style": "IPY_MODEL_bf941284201446509dbbbbd2aa47f88b",
            "value": " 280/390 [01:50&lt;00:43,  2.54it/s, v_num=3]"
          }
        },
        "273a86fa06dc45e6bf62eaf7821ec142": {
          "model_module": "@jupyter-widgets/base",
          "model_name": "LayoutModel",
          "model_module_version": "1.2.0",
          "state": {
            "_model_module": "@jupyter-widgets/base",
            "_model_module_version": "1.2.0",
            "_model_name": "LayoutModel",
            "_view_count": null,
            "_view_module": "@jupyter-widgets/base",
            "_view_module_version": "1.2.0",
            "_view_name": "LayoutView",
            "align_content": null,
            "align_items": null,
            "align_self": null,
            "border": null,
            "bottom": null,
            "display": "inline-flex",
            "flex": null,
            "flex_flow": "row wrap",
            "grid_area": null,
            "grid_auto_columns": null,
            "grid_auto_flow": null,
            "grid_auto_rows": null,
            "grid_column": null,
            "grid_gap": null,
            "grid_row": null,
            "grid_template_areas": null,
            "grid_template_columns": null,
            "grid_template_rows": null,
            "height": null,
            "justify_content": null,
            "justify_items": null,
            "left": null,
            "margin": null,
            "max_height": null,
            "max_width": null,
            "min_height": null,
            "min_width": null,
            "object_fit": null,
            "object_position": null,
            "order": null,
            "overflow": null,
            "overflow_x": null,
            "overflow_y": null,
            "padding": null,
            "right": null,
            "top": null,
            "visibility": null,
            "width": "100%"
          }
        },
        "cfccf8deb53648de9aa9c6a880635e96": {
          "model_module": "@jupyter-widgets/base",
          "model_name": "LayoutModel",
          "model_module_version": "1.2.0",
          "state": {
            "_model_module": "@jupyter-widgets/base",
            "_model_module_version": "1.2.0",
            "_model_name": "LayoutModel",
            "_view_count": null,
            "_view_module": "@jupyter-widgets/base",
            "_view_module_version": "1.2.0",
            "_view_name": "LayoutView",
            "align_content": null,
            "align_items": null,
            "align_self": null,
            "border": null,
            "bottom": null,
            "display": null,
            "flex": null,
            "flex_flow": null,
            "grid_area": null,
            "grid_auto_columns": null,
            "grid_auto_flow": null,
            "grid_auto_rows": null,
            "grid_column": null,
            "grid_gap": null,
            "grid_row": null,
            "grid_template_areas": null,
            "grid_template_columns": null,
            "grid_template_rows": null,
            "height": null,
            "justify_content": null,
            "justify_items": null,
            "left": null,
            "margin": null,
            "max_height": null,
            "max_width": null,
            "min_height": null,
            "min_width": null,
            "object_fit": null,
            "object_position": null,
            "order": null,
            "overflow": null,
            "overflow_x": null,
            "overflow_y": null,
            "padding": null,
            "right": null,
            "top": null,
            "visibility": null,
            "width": null
          }
        },
        "2b88add53c83452ba5ca6a0d4841bb2c": {
          "model_module": "@jupyter-widgets/controls",
          "model_name": "DescriptionStyleModel",
          "model_module_version": "1.5.0",
          "state": {
            "_model_module": "@jupyter-widgets/controls",
            "_model_module_version": "1.5.0",
            "_model_name": "DescriptionStyleModel",
            "_view_count": null,
            "_view_module": "@jupyter-widgets/base",
            "_view_module_version": "1.2.0",
            "_view_name": "StyleView",
            "description_width": ""
          }
        },
        "0667af94311f415990e954062a7ced75": {
          "model_module": "@jupyter-widgets/base",
          "model_name": "LayoutModel",
          "model_module_version": "1.2.0",
          "state": {
            "_model_module": "@jupyter-widgets/base",
            "_model_module_version": "1.2.0",
            "_model_name": "LayoutModel",
            "_view_count": null,
            "_view_module": "@jupyter-widgets/base",
            "_view_module_version": "1.2.0",
            "_view_name": "LayoutView",
            "align_content": null,
            "align_items": null,
            "align_self": null,
            "border": null,
            "bottom": null,
            "display": null,
            "flex": "2",
            "flex_flow": null,
            "grid_area": null,
            "grid_auto_columns": null,
            "grid_auto_flow": null,
            "grid_auto_rows": null,
            "grid_column": null,
            "grid_gap": null,
            "grid_row": null,
            "grid_template_areas": null,
            "grid_template_columns": null,
            "grid_template_rows": null,
            "height": null,
            "justify_content": null,
            "justify_items": null,
            "left": null,
            "margin": null,
            "max_height": null,
            "max_width": null,
            "min_height": null,
            "min_width": null,
            "object_fit": null,
            "object_position": null,
            "order": null,
            "overflow": null,
            "overflow_x": null,
            "overflow_y": null,
            "padding": null,
            "right": null,
            "top": null,
            "visibility": null,
            "width": null
          }
        },
        "667a5e53bce2479491e8acf81c7f824a": {
          "model_module": "@jupyter-widgets/controls",
          "model_name": "ProgressStyleModel",
          "model_module_version": "1.5.0",
          "state": {
            "_model_module": "@jupyter-widgets/controls",
            "_model_module_version": "1.5.0",
            "_model_name": "ProgressStyleModel",
            "_view_count": null,
            "_view_module": "@jupyter-widgets/base",
            "_view_module_version": "1.2.0",
            "_view_name": "StyleView",
            "bar_color": null,
            "description_width": ""
          }
        },
        "d90052538db34ca8821d8d184df7fb11": {
          "model_module": "@jupyter-widgets/base",
          "model_name": "LayoutModel",
          "model_module_version": "1.2.0",
          "state": {
            "_model_module": "@jupyter-widgets/base",
            "_model_module_version": "1.2.0",
            "_model_name": "LayoutModel",
            "_view_count": null,
            "_view_module": "@jupyter-widgets/base",
            "_view_module_version": "1.2.0",
            "_view_name": "LayoutView",
            "align_content": null,
            "align_items": null,
            "align_self": null,
            "border": null,
            "bottom": null,
            "display": null,
            "flex": null,
            "flex_flow": null,
            "grid_area": null,
            "grid_auto_columns": null,
            "grid_auto_flow": null,
            "grid_auto_rows": null,
            "grid_column": null,
            "grid_gap": null,
            "grid_row": null,
            "grid_template_areas": null,
            "grid_template_columns": null,
            "grid_template_rows": null,
            "height": null,
            "justify_content": null,
            "justify_items": null,
            "left": null,
            "margin": null,
            "max_height": null,
            "max_width": null,
            "min_height": null,
            "min_width": null,
            "object_fit": null,
            "object_position": null,
            "order": null,
            "overflow": null,
            "overflow_x": null,
            "overflow_y": null,
            "padding": null,
            "right": null,
            "top": null,
            "visibility": null,
            "width": null
          }
        },
        "bf941284201446509dbbbbd2aa47f88b": {
          "model_module": "@jupyter-widgets/controls",
          "model_name": "DescriptionStyleModel",
          "model_module_version": "1.5.0",
          "state": {
            "_model_module": "@jupyter-widgets/controls",
            "_model_module_version": "1.5.0",
            "_model_name": "DescriptionStyleModel",
            "_view_count": null,
            "_view_module": "@jupyter-widgets/base",
            "_view_module_version": "1.2.0",
            "_view_name": "StyleView",
            "description_width": ""
          }
        },
        "b957dd827e784e7b8029899e3f8d07f5": {
          "model_module": "@jupyter-widgets/controls",
          "model_name": "HBoxModel",
          "model_module_version": "1.5.0",
          "state": {
            "_dom_classes": [],
            "_model_module": "@jupyter-widgets/controls",
            "_model_module_version": "1.5.0",
            "_model_name": "HBoxModel",
            "_view_count": null,
            "_view_module": "@jupyter-widgets/controls",
            "_view_module_version": "1.5.0",
            "_view_name": "HBoxView",
            "box_style": "",
            "children": [
              "IPY_MODEL_8b16a6805d9347f7b620818f6f446a4b",
              "IPY_MODEL_e3bef570f1184187bfab282dd713ec1f",
              "IPY_MODEL_a72e0bf73bba402d8f9c2568ad2cf3f5"
            ],
            "layout": "IPY_MODEL_38622d486f83417992c6b803c44cea61"
          }
        },
        "8b16a6805d9347f7b620818f6f446a4b": {
          "model_module": "@jupyter-widgets/controls",
          "model_name": "HTMLModel",
          "model_module_version": "1.5.0",
          "state": {
            "_dom_classes": [],
            "_model_module": "@jupyter-widgets/controls",
            "_model_module_version": "1.5.0",
            "_model_name": "HTMLModel",
            "_view_count": null,
            "_view_module": "@jupyter-widgets/controls",
            "_view_module_version": "1.5.0",
            "_view_name": "HTMLView",
            "description": "",
            "description_tooltip": null,
            "layout": "IPY_MODEL_de397d874722418f89e83d3443035fb0",
            "placeholder": "​",
            "style": "IPY_MODEL_851b25dbb63b4ba3bd85c144e2834771",
            "value": "  0%"
          }
        },
        "e3bef570f1184187bfab282dd713ec1f": {
          "model_module": "@jupyter-widgets/controls",
          "model_name": "FloatProgressModel",
          "model_module_version": "1.5.0",
          "state": {
            "_dom_classes": [],
            "_model_module": "@jupyter-widgets/controls",
            "_model_module_version": "1.5.0",
            "_model_name": "FloatProgressModel",
            "_view_count": null,
            "_view_module": "@jupyter-widgets/controls",
            "_view_module_version": "1.5.0",
            "_view_name": "ProgressView",
            "bar_style": "",
            "description": "",
            "description_tooltip": null,
            "layout": "IPY_MODEL_8df5de9042b24652be368c95cbbeb50c",
            "max": 8,
            "min": 0,
            "orientation": "horizontal",
            "style": "IPY_MODEL_28a2bb5e6730450aa0183794f9a01f4b",
            "value": 8
          }
        },
        "a72e0bf73bba402d8f9c2568ad2cf3f5": {
          "model_module": "@jupyter-widgets/controls",
          "model_name": "HTMLModel",
          "model_module_version": "1.5.0",
          "state": {
            "_dom_classes": [],
            "_model_module": "@jupyter-widgets/controls",
            "_model_module_version": "1.5.0",
            "_model_name": "HTMLModel",
            "_view_count": null,
            "_view_module": "@jupyter-widgets/controls",
            "_view_module_version": "1.5.0",
            "_view_name": "HTMLView",
            "description": "",
            "description_tooltip": null,
            "layout": "IPY_MODEL_7758bd26f75f443188de2e061d4315b0",
            "placeholder": "​",
            "style": "IPY_MODEL_5bd999ee997f43a9a37f93942f2b23e8",
            "value": " 0/8 [00:00&lt;?, ?it/s]"
          }
        },
        "38622d486f83417992c6b803c44cea61": {
          "model_module": "@jupyter-widgets/base",
          "model_name": "LayoutModel",
          "model_module_version": "1.2.0",
          "state": {
            "_model_module": "@jupyter-widgets/base",
            "_model_module_version": "1.2.0",
            "_model_name": "LayoutModel",
            "_view_count": null,
            "_view_module": "@jupyter-widgets/base",
            "_view_module_version": "1.2.0",
            "_view_name": "LayoutView",
            "align_content": null,
            "align_items": null,
            "align_self": null,
            "border": null,
            "bottom": null,
            "display": null,
            "flex": null,
            "flex_flow": null,
            "grid_area": null,
            "grid_auto_columns": null,
            "grid_auto_flow": null,
            "grid_auto_rows": null,
            "grid_column": null,
            "grid_gap": null,
            "grid_row": null,
            "grid_template_areas": null,
            "grid_template_columns": null,
            "grid_template_rows": null,
            "height": null,
            "justify_content": null,
            "justify_items": null,
            "left": null,
            "margin": null,
            "max_height": null,
            "max_width": null,
            "min_height": null,
            "min_width": null,
            "object_fit": null,
            "object_position": null,
            "order": null,
            "overflow": null,
            "overflow_x": null,
            "overflow_y": null,
            "padding": null,
            "right": null,
            "top": null,
            "visibility": "hidden",
            "width": null
          }
        },
        "de397d874722418f89e83d3443035fb0": {
          "model_module": "@jupyter-widgets/base",
          "model_name": "LayoutModel",
          "model_module_version": "1.2.0",
          "state": {
            "_model_module": "@jupyter-widgets/base",
            "_model_module_version": "1.2.0",
            "_model_name": "LayoutModel",
            "_view_count": null,
            "_view_module": "@jupyter-widgets/base",
            "_view_module_version": "1.2.0",
            "_view_name": "LayoutView",
            "align_content": null,
            "align_items": null,
            "align_self": null,
            "border": null,
            "bottom": null,
            "display": null,
            "flex": null,
            "flex_flow": null,
            "grid_area": null,
            "grid_auto_columns": null,
            "grid_auto_flow": null,
            "grid_auto_rows": null,
            "grid_column": null,
            "grid_gap": null,
            "grid_row": null,
            "grid_template_areas": null,
            "grid_template_columns": null,
            "grid_template_rows": null,
            "height": null,
            "justify_content": null,
            "justify_items": null,
            "left": null,
            "margin": null,
            "max_height": null,
            "max_width": null,
            "min_height": null,
            "min_width": null,
            "object_fit": null,
            "object_position": null,
            "order": null,
            "overflow": null,
            "overflow_x": null,
            "overflow_y": null,
            "padding": null,
            "right": null,
            "top": null,
            "visibility": null,
            "width": null
          }
        },
        "851b25dbb63b4ba3bd85c144e2834771": {
          "model_module": "@jupyter-widgets/controls",
          "model_name": "DescriptionStyleModel",
          "model_module_version": "1.5.0",
          "state": {
            "_model_module": "@jupyter-widgets/controls",
            "_model_module_version": "1.5.0",
            "_model_name": "DescriptionStyleModel",
            "_view_count": null,
            "_view_module": "@jupyter-widgets/base",
            "_view_module_version": "1.2.0",
            "_view_name": "StyleView",
            "description_width": ""
          }
        },
        "8df5de9042b24652be368c95cbbeb50c": {
          "model_module": "@jupyter-widgets/base",
          "model_name": "LayoutModel",
          "model_module_version": "1.2.0",
          "state": {
            "_model_module": "@jupyter-widgets/base",
            "_model_module_version": "1.2.0",
            "_model_name": "LayoutModel",
            "_view_count": null,
            "_view_module": "@jupyter-widgets/base",
            "_view_module_version": "1.2.0",
            "_view_name": "LayoutView",
            "align_content": null,
            "align_items": null,
            "align_self": null,
            "border": null,
            "bottom": null,
            "display": null,
            "flex": null,
            "flex_flow": null,
            "grid_area": null,
            "grid_auto_columns": null,
            "grid_auto_flow": null,
            "grid_auto_rows": null,
            "grid_column": null,
            "grid_gap": null,
            "grid_row": null,
            "grid_template_areas": null,
            "grid_template_columns": null,
            "grid_template_rows": null,
            "height": null,
            "justify_content": null,
            "justify_items": null,
            "left": null,
            "margin": null,
            "max_height": null,
            "max_width": null,
            "min_height": null,
            "min_width": null,
            "object_fit": null,
            "object_position": null,
            "order": null,
            "overflow": null,
            "overflow_x": null,
            "overflow_y": null,
            "padding": null,
            "right": null,
            "top": null,
            "visibility": null,
            "width": null
          }
        },
        "28a2bb5e6730450aa0183794f9a01f4b": {
          "model_module": "@jupyter-widgets/controls",
          "model_name": "ProgressStyleModel",
          "model_module_version": "1.5.0",
          "state": {
            "_model_module": "@jupyter-widgets/controls",
            "_model_module_version": "1.5.0",
            "_model_name": "ProgressStyleModel",
            "_view_count": null,
            "_view_module": "@jupyter-widgets/base",
            "_view_module_version": "1.2.0",
            "_view_name": "StyleView",
            "bar_color": null,
            "description_width": ""
          }
        },
        "7758bd26f75f443188de2e061d4315b0": {
          "model_module": "@jupyter-widgets/base",
          "model_name": "LayoutModel",
          "model_module_version": "1.2.0",
          "state": {
            "_model_module": "@jupyter-widgets/base",
            "_model_module_version": "1.2.0",
            "_model_name": "LayoutModel",
            "_view_count": null,
            "_view_module": "@jupyter-widgets/base",
            "_view_module_version": "1.2.0",
            "_view_name": "LayoutView",
            "align_content": null,
            "align_items": null,
            "align_self": null,
            "border": null,
            "bottom": null,
            "display": null,
            "flex": null,
            "flex_flow": null,
            "grid_area": null,
            "grid_auto_columns": null,
            "grid_auto_flow": null,
            "grid_auto_rows": null,
            "grid_column": null,
            "grid_gap": null,
            "grid_row": null,
            "grid_template_areas": null,
            "grid_template_columns": null,
            "grid_template_rows": null,
            "height": null,
            "justify_content": null,
            "justify_items": null,
            "left": null,
            "margin": null,
            "max_height": null,
            "max_width": null,
            "min_height": null,
            "min_width": null,
            "object_fit": null,
            "object_position": null,
            "order": null,
            "overflow": null,
            "overflow_x": null,
            "overflow_y": null,
            "padding": null,
            "right": null,
            "top": null,
            "visibility": null,
            "width": null
          }
        },
        "5bd999ee997f43a9a37f93942f2b23e8": {
          "model_module": "@jupyter-widgets/controls",
          "model_name": "DescriptionStyleModel",
          "model_module_version": "1.5.0",
          "state": {
            "_model_module": "@jupyter-widgets/controls",
            "_model_module_version": "1.5.0",
            "_model_name": "DescriptionStyleModel",
            "_view_count": null,
            "_view_module": "@jupyter-widgets/base",
            "_view_module_version": "1.2.0",
            "_view_name": "StyleView",
            "description_width": ""
          }
        }
      }
    }
  },
  "cells": [
    {
      "cell_type": "markdown",
      "metadata": {
        "id": "view-in-github",
        "colab_type": "text"
      },
      "source": [
        "<a href=\"https://colab.research.google.com/github/mlarrarte/1marroia22/blob/master/Assignment2_DNF(FMNIST)_LarrarteMikel(2024319650).ipynb\" target=\"_parent\"><img src=\"https://colab.research.google.com/assets/colab-badge.svg\" alt=\"Open In Colab\"/></a>"
      ]
    },
    {
      "cell_type": "markdown",
      "source": [
        "# Assignment 2.2: Implementation of Deep Normalizing Flows for FMNIST Dataset\n",
        "Name: MIKEL LARRARTE RODRIGUEZ\n",
        "\n",
        "Student ID: 2024319650\n",
        "\n",
        "Course: Advanced Topics in Machine Learning (ESW5049-41)\n"
      ],
      "metadata": {
        "id": "KBZ8s7dFu06w"
      }
    },
    {
      "cell_type": "markdown",
      "source": [
        "# Introduction"
      ],
      "metadata": {
        "id": "sWxYeed3wuxG"
      }
    },
    {
      "cell_type": "markdown",
      "source": [
        "In this second notebook, I present my implementation of Deep Normalizing Flows for the second assignment of the course. In this part, we will focus on developing a model that learns to reproduce the FMNIST dataset. I will be following the steps of this tutorial:\n",
        "\n",
        "[Tutorial 11: Normalizing Flows for image modeling](https://uvadlc-notebooks.readthedocs.io/en/latest/tutorial_notebooks/tutorial11/NF_image_modeling.html)\n",
        "\n",
        "The notebook will contain code implemented following the tutorial mentioned, some visualization code to display the generated digits and a brief commentary about the performance of the implemented model. Also, to wrap everything up I will compare the results from the first notebook with the ones I get in this one.\n",
        "\n",
        "Deep normalizing flows (DNFs) are a type of generative model that leverages normalizing flows to transform a simple, tractable distribution into a complex, high-dimensional distribution. This approach combines the strengths of variational autoencoders (VAEs) and generative adversarial networks (GANs), while addressing their limitations.\n",
        "\n",
        "The FMNIST database (Fashion-MNIST database) is a large database of Zalando's article images—consisting of a training set of 60,000 examples and a test set of 10,000 examples. Each example is a 28x28 grayscale image, associated with a label from 10 classes. Zalando intends Fashion-MNIST to serve as a direct drop-in replacement for the original MNIST dataset for benchmarking machine learning algorithms. It shares the same image size and structure of training and testing splits.\n",
        "\n",
        "To start with the implementation, let's begin by loading the required modules:"
      ],
      "metadata": {
        "id": "wAMnPavxw1tA"
      }
    },
    {
      "cell_type": "code",
      "execution_count": 2,
      "metadata": {
        "id": "LzHQFUdZtlZq",
        "colab": {
          "base_uri": "https://localhost:8080/"
        },
        "outputId": "ff033cf8-e9c6-4110-a94d-41019d30248e"
      },
      "outputs": [
        {
          "output_type": "stream",
          "name": "stderr",
          "text": [
            "<ipython-input-2-3b51d52a1064>:11: DeprecationWarning: `set_matplotlib_formats` is deprecated since IPython 7.23, directly use `matplotlib_inline.backend_inline.set_matplotlib_formats()`\n",
            "  set_matplotlib_formats('svg', 'pdf') # For export\n",
            "INFO:lightning_fabric.utilities.seed:Seed set to 42\n"
          ]
        },
        {
          "output_type": "stream",
          "name": "stdout",
          "text": [
            "Using device cuda:0\n"
          ]
        }
      ],
      "source": [
        "## Standard libraries\n",
        "import os\n",
        "import math\n",
        "import time\n",
        "import numpy as np\n",
        "\n",
        "## Imports for plotting\n",
        "import matplotlib.pyplot as plt\n",
        "%matplotlib inline\n",
        "from IPython.display import set_matplotlib_formats\n",
        "set_matplotlib_formats('svg', 'pdf') # For export\n",
        "from matplotlib.colors import to_rgb\n",
        "import matplotlib\n",
        "matplotlib.rcParams['lines.linewidth'] = 2.0\n",
        "import seaborn as sns\n",
        "sns.reset_orig()\n",
        "\n",
        "## Progress bar\n",
        "from tqdm.notebook import tqdm\n",
        "\n",
        "## PyTorch\n",
        "import torch\n",
        "import torch.nn as nn\n",
        "import torch.nn.functional as F\n",
        "import torch.utils.data as data\n",
        "import torch.optim as optim\n",
        "# Torchvision\n",
        "import torchvision\n",
        "from torchvision.datasets import FashionMNIST\n",
        "from torchvision import transforms\n",
        "# PyTorch Lightning\n",
        "try:\n",
        "    import pytorch_lightning as pl\n",
        "except ModuleNotFoundError: # Google Colab does not have PyTorch Lightning installed by default. Hence, we do it here if necessary\n",
        "    !pip install --quiet pytorch-lightning>=1.4\n",
        "    import pytorch_lightning as pl\n",
        "from pytorch_lightning.callbacks import LearningRateMonitor, ModelCheckpoint\n",
        "\n",
        "# Path to the folder where the datasets are/should be downloaded (e.g. FMNIST)\n",
        "DATASET_PATH = \"../data\"\n",
        "# Path to the folder where the pretrained models are saved\n",
        "CHECKPOINT_PATH = \"../saved_models/assignment2_2\"\n",
        "\n",
        "# Setting the seed\n",
        "pl.seed_everything(42)\n",
        "\n",
        "# Ensure that all operations are deterministic on GPU (if used) for reproducibility\n",
        "torch.backends.cudnn.deterministic = True\n",
        "torch.backends.cudnn.benchmark = False\n",
        "\n",
        "# Fetching the device that will be used throughout this notebook\n",
        "device = torch.device(\"cpu\") if not torch.cuda.is_available() else torch.device(\"cuda:0\")\n",
        "print(\"Using device\", device)"
      ]
    },
    {
      "cell_type": "markdown",
      "source": [
        "In this notebook, I am going to use the pretrained models provided in the tutorial. Therefore, I will download them using the code below to the specified path above."
      ],
      "metadata": {
        "id": "SStKndrcezPv"
      }
    },
    {
      "cell_type": "code",
      "source": [
        "import urllib.request\n",
        "from urllib.error import HTTPError\n",
        "# Github URL where saved models are stored for this tutorial\n",
        "base_url = \"https://raw.githubusercontent.com/phlippe/saved_models/main/tutorial11/\"\n",
        "# Files to download\n",
        "pretrained_files = [\"MNISTFlow_simple.ckpt\", \"MNISTFlow_vardeq.ckpt\", \"MNISTFlow_multiscale.ckpt\"]\n",
        "# Create checkpoint path if it doesn't exist yet\n",
        "os.makedirs(CHECKPOINT_PATH, exist_ok=True)\n",
        "\n",
        "# For each file, check whether it already exists. If not, try downloading it.\n",
        "for file_name in pretrained_files:\n",
        "    file_path = os.path.join(CHECKPOINT_PATH, file_name)\n",
        "    if not os.path.isfile(file_path):\n",
        "        file_url = base_url + file_name\n",
        "        print(f\"Downloading {file_url}...\")\n",
        "        try:\n",
        "            urllib.request.urlretrieve(file_url, file_path)\n",
        "        except HTTPError as e:\n",
        "            print(\"Something went wrong. Please try to download the file from the GDrive folder, or contact the author with the full output including the following error:\\n\", e)"
      ],
      "metadata": {
        "id": "vVdRSYkoexMS",
        "colab": {
          "base_uri": "https://localhost:8080/"
        },
        "outputId": "e54756d9-9cde-4e27-dbdd-9d6d30cf19cf"
      },
      "execution_count": 4,
      "outputs": [
        {
          "output_type": "stream",
          "name": "stdout",
          "text": [
            "Downloading https://raw.githubusercontent.com/phlippe/saved_models/main/tutorial11/MNISTFlow_simple.ckpt...\n"
          ]
        }
      ]
    },
    {
      "cell_type": "markdown",
      "source": [
        "## Helping Functions\n",
        "\n",
        "As for the MNIST dataset, to deal better with the discrete nature of the images, we transform them from a range of 0-1 to a range of 0-255 as integers."
      ],
      "metadata": {
        "id": "huz3yNEYaCnp"
      }
    },
    {
      "cell_type": "code",
      "source": [
        "# Convert images from 0-1 to 0-255 (integers)\n",
        "def discretize(sample):\n",
        "    return (sample * 255).to(torch.int32)\n",
        "\n",
        "# Transformations applied on each image => make them a tensor and discretize\n",
        "transform = transforms.Compose([transforms.ToTensor(),\n",
        "                                discretize])\n",
        "\n",
        "# Loading the training dataset. We need to split it into a training and validation part\n",
        "train_dataset = FashionMNIST(root=DATASET_PATH, train=True, transform=transform, download=True)\n",
        "pl.seed_everything(42)\n",
        "train_set, val_set = torch.utils.data.random_split(train_dataset, [50000, 10000])\n",
        "\n",
        "# Loading the test set\n",
        "test_set = FashionMNIST(root=DATASET_PATH, train=False, transform=transform, download=True)\n",
        "\n",
        "# We define a set of data loaders that we can use for various purposes later.\n",
        "# Note that for actually training a model, we will use different data loaders\n",
        "# with a lower batch size.\n",
        "train_loader = data.DataLoader(train_set, batch_size=256, shuffle=False, drop_last=False)\n",
        "val_loader = data.DataLoader(val_set, batch_size=64, shuffle=False, drop_last=False, num_workers=4)\n",
        "test_loader = data.DataLoader(test_set, batch_size=64, shuffle=False, drop_last=False, num_workers=4)"
      ],
      "metadata": {
        "id": "-teTaLnHaA02",
        "colab": {
          "base_uri": "https://localhost:8080/"
        },
        "outputId": "dae4a5fc-acd4-4749-c256-22ca4261a5a9"
      },
      "execution_count": 6,
      "outputs": [
        {
          "output_type": "stream",
          "name": "stdout",
          "text": [
            "Downloading http://fashion-mnist.s3-website.eu-central-1.amazonaws.com/train-images-idx3-ubyte.gz\n",
            "Downloading http://fashion-mnist.s3-website.eu-central-1.amazonaws.com/train-images-idx3-ubyte.gz to ../data/FashionMNIST/raw/train-images-idx3-ubyte.gz\n"
          ]
        },
        {
          "output_type": "stream",
          "name": "stderr",
          "text": [
            "100%|██████████| 26.4M/26.4M [00:02<00:00, 11.0MB/s]\n"
          ]
        },
        {
          "output_type": "stream",
          "name": "stdout",
          "text": [
            "Extracting ../data/FashionMNIST/raw/train-images-idx3-ubyte.gz to ../data/FashionMNIST/raw\n",
            "\n",
            "Downloading http://fashion-mnist.s3-website.eu-central-1.amazonaws.com/train-labels-idx1-ubyte.gz\n",
            "Downloading http://fashion-mnist.s3-website.eu-central-1.amazonaws.com/train-labels-idx1-ubyte.gz to ../data/FashionMNIST/raw/train-labels-idx1-ubyte.gz\n"
          ]
        },
        {
          "output_type": "stream",
          "name": "stderr",
          "text": [
            "100%|██████████| 29.5k/29.5k [00:00<00:00, 177kB/s]\n"
          ]
        },
        {
          "output_type": "stream",
          "name": "stdout",
          "text": [
            "Extracting ../data/FashionMNIST/raw/train-labels-idx1-ubyte.gz to ../data/FashionMNIST/raw\n",
            "\n",
            "Downloading http://fashion-mnist.s3-website.eu-central-1.amazonaws.com/t10k-images-idx3-ubyte.gz\n",
            "Downloading http://fashion-mnist.s3-website.eu-central-1.amazonaws.com/t10k-images-idx3-ubyte.gz to ../data/FashionMNIST/raw/t10k-images-idx3-ubyte.gz\n"
          ]
        },
        {
          "output_type": "stream",
          "name": "stderr",
          "text": [
            "100%|██████████| 4.42M/4.42M [00:01<00:00, 3.19MB/s]\n"
          ]
        },
        {
          "output_type": "stream",
          "name": "stdout",
          "text": [
            "Extracting ../data/FashionMNIST/raw/t10k-images-idx3-ubyte.gz to ../data/FashionMNIST/raw\n",
            "\n",
            "Downloading http://fashion-mnist.s3-website.eu-central-1.amazonaws.com/t10k-labels-idx1-ubyte.gz\n",
            "Downloading http://fashion-mnist.s3-website.eu-central-1.amazonaws.com/t10k-labels-idx1-ubyte.gz to ../data/FashionMNIST/raw/t10k-labels-idx1-ubyte.gz\n"
          ]
        },
        {
          "output_type": "stream",
          "name": "stderr",
          "text": [
            "100%|██████████| 5.15k/5.15k [00:00<00:00, 19.4MB/s]\n",
            "INFO:lightning_fabric.utilities.seed:Seed set to 42\n"
          ]
        },
        {
          "output_type": "stream",
          "name": "stdout",
          "text": [
            "Extracting ../data/FashionMNIST/raw/t10k-labels-idx1-ubyte.gz to ../data/FashionMNIST/raw\n",
            "\n"
          ]
        },
        {
          "output_type": "stream",
          "name": "stderr",
          "text": [
            "/usr/local/lib/python3.10/dist-packages/torch/utils/data/dataloader.py:617: UserWarning: This DataLoader will create 4 worker processes in total. Our suggested max number of worker in current system is 2, which is smaller than what this DataLoader is going to create. Please be aware that excessive worker creation might get DataLoader running slow or even freeze, lower the worker number to avoid potential slowness/freeze if necessary.\n",
            "  warnings.warn(\n"
          ]
        }
      ]
    },
    {
      "cell_type": "markdown",
      "source": [
        "In addition, it is recommended define a function to simplify the visualization of images/samples. Some training examples of the MNIST dataset is shown below.\n",
        "\n"
      ],
      "metadata": {
        "id": "RpoH_vU62uNf"
      }
    },
    {
      "cell_type": "code",
      "source": [
        "def show_imgs(imgs, title=None, row_size=4):\n",
        "    # Form a grid of pictures (we use max. 8 columns)\n",
        "    num_imgs = imgs.shape[0] if isinstance(imgs, torch.Tensor) else len(imgs)\n",
        "    is_int = imgs.dtype==torch.int32 if isinstance(imgs, torch.Tensor) else imgs[0].dtype==torch.int32\n",
        "    nrow = min(num_imgs, row_size)\n",
        "    ncol = int(math.ceil(num_imgs/nrow))\n",
        "    imgs = torchvision.utils.make_grid(imgs, nrow=nrow, pad_value=128 if is_int else 0.5)\n",
        "    np_imgs = imgs.cpu().numpy()\n",
        "    # Plot the grid\n",
        "    plt.figure(figsize=(1.5*nrow, 1.5*ncol))\n",
        "    plt.imshow(np.transpose(np_imgs, (1,2,0)), interpolation='nearest')\n",
        "    plt.axis('off')\n",
        "    if title is not None:\n",
        "        plt.title(title)\n",
        "    plt.show()\n",
        "    plt.close()\n",
        "\n",
        "show_imgs([train_set[i][0] for i in range(8)])"
      ],
      "metadata": {
        "id": "vmC4Oecl2t55",
        "colab": {
          "base_uri": "https://localhost:8080/",
          "height": 263
        },
        "outputId": "0b4520d5-3df2-4fd7-df88-9259ed41e348"
      },
      "execution_count": 7,
      "outputs": [
        {
          "output_type": "display_data",
          "data": {
            "text/plain": [
              "<Figure size 600x300 with 1 Axes>"
            ],
            "image/svg+xml": "<?xml version=\"1.0\" encoding=\"utf-8\" standalone=\"no\"?>\n<!DOCTYPE svg PUBLIC \"-//W3C//DTD SVG 1.1//EN\"\n  \"http://www.w3.org/Graphics/SVG/1.1/DTD/svg11.dtd\">\n<svg xmlns:xlink=\"http://www.w3.org/1999/xlink\" width=\"341.674839pt\" height=\"180.72pt\" viewBox=\"0 0 341.674839 180.72\" xmlns=\"http://www.w3.org/2000/svg\" version=\"1.1\">\n <metadata>\n  <rdf:RDF xmlns:dc=\"http://purl.org/dc/elements/1.1/\" xmlns:cc=\"http://creativecommons.org/ns#\" xmlns:rdf=\"http://www.w3.org/1999/02/22-rdf-syntax-ns#\">\n   <cc:Work>\n    <dc:type rdf:resource=\"http://purl.org/dc/dcmitype/StillImage\"/>\n    <dc:date>2024-11-29T07:50:35.157575</dc:date>\n    <dc:format>image/svg+xml</dc:format>\n    <dc:creator>\n     <cc:Agent>\n      <dc:title>Matplotlib v3.8.0, https://matplotlib.org/</dc:title>\n     </cc:Agent>\n    </dc:creator>\n   </cc:Work>\n  </rdf:RDF>\n </metadata>\n <defs>\n  <style type=\"text/css\">*{stroke-linejoin: round; stroke-linecap: butt}</style>\n </defs>\n <g id=\"figure_1\">\n  <g id=\"patch_1\">\n   <path d=\"M 0 180.72 \nL 341.674839 180.72 \nL 341.674839 0 \nL 0 0 \nz\n\" style=\"fill: #ffffff\"/>\n  </g>\n  <g id=\"axes_1\">\n   <g clip-path=\"url(#p3696dc98b4)\">\n    <image xlink:href=\"data:image/png;base64,\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\" id=\"image3702bdba56\" transform=\"scale(1 -1) translate(0 -166.32)\" x=\"7.2\" y=\"-7.2\" width=\"327.6\" height=\"166.32\"/>\n   </g>\n  </g>\n </g>\n <defs>\n  <clipPath id=\"p3696dc98b4\">\n   <rect x=\"7.2\" y=\"7.2\" width=\"327.274839\" height=\"166.32\"/>\n  </clipPath>\n </defs>\n</svg>\n",
            "application/pdf": "[encoded data removed]"
          },
          "metadata": {}
        }
      ]
    },
    {
      "cell_type": "markdown",
      "source": [
        "# Normalizing Flows as generative model\n",
        "\n",
        "In the previous assignment, we have analyzed and implemented Variational Autoencoders (VAEs) and Variational Conditional Autoencoders (VCAE) as example of generative models. However, none of them explicitly learn the probability density function\n",
        " of the real input data, as VAEs model a lower bound only. The generative model we will look at here, called Normalizing Flows, actually models the true data distribution\n",
        " and provides us with an exact likelihood estimate."
      ],
      "metadata": {
        "id": "qkYOPIdY7KAw"
      }
    },
    {
      "cell_type": "code",
      "source": [
        "class ImageFlow(pl.LightningModule):\n",
        "\n",
        "    def __init__(self, flows, import_samples=8):\n",
        "        \"\"\"\n",
        "        Inputs:\n",
        "            flows - A list of flows (each a nn.Module) that should be applied on the images.\n",
        "            import_samples - Number of importance samples to use during testing (see explanation below). Can be changed at any time\n",
        "        \"\"\"\n",
        "        super().__init__()\n",
        "        self.flows = nn.ModuleList(flows)\n",
        "        self.import_samples = import_samples\n",
        "        # Create prior distribution for final latent space\n",
        "        self.prior = torch.distributions.normal.Normal(loc=0.0, scale=1.0)\n",
        "        # Example input for visualizing the graph\n",
        "        self.example_input_array = train_set[0][0].unsqueeze(dim=0)\n",
        "\n",
        "    def forward(self, imgs):\n",
        "        # The forward function is only used for visualizing the graph\n",
        "        return self._get_likelihood(imgs)\n",
        "\n",
        "    def encode(self, imgs):\n",
        "        # Given a batch of images, return the latent representation z and ldj of the transformations\n",
        "        z, ldj = imgs, torch.zeros(imgs.shape[0], device=self.device)\n",
        "        for flow in self.flows:\n",
        "            z, ldj = flow(z, ldj, reverse=False)\n",
        "        return z, ldj\n",
        "\n",
        "    def _get_likelihood(self, imgs, return_ll=False):\n",
        "        \"\"\"\n",
        "        Given a batch of images, return the likelihood of those.\n",
        "        If return_ll is True, this function returns the log likelihood of the input.\n",
        "        Otherwise, the ouptut metric is bits per dimension (scaled negative log likelihood)\n",
        "        \"\"\"\n",
        "        z, ldj = self.encode(imgs)\n",
        "        log_pz = self.prior.log_prob(z).sum(dim=[1,2,3])\n",
        "        log_px = ldj + log_pz\n",
        "        nll = -log_px\n",
        "        # Calculating bits per dimension\n",
        "        bpd = nll * np.log2(np.exp(1)) / np.prod(imgs.shape[1:])\n",
        "        return bpd.mean() if not return_ll else log_px\n",
        "\n",
        "    @torch.no_grad()\n",
        "    def sample(self, img_shape, z_init=None):\n",
        "        \"\"\"\n",
        "        Sample a batch of images from the flow.\n",
        "        \"\"\"\n",
        "        # Sample latent representation from prior\n",
        "        if z_init is None:\n",
        "            z = self.prior.sample(sample_shape=img_shape).to(device)\n",
        "        else:\n",
        "            z = z_init.to(device)\n",
        "\n",
        "        # Transform z to x by inverting the flows\n",
        "        ldj = torch.zeros(img_shape[0], device=device)\n",
        "        for flow in reversed(self.flows):\n",
        "            z, ldj = flow(z, ldj, reverse=True)\n",
        "        return z\n",
        "\n",
        "    def configure_optimizers(self):\n",
        "        optimizer = optim.Adam(self.parameters(), lr=1e-3)\n",
        "        # An scheduler is optional, but can help in flows to get the last bpd improvement\n",
        "        scheduler = optim.lr_scheduler.StepLR(optimizer, 1, gamma=0.99)\n",
        "        return [optimizer], [scheduler]\n",
        "\n",
        "    def training_step(self, batch, batch_idx):\n",
        "        # Normalizing flows are trained by maximum likelihood => return bpd\n",
        "        loss = self._get_likelihood(batch[0])\n",
        "        self.log('train_bpd', loss)\n",
        "        return loss\n",
        "\n",
        "    def validation_step(self, batch, batch_idx):\n",
        "        loss = self._get_likelihood(batch[0])\n",
        "        self.log('val_bpd', loss)\n",
        "\n",
        "    def test_step(self, batch, batch_idx):\n",
        "        # Perform importance sampling during testing => estimate likelihood M times for each image\n",
        "        samples = []\n",
        "        for _ in range(self.import_samples):\n",
        "            img_ll = self._get_likelihood(batch[0], return_ll=True)\n",
        "            samples.append(img_ll)\n",
        "        img_ll = torch.stack(samples, dim=-1)\n",
        "\n",
        "        # To average the probabilities, we need to go from log-space to exp, and back to log.\n",
        "        # Logsumexp provides us a stable implementation for this\n",
        "        img_ll = torch.logsumexp(img_ll, dim=-1) - np.log(self.import_samples)\n",
        "\n",
        "        # Calculate final bpd\n",
        "        bpd = -img_ll * np.log2(np.exp(1)) / np.prod(batch[0].shape[1:])\n",
        "        bpd = bpd.mean()\n",
        "\n",
        "        self.log('test_bpd', bpd)"
      ],
      "metadata": {
        "id": "2_ln8czgsBcp"
      },
      "execution_count": 8,
      "outputs": []
    },
    {
      "cell_type": "markdown",
      "source": [
        "# Dequantization"
      ],
      "metadata": {
        "id": "Pdy4nLlrsFwq"
      }
    },
    {
      "cell_type": "code",
      "source": [
        "class Dequantization(nn.Module):\n",
        "\n",
        "    def __init__(self, alpha=1e-5, quants=256):\n",
        "        \"\"\"\n",
        "        Inputs:\n",
        "            alpha - small constant that is used to scale the original input.\n",
        "                    Prevents dealing with values very close to 0 and 1 when inverting the sigmoid\n",
        "            quants - Number of possible discrete values (usually 256 for 8-bit image)\n",
        "        \"\"\"\n",
        "        super().__init__()\n",
        "        self.alpha = alpha\n",
        "        self.quants = quants\n",
        "\n",
        "    def forward(self, z, ldj, reverse=False):\n",
        "        if not reverse:\n",
        "            z, ldj = self.dequant(z, ldj)\n",
        "            z, ldj = self.sigmoid(z, ldj, reverse=True)\n",
        "        else:\n",
        "            z, ldj = self.sigmoid(z, ldj, reverse=False)\n",
        "            z = z * self.quants\n",
        "            ldj += np.log(self.quants) * np.prod(z.shape[1:])\n",
        "            z = torch.floor(z).clamp(min=0, max=self.quants-1).to(torch.int32)\n",
        "        return z, ldj\n",
        "\n",
        "    def sigmoid(self, z, ldj, reverse=False):\n",
        "        # Applies an invertible sigmoid transformation\n",
        "        if not reverse:\n",
        "            ldj += (-z-2*F.softplus(-z)).sum(dim=[1,2,3])\n",
        "            z = torch.sigmoid(z)\n",
        "            # Reversing scaling for numerical stability\n",
        "            ldj -= np.log(1 - self.alpha) * np.prod(z.shape[1:])\n",
        "            z = (z - 0.5 * self.alpha) / (1 - self.alpha)\n",
        "        else:\n",
        "            z = z * (1 - self.alpha) + 0.5 * self.alpha  # Scale to prevent boundaries 0 and 1\n",
        "            ldj += np.log(1 - self.alpha) * np.prod(z.shape[1:])\n",
        "            ldj += (-torch.log(z) - torch.log(1-z)).sum(dim=[1,2,3])\n",
        "            z = torch.log(z) - torch.log(1-z)\n",
        "        return z, ldj\n",
        "\n",
        "    def dequant(self, z, ldj):\n",
        "        # Transform discrete values to continuous volumes\n",
        "        z = z.to(torch.float32)\n",
        "        z = z + torch.rand_like(z).detach()\n",
        "        z = z / self.quants\n",
        "        ldj -= np.log(self.quants) * np.prod(z.shape[1:])\n",
        "        return z, ldj"
      ],
      "metadata": {
        "id": "O_Nn5l7AsFAA"
      },
      "execution_count": 9,
      "outputs": []
    },
    {
      "cell_type": "code",
      "source": [
        "## Testing invertibility of dequantization layer\n",
        "pl.seed_everything(42)\n",
        "orig_img = train_set[0][0].unsqueeze(dim=0)\n",
        "ldj = torch.zeros(1,)\n",
        "dequant_module = Dequantization()\n",
        "deq_img, ldj = dequant_module(orig_img, ldj, reverse=False)\n",
        "reconst_img, ldj = dequant_module(deq_img, ldj, reverse=True)\n",
        "\n",
        "d1, d2 = torch.where(orig_img.squeeze() != reconst_img.squeeze())\n",
        "if len(d1) != 0:\n",
        "    print(\"Dequantization was not invertible.\")\n",
        "    for i in range(d1.shape[0]):\n",
        "        print(\"Original value:\", orig_img[0,0,d1[i], d2[i]].item())\n",
        "        print(\"Reconstructed value:\", reconst_img[0,0,d1[i], d2[i]].item())\n",
        "else:\n",
        "    print(\"Successfully inverted dequantization\")"
      ],
      "metadata": {
        "id": "71WnfqPysMML",
        "colab": {
          "base_uri": "https://localhost:8080/"
        },
        "outputId": "e8c5b3e1-efe7-4e97-c5b1-0aa2cf2023f0"
      },
      "execution_count": 12,
      "outputs": [
        {
          "output_type": "stream",
          "name": "stderr",
          "text": [
            "INFO:lightning_fabric.utilities.seed:Seed set to 42\n"
          ]
        },
        {
          "output_type": "stream",
          "name": "stdout",
          "text": [
            "Successfully inverted dequantization\n"
          ]
        }
      ]
    },
    {
      "cell_type": "code",
      "source": [
        "def visualize_dequantization(quants, prior=None):\n",
        "    \"\"\"\n",
        "    Function for visualizing the dequantization values of discrete values in continuous space\n",
        "    \"\"\"\n",
        "    # Prior over discrete values. If not given, a uniform is assumed\n",
        "    if prior is None:\n",
        "        prior = np.ones(quants, dtype=np.float32) / quants\n",
        "    prior = prior / prior.sum()  # Ensure proper categorical distribution\n",
        "\n",
        "    inp = torch.arange(-4, 4, 0.01).view(-1, 1, 1, 1) # Possible continuous values we want to consider\n",
        "    ldj = torch.zeros(inp.shape[0])\n",
        "    dequant_module = Dequantization(quants=quants)\n",
        "    # Invert dequantization on continuous values to find corresponding discrete value\n",
        "    out, ldj = dequant_module.forward(inp, ldj, reverse=True)\n",
        "    inp, out, prob = inp.squeeze().numpy(), out.squeeze().numpy(), ldj.exp().numpy()\n",
        "    prob = prob * prior[out] # Probability scaled by categorical prior\n",
        "\n",
        "    # Plot volumes and continuous distribution\n",
        "    sns.set_style(\"white\")\n",
        "    fig = plt.figure(figsize=(6,3))\n",
        "    x_ticks = []\n",
        "    for v in np.unique(out):\n",
        "        indices = np.where(out==v)\n",
        "        color = to_rgb(f\"C{v}\")\n",
        "        plt.fill_between(inp[indices], prob[indices], np.zeros(indices[0].shape[0]), color=color+(0.5,), label=str(v))\n",
        "        plt.plot([inp[indices[0][0]]]*2,  [0, prob[indices[0][0]]],  color=color)\n",
        "        plt.plot([inp[indices[0][-1]]]*2, [0, prob[indices[0][-1]]], color=color)\n",
        "        x_ticks.append(inp[indices[0][0]])\n",
        "    x_ticks.append(inp.max())\n",
        "    plt.xticks(x_ticks, [f\"{x:.1f}\" for x in x_ticks])\n",
        "    plt.plot(inp,prob, color=(0.0,0.0,0.0))\n",
        "    # Set final plot properties\n",
        "    plt.ylim(0, prob.max()*1.1)\n",
        "    plt.xlim(inp.min(), inp.max())\n",
        "    plt.xlabel(\"z\")\n",
        "    plt.ylabel(\"Probability\")\n",
        "    plt.title(f\"Dequantization distribution for {quants} discrete values\")\n",
        "    plt.legend()\n",
        "    plt.show()\n",
        "    plt.close()\n",
        "\n",
        "visualize_dequantization(quants=8)"
      ],
      "metadata": {
        "id": "7eLlBrqVsOXz",
        "colab": {
          "base_uri": "https://localhost:8080/",
          "height": 323
        },
        "outputId": "a132291e-5705-4132-8270-0c35b141aa8f"
      },
      "execution_count": 13,
      "outputs": [
        {
          "output_type": "display_data",
          "data": {
            "text/plain": [
              "<Figure size 600x300 with 1 Axes>"
            ],
            "image/svg+xml": "<?xml version=\"1.0\" encoding=\"utf-8\" standalone=\"no\"?>\n<!DOCTYPE svg PUBLIC \"-//W3C//DTD SVG 1.1//EN\"\n  \"http://www.w3.org/Graphics/SVG/1.1/DTD/svg11.dtd\">\n<svg xmlns:xlink=\"http://www.w3.org/1999/xlink\" width=\"400.095313pt\" height=\"226.194375pt\" viewBox=\"0 0 400.095313 226.194375\" xmlns=\"http://www.w3.org/2000/svg\" version=\"1.1\">\n <metadata>\n  <rdf:RDF xmlns:dc=\"http://purl.org/dc/elements/1.1/\" xmlns:cc=\"http://creativecommons.org/ns#\" xmlns:rdf=\"http://www.w3.org/1999/02/22-rdf-syntax-ns#\">\n   <cc:Work>\n    <dc:type rdf:resource=\"http://purl.org/dc/dcmitype/StillImage\"/>\n    <dc:date>2024-11-29T07:51:12.226232</dc:date>\n    <dc:format>image/svg+xml</dc:format>\n    <dc:creator>\n     <cc:Agent>\n      <dc:title>Matplotlib v3.8.0, https://matplotlib.org/</dc:title>\n     </cc:Agent>\n    </dc:creator>\n   </cc:Work>\n  </rdf:RDF>\n </metadata>\n <defs>\n  <style type=\"text/css\">*{stroke-linejoin: round; stroke-linecap: butt}</style>\n </defs>\n <g id=\"figure_1\">\n  <g id=\"patch_1\">\n   <path d=\"M 0 226.194375 \nL 400.095313 226.194375 \nL 400.095313 0 \nL 0 0 \nz\n\" style=\"fill: #ffffff\"/>\n  </g>\n  <g id=\"axes_1\">\n   <g id=\"patch_2\">\n    <path d=\"M 50.14375 188.638125 \nL 384.94375 188.638125 \nL 384.94375 22.318125 \nL 50.14375 22.318125 \nz\n\" style=\"fill: #ffffff\"/>\n   </g>\n   <g id=\"matplotlib.axis_1\">\n    <g id=\"xtick_1\">\n     <g id=\"text_1\">\n      <!-- -4.0 -->\n      <g style=\"fill: #262626\" transform=\"translate(40.388281 203.236563) scale(0.1 -0.1)\">\n       <defs>\n        <path id=\"DejaVuSans-2d\" d=\"M 313 2009 \nL 1997 2009 \nL 1997 1497 \nL 313 1497 \nL 313 2009 \nz\n\" transform=\"scale(0.015625)\"/>\n        <path id=\"DejaVuSans-34\" d=\"M 2419 4116 \nL 825 1625 \nL 2419 1625 \nL 2419 4116 \nz\nM 2253 4666 \nL 3047 4666 \nL 3047 1625 \nL 3713 1625 \nL 3713 1100 \nL 3047 1100 \nL 3047 0 \nL 2419 0 \nL 2419 1100 \nL 313 1100 \nL 313 1709 \nL 2253 4666 \nz\n\" transform=\"scale(0.015625)\"/>\n        <path id=\"DejaVuSans-2e\" d=\"M 684 794 \nL 1344 794 \nL 1344 0 \nL 684 0 \nL 684 794 \nz\n\" transform=\"scale(0.015625)\"/>\n        <path id=\"DejaVuSans-30\" d=\"M 2034 4250 \nQ 1547 4250 1301 3770 \nQ 1056 3291 1056 2328 \nQ 1056 1369 1301 889 \nQ 1547 409 2034 409 \nQ 2525 409 2770 889 \nQ 3016 1369 3016 2328 \nQ 3016 3291 2770 3770 \nQ 2525 4250 2034 4250 \nz\nM 2034 4750 \nQ 2819 4750 3233 4129 \nQ 3647 3509 3647 2328 \nQ 3647 1150 3233 529 \nQ 2819 -91 2034 -91 \nQ 1250 -91 836 529 \nQ 422 1150 422 2328 \nQ 422 3509 836 4129 \nQ 1250 4750 2034 4750 \nz\n\" transform=\"scale(0.015625)\"/>\n       </defs>\n       <use xlink:href=\"#DejaVuSans-2d\"/>\n       <use xlink:href=\"#DejaVuSans-34\" x=\"36.083984\"/>\n       <use xlink:href=\"#DejaVuSans-2e\" x=\"99.707031\"/>\n       <use xlink:href=\"#DejaVuSans-30\" x=\"131.494141\"/>\n      </g>\n     </g>\n    </g>\n    <g id=\"xtick_2\">\n     <g id=\"text_2\">\n      <!-- -1.9 -->\n      <g style=\"fill: #262626\" transform=\"translate(126.707177 203.236563) scale(0.1 -0.1)\">\n       <defs>\n        <path id=\"DejaVuSans-31\" d=\"M 794 531 \nL 1825 531 \nL 1825 4091 \nL 703 3866 \nL 703 4441 \nL 1819 4666 \nL 2450 4666 \nL 2450 531 \nL 3481 531 \nL 3481 0 \nL 794 0 \nL 794 531 \nz\n\" transform=\"scale(0.015625)\"/>\n        <path id=\"DejaVuSans-39\" d=\"M 703 97 \nL 703 672 \nQ 941 559 1184 500 \nQ 1428 441 1663 441 \nQ 2288 441 2617 861 \nQ 2947 1281 2994 2138 \nQ 2813 1869 2534 1725 \nQ 2256 1581 1919 1581 \nQ 1219 1581 811 2004 \nQ 403 2428 403 3163 \nQ 403 3881 828 4315 \nQ 1253 4750 1959 4750 \nQ 2769 4750 3195 4129 \nQ 3622 3509 3622 2328 \nQ 3622 1225 3098 567 \nQ 2575 -91 1691 -91 \nQ 1453 -91 1209 -44 \nQ 966 3 703 97 \nz\nM 1959 2075 \nQ 2384 2075 2632 2365 \nQ 2881 2656 2881 3163 \nQ 2881 3666 2632 3958 \nQ 2384 4250 1959 4250 \nQ 1534 4250 1286 3958 \nQ 1038 3666 1038 3163 \nQ 1038 2656 1286 2365 \nQ 1534 2075 1959 2075 \nz\n\" transform=\"scale(0.015625)\"/>\n       </defs>\n       <use xlink:href=\"#DejaVuSans-2d\"/>\n       <use xlink:href=\"#DejaVuSans-31\" x=\"36.083984\"/>\n       <use xlink:href=\"#DejaVuSans-2e\" x=\"99.707031\"/>\n       <use xlink:href=\"#DejaVuSans-39\" x=\"131.494141\"/>\n      </g>\n     </g>\n    </g>\n    <g id=\"xtick_3\">\n     <g id=\"text_3\">\n      <!-- -1.1 -->\n      <g style=\"fill: #262626\" transform=\"translate(162.3242 203.236563) scale(0.1 -0.1)\">\n       <use xlink:href=\"#DejaVuSans-2d\"/>\n       <use xlink:href=\"#DejaVuSans-31\" x=\"36.083984\"/>\n       <use xlink:href=\"#DejaVuSans-2e\" x=\"99.707031\"/>\n       <use xlink:href=\"#DejaVuSans-31\" x=\"131.494141\"/>\n      </g>\n     </g>\n    </g>\n    <g id=\"xtick_4\">\n     <g id=\"text_4\">\n      <!-- -0.5 -->\n      <g style=\"fill: #262626\" transform=\"translate(186.627581 203.236563) scale(0.1 -0.1)\">\n       <defs>\n        <path id=\"DejaVuSans-35\" d=\"M 691 4666 \nL 3169 4666 \nL 3169 4134 \nL 1269 4134 \nL 1269 2991 \nQ 1406 3038 1543 3061 \nQ 1681 3084 1819 3084 \nQ 2600 3084 3056 2656 \nQ 3513 2228 3513 1497 \nQ 3513 744 3044 326 \nQ 2575 -91 1722 -91 \nQ 1428 -91 1123 -41 \nQ 819 9 494 109 \nL 494 744 \nQ 775 591 1075 516 \nQ 1375 441 1709 441 \nQ 2250 441 2565 725 \nQ 2881 1009 2881 1497 \nQ 2881 1984 2565 2268 \nQ 2250 2553 1709 2553 \nQ 1456 2553 1204 2497 \nQ 953 2441 691 2322 \nL 691 4666 \nz\n\" transform=\"scale(0.015625)\"/>\n       </defs>\n       <use xlink:href=\"#DejaVuSans-2d\"/>\n       <use xlink:href=\"#DejaVuSans-30\" x=\"36.083984\"/>\n       <use xlink:href=\"#DejaVuSans-2e\" x=\"99.707031\"/>\n       <use xlink:href=\"#DejaVuSans-35\" x=\"131.494141\"/>\n      </g>\n     </g>\n    </g>\n    <g id=\"xtick_5\">\n     <g id=\"text_5\">\n      <!-- 0.0 -->\n      <g style=\"fill: #262626\" transform=\"translate(209.801699 203.236563) scale(0.1 -0.1)\">\n       <use xlink:href=\"#DejaVuSans-30\"/>\n       <use xlink:href=\"#DejaVuSans-2e\" x=\"63.623047\"/>\n       <use xlink:href=\"#DejaVuSans-30\" x=\"95.410156\"/>\n      </g>\n     </g>\n    </g>\n    <g id=\"xtick_6\">\n     <g id=\"text_6\">\n      <!-- 0.5 -->\n      <g style=\"fill: #262626\" transform=\"translate(231.590935 203.236563) scale(0.1 -0.1)\">\n       <use xlink:href=\"#DejaVuSans-30\"/>\n       <use xlink:href=\"#DejaVuSans-2e\" x=\"63.623047\"/>\n       <use xlink:href=\"#DejaVuSans-35\" x=\"95.410156\"/>\n      </g>\n     </g>\n    </g>\n    <g id=\"xtick_7\">\n     <g id=\"text_7\">\n      <!-- 1.1 -->\n      <g style=\"fill: #262626\" transform=\"translate(255.894311 203.236563) scale(0.1 -0.1)\">\n       <use xlink:href=\"#DejaVuSans-31\"/>\n       <use xlink:href=\"#DejaVuSans-2e\" x=\"63.623047\"/>\n       <use xlink:href=\"#DejaVuSans-31\" x=\"95.410156\"/>\n      </g>\n     </g>\n    </g>\n    <g id=\"xtick_8\">\n     <g id=\"text_8\">\n      <!-- 1.9 -->\n      <g style=\"fill: #262626\" transform=\"translate(291.511333 203.236563) scale(0.1 -0.1)\">\n       <use xlink:href=\"#DejaVuSans-31\"/>\n       <use xlink:href=\"#DejaVuSans-2e\" x=\"63.623047\"/>\n       <use xlink:href=\"#DejaVuSans-39\" x=\"95.410156\"/>\n      </g>\n     </g>\n    </g>\n    <g id=\"xtick_9\">\n     <g id=\"text_9\">\n      <!-- 4.0 -->\n      <g style=\"fill: #262626\" transform=\"translate(376.992188 203.236563) scale(0.1 -0.1)\">\n       <use xlink:href=\"#DejaVuSans-34\"/>\n       <use xlink:href=\"#DejaVuSans-2e\" x=\"63.623047\"/>\n       <use xlink:href=\"#DejaVuSans-30\" x=\"95.410156\"/>\n      </g>\n     </g>\n    </g>\n    <g id=\"text_10\">\n     <!-- z -->\n     <g style=\"fill: #262626\" transform=\"translate(214.919531 216.914688) scale(0.1 -0.1)\">\n      <defs>\n       <path id=\"DejaVuSans-7a\" d=\"M 353 3500 \nL 3084 3500 \nL 3084 2975 \nL 922 459 \nL 3084 459 \nL 3084 0 \nL 275 0 \nL 275 525 \nL 2438 3041 \nL 353 3041 \nL 353 3500 \nz\n\" transform=\"scale(0.015625)\"/>\n      </defs>\n      <use xlink:href=\"#DejaVuSans-7a\"/>\n     </g>\n    </g>\n   </g>\n   <g id=\"matplotlib.axis_2\">\n    <g id=\"ytick_1\">\n     <g id=\"text_11\">\n      <!-- 0.00 -->\n      <g style=\"fill: #262626\" transform=\"translate(20.878125 192.437344) scale(0.1 -0.1)\">\n       <use xlink:href=\"#DejaVuSans-30\"/>\n       <use xlink:href=\"#DejaVuSans-2e\" x=\"63.623047\"/>\n       <use xlink:href=\"#DejaVuSans-30\" x=\"95.410156\"/>\n       <use xlink:href=\"#DejaVuSans-30\" x=\"159.033203\"/>\n      </g>\n     </g>\n    </g>\n    <g id=\"ytick_2\">\n     <g id=\"text_12\">\n      <!-- 0.05 -->\n      <g style=\"fill: #262626\" transform=\"translate(20.878125 162.197647) scale(0.1 -0.1)\">\n       <use xlink:href=\"#DejaVuSans-30\"/>\n       <use xlink:href=\"#DejaVuSans-2e\" x=\"63.623047\"/>\n       <use xlink:href=\"#DejaVuSans-30\" x=\"95.410156\"/>\n       <use xlink:href=\"#DejaVuSans-35\" x=\"159.033203\"/>\n      </g>\n     </g>\n    </g>\n    <g id=\"ytick_3\">\n     <g id=\"text_13\">\n      <!-- 0.10 -->\n      <g style=\"fill: #262626\" transform=\"translate(20.878125 131.957949) scale(0.1 -0.1)\">\n       <use xlink:href=\"#DejaVuSans-30\"/>\n       <use xlink:href=\"#DejaVuSans-2e\" x=\"63.623047\"/>\n       <use xlink:href=\"#DejaVuSans-31\" x=\"95.410156\"/>\n       <use xlink:href=\"#DejaVuSans-30\" x=\"159.033203\"/>\n      </g>\n     </g>\n    </g>\n    <g id=\"ytick_4\">\n     <g id=\"text_14\">\n      <!-- 0.15 -->\n      <g style=\"fill: #262626\" transform=\"translate(20.878125 101.718252) scale(0.1 -0.1)\">\n       <use xlink:href=\"#DejaVuSans-30\"/>\n       <use xlink:href=\"#DejaVuSans-2e\" x=\"63.623047\"/>\n       <use xlink:href=\"#DejaVuSans-31\" x=\"95.410156\"/>\n       <use xlink:href=\"#DejaVuSans-35\" x=\"159.033203\"/>\n      </g>\n     </g>\n    </g>\n    <g id=\"ytick_5\">\n     <g id=\"text_15\">\n      <!-- 0.20 -->\n      <g style=\"fill: #262626\" transform=\"translate(20.878125 71.478555) scale(0.1 -0.1)\">\n       <defs>\n        <path id=\"DejaVuSans-32\" d=\"M 1228 531 \nL 3431 531 \nL 3431 0 \nL 469 0 \nL 469 531 \nQ 828 903 1448 1529 \nQ 2069 2156 2228 2338 \nQ 2531 2678 2651 2914 \nQ 2772 3150 2772 3378 \nQ 2772 3750 2511 3984 \nQ 2250 4219 1831 4219 \nQ 1534 4219 1204 4116 \nQ 875 4013 500 3803 \nL 500 4441 \nQ 881 4594 1212 4672 \nQ 1544 4750 1819 4750 \nQ 2544 4750 2975 4387 \nQ 3406 4025 3406 3419 \nQ 3406 3131 3298 2873 \nQ 3191 2616 2906 2266 \nQ 2828 2175 2409 1742 \nQ 1991 1309 1228 531 \nz\n\" transform=\"scale(0.015625)\"/>\n       </defs>\n       <use xlink:href=\"#DejaVuSans-30\"/>\n       <use xlink:href=\"#DejaVuSans-2e\" x=\"63.623047\"/>\n       <use xlink:href=\"#DejaVuSans-32\" x=\"95.410156\"/>\n       <use xlink:href=\"#DejaVuSans-30\" x=\"159.033203\"/>\n      </g>\n     </g>\n    </g>\n    <g id=\"ytick_6\">\n     <g id=\"text_16\">\n      <!-- 0.25 -->\n      <g style=\"fill: #262626\" transform=\"translate(20.878125 41.238858) scale(0.1 -0.1)\">\n       <use xlink:href=\"#DejaVuSans-30\"/>\n       <use xlink:href=\"#DejaVuSans-2e\" x=\"63.623047\"/>\n       <use xlink:href=\"#DejaVuSans-32\" x=\"95.410156\"/>\n       <use xlink:href=\"#DejaVuSans-35\" x=\"159.033203\"/>\n      </g>\n     </g>\n    </g>\n    <g id=\"text_17\">\n     <!-- Probability -->\n     <g style=\"fill: #262626\" transform=\"translate(14.798438 131.907031) rotate(-90) scale(0.1 -0.1)\">\n      <defs>\n       <path id=\"DejaVuSans-50\" d=\"M 1259 4147 \nL 1259 2394 \nL 2053 2394 \nQ 2494 2394 2734 2622 \nQ 2975 2850 2975 3272 \nQ 2975 3691 2734 3919 \nQ 2494 4147 2053 4147 \nL 1259 4147 \nz\nM 628 4666 \nL 2053 4666 \nQ 2838 4666 3239 4311 \nQ 3641 3956 3641 3272 \nQ 3641 2581 3239 2228 \nQ 2838 1875 2053 1875 \nL 1259 1875 \nL 1259 0 \nL 628 0 \nL 628 4666 \nz\n\" transform=\"scale(0.015625)\"/>\n       <path id=\"DejaVuSans-72\" d=\"M 2631 2963 \nQ 2534 3019 2420 3045 \nQ 2306 3072 2169 3072 \nQ 1681 3072 1420 2755 \nQ 1159 2438 1159 1844 \nL 1159 0 \nL 581 0 \nL 581 3500 \nL 1159 3500 \nL 1159 2956 \nQ 1341 3275 1631 3429 \nQ 1922 3584 2338 3584 \nQ 2397 3584 2469 3576 \nQ 2541 3569 2628 3553 \nL 2631 2963 \nz\n\" transform=\"scale(0.015625)\"/>\n       <path id=\"DejaVuSans-6f\" d=\"M 1959 3097 \nQ 1497 3097 1228 2736 \nQ 959 2375 959 1747 \nQ 959 1119 1226 758 \nQ 1494 397 1959 397 \nQ 2419 397 2687 759 \nQ 2956 1122 2956 1747 \nQ 2956 2369 2687 2733 \nQ 2419 3097 1959 3097 \nz\nM 1959 3584 \nQ 2709 3584 3137 3096 \nQ 3566 2609 3566 1747 \nQ 3566 888 3137 398 \nQ 2709 -91 1959 -91 \nQ 1206 -91 779 398 \nQ 353 888 353 1747 \nQ 353 2609 779 3096 \nQ 1206 3584 1959 3584 \nz\n\" transform=\"scale(0.015625)\"/>\n       <path id=\"DejaVuSans-62\" d=\"M 3116 1747 \nQ 3116 2381 2855 2742 \nQ 2594 3103 2138 3103 \nQ 1681 3103 1420 2742 \nQ 1159 2381 1159 1747 \nQ 1159 1113 1420 752 \nQ 1681 391 2138 391 \nQ 2594 391 2855 752 \nQ 3116 1113 3116 1747 \nz\nM 1159 2969 \nQ 1341 3281 1617 3432 \nQ 1894 3584 2278 3584 \nQ 2916 3584 3314 3078 \nQ 3713 2572 3713 1747 \nQ 3713 922 3314 415 \nQ 2916 -91 2278 -91 \nQ 1894 -91 1617 61 \nQ 1341 213 1159 525 \nL 1159 0 \nL 581 0 \nL 581 4863 \nL 1159 4863 \nL 1159 2969 \nz\n\" transform=\"scale(0.015625)\"/>\n       <path id=\"DejaVuSans-61\" d=\"M 2194 1759 \nQ 1497 1759 1228 1600 \nQ 959 1441 959 1056 \nQ 959 750 1161 570 \nQ 1363 391 1709 391 \nQ 2188 391 2477 730 \nQ 2766 1069 2766 1631 \nL 2766 1759 \nL 2194 1759 \nz\nM 3341 1997 \nL 3341 0 \nL 2766 0 \nL 2766 531 \nQ 2569 213 2275 61 \nQ 1981 -91 1556 -91 \nQ 1019 -91 701 211 \nQ 384 513 384 1019 \nQ 384 1609 779 1909 \nQ 1175 2209 1959 2209 \nL 2766 2209 \nL 2766 2266 \nQ 2766 2663 2505 2880 \nQ 2244 3097 1772 3097 \nQ 1472 3097 1187 3025 \nQ 903 2953 641 2809 \nL 641 3341 \nQ 956 3463 1253 3523 \nQ 1550 3584 1831 3584 \nQ 2591 3584 2966 3190 \nQ 3341 2797 3341 1997 \nz\n\" transform=\"scale(0.015625)\"/>\n       <path id=\"DejaVuSans-69\" d=\"M 603 3500 \nL 1178 3500 \nL 1178 0 \nL 603 0 \nL 603 3500 \nz\nM 603 4863 \nL 1178 4863 \nL 1178 4134 \nL 603 4134 \nL 603 4863 \nz\n\" transform=\"scale(0.015625)\"/>\n       <path id=\"DejaVuSans-6c\" d=\"M 603 4863 \nL 1178 4863 \nL 1178 0 \nL 603 0 \nL 603 4863 \nz\n\" transform=\"scale(0.015625)\"/>\n       <path id=\"DejaVuSans-74\" d=\"M 1172 4494 \nL 1172 3500 \nL 2356 3500 \nL 2356 3053 \nL 1172 3053 \nL 1172 1153 \nQ 1172 725 1289 603 \nQ 1406 481 1766 481 \nL 2356 481 \nL 2356 0 \nL 1766 0 \nQ 1100 0 847 248 \nQ 594 497 594 1153 \nL 594 3053 \nL 172 3053 \nL 172 3500 \nL 594 3500 \nL 594 4494 \nL 1172 4494 \nz\n\" transform=\"scale(0.015625)\"/>\n       <path id=\"DejaVuSans-79\" d=\"M 2059 -325 \nQ 1816 -950 1584 -1140 \nQ 1353 -1331 966 -1331 \nL 506 -1331 \nL 506 -850 \nL 844 -850 \nQ 1081 -850 1212 -737 \nQ 1344 -625 1503 -206 \nL 1606 56 \nL 191 3500 \nL 800 3500 \nL 1894 763 \nL 2988 3500 \nL 3597 3500 \nL 2059 -325 \nz\n\" transform=\"scale(0.015625)\"/>\n      </defs>\n      <use xlink:href=\"#DejaVuSans-50\"/>\n      <use xlink:href=\"#DejaVuSans-72\" x=\"58.552734\"/>\n      <use xlink:href=\"#DejaVuSans-6f\" x=\"97.416016\"/>\n      <use xlink:href=\"#DejaVuSans-62\" x=\"158.597656\"/>\n      <use xlink:href=\"#DejaVuSans-61\" x=\"222.074219\"/>\n      <use xlink:href=\"#DejaVuSans-62\" x=\"283.353516\"/>\n      <use xlink:href=\"#DejaVuSans-69\" x=\"346.830078\"/>\n      <use xlink:href=\"#DejaVuSans-6c\" x=\"374.613281\"/>\n      <use xlink:href=\"#DejaVuSans-69\" x=\"402.396484\"/>\n      <use xlink:href=\"#DejaVuSans-74\" x=\"430.179688\"/>\n      <use xlink:href=\"#DejaVuSans-79\" x=\"469.388672\"/>\n     </g>\n    </g>\n   </g>\n   <g id=\"PolyCollection_1\">\n    <defs>\n     <path id=\"m6db36f3b9a\" d=\"M 50.14375 -37.55625 \nL 50.14375 -48.238657 \nL 50.562773 -48.342109 \nL 50.981797 -48.446539 \nL 51.40082 -48.551937 \nL 51.819844 -48.658307 \nL 52.238867 -48.765666 \nL 52.65789 -48.874031 \nL 53.076914 -48.98339 \nL 53.495937 -49.093766 \nL 53.91496 -49.205164 \nL 54.333984 -49.317593 \nL 54.753007 -49.431062 \nL 55.172031 -49.545574 \nL 55.591054 -49.66115 \nL 56.010077 -49.777787 \nL 56.429101 -49.895496 \nL 56.848134 -50.014287 \nL 57.267157 -50.134177 \nL 57.686181 -50.255161 \nL 58.105204 -50.377258 \nL 58.524228 -50.500469 \nL 58.943251 -50.624814 \nL 59.362274 -50.750296 \nL 59.781298 -50.87692 \nL 60.200321 -51.004708 \nL 60.619344 -51.133657 \nL 61.038368 -51.263777 \nL 61.457391 -51.395085 \nL 61.876415 -51.527584 \nL 62.295438 -51.66129 \nL 62.714461 -51.796208 \nL 63.133485 -51.932349 \nL 63.552508 -52.069722 \nL 63.971532 -52.208346 \nL 64.390555 -52.348207 \nL 64.809578 -52.48934 \nL 65.228602 -52.631741 \nL 65.647625 -52.775427 \nL 66.066648 -52.920402 \nL 66.485672 -53.066683 \nL 66.904705 -53.21428 \nL 67.323729 -53.363194 \nL 67.742752 -53.51344 \nL 68.161775 -53.66503 \nL 68.580799 -53.817967 \nL 68.999822 -53.972279 \nL 69.418845 -54.127959 \nL 69.837869 -54.285028 \nL 70.256892 -54.443489 \nL 70.675916 -54.603353 \nL 71.094939 -54.764641 \nL 71.513962 -54.927347 \nL 71.932986 -55.0915 \nL 72.352009 -55.257093 \nL 72.771032 -55.424149 \nL 73.190056 -55.592678 \nL 73.609079 -55.762683 \nL 74.028103 -55.934186 \nL 74.447126 -56.107181 \nL 74.866149 -56.281696 \nL 75.285173 -56.457737 \nL 75.704196 -56.635314 \nL 76.12322 -56.814439 \nL 76.542243 -56.995119 \nL 76.961276 -57.177374 \nL 77.3803 -57.361203 \nL 77.799323 -57.546628 \nL 78.218346 -57.733648 \nL 78.63737 -57.922287 \nL 79.056393 -58.112547 \nL 79.475417 -58.304442 \nL 79.89444 -58.497991 \nL 80.313463 -58.693205 \nL 80.732487 -58.890075 \nL 81.15151 -59.088635 \nL 81.570533 -59.288887 \nL 81.989557 -59.490844 \nL 82.40858 -59.69451 \nL 82.827604 -59.899907 \nL 83.246627 -60.107049 \nL 83.66565 -60.315948 \nL 84.084674 -60.526595 \nL 84.503697 -60.739016 \nL 84.92272 -60.953234 \nL 85.341744 -61.169239 \nL 85.760767 -61.387058 \nL 86.179791 -61.60669 \nL 86.598814 -61.82815 \nL 87.017847 -62.051468 \nL 87.436871 -62.276634 \nL 87.855894 -62.503656 \nL 88.274918 -62.732571 \nL 88.693941 -62.963368 \nL 89.112964 -63.196061 \nL 89.531988 -63.430662 \nL 89.951011 -63.667199 \nL 90.370034 -63.90566 \nL 90.789058 -64.14607 \nL 91.208081 -64.388442 \nL 91.627105 -64.632782 \nL 92.046128 -64.879095 \nL 92.465151 -65.127401 \nL 92.884175 -65.377711 \nL 93.303198 -65.630039 \nL 93.722221 -65.884387 \nL 94.141245 -66.140777 \nL 94.560268 -66.399216 \nL 94.979292 -66.659712 \nL 95.398315 -66.922282 \nL 95.817338 -67.186937 \nL 96.236362 -67.453678 \nL 96.655385 -67.722519 \nL 97.074408 -67.993471 \nL 97.493432 -68.26655 \nL 97.912455 -68.541769 \nL 98.331479 -68.819127 \nL 98.750502 -69.098651 \nL 99.169525 -69.380326 \nL 99.588549 -69.664194 \nL 100.007572 -69.950255 \nL 100.426606 -70.238497 \nL 100.845629 -70.528967 \nL 101.264652 -70.821638 \nL 101.683676 -71.116538 \nL 102.102699 -71.413681 \nL 102.521722 -71.713082 \nL 102.940746 -72.014734 \nL 103.359769 -72.318652 \nL 103.778793 -72.624851 \nL 104.197816 -72.933343 \nL 104.616839 -73.244122 \nL 105.035863 -73.557201 \nL 105.454886 -73.872594 \nL 105.873909 -74.190314 \nL 106.292933 -74.510374 \nL 106.711956 -74.832767 \nL 107.13098 -75.157505 \nL 107.550003 -75.484623 \nL 107.969026 -75.814071 \nL 108.38805 -76.145925 \nL 108.807073 -76.480135 \nL 109.226096 -76.816756 \nL 109.64512 -77.155756 \nL 110.064143 -77.497172 \nL 110.483177 -77.841003 \nL 110.9022 -78.187258 \nL 111.321223 -78.535928 \nL 111.740247 -78.887014 \nL 112.15927 -79.240551 \nL 112.578294 -79.596553 \nL 112.997317 -79.95497 \nL 113.41634 -80.31587 \nL 113.835364 -80.679221 \nL 114.254387 -81.045041 \nL 114.67341 -81.41334 \nL 115.092434 -81.784099 \nL 115.511457 -82.157359 \nL 115.930481 -82.533102 \nL 116.349504 -82.911319 \nL 116.768527 -83.292041 \nL 117.187551 -83.675272 \nL 117.606574 -84.060987 \nL 118.025597 -84.449234 \nL 118.444621 -84.83996 \nL 118.863644 -85.233209 \nL 119.282668 -85.628972 \nL 119.701691 -86.027236 \nL 120.120714 -86.428028 \nL 120.539748 -86.831348 \nL 120.958771 -87.237182 \nL 121.377794 -87.645522 \nL 121.796818 -88.056394 \nL 122.215841 -88.469794 \nL 122.634865 -88.885691 \nL 123.053888 -89.304124 \nL 123.472911 -89.725049 \nL 123.891935 -90.14852 \nL 124.310958 -90.574492 \nL 124.729982 -91.002997 \nL 125.149005 -91.433988 \nL 125.568028 -91.867499 \nL 125.987052 -92.303501 \nL 126.406075 -92.742009 \nL 126.825098 -93.183018 \nL 127.244122 -93.626536 \nL 127.663145 -94.072511 \nL 128.082169 -94.521004 \nL 128.501192 -94.971957 \nL 128.920215 -95.42538 \nL 129.339239 -95.881268 \nL 129.758262 -96.339598 \nL 130.177285 -96.800402 \nL 130.596319 -97.263639 \nL 131.015342 -97.7293 \nL 131.434366 -98.197413 \nL 131.853389 -98.667914 \nL 132.272412 -99.14083 \nL 132.691436 -99.616166 \nL 133.110459 -100.093859 \nL 133.529482 -100.57393 \nL 133.948506 -101.056359 \nL 134.367529 -101.541171 \nL 134.786553 -102.028268 \nL 135.205576 -102.517712 \nL 135.624599 -103.009495 \nL 136.043623 -103.503527 \nL 136.043623 -37.55625 \nL 136.043623 -37.55625 \nL 135.624599 -37.55625 \nL 135.205576 -37.55625 \nL 134.786553 -37.55625 \nL 134.367529 -37.55625 \nL 133.948506 -37.55625 \nL 133.529482 -37.55625 \nL 133.110459 -37.55625 \nL 132.691436 -37.55625 \nL 132.272412 -37.55625 \nL 131.853389 -37.55625 \nL 131.434366 -37.55625 \nL 131.015342 -37.55625 \nL 130.596319 -37.55625 \nL 130.177285 -37.55625 \nL 129.758262 -37.55625 \nL 129.339239 -37.55625 \nL 128.920215 -37.55625 \nL 128.501192 -37.55625 \nL 128.082169 -37.55625 \nL 127.663145 -37.55625 \nL 127.244122 -37.55625 \nL 126.825098 -37.55625 \nL 126.406075 -37.55625 \nL 125.987052 -37.55625 \nL 125.568028 -37.55625 \nL 125.149005 -37.55625 \nL 124.729982 -37.55625 \nL 124.310958 -37.55625 \nL 123.891935 -37.55625 \nL 123.472911 -37.55625 \nL 123.053888 -37.55625 \nL 122.634865 -37.55625 \nL 122.215841 -37.55625 \nL 121.796818 -37.55625 \nL 121.377794 -37.55625 \nL 120.958771 -37.55625 \nL 120.539748 -37.55625 \nL 120.120714 -37.55625 \nL 119.701691 -37.55625 \nL 119.282668 -37.55625 \nL 118.863644 -37.55625 \nL 118.444621 -37.55625 \nL 118.025597 -37.55625 \nL 117.606574 -37.55625 \nL 117.187551 -37.55625 \nL 116.768527 -37.55625 \nL 116.349504 -37.55625 \nL 115.930481 -37.55625 \nL 115.511457 -37.55625 \nL 115.092434 -37.55625 \nL 114.67341 -37.55625 \nL 114.254387 -37.55625 \nL 113.835364 -37.55625 \nL 113.41634 -37.55625 \nL 112.997317 -37.55625 \nL 112.578294 -37.55625 \nL 112.15927 -37.55625 \nL 111.740247 -37.55625 \nL 111.321223 -37.55625 \nL 110.9022 -37.55625 \nL 110.483177 -37.55625 \nL 110.064143 -37.55625 \nL 109.64512 -37.55625 \nL 109.226096 -37.55625 \nL 108.807073 -37.55625 \nL 108.38805 -37.55625 \nL 107.969026 -37.55625 \nL 107.550003 -37.55625 \nL 107.13098 -37.55625 \nL 106.711956 -37.55625 \nL 106.292933 -37.55625 \nL 105.873909 -37.55625 \nL 105.454886 -37.55625 \nL 105.035863 -37.55625 \nL 104.616839 -37.55625 \nL 104.197816 -37.55625 \nL 103.778793 -37.55625 \nL 103.359769 -37.55625 \nL 102.940746 -37.55625 \nL 102.521722 -37.55625 \nL 102.102699 -37.55625 \nL 101.683676 -37.55625 \nL 101.264652 -37.55625 \nL 100.845629 -37.55625 \nL 100.426606 -37.55625 \nL 100.007572 -37.55625 \nL 99.588549 -37.55625 \nL 99.169525 -37.55625 \nL 98.750502 -37.55625 \nL 98.331479 -37.55625 \nL 97.912455 -37.55625 \nL 97.493432 -37.55625 \nL 97.074408 -37.55625 \nL 96.655385 -37.55625 \nL 96.236362 -37.55625 \nL 95.817338 -37.55625 \nL 95.398315 -37.55625 \nL 94.979292 -37.55625 \nL 94.560268 -37.55625 \nL 94.141245 -37.55625 \nL 93.722221 -37.55625 \nL 93.303198 -37.55625 \nL 92.884175 -37.55625 \nL 92.465151 -37.55625 \nL 92.046128 -37.55625 \nL 91.627105 -37.55625 \nL 91.208081 -37.55625 \nL 90.789058 -37.55625 \nL 90.370034 -37.55625 \nL 89.951011 -37.55625 \nL 89.531988 -37.55625 \nL 89.112964 -37.55625 \nL 88.693941 -37.55625 \nL 88.274918 -37.55625 \nL 87.855894 -37.55625 \nL 87.436871 -37.55625 \nL 87.017847 -37.55625 \nL 86.598814 -37.55625 \nL 86.179791 -37.55625 \nL 85.760767 -37.55625 \nL 85.341744 -37.55625 \nL 84.92272 -37.55625 \nL 84.503697 -37.55625 \nL 84.084674 -37.55625 \nL 83.66565 -37.55625 \nL 83.246627 -37.55625 \nL 82.827604 -37.55625 \nL 82.40858 -37.55625 \nL 81.989557 -37.55625 \nL 81.570533 -37.55625 \nL 81.15151 -37.55625 \nL 80.732487 -37.55625 \nL 80.313463 -37.55625 \nL 79.89444 -37.55625 \nL 79.475417 -37.55625 \nL 79.056393 -37.55625 \nL 78.63737 -37.55625 \nL 78.218346 -37.55625 \nL 77.799323 -37.55625 \nL 77.3803 -37.55625 \nL 76.961276 -37.55625 \nL 76.542243 -37.55625 \nL 76.12322 -37.55625 \nL 75.704196 -37.55625 \nL 75.285173 -37.55625 \nL 74.866149 -37.55625 \nL 74.447126 -37.55625 \nL 74.028103 -37.55625 \nL 73.609079 -37.55625 \nL 73.190056 -37.55625 \nL 72.771032 -37.55625 \nL 72.352009 -37.55625 \nL 71.932986 -37.55625 \nL 71.513962 -37.55625 \nL 71.094939 -37.55625 \nL 70.675916 -37.55625 \nL 70.256892 -37.55625 \nL 69.837869 -37.55625 \nL 69.418845 -37.55625 \nL 68.999822 -37.55625 \nL 68.580799 -37.55625 \nL 68.161775 -37.55625 \nL 67.742752 -37.55625 \nL 67.323729 -37.55625 \nL 66.904705 -37.55625 \nL 66.485672 -37.55625 \nL 66.066648 -37.55625 \nL 65.647625 -37.55625 \nL 65.228602 -37.55625 \nL 64.809578 -37.55625 \nL 64.390555 -37.55625 \nL 63.971532 -37.55625 \nL 63.552508 -37.55625 \nL 63.133485 -37.55625 \nL 62.714461 -37.55625 \nL 62.295438 -37.55625 \nL 61.876415 -37.55625 \nL 61.457391 -37.55625 \nL 61.038368 -37.55625 \nL 60.619344 -37.55625 \nL 60.200321 -37.55625 \nL 59.781298 -37.55625 \nL 59.362274 -37.55625 \nL 58.943251 -37.55625 \nL 58.524228 -37.55625 \nL 58.105204 -37.55625 \nL 57.686181 -37.55625 \nL 57.267157 -37.55625 \nL 56.848134 -37.55625 \nL 56.429101 -37.55625 \nL 56.010077 -37.55625 \nL 55.591054 -37.55625 \nL 55.172031 -37.55625 \nL 54.753007 -37.55625 \nL 54.333984 -37.55625 \nL 53.91496 -37.55625 \nL 53.495937 -37.55625 \nL 53.076914 -37.55625 \nL 52.65789 -37.55625 \nL 52.238867 -37.55625 \nL 51.819844 -37.55625 \nL 51.40082 -37.55625 \nL 50.981797 -37.55625 \nL 50.562773 -37.55625 \nL 50.14375 -37.55625 \nz\n\" style=\"stroke: #1f77b4; stroke-opacity: 0.5\"/>\n    </defs>\n    <g clip-path=\"url(#p842b4710d0)\">\n     <use xlink:href=\"#m6db36f3b9a\" x=\"0\" y=\"226.194375\" style=\"fill: #1f77b4; fill-opacity: 0.5; stroke: #1f77b4; stroke-opacity: 0.5\"/>\n    </g>\n   </g>\n   <g id=\"PolyCollection_2\">\n    <defs>\n     <path id=\"maa86014ddf\" d=\"M 136.462646 -37.55625 \nL 136.462646 -103.999856 \nL 136.881674 -104.498475 \nL 137.300698 -104.99932 \nL 137.719721 -105.50239 \nL 138.138745 -106.007678 \nL 138.557768 -106.515147 \nL 138.976791 -107.024819 \nL 139.395815 -107.536627 \nL 139.814838 -108.05062 \nL 140.233867 -108.5667 \nL 140.652885 -109.084884 \nL 141.071908 -109.605137 \nL 141.490932 -110.127439 \nL 141.909955 -110.651783 \nL 142.328978 -111.178164 \nL 142.748002 -111.706495 \nL 143.167025 -112.236801 \nL 143.586054 -112.769035 \nL 144.005077 -113.303184 \nL 144.4241 -113.839216 \nL 144.843124 -114.377087 \nL 145.262147 -114.916806 \nL 145.68117 -115.458309 \nL 146.100194 -116.001596 \nL 146.519217 -116.546605 \nL 146.938246 -117.093326 \nL 147.357269 -117.641759 \nL 147.776292 -118.191788 \nL 148.195316 -118.743465 \nL 148.614339 -119.296693 \nL 149.033362 -119.85148 \nL 149.452386 -120.40779 \nL 149.871409 -120.96556 \nL 150.290438 -121.52479 \nL 150.709456 -122.085398 \nL 151.128479 -122.647377 \nL 151.547503 -123.210662 \nL 151.966526 -123.775272 \nL 152.38555 -124.341099 \nL 152.804573 -124.908142 \nL 153.223596 -125.476357 \nL 153.642625 -126.045726 \nL 154.061648 -126.616131 \nL 154.480671 -127.18759 \nL 154.899695 -127.760022 \nL 155.318718 -128.33341 \nL 155.737742 -128.907717 \nL 156.156765 -129.482881 \nL 156.575788 -130.058837 \nL 156.994817 -130.635568 \nL 157.413835 -131.213003 \nL 157.832858 -131.791077 \nL 158.251882 -132.369809 \nL 158.670905 -132.949073 \nL 159.089929 -133.528877 \nL 159.508952 -134.109115 \nL 159.927975 -134.689757 \nL 160.347004 -135.270787 \nL 160.766027 -135.852088 \nL 161.18505 -136.43365 \nL 161.604074 -137.015392 \nL 162.023097 -137.597251 \nL 162.442121 -138.179201 \nL 162.861144 -138.761177 \nL 163.280167 -139.343099 \nL 163.699196 -139.924923 \nL 164.118219 -140.506593 \nL 164.537243 -141.088038 \nL 164.956266 -141.669212 \nL 165.375289 -142.250008 \nL 165.794313 -142.830434 \nL 166.213336 -143.410383 \nL 166.632359 -143.989809 \nL 167.051388 -144.568631 \nL 167.470406 -145.146813 \nL 167.88943 -145.724266 \nL 168.308453 -146.300898 \nL 168.727476 -146.876692 \nL 169.1465 -147.451549 \nL 169.565523 -148.025433 \nL 169.984546 -148.598262 \nL 170.403575 -149.169946 \nL 170.822598 -149.74045 \nL 171.241622 -150.309666 \nL 171.660645 -150.877565 \nL 171.660645 -37.55625 \nL 171.660645 -37.55625 \nL 171.241622 -37.55625 \nL 170.822598 -37.55625 \nL 170.403575 -37.55625 \nL 169.984546 -37.55625 \nL 169.565523 -37.55625 \nL 169.1465 -37.55625 \nL 168.727476 -37.55625 \nL 168.308453 -37.55625 \nL 167.88943 -37.55625 \nL 167.470406 -37.55625 \nL 167.051388 -37.55625 \nL 166.632359 -37.55625 \nL 166.213336 -37.55625 \nL 165.794313 -37.55625 \nL 165.375289 -37.55625 \nL 164.956266 -37.55625 \nL 164.537243 -37.55625 \nL 164.118219 -37.55625 \nL 163.699196 -37.55625 \nL 163.280167 -37.55625 \nL 162.861144 -37.55625 \nL 162.442121 -37.55625 \nL 162.023097 -37.55625 \nL 161.604074 -37.55625 \nL 161.18505 -37.55625 \nL 160.766027 -37.55625 \nL 160.347004 -37.55625 \nL 159.927975 -37.55625 \nL 159.508952 -37.55625 \nL 159.089929 -37.55625 \nL 158.670905 -37.55625 \nL 158.251882 -37.55625 \nL 157.832858 -37.55625 \nL 157.413835 -37.55625 \nL 156.994817 -37.55625 \nL 156.575788 -37.55625 \nL 156.156765 -37.55625 \nL 155.737742 -37.55625 \nL 155.318718 -37.55625 \nL 154.899695 -37.55625 \nL 154.480671 -37.55625 \nL 154.061648 -37.55625 \nL 153.642625 -37.55625 \nL 153.223596 -37.55625 \nL 152.804573 -37.55625 \nL 152.38555 -37.55625 \nL 151.966526 -37.55625 \nL 151.547503 -37.55625 \nL 151.128479 -37.55625 \nL 150.709456 -37.55625 \nL 150.290438 -37.55625 \nL 149.871409 -37.55625 \nL 149.452386 -37.55625 \nL 149.033362 -37.55625 \nL 148.614339 -37.55625 \nL 148.195316 -37.55625 \nL 147.776292 -37.55625 \nL 147.357269 -37.55625 \nL 146.938246 -37.55625 \nL 146.519217 -37.55625 \nL 146.100194 -37.55625 \nL 145.68117 -37.55625 \nL 145.262147 -37.55625 \nL 144.843124 -37.55625 \nL 144.4241 -37.55625 \nL 144.005077 -37.55625 \nL 143.586054 -37.55625 \nL 143.167025 -37.55625 \nL 142.748002 -37.55625 \nL 142.328978 -37.55625 \nL 141.909955 -37.55625 \nL 141.490932 -37.55625 \nL 141.071908 -37.55625 \nL 140.652885 -37.55625 \nL 140.233867 -37.55625 \nL 139.814838 -37.55625 \nL 139.395815 -37.55625 \nL 138.976791 -37.55625 \nL 138.557768 -37.55625 \nL 138.138745 -37.55625 \nL 137.719721 -37.55625 \nL 137.300698 -37.55625 \nL 136.881674 -37.55625 \nL 136.462646 -37.55625 \nz\n\" style=\"stroke: #ff7f0e; stroke-opacity: 0.5\"/>\n    </defs>\n    <g clip-path=\"url(#p842b4710d0)\">\n     <use xlink:href=\"#maa86014ddf\" x=\"0\" y=\"226.194375\" style=\"fill: #ff7f0e; fill-opacity: 0.5; stroke: #ff7f0e; stroke-opacity: 0.5\"/>\n    </g>\n   </g>\n   <g id=\"PolyCollection_3\">\n    <defs>\n     <path id=\"m208d258efe\" d=\"M 172.079668 -37.55625 \nL 172.079668 -151.444023 \nL 172.498692 -152.009038 \nL 172.917715 -152.572495 \nL 173.336738 -153.134311 \nL 173.755767 -153.69446 \nL 174.17479 -154.252825 \nL 174.593814 -154.809351 \nL 175.012837 -155.363949 \nL 175.43186 -155.9166 \nL 175.850886 -156.46716 \nL 176.26991 -157.015593 \nL 176.688933 -157.561791 \nL 177.107956 -158.105728 \nL 177.52698 -158.647303 \nL 177.946003 -159.186417 \nL 178.365027 -159.723027 \nL 178.78405 -160.257068 \nL 179.203076 -160.788432 \nL 179.622099 -161.317039 \nL 180.041123 -161.842842 \nL 180.460146 -162.365735 \nL 180.879169 -162.885681 \nL 181.298193 -163.402554 \nL 181.717216 -163.916309 \nL 182.136239 -164.426864 \nL 182.555265 -164.93413 \nL 182.974289 -165.438007 \nL 183.393312 -165.938496 \nL 183.812335 -166.43547 \nL 184.231359 -166.928839 \nL 184.650382 -167.418531 \nL 185.069406 -167.904484 \nL 185.488429 -168.386606 \nL 185.907455 -168.864879 \nL 186.326478 -169.339152 \nL 186.745502 -169.80936 \nL 187.164525 -170.275458 \nL 187.583548 -170.73733 \nL 188.002572 -171.194939 \nL 188.421595 -171.648213 \nL 188.840619 -172.097027 \nL 189.259644 -172.541352 \nL 189.678668 -172.981099 \nL 190.097691 -173.416195 \nL 190.516715 -173.846552 \nL 190.93574 -174.272123 \nL 191.354764 -174.6928 \nL 191.773787 -175.108566 \nL 192.192811 -175.519312 \nL 192.611836 -175.924939 \nL 193.03086 -176.325447 \nL 193.449883 -176.720719 \nL 193.868907 -177.110692 \nL 194.28793 -177.495285 \nL 194.706953 -177.874479 \nL 195.125977 -178.248158 \nL 195.545 -178.616241 \nL 195.964026 -178.978736 \nL 195.964026 -37.55625 \nL 195.964026 -37.55625 \nL 195.545 -37.55625 \nL 195.125977 -37.55625 \nL 194.706953 -37.55625 \nL 194.28793 -37.55625 \nL 193.868907 -37.55625 \nL 193.449883 -37.55625 \nL 193.03086 -37.55625 \nL 192.611836 -37.55625 \nL 192.192811 -37.55625 \nL 191.773787 -37.55625 \nL 191.354764 -37.55625 \nL 190.93574 -37.55625 \nL 190.516715 -37.55625 \nL 190.097691 -37.55625 \nL 189.678668 -37.55625 \nL 189.259644 -37.55625 \nL 188.840619 -37.55625 \nL 188.421595 -37.55625 \nL 188.002572 -37.55625 \nL 187.583548 -37.55625 \nL 187.164525 -37.55625 \nL 186.745502 -37.55625 \nL 186.326478 -37.55625 \nL 185.907455 -37.55625 \nL 185.488429 -37.55625 \nL 185.069406 -37.55625 \nL 184.650382 -37.55625 \nL 184.231359 -37.55625 \nL 183.812335 -37.55625 \nL 183.393312 -37.55625 \nL 182.974289 -37.55625 \nL 182.555265 -37.55625 \nL 182.136239 -37.55625 \nL 181.717216 -37.55625 \nL 181.298193 -37.55625 \nL 180.879169 -37.55625 \nL 180.460146 -37.55625 \nL 180.041123 -37.55625 \nL 179.622099 -37.55625 \nL 179.203076 -37.55625 \nL 178.78405 -37.55625 \nL 178.365027 -37.55625 \nL 177.946003 -37.55625 \nL 177.52698 -37.55625 \nL 177.107956 -37.55625 \nL 176.688933 -37.55625 \nL 176.26991 -37.55625 \nL 175.850886 -37.55625 \nL 175.43186 -37.55625 \nL 175.012837 -37.55625 \nL 174.593814 -37.55625 \nL 174.17479 -37.55625 \nL 173.755767 -37.55625 \nL 173.336738 -37.55625 \nL 172.917715 -37.55625 \nL 172.498692 -37.55625 \nL 172.079668 -37.55625 \nz\n\" style=\"stroke: #2ca02c; stroke-opacity: 0.5\"/>\n    </defs>\n    <g clip-path=\"url(#p842b4710d0)\">\n     <use xlink:href=\"#m208d258efe\" x=\"0\" y=\"226.194375\" style=\"fill: #2ca02c; fill-opacity: 0.5; stroke: #2ca02c; stroke-opacity: 0.5\"/>\n    </g>\n   </g>\n   <g id=\"PolyCollection_4\">\n    <defs>\n     <path id=\"ma138d81919\" d=\"M 196.383049 -37.55625 \nL 196.383049 -179.33549 \nL 196.802073 -179.686494 \nL 197.221096 -180.031677 \nL 197.640121 -180.370966 \nL 198.059144 -180.704316 \nL 198.478169 -181.031609 \nL 198.897192 -181.352865 \nL 199.316216 -181.668001 \nL 199.73524 -181.97691 \nL 200.154264 -182.279564 \nL 200.573287 -182.575937 \nL 200.99231 -182.865948 \nL 201.411334 -183.149532 \nL 201.830358 -183.426655 \nL 202.249382 -183.697254 \nL 202.668405 -183.961273 \nL 203.08743 -184.218669 \nL 203.506453 -184.469422 \nL 203.925476 -184.713426 \nL 204.344501 -184.950652 \nL 204.763524 -185.181074 \nL 205.182549 -185.404638 \nL 205.601572 -185.621299 \nL 206.020596 -185.831038 \nL 206.43962 -186.033775 \nL 206.858644 -186.229482 \nL 207.277667 -186.418142 \nL 207.696691 -186.59971 \nL 208.115715 -186.77414 \nL 208.534739 -186.941387 \nL 208.953763 -187.101442 \nL 209.372787 -187.254288 \nL 209.79181 -187.399834 \nL 210.210834 -187.538116 \nL 210.629857 -187.669071 \nL 211.048881 -187.792682 \nL 211.467905 -187.908929 \nL 211.886929 -188.017778 \nL 212.305953 -188.119227 \nL 212.724976 -188.213233 \nL 213.144 -188.299804 \nL 213.563024 -188.378876 \nL 213.982048 -188.450486 \nL 214.401072 -188.51459 \nL 214.820095 -188.571177 \nL 215.239119 -188.62023 \nL 215.658143 -188.661776 \nL 216.077167 -188.69577 \nL 216.49619 -188.722238 \nL 216.915214 -188.741128 \nL 217.334238 -188.752465 \nL 217.334238 -37.55625 \nL 217.334238 -37.55625 \nL 216.915214 -37.55625 \nL 216.49619 -37.55625 \nL 216.077167 -37.55625 \nL 215.658143 -37.55625 \nL 215.239119 -37.55625 \nL 214.820095 -37.55625 \nL 214.401072 -37.55625 \nL 213.982048 -37.55625 \nL 213.563024 -37.55625 \nL 213.144 -37.55625 \nL 212.724976 -37.55625 \nL 212.305953 -37.55625 \nL 211.886929 -37.55625 \nL 211.467905 -37.55625 \nL 211.048881 -37.55625 \nL 210.629857 -37.55625 \nL 210.210834 -37.55625 \nL 209.79181 -37.55625 \nL 209.372787 -37.55625 \nL 208.953763 -37.55625 \nL 208.534739 -37.55625 \nL 208.115715 -37.55625 \nL 207.696691 -37.55625 \nL 207.277667 -37.55625 \nL 206.858644 -37.55625 \nL 206.43962 -37.55625 \nL 206.020596 -37.55625 \nL 205.601572 -37.55625 \nL 205.182549 -37.55625 \nL 204.763524 -37.55625 \nL 204.344501 -37.55625 \nL 203.925476 -37.55625 \nL 203.506453 -37.55625 \nL 203.08743 -37.55625 \nL 202.668405 -37.55625 \nL 202.249382 -37.55625 \nL 201.830358 -37.55625 \nL 201.411334 -37.55625 \nL 200.99231 -37.55625 \nL 200.573287 -37.55625 \nL 200.154264 -37.55625 \nL 199.73524 -37.55625 \nL 199.316216 -37.55625 \nL 198.897192 -37.55625 \nL 198.478169 -37.55625 \nL 198.059144 -37.55625 \nL 197.640121 -37.55625 \nL 197.221096 -37.55625 \nL 196.802073 -37.55625 \nL 196.383049 -37.55625 \nz\n\" style=\"stroke: #d62728; stroke-opacity: 0.5\"/>\n    </defs>\n    <g clip-path=\"url(#p842b4710d0)\">\n     <use xlink:href=\"#ma138d81919\" x=\"0\" y=\"226.194375\" style=\"fill: #d62728; fill-opacity: 0.5; stroke: #d62728; stroke-opacity: 0.5\"/>\n    </g>\n   </g>\n   <g id=\"PolyCollection_5\">\n    <defs>\n     <path id=\"mfebaa73433\" d=\"M 217.753262 -37.55625 \nL 217.753262 -188.75625 \nL 218.172285 -188.752465 \nL 218.591309 -188.741128 \nL 219.010333 -188.722238 \nL 219.429357 -188.695788 \nL 219.848381 -188.661794 \nL 220.267404 -188.620266 \nL 220.686428 -188.571177 \nL 221.105452 -188.51459 \nL 221.524476 -188.450486 \nL 221.9435 -188.378876 \nL 222.362523 -188.299786 \nL 222.781547 -188.213233 \nL 223.200571 -188.119227 \nL 223.619595 -188.017778 \nL 224.038618 -187.908929 \nL 224.457642 -187.7927 \nL 224.876666 -187.669071 \nL 225.295689 -187.538116 \nL 225.714713 -187.399834 \nL 226.133737 -187.25427 \nL 226.552761 -187.101442 \nL 226.971785 -186.941387 \nL 227.390808 -186.774122 \nL 227.809832 -186.59971 \nL 228.228856 -186.418142 \nL 228.64788 -186.229482 \nL 229.066903 -186.033775 \nL 229.485928 -185.831038 \nL 229.904951 -185.621299 \nL 230.323974 -185.404638 \nL 230.742999 -185.181074 \nL 231.162022 -184.950652 \nL 231.581046 -184.713426 \nL 232.00007 -184.469404 \nL 232.419094 -184.218687 \nL 232.838117 -183.961273 \nL 233.257142 -183.697254 \nL 233.676165 -183.426655 \nL 234.095188 -183.149532 \nL 234.514213 -182.865948 \nL 234.933236 -182.575955 \nL 235.352261 -182.279582 \nL 235.771284 -181.97691 \nL 236.190308 -181.667983 \nL 236.609333 -181.352865 \nL 237.028356 -181.031627 \nL 237.447379 -180.704298 \nL 237.866403 -180.370966 \nL 238.285426 -180.031677 \nL 238.704451 -179.686494 \nL 239.123474 -179.33549 \nL 239.123474 -37.55625 \nL 239.123474 -37.55625 \nL 238.704451 -37.55625 \nL 238.285426 -37.55625 \nL 237.866403 -37.55625 \nL 237.447379 -37.55625 \nL 237.028356 -37.55625 \nL 236.609333 -37.55625 \nL 236.190308 -37.55625 \nL 235.771284 -37.55625 \nL 235.352261 -37.55625 \nL 234.933236 -37.55625 \nL 234.514213 -37.55625 \nL 234.095188 -37.55625 \nL 233.676165 -37.55625 \nL 233.257142 -37.55625 \nL 232.838117 -37.55625 \nL 232.419094 -37.55625 \nL 232.00007 -37.55625 \nL 231.581046 -37.55625 \nL 231.162022 -37.55625 \nL 230.742999 -37.55625 \nL 230.323974 -37.55625 \nL 229.904951 -37.55625 \nL 229.485928 -37.55625 \nL 229.066903 -37.55625 \nL 228.64788 -37.55625 \nL 228.228856 -37.55625 \nL 227.809832 -37.55625 \nL 227.390808 -37.55625 \nL 226.971785 -37.55625 \nL 226.552761 -37.55625 \nL 226.133737 -37.55625 \nL 225.714713 -37.55625 \nL 225.295689 -37.55625 \nL 224.876666 -37.55625 \nL 224.457642 -37.55625 \nL 224.038618 -37.55625 \nL 223.619595 -37.55625 \nL 223.200571 -37.55625 \nL 222.781547 -37.55625 \nL 222.362523 -37.55625 \nL 221.9435 -37.55625 \nL 221.524476 -37.55625 \nL 221.105452 -37.55625 \nL 220.686428 -37.55625 \nL 220.267404 -37.55625 \nL 219.848381 -37.55625 \nL 219.429357 -37.55625 \nL 219.010333 -37.55625 \nL 218.591309 -37.55625 \nL 218.172285 -37.55625 \nL 217.753262 -37.55625 \nz\n\" style=\"stroke: #9467bd; stroke-opacity: 0.5\"/>\n    </defs>\n    <g clip-path=\"url(#p842b4710d0)\">\n     <use xlink:href=\"#mfebaa73433\" x=\"0\" y=\"226.194375\" style=\"fill: #9467bd; fill-opacity: 0.5; stroke: #9467bd; stroke-opacity: 0.5\"/>\n    </g>\n   </g>\n   <g id=\"PolyCollection_6\">\n    <defs>\n     <path id=\"m5503d80f54\" d=\"M 239.542497 -37.55625 \nL 239.542497 -178.978718 \nL 239.961521 -178.616241 \nL 240.380544 -178.24814 \nL 240.79957 -177.874479 \nL 241.218593 -177.495294 \nL 241.637617 -177.110692 \nL 242.05664 -176.720719 \nL 242.475664 -176.325447 \nL 242.894689 -175.924975 \nL 243.313713 -175.519303 \nL 243.732736 -175.108566 \nL 244.15176 -174.692818 \nL 244.570783 -174.272114 \nL 244.989806 -173.846552 \nL 245.40883 -173.416186 \nL 245.827853 -172.98109 \nL 246.246879 -172.541352 \nL 246.665902 -172.097027 \nL 247.084926 -171.648195 \nL 247.503949 -171.194939 \nL 247.922975 -170.73733 \nL 248.341998 -170.275449 \nL 248.761022 -169.80936 \nL 249.180045 -169.339152 \nL 249.599071 -168.864879 \nL 250.018094 -168.386642 \nL 250.437118 -167.904484 \nL 250.856141 -167.418531 \nL 251.275165 -166.928839 \nL 251.694188 -166.43547 \nL 252.113211 -165.938505 \nL 252.532235 -165.438034 \nL 252.951261 -164.93413 \nL 253.370284 -164.426855 \nL 253.789307 -163.916291 \nL 254.208331 -163.402554 \nL 254.627354 -162.885672 \nL 255.046377 -162.365753 \nL 255.465401 -161.842824 \nL 255.884424 -161.317039 \nL 256.30345 -160.788423 \nL 256.722473 -160.257059 \nL 257.141497 -159.723027 \nL 257.56052 -159.186417 \nL 257.979544 -158.647276 \nL 258.398567 -158.105728 \nL 258.81759 -157.561791 \nL 259.236614 -157.015575 \nL 259.65564 -156.467151 \nL 260.074663 -155.916582 \nL 260.493686 -155.363958 \nL 260.91271 -154.809351 \nL 261.331733 -154.252825 \nL 261.750757 -153.69446 \nL 262.16978 -153.13432 \nL 262.588803 -152.572495 \nL 263.007827 -152.009038 \nL 263.42685 -151.444041 \nL 263.42685 -37.55625 \nL 263.42685 -37.55625 \nL 263.007827 -37.55625 \nL 262.588803 -37.55625 \nL 262.16978 -37.55625 \nL 261.750757 -37.55625 \nL 261.331733 -37.55625 \nL 260.91271 -37.55625 \nL 260.493686 -37.55625 \nL 260.074663 -37.55625 \nL 259.65564 -37.55625 \nL 259.236614 -37.55625 \nL 258.81759 -37.55625 \nL 258.398567 -37.55625 \nL 257.979544 -37.55625 \nL 257.56052 -37.55625 \nL 257.141497 -37.55625 \nL 256.722473 -37.55625 \nL 256.30345 -37.55625 \nL 255.884424 -37.55625 \nL 255.465401 -37.55625 \nL 255.046377 -37.55625 \nL 254.627354 -37.55625 \nL 254.208331 -37.55625 \nL 253.789307 -37.55625 \nL 253.370284 -37.55625 \nL 252.951261 -37.55625 \nL 252.532235 -37.55625 \nL 252.113211 -37.55625 \nL 251.694188 -37.55625 \nL 251.275165 -37.55625 \nL 250.856141 -37.55625 \nL 250.437118 -37.55625 \nL 250.018094 -37.55625 \nL 249.599071 -37.55625 \nL 249.180045 -37.55625 \nL 248.761022 -37.55625 \nL 248.341998 -37.55625 \nL 247.922975 -37.55625 \nL 247.503949 -37.55625 \nL 247.084926 -37.55625 \nL 246.665902 -37.55625 \nL 246.246879 -37.55625 \nL 245.827853 -37.55625 \nL 245.40883 -37.55625 \nL 244.989806 -37.55625 \nL 244.570783 -37.55625 \nL 244.15176 -37.55625 \nL 243.732736 -37.55625 \nL 243.313713 -37.55625 \nL 242.894689 -37.55625 \nL 242.475664 -37.55625 \nL 242.05664 -37.55625 \nL 241.637617 -37.55625 \nL 241.218593 -37.55625 \nL 240.79957 -37.55625 \nL 240.380544 -37.55625 \nL 239.961521 -37.55625 \nL 239.542497 -37.55625 \nz\n\" style=\"stroke: #8c564b; stroke-opacity: 0.5\"/>\n    </defs>\n    <g clip-path=\"url(#p842b4710d0)\">\n     <use xlink:href=\"#m5503d80f54\" x=\"0\" y=\"226.194375\" style=\"fill: #8c564b; fill-opacity: 0.5; stroke: #8c564b; stroke-opacity: 0.5\"/>\n    </g>\n   </g>\n   <g id=\"PolyCollection_7\">\n    <defs>\n     <path id=\"m671c677574\" d=\"M 263.845873 -37.55625 \nL 263.845873 -150.877565 \nL 264.264902 -150.309657 \nL 264.683925 -149.740432 \nL 265.102949 -149.169937 \nL 265.521972 -148.598262 \nL 265.940995 -148.025433 \nL 266.360019 -147.451567 \nL 266.779042 -146.876692 \nL 267.198065 -146.300907 \nL 267.617094 -145.724248 \nL 268.036117 -145.146813 \nL 268.455141 -144.568649 \nL 268.874164 -143.989818 \nL 269.293187 -143.410401 \nL 269.712211 -142.830443 \nL 270.131234 -142.250035 \nL 270.550257 -141.669203 \nL 270.969286 -141.088038 \nL 271.388304 -140.506593 \nL 271.807328 -139.924932 \nL 272.226351 -139.343099 \nL 272.645374 -138.761177 \nL 273.064398 -138.17921 \nL 273.483421 -137.59726 \nL 273.902445 -137.015392 \nL 274.321473 -136.43365 \nL 274.740496 -135.852106 \nL 275.15952 -135.270787 \nL 275.578543 -134.689784 \nL 275.997566 -134.109124 \nL 276.41659 -133.528877 \nL 276.835613 -132.949091 \nL 277.254637 -132.369809 \nL 277.673665 -131.791095 \nL 278.092688 -131.212994 \nL 278.511712 -130.635559 \nL 278.930735 -130.058837 \nL 279.349758 -129.482872 \nL 279.768782 -128.907717 \nL 280.187805 -128.33341 \nL 280.606829 -127.760022 \nL 281.025857 -127.187572 \nL 281.444875 -126.616131 \nL 281.863899 -126.045717 \nL 282.282922 -125.476366 \nL 282.701945 -124.908169 \nL 283.120969 -124.341117 \nL 283.539992 -123.775272 \nL 283.959016 -123.21068 \nL 284.378044 -122.647368 \nL 284.797067 -122.08538 \nL 285.216091 -121.524772 \nL 285.635114 -120.96556 \nL 286.054138 -120.407781 \nL 286.473161 -119.851489 \nL 286.892184 -119.296693 \nL 287.311208 -118.743465 \nL 287.730236 -118.191788 \nL 288.149254 -117.641741 \nL 288.568278 -117.093344 \nL 288.987301 -116.546605 \nL 289.406325 -116.001596 \nL 289.825348 -115.458309 \nL 290.244371 -114.916806 \nL 290.663395 -114.377106 \nL 291.082423 -113.839198 \nL 291.501446 -113.303184 \nL 291.92047 -112.769035 \nL 292.339493 -112.236801 \nL 292.758517 -111.706495 \nL 293.17754 -111.178164 \nL 293.596563 -110.651801 \nL 294.015587 -110.127453 \nL 294.434615 -109.605137 \nL 294.853638 -109.084884 \nL 295.272662 -108.5667 \nL 295.691685 -108.05062 \nL 296.110709 -107.536645 \nL 296.529732 -107.024819 \nL 296.948755 -106.515165 \nL 297.367779 -106.007678 \nL 297.786807 -105.502372 \nL 298.205826 -104.999302 \nL 298.624849 -104.498457 \nL 299.043872 -103.999874 \nL 299.043872 -37.55625 \nL 299.043872 -37.55625 \nL 298.624849 -37.55625 \nL 298.205826 -37.55625 \nL 297.786807 -37.55625 \nL 297.367779 -37.55625 \nL 296.948755 -37.55625 \nL 296.529732 -37.55625 \nL 296.110709 -37.55625 \nL 295.691685 -37.55625 \nL 295.272662 -37.55625 \nL 294.853638 -37.55625 \nL 294.434615 -37.55625 \nL 294.015587 -37.55625 \nL 293.596563 -37.55625 \nL 293.17754 -37.55625 \nL 292.758517 -37.55625 \nL 292.339493 -37.55625 \nL 291.92047 -37.55625 \nL 291.501446 -37.55625 \nL 291.082423 -37.55625 \nL 290.663395 -37.55625 \nL 290.244371 -37.55625 \nL 289.825348 -37.55625 \nL 289.406325 -37.55625 \nL 288.987301 -37.55625 \nL 288.568278 -37.55625 \nL 288.149254 -37.55625 \nL 287.730236 -37.55625 \nL 287.311208 -37.55625 \nL 286.892184 -37.55625 \nL 286.473161 -37.55625 \nL 286.054138 -37.55625 \nL 285.635114 -37.55625 \nL 285.216091 -37.55625 \nL 284.797067 -37.55625 \nL 284.378044 -37.55625 \nL 283.959016 -37.55625 \nL 283.539992 -37.55625 \nL 283.120969 -37.55625 \nL 282.701945 -37.55625 \nL 282.282922 -37.55625 \nL 281.863899 -37.55625 \nL 281.444875 -37.55625 \nL 281.025857 -37.55625 \nL 280.606829 -37.55625 \nL 280.187805 -37.55625 \nL 279.768782 -37.55625 \nL 279.349758 -37.55625 \nL 278.930735 -37.55625 \nL 278.511712 -37.55625 \nL 278.092688 -37.55625 \nL 277.673665 -37.55625 \nL 277.254637 -37.55625 \nL 276.835613 -37.55625 \nL 276.41659 -37.55625 \nL 275.997566 -37.55625 \nL 275.578543 -37.55625 \nL 275.15952 -37.55625 \nL 274.740496 -37.55625 \nL 274.321473 -37.55625 \nL 273.902445 -37.55625 \nL 273.483421 -37.55625 \nL 273.064398 -37.55625 \nL 272.645374 -37.55625 \nL 272.226351 -37.55625 \nL 271.807328 -37.55625 \nL 271.388304 -37.55625 \nL 270.969286 -37.55625 \nL 270.550257 -37.55625 \nL 270.131234 -37.55625 \nL 269.712211 -37.55625 \nL 269.293187 -37.55625 \nL 268.874164 -37.55625 \nL 268.455141 -37.55625 \nL 268.036117 -37.55625 \nL 267.617094 -37.55625 \nL 267.198065 -37.55625 \nL 266.779042 -37.55625 \nL 266.360019 -37.55625 \nL 265.940995 -37.55625 \nL 265.521972 -37.55625 \nL 265.102949 -37.55625 \nL 264.683925 -37.55625 \nL 264.264902 -37.55625 \nL 263.845873 -37.55625 \nz\n\" style=\"stroke: #e377c2; stroke-opacity: 0.5\"/>\n    </defs>\n    <g clip-path=\"url(#p842b4710d0)\">\n     <use xlink:href=\"#m671c677574\" x=\"0\" y=\"226.194375\" style=\"fill: #e377c2; fill-opacity: 0.5; stroke: #e377c2; stroke-opacity: 0.5\"/>\n    </g>\n   </g>\n   <g id=\"PolyCollection_8\">\n    <defs>\n     <path id=\"m1706fe0a53\" d=\"M 299.462896 -37.55625 \nL 299.462896 -103.50354 \nL 299.881919 -103.009495 \nL 300.300942 -102.517726 \nL 300.719966 -102.028281 \nL 301.138994 -101.541157 \nL 301.558018 -101.056377 \nL 301.977041 -100.57393 \nL 302.396064 -100.093859 \nL 302.815088 -99.616166 \nL 303.234111 -99.140848 \nL 303.653134 -98.667927 \nL 304.072158 -98.197413 \nL 304.491181 -97.729318 \nL 304.910205 -97.263653 \nL 305.329228 -96.800402 \nL 305.748251 -96.339612 \nL 306.167275 -95.881268 \nL 306.586298 -95.42538 \nL 307.005321 -94.971957 \nL 307.424345 -94.521004 \nL 307.843368 -94.072524 \nL 308.262402 -93.626523 \nL 308.681425 -93.183031 \nL 309.100448 -92.742018 \nL 309.519472 -92.303501 \nL 309.938495 -91.867485 \nL 310.357518 -91.433975 \nL 310.776542 -91.002983 \nL 311.195565 -90.574492 \nL 311.614589 -90.14852 \nL 312.033612 -89.725049 \nL 312.452635 -89.304115 \nL 312.871659 -88.885691 \nL 313.290682 -88.469781 \nL 313.709706 -88.056394 \nL 314.128729 -87.645531 \nL 314.547752 -87.237182 \nL 314.966776 -86.831348 \nL 315.385799 -86.428042 \nL 315.804822 -86.027259 \nL 316.223846 -85.628981 \nL 316.642869 -85.233218 \nL 317.061893 -84.839969 \nL 317.480916 -84.449234 \nL 317.899939 -84.061001 \nL 318.318973 -83.675272 \nL 318.737996 -83.29205 \nL 319.157019 -82.911319 \nL 319.576043 -82.533093 \nL 319.995066 -82.157359 \nL 320.41409 -81.784099 \nL 320.833113 -81.413331 \nL 321.252136 -81.045041 \nL 321.67116 -80.679221 \nL 322.090183 -80.31587 \nL 322.509206 -79.954979 \nL 322.92823 -79.596544 \nL 323.347253 -79.24056 \nL 323.766277 -78.887023 \nL 324.1853 -78.535928 \nL 324.604323 -78.187249 \nL 325.023347 -77.841012 \nL 325.44237 -77.497181 \nL 325.861394 -77.155779 \nL 326.280417 -76.816765 \nL 326.69944 -76.480157 \nL 327.118464 -76.145934 \nL 327.537487 -75.814089 \nL 327.95651 -75.484623 \nL 328.375544 -75.157514 \nL 328.794567 -74.832767 \nL 329.213591 -74.510374 \nL 329.632614 -74.190323 \nL 330.051637 -73.872594 \nL 330.470661 -73.557201 \nL 330.889684 -73.244113 \nL 331.308707 -72.933334 \nL 331.727731 -72.624851 \nL 332.146754 -72.318652 \nL 332.565778 -72.014734 \nL 332.984801 -71.713082 \nL 333.403824 -71.41369 \nL 333.822848 -71.116547 \nL 334.241871 -70.821638 \nL 334.660894 -70.52896 \nL 335.079918 -70.238506 \nL 335.498941 -69.950255 \nL 335.917965 -69.664201 \nL 336.336988 -69.380341 \nL 336.756011 -69.098651 \nL 337.175035 -68.819133 \nL 337.594058 -68.541769 \nL 338.013082 -68.266559 \nL 338.432115 -67.993471 \nL 338.851138 -67.72251 \nL 339.270162 -67.453671 \nL 339.689185 -67.18693 \nL 340.108208 -66.922282 \nL 340.527232 -66.659718 \nL 340.946255 -66.399223 \nL 341.365279 -66.140784 \nL 341.784302 -65.884393 \nL 342.203325 -65.630046 \nL 342.622349 -65.377718 \nL 343.041372 -65.127401 \nL 343.460395 -64.879095 \nL 343.879419 -64.632775 \nL 344.298442 -64.388438 \nL 344.717466 -64.14607 \nL 345.136489 -63.90566 \nL 345.555512 -63.667193 \nL 345.974536 -63.430662 \nL 346.393559 -63.196054 \nL 346.812582 -62.963361 \nL 347.231606 -62.732565 \nL 347.650629 -62.503661 \nL 348.069653 -62.276627 \nL 348.488676 -62.051468 \nL 348.907699 -61.828161 \nL 349.326723 -61.606695 \nL 349.745746 -61.387058 \nL 350.16477 -61.169246 \nL 350.583793 -60.953234 \nL 351.002816 -60.739027 \nL 351.42184 -60.5266 \nL 351.840873 -60.315941 \nL 352.259896 -60.107053 \nL 352.67892 -59.899912 \nL 353.097943 -59.694516 \nL 353.516967 -59.490844 \nL 353.93599 -59.288887 \nL 354.355013 -59.088635 \nL 354.774037 -58.890075 \nL 355.19306 -58.693199 \nL 355.612083 -58.497991 \nL 356.031107 -58.304449 \nL 356.45013 -58.112547 \nL 356.869154 -57.922283 \nL 357.288177 -57.733648 \nL 357.7072 -57.546623 \nL 358.126224 -57.361203 \nL 358.545247 -57.177374 \nL 358.96427 -56.995124 \nL 359.383294 -56.814444 \nL 359.802317 -56.635319 \nL 360.221341 -56.457746 \nL 360.640364 -56.281705 \nL 361.059387 -56.10719 \nL 361.478411 -55.934186 \nL 361.897444 -55.762683 \nL 362.316468 -55.592678 \nL 362.735491 -55.424149 \nL 363.154514 -55.257093 \nL 363.573538 -55.0915 \nL 363.992561 -54.927352 \nL 364.411584 -54.764637 \nL 364.830608 -54.603353 \nL 365.249631 -54.443489 \nL 365.668655 -54.285028 \nL 366.087678 -54.127959 \nL 366.506701 -53.972279 \nL 366.925725 -53.817972 \nL 367.344748 -53.665027 \nL 367.763771 -53.51344 \nL 368.182795 -53.363189 \nL 368.601818 -53.21428 \nL 369.020842 -53.066687 \nL 369.439865 -52.920409 \nL 369.858888 -52.775431 \nL 370.277912 -52.631744 \nL 370.696935 -52.489344 \nL 371.115958 -52.348214 \nL 371.534982 -52.208346 \nL 371.954015 -52.069725 \nL 372.373039 -51.932349 \nL 372.792062 -51.796208 \nL 373.211085 -51.66129 \nL 373.630109 -51.527587 \nL 374.049132 -51.395085 \nL 374.468156 -51.263777 \nL 374.887179 -51.133653 \nL 375.306202 -51.004704 \nL 375.725226 -50.87692 \nL 376.144249 -50.750293 \nL 376.563272 -50.624814 \nL 376.982296 -50.500472 \nL 377.401319 -50.377256 \nL 377.820343 -50.255161 \nL 378.239366 -50.134174 \nL 378.658389 -50.01429 \nL 379.077413 -49.895496 \nL 379.496436 -49.777787 \nL 379.915459 -49.66115 \nL 380.334483 -49.545579 \nL 380.753506 -49.431064 \nL 381.17253 -49.317596 \nL 381.591553 -49.205167 \nL 382.010586 -49.093766 \nL 382.42961 -48.983392 \nL 382.848633 -48.874029 \nL 383.267656 -48.765668 \nL 383.68668 -48.658307 \nL 384.105703 -48.551931 \nL 384.524727 -48.446539 \nL 384.94375 -48.342115 \nL 384.94375 -37.55625 \nL 384.94375 -37.55625 \nL 384.524727 -37.55625 \nL 384.105703 -37.55625 \nL 383.68668 -37.55625 \nL 383.267656 -37.55625 \nL 382.848633 -37.55625 \nL 382.42961 -37.55625 \nL 382.010586 -37.55625 \nL 381.591553 -37.55625 \nL 381.17253 -37.55625 \nL 380.753506 -37.55625 \nL 380.334483 -37.55625 \nL 379.915459 -37.55625 \nL 379.496436 -37.55625 \nL 379.077413 -37.55625 \nL 378.658389 -37.55625 \nL 378.239366 -37.55625 \nL 377.820343 -37.55625 \nL 377.401319 -37.55625 \nL 376.982296 -37.55625 \nL 376.563272 -37.55625 \nL 376.144249 -37.55625 \nL 375.725226 -37.55625 \nL 375.306202 -37.55625 \nL 374.887179 -37.55625 \nL 374.468156 -37.55625 \nL 374.049132 -37.55625 \nL 373.630109 -37.55625 \nL 373.211085 -37.55625 \nL 372.792062 -37.55625 \nL 372.373039 -37.55625 \nL 371.954015 -37.55625 \nL 371.534982 -37.55625 \nL 371.115958 -37.55625 \nL 370.696935 -37.55625 \nL 370.277912 -37.55625 \nL 369.858888 -37.55625 \nL 369.439865 -37.55625 \nL 369.020842 -37.55625 \nL 368.601818 -37.55625 \nL 368.182795 -37.55625 \nL 367.763771 -37.55625 \nL 367.344748 -37.55625 \nL 366.925725 -37.55625 \nL 366.506701 -37.55625 \nL 366.087678 -37.55625 \nL 365.668655 -37.55625 \nL 365.249631 -37.55625 \nL 364.830608 -37.55625 \nL 364.411584 -37.55625 \nL 363.992561 -37.55625 \nL 363.573538 -37.55625 \nL 363.154514 -37.55625 \nL 362.735491 -37.55625 \nL 362.316468 -37.55625 \nL 361.897444 -37.55625 \nL 361.478411 -37.55625 \nL 361.059387 -37.55625 \nL 360.640364 -37.55625 \nL 360.221341 -37.55625 \nL 359.802317 -37.55625 \nL 359.383294 -37.55625 \nL 358.96427 -37.55625 \nL 358.545247 -37.55625 \nL 358.126224 -37.55625 \nL 357.7072 -37.55625 \nL 357.288177 -37.55625 \nL 356.869154 -37.55625 \nL 356.45013 -37.55625 \nL 356.031107 -37.55625 \nL 355.612083 -37.55625 \nL 355.19306 -37.55625 \nL 354.774037 -37.55625 \nL 354.355013 -37.55625 \nL 353.93599 -37.55625 \nL 353.516967 -37.55625 \nL 353.097943 -37.55625 \nL 352.67892 -37.55625 \nL 352.259896 -37.55625 \nL 351.840873 -37.55625 \nL 351.42184 -37.55625 \nL 351.002816 -37.55625 \nL 350.583793 -37.55625 \nL 350.16477 -37.55625 \nL 349.745746 -37.55625 \nL 349.326723 -37.55625 \nL 348.907699 -37.55625 \nL 348.488676 -37.55625 \nL 348.069653 -37.55625 \nL 347.650629 -37.55625 \nL 347.231606 -37.55625 \nL 346.812582 -37.55625 \nL 346.393559 -37.55625 \nL 345.974536 -37.55625 \nL 345.555512 -37.55625 \nL 345.136489 -37.55625 \nL 344.717466 -37.55625 \nL 344.298442 -37.55625 \nL 343.879419 -37.55625 \nL 343.460395 -37.55625 \nL 343.041372 -37.55625 \nL 342.622349 -37.55625 \nL 342.203325 -37.55625 \nL 341.784302 -37.55625 \nL 341.365279 -37.55625 \nL 340.946255 -37.55625 \nL 340.527232 -37.55625 \nL 340.108208 -37.55625 \nL 339.689185 -37.55625 \nL 339.270162 -37.55625 \nL 338.851138 -37.55625 \nL 338.432115 -37.55625 \nL 338.013082 -37.55625 \nL 337.594058 -37.55625 \nL 337.175035 -37.55625 \nL 336.756011 -37.55625 \nL 336.336988 -37.55625 \nL 335.917965 -37.55625 \nL 335.498941 -37.55625 \nL 335.079918 -37.55625 \nL 334.660894 -37.55625 \nL 334.241871 -37.55625 \nL 333.822848 -37.55625 \nL 333.403824 -37.55625 \nL 332.984801 -37.55625 \nL 332.565778 -37.55625 \nL 332.146754 -37.55625 \nL 331.727731 -37.55625 \nL 331.308707 -37.55625 \nL 330.889684 -37.55625 \nL 330.470661 -37.55625 \nL 330.051637 -37.55625 \nL 329.632614 -37.55625 \nL 329.213591 -37.55625 \nL 328.794567 -37.55625 \nL 328.375544 -37.55625 \nL 327.95651 -37.55625 \nL 327.537487 -37.55625 \nL 327.118464 -37.55625 \nL 326.69944 -37.55625 \nL 326.280417 -37.55625 \nL 325.861394 -37.55625 \nL 325.44237 -37.55625 \nL 325.023347 -37.55625 \nL 324.604323 -37.55625 \nL 324.1853 -37.55625 \nL 323.766277 -37.55625 \nL 323.347253 -37.55625 \nL 322.92823 -37.55625 \nL 322.509206 -37.55625 \nL 322.090183 -37.55625 \nL 321.67116 -37.55625 \nL 321.252136 -37.55625 \nL 320.833113 -37.55625 \nL 320.41409 -37.55625 \nL 319.995066 -37.55625 \nL 319.576043 -37.55625 \nL 319.157019 -37.55625 \nL 318.737996 -37.55625 \nL 318.318973 -37.55625 \nL 317.899939 -37.55625 \nL 317.480916 -37.55625 \nL 317.061893 -37.55625 \nL 316.642869 -37.55625 \nL 316.223846 -37.55625 \nL 315.804822 -37.55625 \nL 315.385799 -37.55625 \nL 314.966776 -37.55625 \nL 314.547752 -37.55625 \nL 314.128729 -37.55625 \nL 313.709706 -37.55625 \nL 313.290682 -37.55625 \nL 312.871659 -37.55625 \nL 312.452635 -37.55625 \nL 312.033612 -37.55625 \nL 311.614589 -37.55625 \nL 311.195565 -37.55625 \nL 310.776542 -37.55625 \nL 310.357518 -37.55625 \nL 309.938495 -37.55625 \nL 309.519472 -37.55625 \nL 309.100448 -37.55625 \nL 308.681425 -37.55625 \nL 308.262402 -37.55625 \nL 307.843368 -37.55625 \nL 307.424345 -37.55625 \nL 307.005321 -37.55625 \nL 306.586298 -37.55625 \nL 306.167275 -37.55625 \nL 305.748251 -37.55625 \nL 305.329228 -37.55625 \nL 304.910205 -37.55625 \nL 304.491181 -37.55625 \nL 304.072158 -37.55625 \nL 303.653134 -37.55625 \nL 303.234111 -37.55625 \nL 302.815088 -37.55625 \nL 302.396064 -37.55625 \nL 301.977041 -37.55625 \nL 301.558018 -37.55625 \nL 301.138994 -37.55625 \nL 300.719966 -37.55625 \nL 300.300942 -37.55625 \nL 299.881919 -37.55625 \nL 299.462896 -37.55625 \nz\n\" style=\"stroke: #7f7f7f; stroke-opacity: 0.5\"/>\n    </defs>\n    <g clip-path=\"url(#p842b4710d0)\">\n     <use xlink:href=\"#m1706fe0a53\" x=\"0\" y=\"226.194375\" style=\"fill: #7f7f7f; fill-opacity: 0.5; stroke: #7f7f7f; stroke-opacity: 0.5\"/>\n    </g>\n   </g>\n   <g id=\"line2d_1\">\n    <path d=\"M 50.14375 188.638125 \nL 50.14375 177.955718 \n\" clip-path=\"url(#p842b4710d0)\" style=\"fill: none; stroke: #1f77b4; stroke-width: 2; stroke-linecap: round\"/>\n   </g>\n   <g id=\"line2d_2\">\n    <path d=\"M 136.043623 188.638125 \nL 136.043623 122.690848 \n\" clip-path=\"url(#p842b4710d0)\" style=\"fill: none; stroke: #1f77b4; stroke-width: 2; stroke-linecap: round\"/>\n   </g>\n   <g id=\"line2d_3\">\n    <path d=\"M 136.462646 188.638125 \nL 136.462646 122.194519 \n\" clip-path=\"url(#p842b4710d0)\" style=\"fill: none; stroke: #ff7f0e; stroke-width: 2; stroke-linecap: round\"/>\n   </g>\n   <g id=\"line2d_4\">\n    <path d=\"M 171.660645 188.638125 \nL 171.660645 75.31681 \n\" clip-path=\"url(#p842b4710d0)\" style=\"fill: none; stroke: #ff7f0e; stroke-width: 2; stroke-linecap: round\"/>\n   </g>\n   <g id=\"line2d_5\">\n    <path d=\"M 172.079668 188.638125 \nL 172.079668 74.750352 \n\" clip-path=\"url(#p842b4710d0)\" style=\"fill: none; stroke: #2ca02c; stroke-width: 2; stroke-linecap: round\"/>\n   </g>\n   <g id=\"line2d_6\">\n    <path d=\"M 195.964026 188.638125 \nL 195.964026 47.215639 \n\" clip-path=\"url(#p842b4710d0)\" style=\"fill: none; stroke: #2ca02c; stroke-width: 2; stroke-linecap: round\"/>\n   </g>\n   <g id=\"line2d_7\">\n    <path d=\"M 196.383049 188.638125 \nL 196.383049 46.858885 \n\" clip-path=\"url(#p842b4710d0)\" style=\"fill: none; stroke: #d62728; stroke-width: 2; stroke-linecap: round\"/>\n   </g>\n   <g id=\"line2d_8\">\n    <path d=\"M 217.334238 188.638125 \nL 217.334238 37.44191 \n\" clip-path=\"url(#p842b4710d0)\" style=\"fill: none; stroke: #d62728; stroke-width: 2; stroke-linecap: round\"/>\n   </g>\n   <g id=\"line2d_9\">\n    <path d=\"M 217.753262 188.638125 \nL 217.753262 37.438125 \n\" clip-path=\"url(#p842b4710d0)\" style=\"fill: none; stroke: #9467bd; stroke-width: 2; stroke-linecap: round\"/>\n   </g>\n   <g id=\"line2d_10\">\n    <path d=\"M 239.123474 188.638125 \nL 239.123474 46.858885 \n\" clip-path=\"url(#p842b4710d0)\" style=\"fill: none; stroke: #9467bd; stroke-width: 2; stroke-linecap: round\"/>\n   </g>\n   <g id=\"line2d_11\">\n    <path d=\"M 239.542497 188.638125 \nL 239.542497 47.215657 \n\" clip-path=\"url(#p842b4710d0)\" style=\"fill: none; stroke: #8c564b; stroke-width: 2; stroke-linecap: round\"/>\n   </g>\n   <g id=\"line2d_12\">\n    <path d=\"M 263.42685 188.638125 \nL 263.42685 74.750334 \n\" clip-path=\"url(#p842b4710d0)\" style=\"fill: none; stroke: #8c564b; stroke-width: 2; stroke-linecap: round\"/>\n   </g>\n   <g id=\"line2d_13\">\n    <path d=\"M 263.845873 188.638125 \nL 263.845873 75.31681 \n\" clip-path=\"url(#p842b4710d0)\" style=\"fill: none; stroke: #e377c2; stroke-width: 2; stroke-linecap: round\"/>\n   </g>\n   <g id=\"line2d_14\">\n    <path d=\"M 299.043872 188.638125 \nL 299.043872 122.194501 \n\" clip-path=\"url(#p842b4710d0)\" style=\"fill: none; stroke: #e377c2; stroke-width: 2; stroke-linecap: round\"/>\n   </g>\n   <g id=\"line2d_15\">\n    <path d=\"M 299.462896 188.638125 \nL 299.462896 122.690835 \n\" clip-path=\"url(#p842b4710d0)\" style=\"fill: none; stroke: #7f7f7f; stroke-width: 2; stroke-linecap: round\"/>\n   </g>\n   <g id=\"line2d_16\">\n    <path d=\"M 384.94375 188.638125 \nL 384.94375 177.85226 \n\" clip-path=\"url(#p842b4710d0)\" style=\"fill: none; stroke: #7f7f7f; stroke-width: 2; stroke-linecap: round\"/>\n   </g>\n   <g id=\"line2d_17\">\n    <path d=\"M 50.14375 177.955718 \nL 56.429101 176.298879 \nL 62.295438 174.533085 \nL 68.161775 172.529345 \nL 73.609079 170.431692 \nL 78.63737 168.272088 \nL 83.66565 165.878427 \nL 88.693941 163.231007 \nL 93.303198 160.564336 \nL 97.912455 157.652606 \nL 102.521722 154.481293 \nL 107.13098 151.03687 \nL 111.740247 147.307361 \nL 116.349504 143.283056 \nL 120.958771 138.957193 \nL 125.568028 134.326876 \nL 130.177285 129.393973 \nL 135.205576 123.676663 \nL 140.233867 117.627675 \nL 145.68117 110.736066 \nL 151.966526 102.419103 \nL 160.347004 90.923588 \nL 173.755767 72.499915 \nL 179.203076 65.405943 \nL 183.812335 59.758905 \nL 187.583548 55.457045 \nL 191.354764 51.501575 \nL 194.706953 48.319896 \nL 197.640121 45.823409 \nL 200.573287 43.618438 \nL 203.08743 41.975706 \nL 205.601572 40.573076 \nL 208.115715 39.420235 \nL 210.629857 38.525304 \nL 213.144 37.894571 \nL 215.658143 37.532599 \nL 217.753262 37.438125 \nL 219.848381 37.532581 \nL 221.9435 37.815499 \nL 224.457642 38.401675 \nL 226.971785 39.252988 \nL 229.485928 40.363337 \nL 232.00007 41.724971 \nL 234.514213 43.328427 \nL 237.447379 45.490077 \nL 240.380544 47.946235 \nL 243.313713 50.675072 \nL 246.665902 54.097348 \nL 250.437118 58.289891 \nL 254.627354 63.308703 \nL 259.236614 69.1788 \nL 265.102949 77.024438 \nL 275.15952 90.923588 \nL 284.797067 104.108995 \nL 291.082423 112.355177 \nL 296.948755 119.67921 \nL 301.977041 125.620445 \nL 307.005321 131.222418 \nL 311.614589 136.045855 \nL 316.223846 140.565394 \nL 320.833113 144.781044 \nL 325.44237 148.697194 \nL 330.051637 152.321781 \nL 334.660894 155.665415 \nL 339.270162 158.740704 \nL 343.879419 161.5616 \nL 348.907699 164.366214 \nL 353.93599 166.905488 \nL 358.96427 169.199251 \nL 364.411584 171.429738 \nL 369.858888 173.418944 \nL 375.725226 175.317455 \nL 381.591553 176.989208 \nL 384.94375 177.85226 \nL 384.94375 177.85226 \n\" clip-path=\"url(#p842b4710d0)\" style=\"fill: none; stroke: #000000; stroke-width: 2; stroke-linecap: round\"/>\n   </g>\n   <g id=\"patch_3\">\n    <path d=\"M 50.14375 188.638125 \nL 50.14375 22.318125 \n\" style=\"fill: none; stroke: #262626; stroke-width: 0.8; stroke-linejoin: miter; stroke-linecap: square\"/>\n   </g>\n   <g id=\"patch_4\">\n    <path d=\"M 384.94375 188.638125 \nL 384.94375 22.318125 \n\" style=\"fill: none; stroke: #262626; stroke-width: 0.8; stroke-linejoin: miter; stroke-linecap: square\"/>\n   </g>\n   <g id=\"patch_5\">\n    <path d=\"M 50.14375 188.638125 \nL 384.94375 188.638125 \n\" style=\"fill: none; stroke: #262626; stroke-width: 0.8; stroke-linejoin: miter; stroke-linecap: square\"/>\n   </g>\n   <g id=\"patch_6\">\n    <path d=\"M 50.14375 22.318125 \nL 384.94375 22.318125 \n\" style=\"fill: none; stroke: #262626; stroke-width: 0.8; stroke-linejoin: miter; stroke-linecap: square\"/>\n   </g>\n   <g id=\"text_18\">\n    <!-- Dequantization distribution for 8 discrete values -->\n    <g style=\"fill: #262626\" transform=\"translate(72.526563 16.318125) scale(0.12 -0.12)\">\n     <defs>\n      <path id=\"DejaVuSans-44\" d=\"M 1259 4147 \nL 1259 519 \nL 2022 519 \nQ 2988 519 3436 956 \nQ 3884 1394 3884 2338 \nQ 3884 3275 3436 3711 \nQ 2988 4147 2022 4147 \nL 1259 4147 \nz\nM 628 4666 \nL 1925 4666 \nQ 3281 4666 3915 4102 \nQ 4550 3538 4550 2338 \nQ 4550 1131 3912 565 \nQ 3275 0 1925 0 \nL 628 0 \nL 628 4666 \nz\n\" transform=\"scale(0.015625)\"/>\n      <path id=\"DejaVuSans-65\" d=\"M 3597 1894 \nL 3597 1613 \nL 953 1613 \nQ 991 1019 1311 708 \nQ 1631 397 2203 397 \nQ 2534 397 2845 478 \nQ 3156 559 3463 722 \nL 3463 178 \nQ 3153 47 2828 -22 \nQ 2503 -91 2169 -91 \nQ 1331 -91 842 396 \nQ 353 884 353 1716 \nQ 353 2575 817 3079 \nQ 1281 3584 2069 3584 \nQ 2775 3584 3186 3129 \nQ 3597 2675 3597 1894 \nz\nM 3022 2063 \nQ 3016 2534 2758 2815 \nQ 2500 3097 2075 3097 \nQ 1594 3097 1305 2825 \nQ 1016 2553 972 2059 \nL 3022 2063 \nz\n\" transform=\"scale(0.015625)\"/>\n      <path id=\"DejaVuSans-71\" d=\"M 947 1747 \nQ 947 1113 1208 752 \nQ 1469 391 1925 391 \nQ 2381 391 2643 752 \nQ 2906 1113 2906 1747 \nQ 2906 2381 2643 2742 \nQ 2381 3103 1925 3103 \nQ 1469 3103 1208 2742 \nQ 947 2381 947 1747 \nz\nM 2906 525 \nQ 2725 213 2448 61 \nQ 2172 -91 1784 -91 \nQ 1150 -91 751 415 \nQ 353 922 353 1747 \nQ 353 2572 751 3078 \nQ 1150 3584 1784 3584 \nQ 2172 3584 2448 3432 \nQ 2725 3281 2906 2969 \nL 2906 3500 \nL 3481 3500 \nL 3481 -1331 \nL 2906 -1331 \nL 2906 525 \nz\n\" transform=\"scale(0.015625)\"/>\n      <path id=\"DejaVuSans-75\" d=\"M 544 1381 \nL 544 3500 \nL 1119 3500 \nL 1119 1403 \nQ 1119 906 1312 657 \nQ 1506 409 1894 409 \nQ 2359 409 2629 706 \nQ 2900 1003 2900 1516 \nL 2900 3500 \nL 3475 3500 \nL 3475 0 \nL 2900 0 \nL 2900 538 \nQ 2691 219 2414 64 \nQ 2138 -91 1772 -91 \nQ 1169 -91 856 284 \nQ 544 659 544 1381 \nz\nM 1991 3584 \nL 1991 3584 \nz\n\" transform=\"scale(0.015625)\"/>\n      <path id=\"DejaVuSans-6e\" d=\"M 3513 2113 \nL 3513 0 \nL 2938 0 \nL 2938 2094 \nQ 2938 2591 2744 2837 \nQ 2550 3084 2163 3084 \nQ 1697 3084 1428 2787 \nQ 1159 2491 1159 1978 \nL 1159 0 \nL 581 0 \nL 581 3500 \nL 1159 3500 \nL 1159 2956 \nQ 1366 3272 1645 3428 \nQ 1925 3584 2291 3584 \nQ 2894 3584 3203 3211 \nQ 3513 2838 3513 2113 \nz\n\" transform=\"scale(0.015625)\"/>\n      <path id=\"DejaVuSans-20\" transform=\"scale(0.015625)\"/>\n      <path id=\"DejaVuSans-64\" d=\"M 2906 2969 \nL 2906 4863 \nL 3481 4863 \nL 3481 0 \nL 2906 0 \nL 2906 525 \nQ 2725 213 2448 61 \nQ 2172 -91 1784 -91 \nQ 1150 -91 751 415 \nQ 353 922 353 1747 \nQ 353 2572 751 3078 \nQ 1150 3584 1784 3584 \nQ 2172 3584 2448 3432 \nQ 2725 3281 2906 2969 \nz\nM 947 1747 \nQ 947 1113 1208 752 \nQ 1469 391 1925 391 \nQ 2381 391 2643 752 \nQ 2906 1113 2906 1747 \nQ 2906 2381 2643 2742 \nQ 2381 3103 1925 3103 \nQ 1469 3103 1208 2742 \nQ 947 2381 947 1747 \nz\n\" transform=\"scale(0.015625)\"/>\n      <path id=\"DejaVuSans-73\" d=\"M 2834 3397 \nL 2834 2853 \nQ 2591 2978 2328 3040 \nQ 2066 3103 1784 3103 \nQ 1356 3103 1142 2972 \nQ 928 2841 928 2578 \nQ 928 2378 1081 2264 \nQ 1234 2150 1697 2047 \nL 1894 2003 \nQ 2506 1872 2764 1633 \nQ 3022 1394 3022 966 \nQ 3022 478 2636 193 \nQ 2250 -91 1575 -91 \nQ 1294 -91 989 -36 \nQ 684 19 347 128 \nL 347 722 \nQ 666 556 975 473 \nQ 1284 391 1588 391 \nQ 1994 391 2212 530 \nQ 2431 669 2431 922 \nQ 2431 1156 2273 1281 \nQ 2116 1406 1581 1522 \nL 1381 1569 \nQ 847 1681 609 1914 \nQ 372 2147 372 2553 \nQ 372 3047 722 3315 \nQ 1072 3584 1716 3584 \nQ 2034 3584 2315 3537 \nQ 2597 3491 2834 3397 \nz\n\" transform=\"scale(0.015625)\"/>\n      <path id=\"DejaVuSans-66\" d=\"M 2375 4863 \nL 2375 4384 \nL 1825 4384 \nQ 1516 4384 1395 4259 \nQ 1275 4134 1275 3809 \nL 1275 3500 \nL 2222 3500 \nL 2222 3053 \nL 1275 3053 \nL 1275 0 \nL 697 0 \nL 697 3053 \nL 147 3053 \nL 147 3500 \nL 697 3500 \nL 697 3744 \nQ 697 4328 969 4595 \nQ 1241 4863 1831 4863 \nL 2375 4863 \nz\n\" transform=\"scale(0.015625)\"/>\n      <path id=\"DejaVuSans-38\" d=\"M 2034 2216 \nQ 1584 2216 1326 1975 \nQ 1069 1734 1069 1313 \nQ 1069 891 1326 650 \nQ 1584 409 2034 409 \nQ 2484 409 2743 651 \nQ 3003 894 3003 1313 \nQ 3003 1734 2745 1975 \nQ 2488 2216 2034 2216 \nz\nM 1403 2484 \nQ 997 2584 770 2862 \nQ 544 3141 544 3541 \nQ 544 4100 942 4425 \nQ 1341 4750 2034 4750 \nQ 2731 4750 3128 4425 \nQ 3525 4100 3525 3541 \nQ 3525 3141 3298 2862 \nQ 3072 2584 2669 2484 \nQ 3125 2378 3379 2068 \nQ 3634 1759 3634 1313 \nQ 3634 634 3220 271 \nQ 2806 -91 2034 -91 \nQ 1263 -91 848 271 \nQ 434 634 434 1313 \nQ 434 1759 690 2068 \nQ 947 2378 1403 2484 \nz\nM 1172 3481 \nQ 1172 3119 1398 2916 \nQ 1625 2713 2034 2713 \nQ 2441 2713 2670 2916 \nQ 2900 3119 2900 3481 \nQ 2900 3844 2670 4047 \nQ 2441 4250 2034 4250 \nQ 1625 4250 1398 4047 \nQ 1172 3844 1172 3481 \nz\n\" transform=\"scale(0.015625)\"/>\n      <path id=\"DejaVuSans-63\" d=\"M 3122 3366 \nL 3122 2828 \nQ 2878 2963 2633 3030 \nQ 2388 3097 2138 3097 \nQ 1578 3097 1268 2742 \nQ 959 2388 959 1747 \nQ 959 1106 1268 751 \nQ 1578 397 2138 397 \nQ 2388 397 2633 464 \nQ 2878 531 3122 666 \nL 3122 134 \nQ 2881 22 2623 -34 \nQ 2366 -91 2075 -91 \nQ 1284 -91 818 406 \nQ 353 903 353 1747 \nQ 353 2603 823 3093 \nQ 1294 3584 2113 3584 \nQ 2378 3584 2631 3529 \nQ 2884 3475 3122 3366 \nz\n\" transform=\"scale(0.015625)\"/>\n      <path id=\"DejaVuSans-76\" d=\"M 191 3500 \nL 800 3500 \nL 1894 563 \nL 2988 3500 \nL 3597 3500 \nL 2284 0 \nL 1503 0 \nL 191 3500 \nz\n\" transform=\"scale(0.015625)\"/>\n     </defs>\n     <use xlink:href=\"#DejaVuSans-44\"/>\n     <use xlink:href=\"#DejaVuSans-65\" x=\"77.001953\"/>\n     <use xlink:href=\"#DejaVuSans-71\" x=\"138.525391\"/>\n     <use xlink:href=\"#DejaVuSans-75\" x=\"202.001953\"/>\n     <use xlink:href=\"#DejaVuSans-61\" x=\"265.380859\"/>\n     <use xlink:href=\"#DejaVuSans-6e\" x=\"326.660156\"/>\n     <use xlink:href=\"#DejaVuSans-74\" x=\"390.039062\"/>\n     <use xlink:href=\"#DejaVuSans-69\" x=\"429.248047\"/>\n     <use xlink:href=\"#DejaVuSans-7a\" x=\"457.03125\"/>\n     <use xlink:href=\"#DejaVuSans-61\" x=\"509.521484\"/>\n     <use xlink:href=\"#DejaVuSans-74\" x=\"570.800781\"/>\n     <use xlink:href=\"#DejaVuSans-69\" x=\"610.009766\"/>\n     <use xlink:href=\"#DejaVuSans-6f\" x=\"637.792969\"/>\n     <use xlink:href=\"#DejaVuSans-6e\" x=\"698.974609\"/>\n     <use xlink:href=\"#DejaVuSans-20\" x=\"762.353516\"/>\n     <use xlink:href=\"#DejaVuSans-64\" x=\"794.140625\"/>\n     <use xlink:href=\"#DejaVuSans-69\" x=\"857.617188\"/>\n     <use xlink:href=\"#DejaVuSans-73\" x=\"885.400391\"/>\n     <use xlink:href=\"#DejaVuSans-74\" x=\"937.5\"/>\n     <use xlink:href=\"#DejaVuSans-72\" x=\"976.708984\"/>\n     <use xlink:href=\"#DejaVuSans-69\" x=\"1017.822266\"/>\n     <use xlink:href=\"#DejaVuSans-62\" x=\"1045.605469\"/>\n     <use xlink:href=\"#DejaVuSans-75\" x=\"1109.082031\"/>\n     <use xlink:href=\"#DejaVuSans-74\" x=\"1172.460938\"/>\n     <use xlink:href=\"#DejaVuSans-69\" x=\"1211.669922\"/>\n     <use xlink:href=\"#DejaVuSans-6f\" x=\"1239.453125\"/>\n     <use xlink:href=\"#DejaVuSans-6e\" x=\"1300.634766\"/>\n     <use xlink:href=\"#DejaVuSans-20\" x=\"1364.013672\"/>\n     <use xlink:href=\"#DejaVuSans-66\" x=\"1395.800781\"/>\n     <use xlink:href=\"#DejaVuSans-6f\" x=\"1431.005859\"/>\n     <use xlink:href=\"#DejaVuSans-72\" x=\"1492.1875\"/>\n     <use xlink:href=\"#DejaVuSans-20\" x=\"1533.300781\"/>\n     <use xlink:href=\"#DejaVuSans-38\" x=\"1565.087891\"/>\n     <use xlink:href=\"#DejaVuSans-20\" x=\"1628.710938\"/>\n     <use xlink:href=\"#DejaVuSans-64\" x=\"1660.498047\"/>\n     <use xlink:href=\"#DejaVuSans-69\" x=\"1723.974609\"/>\n     <use xlink:href=\"#DejaVuSans-73\" x=\"1751.757812\"/>\n     <use xlink:href=\"#DejaVuSans-63\" x=\"1803.857422\"/>\n     <use xlink:href=\"#DejaVuSans-72\" x=\"1858.837891\"/>\n     <use xlink:href=\"#DejaVuSans-65\" x=\"1897.701172\"/>\n     <use xlink:href=\"#DejaVuSans-74\" x=\"1959.224609\"/>\n     <use xlink:href=\"#DejaVuSans-65\" x=\"1998.433594\"/>\n     <use xlink:href=\"#DejaVuSans-20\" x=\"2059.957031\"/>\n     <use xlink:href=\"#DejaVuSans-76\" x=\"2091.744141\"/>\n     <use xlink:href=\"#DejaVuSans-61\" x=\"2150.923828\"/>\n     <use xlink:href=\"#DejaVuSans-6c\" x=\"2212.203125\"/>\n     <use xlink:href=\"#DejaVuSans-75\" x=\"2239.986328\"/>\n     <use xlink:href=\"#DejaVuSans-65\" x=\"2303.365234\"/>\n     <use xlink:href=\"#DejaVuSans-73\" x=\"2364.888672\"/>\n    </g>\n   </g>\n   <g id=\"legend_1\">\n    <g id=\"patch_7\">\n     <path d=\"M 339.58125 147.743125 \nL 377.94375 147.743125 \nQ 379.94375 147.743125 379.94375 145.743125 \nL 379.94375 29.318125 \nQ 379.94375 27.318125 377.94375 27.318125 \nL 339.58125 27.318125 \nQ 337.58125 27.318125 337.58125 29.318125 \nL 337.58125 145.743125 \nQ 337.58125 147.743125 339.58125 147.743125 \nz\n\" style=\"fill: #ffffff; opacity: 0.8; stroke: #cccccc; stroke-linejoin: miter\"/>\n    </g>\n    <g id=\"patch_8\">\n     <path d=\"M 341.58125 38.916562 \nL 361.58125 38.916562 \nL 361.58125 31.916562 \nL 341.58125 31.916562 \nz\n\" style=\"fill: #1f77b4; fill-opacity: 0.5; stroke: #1f77b4; stroke-opacity: 0.5; stroke-linejoin: miter\"/>\n    </g>\n    <g id=\"text_19\">\n     <!-- 0 -->\n     <g style=\"fill: #262626\" transform=\"translate(369.58125 38.916562) scale(0.1 -0.1)\">\n      <use xlink:href=\"#DejaVuSans-30\"/>\n     </g>\n    </g>\n    <g id=\"patch_9\">\n     <path d=\"M 341.58125 53.594688 \nL 361.58125 53.594688 \nL 361.58125 46.594688 \nL 341.58125 46.594688 \nz\n\" style=\"fill: #ff7f0e; fill-opacity: 0.5; stroke: #ff7f0e; stroke-opacity: 0.5; stroke-linejoin: miter\"/>\n    </g>\n    <g id=\"text_20\">\n     <!-- 1 -->\n     <g style=\"fill: #262626\" transform=\"translate(369.58125 53.594688) scale(0.1 -0.1)\">\n      <use xlink:href=\"#DejaVuSans-31\"/>\n     </g>\n    </g>\n    <g id=\"patch_10\">\n     <path d=\"M 341.58125 68.272812 \nL 361.58125 68.272812 \nL 361.58125 61.272812 \nL 341.58125 61.272812 \nz\n\" style=\"fill: #2ca02c; fill-opacity: 0.5; stroke: #2ca02c; stroke-opacity: 0.5; stroke-linejoin: miter\"/>\n    </g>\n    <g id=\"text_21\">\n     <!-- 2 -->\n     <g style=\"fill: #262626\" transform=\"translate(369.58125 68.272812) scale(0.1 -0.1)\">\n      <use xlink:href=\"#DejaVuSans-32\"/>\n     </g>\n    </g>\n    <g id=\"patch_11\">\n     <path d=\"M 341.58125 82.950938 \nL 361.58125 82.950938 \nL 361.58125 75.950938 \nL 341.58125 75.950938 \nz\n\" style=\"fill: #d62728; fill-opacity: 0.5; stroke: #d62728; stroke-opacity: 0.5; stroke-linejoin: miter\"/>\n    </g>\n    <g id=\"text_22\">\n     <!-- 3 -->\n     <g style=\"fill: #262626\" transform=\"translate(369.58125 82.950938) scale(0.1 -0.1)\">\n      <defs>\n       <path id=\"DejaVuSans-33\" d=\"M 2597 2516 \nQ 3050 2419 3304 2112 \nQ 3559 1806 3559 1356 \nQ 3559 666 3084 287 \nQ 2609 -91 1734 -91 \nQ 1441 -91 1130 -33 \nQ 819 25 488 141 \nL 488 750 \nQ 750 597 1062 519 \nQ 1375 441 1716 441 \nQ 2309 441 2620 675 \nQ 2931 909 2931 1356 \nQ 2931 1769 2642 2001 \nQ 2353 2234 1838 2234 \nL 1294 2234 \nL 1294 2753 \nL 1863 2753 \nQ 2328 2753 2575 2939 \nQ 2822 3125 2822 3475 \nQ 2822 3834 2567 4026 \nQ 2313 4219 1838 4219 \nQ 1578 4219 1281 4162 \nQ 984 4106 628 3988 \nL 628 4550 \nQ 988 4650 1302 4700 \nQ 1616 4750 1894 4750 \nQ 2613 4750 3031 4423 \nQ 3450 4097 3450 3541 \nQ 3450 3153 3228 2886 \nQ 3006 2619 2597 2516 \nz\n\" transform=\"scale(0.015625)\"/>\n      </defs>\n      <use xlink:href=\"#DejaVuSans-33\"/>\n     </g>\n    </g>\n    <g id=\"patch_12\">\n     <path d=\"M 341.58125 97.629063 \nL 361.58125 97.629063 \nL 361.58125 90.629063 \nL 341.58125 90.629063 \nz\n\" style=\"fill: #9467bd; fill-opacity: 0.5; stroke: #9467bd; stroke-opacity: 0.5; stroke-linejoin: miter\"/>\n    </g>\n    <g id=\"text_23\">\n     <!-- 4 -->\n     <g style=\"fill: #262626\" transform=\"translate(369.58125 97.629063) scale(0.1 -0.1)\">\n      <use xlink:href=\"#DejaVuSans-34\"/>\n     </g>\n    </g>\n    <g id=\"patch_13\">\n     <path d=\"M 341.58125 112.307187 \nL 361.58125 112.307187 \nL 361.58125 105.307187 \nL 341.58125 105.307187 \nz\n\" style=\"fill: #8c564b; fill-opacity: 0.5; stroke: #8c564b; stroke-opacity: 0.5; stroke-linejoin: miter\"/>\n    </g>\n    <g id=\"text_24\">\n     <!-- 5 -->\n     <g style=\"fill: #262626\" transform=\"translate(369.58125 112.307187) scale(0.1 -0.1)\">\n      <use xlink:href=\"#DejaVuSans-35\"/>\n     </g>\n    </g>\n    <g id=\"patch_14\">\n     <path d=\"M 341.58125 126.985312 \nL 361.58125 126.985312 \nL 361.58125 119.985312 \nL 341.58125 119.985312 \nz\n\" style=\"fill: #e377c2; fill-opacity: 0.5; stroke: #e377c2; stroke-opacity: 0.5; stroke-linejoin: miter\"/>\n    </g>\n    <g id=\"text_25\">\n     <!-- 6 -->\n     <g style=\"fill: #262626\" transform=\"translate(369.58125 126.985312) scale(0.1 -0.1)\">\n      <defs>\n       <path id=\"DejaVuSans-36\" d=\"M 2113 2584 \nQ 1688 2584 1439 2293 \nQ 1191 2003 1191 1497 \nQ 1191 994 1439 701 \nQ 1688 409 2113 409 \nQ 2538 409 2786 701 \nQ 3034 994 3034 1497 \nQ 3034 2003 2786 2293 \nQ 2538 2584 2113 2584 \nz\nM 3366 4563 \nL 3366 3988 \nQ 3128 4100 2886 4159 \nQ 2644 4219 2406 4219 \nQ 1781 4219 1451 3797 \nQ 1122 3375 1075 2522 \nQ 1259 2794 1537 2939 \nQ 1816 3084 2150 3084 \nQ 2853 3084 3261 2657 \nQ 3669 2231 3669 1497 \nQ 3669 778 3244 343 \nQ 2819 -91 2113 -91 \nQ 1303 -91 875 529 \nQ 447 1150 447 2328 \nQ 447 3434 972 4092 \nQ 1497 4750 2381 4750 \nQ 2619 4750 2861 4703 \nQ 3103 4656 3366 4563 \nz\n\" transform=\"scale(0.015625)\"/>\n      </defs>\n      <use xlink:href=\"#DejaVuSans-36\"/>\n     </g>\n    </g>\n    <g id=\"patch_15\">\n     <path d=\"M 341.58125 141.663437 \nL 361.58125 141.663437 \nL 361.58125 134.663437 \nL 341.58125 134.663437 \nz\n\" style=\"fill: #7f7f7f; fill-opacity: 0.5; stroke: #7f7f7f; stroke-opacity: 0.5; stroke-linejoin: miter\"/>\n    </g>\n    <g id=\"text_26\">\n     <!-- 7 -->\n     <g style=\"fill: #262626\" transform=\"translate(369.58125 141.663437) scale(0.1 -0.1)\">\n      <defs>\n       <path id=\"DejaVuSans-37\" d=\"M 525 4666 \nL 3525 4666 \nL 3525 4397 \nL 1831 0 \nL 1172 0 \nL 2766 4134 \nL 525 4134 \nL 525 4666 \nz\n\" transform=\"scale(0.015625)\"/>\n      </defs>\n      <use xlink:href=\"#DejaVuSans-37\"/>\n     </g>\n    </g>\n   </g>\n  </g>\n </g>\n <defs>\n  <clipPath id=\"p842b4710d0\">\n   <rect x=\"50.14375\" y=\"22.318125\" width=\"334.8\" height=\"166.32\"/>\n  </clipPath>\n </defs>\n</svg>\n",
            "application/pdf": "[encoded data removed]"
          },
          "metadata": {}
        }
      ]
    },
    {
      "cell_type": "markdown",
      "source": [
        "# Variational Dequantization"
      ],
      "metadata": {
        "id": "y-lt1HNosRlp"
      }
    },
    {
      "cell_type": "code",
      "source": [
        "class VariationalDequantization(Dequantization):\n",
        "\n",
        "    def __init__(self, var_flows, alpha=1e-5):\n",
        "        \"\"\"\n",
        "        Inputs:\n",
        "            var_flows - A list of flow transformations to use for modeling q(u|x)\n",
        "            alpha - Small constant, see Dequantization for details\n",
        "        \"\"\"\n",
        "        super().__init__(alpha=alpha)\n",
        "        self.flows = nn.ModuleList(var_flows)\n",
        "\n",
        "    def dequant(self, z, ldj):\n",
        "        z = z.to(torch.float32)\n",
        "        img = (z / 255.0) * 2 - 1 # We condition the flows on x, i.e. the original image\n",
        "\n",
        "        # Prior of u is a uniform distribution as before\n",
        "        # As most flow transformations are defined on [-infinity,+infinity], we apply an inverse sigmoid first.\n",
        "        deq_noise = torch.rand_like(z).detach()\n",
        "        deq_noise, ldj = self.sigmoid(deq_noise, ldj, reverse=True)\n",
        "        for flow in self.flows:\n",
        "            deq_noise, ldj = flow(deq_noise, ldj, reverse=False, orig_img=img)\n",
        "        deq_noise, ldj = self.sigmoid(deq_noise, ldj, reverse=False)\n",
        "\n",
        "        # After the flows, apply u as in standard dequantization\n",
        "        z = (z + deq_noise) / 256.0\n",
        "        ldj -= np.log(256.0) * np.prod(z.shape[1:])\n",
        "        return z, ldj"
      ],
      "metadata": {
        "id": "31vFM0i3sUR8"
      },
      "execution_count": 14,
      "outputs": []
    },
    {
      "cell_type": "markdown",
      "source": [
        "# Coupling Layers"
      ],
      "metadata": {
        "id": "YiVtYcqssZJH"
      }
    },
    {
      "cell_type": "code",
      "source": [
        "class CouplingLayer(nn.Module):\n",
        "\n",
        "    def __init__(self, network, mask, c_in):\n",
        "        \"\"\"\n",
        "        Coupling layer inside a normalizing flow.\n",
        "        Inputs:\n",
        "            network - A PyTorch nn.Module constituting the deep neural network for mu and sigma.\n",
        "                      Output shape should be twice the channel size as the input.\n",
        "            mask - Binary mask (0 or 1) where 0 denotes that the element should be transformed,\n",
        "                   while 1 means the latent will be used as input to the NN.\n",
        "            c_in - Number of input channels\n",
        "        \"\"\"\n",
        "        super().__init__()\n",
        "        self.network = network\n",
        "        self.scaling_factor = nn.Parameter(torch.zeros(c_in))\n",
        "        # Register mask as buffer as it is a tensor which is not a parameter,\n",
        "        # but should be part of the modules state.\n",
        "        self.register_buffer('mask', mask)\n",
        "\n",
        "    def forward(self, z, ldj, reverse=False, orig_img=None):\n",
        "        \"\"\"\n",
        "        Inputs:\n",
        "            z - Latent input to the flow\n",
        "            ldj - The current ldj of the previous flows.\n",
        "                  The ldj of this layer will be added to this tensor.\n",
        "            reverse - If True, we apply the inverse of the layer.\n",
        "            orig_img (optional) - Only needed in VarDeq. Allows external\n",
        "                                  input to condition the flow on (e.g. original image)\n",
        "        \"\"\"\n",
        "        # Apply network to masked input\n",
        "        z_in = z * self.mask\n",
        "        if orig_img is None:\n",
        "            nn_out = self.network(z_in)\n",
        "        else:\n",
        "            nn_out = self.network(torch.cat([z_in, orig_img], dim=1))\n",
        "        s, t = nn_out.chunk(2, dim=1)\n",
        "\n",
        "        # Stabilize scaling output\n",
        "        s_fac = self.scaling_factor.exp().view(1, -1, 1, 1)\n",
        "        s = torch.tanh(s / s_fac) * s_fac\n",
        "\n",
        "        # Mask outputs (only transform the second part)\n",
        "        s = s * (1 - self.mask)\n",
        "        t = t * (1 - self.mask)\n",
        "\n",
        "        # Affine transformation\n",
        "        if not reverse:\n",
        "            # Whether we first shift and then scale, or the other way round,\n",
        "            # is a design choice, and usually does not have a big impact\n",
        "            z = (z + t) * torch.exp(s)\n",
        "            ldj += s.sum(dim=[1,2,3])\n",
        "        else:\n",
        "            z = (z * torch.exp(-s)) - t\n",
        "            ldj -= s.sum(dim=[1,2,3])\n",
        "\n",
        "        return z, ldj"
      ],
      "metadata": {
        "id": "pMNPPLXssXvr"
      },
      "execution_count": 15,
      "outputs": []
    },
    {
      "cell_type": "code",
      "source": [
        "with torch.no_grad():\n",
        "    x = torch.arange(-5,5,0.01)\n",
        "    scaling_factors = [0.5, 1, 2]\n",
        "    sns.set()\n",
        "    fig, ax = plt.subplots(1, 3, figsize=(12,3))\n",
        "    for i, scale in enumerate(scaling_factors):\n",
        "        y = torch.tanh(x / scale) * scale\n",
        "        ax[i].plot(x.numpy(), y.numpy())\n",
        "        ax[i].set_title(\"Scaling factor: \" + str(scale))\n",
        "        ax[i].set_ylim(-3, 3)\n",
        "    plt.subplots_adjust(wspace=0.4)\n",
        "    sns.reset_orig()\n",
        "    plt.show()"
      ],
      "metadata": {
        "id": "aczBuTbuseFE",
        "colab": {
          "base_uri": "https://localhost:8080/",
          "height": 310
        },
        "outputId": "6f6ce910-4c9d-4630-9bcc-cb620338f3a3"
      },
      "execution_count": 16,
      "outputs": [
        {
          "output_type": "display_data",
          "data": {
            "text/plain": [
              "<Figure size 1200x300 with 3 Axes>"
            ],
            "image/svg+xml": "<?xml version=\"1.0\" encoding=\"utf-8\" standalone=\"no\"?>\n<!DOCTYPE svg PUBLIC \"-//W3C//DTD SVG 1.1//EN\"\n  \"http://www.w3.org/Graphics/SVG/1.1/DTD/svg11.dtd\">\n<svg xmlns:xlink=\"http://www.w3.org/1999/xlink\" width=\"710.613911pt\" height=\"215.984063pt\" viewBox=\"0 0 710.613911 215.984063\" xmlns=\"http://www.w3.org/2000/svg\" version=\"1.1\">\n <metadata>\n  <rdf:RDF xmlns:dc=\"http://purl.org/dc/elements/1.1/\" xmlns:cc=\"http://creativecommons.org/ns#\" xmlns:rdf=\"http://www.w3.org/1999/02/22-rdf-syntax-ns#\">\n   <cc:Work>\n    <dc:type rdf:resource=\"http://purl.org/dc/dcmitype/StillImage\"/>\n    <dc:date>2024-11-29T07:51:19.334534</dc:date>\n    <dc:format>image/svg+xml</dc:format>\n    <dc:creator>\n     <cc:Agent>\n      <dc:title>Matplotlib v3.8.0, https://matplotlib.org/</dc:title>\n     </cc:Agent>\n    </dc:creator>\n   </cc:Work>\n  </rdf:RDF>\n </metadata>\n <defs>\n  <style type=\"text/css\">*{stroke-linejoin: round; stroke-linecap: butt}</style>\n </defs>\n <g id=\"figure_1\">\n  <g id=\"patch_1\">\n   <path d=\"M 0 215.984063 \nL 710.613911 215.984063 \nL 710.613911 0 \nL 0 0 \nz\n\" style=\"fill: #ffffff\"/>\n  </g>\n  <g id=\"axes_1\">\n   <g id=\"patch_2\">\n    <path d=\"M 32.916406 188.638125 \nL 209.126933 188.638125 \nL 209.126933 22.318125 \nL 32.916406 22.318125 \nz\n\" style=\"fill: #eaeaf2\"/>\n   </g>\n   <g id=\"matplotlib.axis_1\">\n    <g id=\"xtick_1\">\n     <g id=\"line2d_1\">\n      <path d=\"M 40.925976 188.638125 \nL 40.925976 22.318125 \n\" clip-path=\"url(#paff5711ea7)\" style=\"fill: none; stroke: #ffffff; stroke-linecap: round\"/>\n     </g>\n     <g id=\"text_1\">\n      <!-- −5.0 -->\n      <g style=\"fill: #262626\" transform=\"translate(27.570429 206.496406) scale(0.11 -0.11)\">\n       <defs>\n        <path id=\"DejaVuSans-2212\" d=\"M 678 2272 \nL 4684 2272 \nL 4684 1741 \nL 678 1741 \nL 678 2272 \nz\n\" transform=\"scale(0.015625)\"/>\n        <path id=\"DejaVuSans-35\" d=\"M 691 4666 \nL 3169 4666 \nL 3169 4134 \nL 1269 4134 \nL 1269 2991 \nQ 1406 3038 1543 3061 \nQ 1681 3084 1819 3084 \nQ 2600 3084 3056 2656 \nQ 3513 2228 3513 1497 \nQ 3513 744 3044 326 \nQ 2575 -91 1722 -91 \nQ 1428 -91 1123 -41 \nQ 819 9 494 109 \nL 494 744 \nQ 775 591 1075 516 \nQ 1375 441 1709 441 \nQ 2250 441 2565 725 \nQ 2881 1009 2881 1497 \nQ 2881 1984 2565 2268 \nQ 2250 2553 1709 2553 \nQ 1456 2553 1204 2497 \nQ 953 2441 691 2322 \nL 691 4666 \nz\n\" transform=\"scale(0.015625)\"/>\n        <path id=\"DejaVuSans-2e\" d=\"M 684 794 \nL 1344 794 \nL 1344 0 \nL 684 0 \nL 684 794 \nz\n\" transform=\"scale(0.015625)\"/>\n        <path id=\"DejaVuSans-30\" d=\"M 2034 4250 \nQ 1547 4250 1301 3770 \nQ 1056 3291 1056 2328 \nQ 1056 1369 1301 889 \nQ 1547 409 2034 409 \nQ 2525 409 2770 889 \nQ 3016 1369 3016 2328 \nQ 3016 3291 2770 3770 \nQ 2525 4250 2034 4250 \nz\nM 2034 4750 \nQ 2819 4750 3233 4129 \nQ 3647 3509 3647 2328 \nQ 3647 1150 3233 529 \nQ 2819 -91 2034 -91 \nQ 1250 -91 836 529 \nQ 422 1150 422 2328 \nQ 422 3509 836 4129 \nQ 1250 4750 2034 4750 \nz\n\" transform=\"scale(0.015625)\"/>\n       </defs>\n       <use xlink:href=\"#DejaVuSans-2212\"/>\n       <use xlink:href=\"#DejaVuSans-35\" x=\"83.789062\"/>\n       <use xlink:href=\"#DejaVuSans-2e\" x=\"147.412109\"/>\n       <use xlink:href=\"#DejaVuSans-30\" x=\"179.199219\"/>\n      </g>\n     </g>\n    </g>\n    <g id=\"xtick_2\">\n     <g id=\"line2d_2\">\n      <path d=\"M 81.013911 188.638125 \nL 81.013911 22.318125 \n\" clip-path=\"url(#paff5711ea7)\" style=\"fill: none; stroke: #ffffff; stroke-linecap: round\"/>\n     </g>\n     <g id=\"text_2\">\n      <!-- −2.5 -->\n      <g style=\"fill: #262626\" transform=\"translate(67.658364 206.496406) scale(0.11 -0.11)\">\n       <defs>\n        <path id=\"DejaVuSans-32\" d=\"M 1228 531 \nL 3431 531 \nL 3431 0 \nL 469 0 \nL 469 531 \nQ 828 903 1448 1529 \nQ 2069 2156 2228 2338 \nQ 2531 2678 2651 2914 \nQ 2772 3150 2772 3378 \nQ 2772 3750 2511 3984 \nQ 2250 4219 1831 4219 \nQ 1534 4219 1204 4116 \nQ 875 4013 500 3803 \nL 500 4441 \nQ 881 4594 1212 4672 \nQ 1544 4750 1819 4750 \nQ 2544 4750 2975 4387 \nQ 3406 4025 3406 3419 \nQ 3406 3131 3298 2873 \nQ 3191 2616 2906 2266 \nQ 2828 2175 2409 1742 \nQ 1991 1309 1228 531 \nz\n\" transform=\"scale(0.015625)\"/>\n       </defs>\n       <use xlink:href=\"#DejaVuSans-2212\"/>\n       <use xlink:href=\"#DejaVuSans-32\" x=\"83.789062\"/>\n       <use xlink:href=\"#DejaVuSans-2e\" x=\"147.412109\"/>\n       <use xlink:href=\"#DejaVuSans-35\" x=\"179.199219\"/>\n      </g>\n     </g>\n    </g>\n    <g id=\"xtick_3\">\n     <g id=\"line2d_3\">\n      <path d=\"M 121.101847 188.638125 \nL 121.101847 22.318125 \n\" clip-path=\"url(#paff5711ea7)\" style=\"fill: none; stroke: #ffffff; stroke-linecap: round\"/>\n     </g>\n     <g id=\"text_3\">\n      <!-- 0.0 -->\n      <g style=\"fill: #262626\" transform=\"translate(112.355128 206.496406) scale(0.11 -0.11)\">\n       <use xlink:href=\"#DejaVuSans-30\"/>\n       <use xlink:href=\"#DejaVuSans-2e\" x=\"63.623047\"/>\n       <use xlink:href=\"#DejaVuSans-30\" x=\"95.410156\"/>\n      </g>\n     </g>\n    </g>\n    <g id=\"xtick_4\">\n     <g id=\"line2d_4\">\n      <path d=\"M 161.189783 188.638125 \nL 161.189783 22.318125 \n\" clip-path=\"url(#paff5711ea7)\" style=\"fill: none; stroke: #ffffff; stroke-linecap: round\"/>\n     </g>\n     <g id=\"text_4\">\n      <!-- 2.5 -->\n      <g style=\"fill: #262626\" transform=\"translate(152.443064 206.496406) scale(0.11 -0.11)\">\n       <use xlink:href=\"#DejaVuSans-32\"/>\n       <use xlink:href=\"#DejaVuSans-2e\" x=\"63.623047\"/>\n       <use xlink:href=\"#DejaVuSans-35\" x=\"95.410156\"/>\n      </g>\n     </g>\n    </g>\n    <g id=\"xtick_5\">\n     <g id=\"line2d_5\">\n      <path d=\"M 201.277719 188.638125 \nL 201.277719 22.318125 \n\" clip-path=\"url(#paff5711ea7)\" style=\"fill: none; stroke: #ffffff; stroke-linecap: round\"/>\n     </g>\n     <g id=\"text_5\">\n      <!-- 5.0 -->\n      <g style=\"fill: #262626\" transform=\"translate(192.531 206.496406) scale(0.11 -0.11)\">\n       <use xlink:href=\"#DejaVuSans-35\"/>\n       <use xlink:href=\"#DejaVuSans-2e\" x=\"63.623047\"/>\n       <use xlink:href=\"#DejaVuSans-30\" x=\"95.410156\"/>\n      </g>\n     </g>\n    </g>\n   </g>\n   <g id=\"matplotlib.axis_2\">\n    <g id=\"ytick_1\">\n     <g id=\"line2d_6\">\n      <path d=\"M 32.916406 188.638125 \nL 209.126933 188.638125 \n\" clip-path=\"url(#paff5711ea7)\" style=\"fill: none; stroke: #ffffff; stroke-linecap: round\"/>\n     </g>\n     <g id=\"text_6\">\n      <!-- −3 -->\n      <g style=\"fill: #262626\" transform=\"translate(7.2 192.817266) scale(0.11 -0.11)\">\n       <defs>\n        <path id=\"DejaVuSans-33\" d=\"M 2597 2516 \nQ 3050 2419 3304 2112 \nQ 3559 1806 3559 1356 \nQ 3559 666 3084 287 \nQ 2609 -91 1734 -91 \nQ 1441 -91 1130 -33 \nQ 819 25 488 141 \nL 488 750 \nQ 750 597 1062 519 \nQ 1375 441 1716 441 \nQ 2309 441 2620 675 \nQ 2931 909 2931 1356 \nQ 2931 1769 2642 2001 \nQ 2353 2234 1838 2234 \nL 1294 2234 \nL 1294 2753 \nL 1863 2753 \nQ 2328 2753 2575 2939 \nQ 2822 3125 2822 3475 \nQ 2822 3834 2567 4026 \nQ 2313 4219 1838 4219 \nQ 1578 4219 1281 4162 \nQ 984 4106 628 3988 \nL 628 4550 \nQ 988 4650 1302 4700 \nQ 1616 4750 1894 4750 \nQ 2613 4750 3031 4423 \nQ 3450 4097 3450 3541 \nQ 3450 3153 3228 2886 \nQ 3006 2619 2597 2516 \nz\n\" transform=\"scale(0.015625)\"/>\n       </defs>\n       <use xlink:href=\"#DejaVuSans-2212\"/>\n       <use xlink:href=\"#DejaVuSans-33\" x=\"83.789062\"/>\n      </g>\n     </g>\n    </g>\n    <g id=\"ytick_2\">\n     <g id=\"line2d_7\">\n      <path d=\"M 32.916406 160.918125 \nL 209.126933 160.918125 \n\" clip-path=\"url(#paff5711ea7)\" style=\"fill: none; stroke: #ffffff; stroke-linecap: round\"/>\n     </g>\n     <g id=\"text_7\">\n      <!-- −2 -->\n      <g style=\"fill: #262626\" transform=\"translate(7.2 165.097266) scale(0.11 -0.11)\">\n       <use xlink:href=\"#DejaVuSans-2212\"/>\n       <use xlink:href=\"#DejaVuSans-32\" x=\"83.789062\"/>\n      </g>\n     </g>\n    </g>\n    <g id=\"ytick_3\">\n     <g id=\"line2d_8\">\n      <path d=\"M 32.916406 133.198125 \nL 209.126933 133.198125 \n\" clip-path=\"url(#paff5711ea7)\" style=\"fill: none; stroke: #ffffff; stroke-linecap: round\"/>\n     </g>\n     <g id=\"text_8\">\n      <!-- −1 -->\n      <g style=\"fill: #262626\" transform=\"translate(7.2 137.377266) scale(0.11 -0.11)\">\n       <defs>\n        <path id=\"DejaVuSans-31\" d=\"M 794 531 \nL 1825 531 \nL 1825 4091 \nL 703 3866 \nL 703 4441 \nL 1819 4666 \nL 2450 4666 \nL 2450 531 \nL 3481 531 \nL 3481 0 \nL 794 0 \nL 794 531 \nz\n\" transform=\"scale(0.015625)\"/>\n       </defs>\n       <use xlink:href=\"#DejaVuSans-2212\"/>\n       <use xlink:href=\"#DejaVuSans-31\" x=\"83.789062\"/>\n      </g>\n     </g>\n    </g>\n    <g id=\"ytick_4\">\n     <g id=\"line2d_9\">\n      <path d=\"M 32.916406 105.478125 \nL 209.126933 105.478125 \n\" clip-path=\"url(#paff5711ea7)\" style=\"fill: none; stroke: #ffffff; stroke-linecap: round\"/>\n     </g>\n     <g id=\"text_9\">\n      <!-- 0 -->\n      <g style=\"fill: #262626\" transform=\"translate(16.417656 109.657266) scale(0.11 -0.11)\">\n       <use xlink:href=\"#DejaVuSans-30\"/>\n      </g>\n     </g>\n    </g>\n    <g id=\"ytick_5\">\n     <g id=\"line2d_10\">\n      <path d=\"M 32.916406 77.758125 \nL 209.126933 77.758125 \n\" clip-path=\"url(#paff5711ea7)\" style=\"fill: none; stroke: #ffffff; stroke-linecap: round\"/>\n     </g>\n     <g id=\"text_10\">\n      <!-- 1 -->\n      <g style=\"fill: #262626\" transform=\"translate(16.417656 81.937266) scale(0.11 -0.11)\">\n       <use xlink:href=\"#DejaVuSans-31\"/>\n      </g>\n     </g>\n    </g>\n    <g id=\"ytick_6\">\n     <g id=\"line2d_11\">\n      <path d=\"M 32.916406 50.038125 \nL 209.126933 50.038125 \n\" clip-path=\"url(#paff5711ea7)\" style=\"fill: none; stroke: #ffffff; stroke-linecap: round\"/>\n     </g>\n     <g id=\"text_11\">\n      <!-- 2 -->\n      <g style=\"fill: #262626\" transform=\"translate(16.417656 54.217266) scale(0.11 -0.11)\">\n       <use xlink:href=\"#DejaVuSans-32\"/>\n      </g>\n     </g>\n    </g>\n    <g id=\"ytick_7\">\n     <g id=\"line2d_12\">\n      <path d=\"M 32.916406 22.318125 \nL 209.126933 22.318125 \n\" clip-path=\"url(#paff5711ea7)\" style=\"fill: none; stroke: #ffffff; stroke-linecap: round\"/>\n     </g>\n     <g id=\"text_12\">\n      <!-- 3 -->\n      <g style=\"fill: #262626\" transform=\"translate(16.417656 26.497266) scale(0.11 -0.11)\">\n       <use xlink:href=\"#DejaVuSans-33\"/>\n      </g>\n     </g>\n    </g>\n   </g>\n   <g id=\"line2d_13\">\n    <path d=\"M 40.925976 119.338125 \nL 98.973307 119.227526 \nL 103.623509 118.988377 \nL 106.509838 118.629025 \nL 108.594412 118.165853 \nL 110.35828 117.559503 \nL 111.961797 116.765905 \nL 113.404964 115.793803 \nL 114.848129 114.52464 \nL 116.291295 112.921632 \nL 117.73446 110.979581 \nL 119.49833 108.213747 \nL 124.950289 99.293189 \nL 126.553806 97.279666 \nL 127.996972 95.827993 \nL 129.440137 94.696596 \nL 130.883304 93.840518 \nL 132.486821 93.148284 \nL 134.25069 92.623355 \nL 136.495615 92.201391 \nL 139.381946 91.905131 \nL 143.551091 91.720252 \nL 151.408326 91.632556 \nL 186.84606 91.618127 \nL 201.117363 91.618125 \nL 201.117363 91.618125 \n\" clip-path=\"url(#paff5711ea7)\" style=\"fill: none; stroke: #4c72b0; stroke-width: 1.5; stroke-linecap: round\"/>\n   </g>\n   <g id=\"patch_3\">\n    <path d=\"M 32.916406 188.638125 \nL 32.916406 22.318125 \n\" style=\"fill: none; stroke: #ffffff; stroke-width: 1.25; stroke-linejoin: miter; stroke-linecap: square\"/>\n   </g>\n   <g id=\"patch_4\">\n    <path d=\"M 209.126933 188.638125 \nL 209.126933 22.318125 \n\" style=\"fill: none; stroke: #ffffff; stroke-width: 1.25; stroke-linejoin: miter; stroke-linecap: square\"/>\n   </g>\n   <g id=\"patch_5\">\n    <path d=\"M 32.916406 188.638125 \nL 209.126933 188.638125 \n\" style=\"fill: none; stroke: #ffffff; stroke-width: 1.25; stroke-linejoin: miter; stroke-linecap: square\"/>\n   </g>\n   <g id=\"patch_6\">\n    <path d=\"M 32.916406 22.318125 \nL 209.126933 22.318125 \n\" style=\"fill: none; stroke: #ffffff; stroke-width: 1.25; stroke-linejoin: miter; stroke-linecap: square\"/>\n   </g>\n   <g id=\"text_13\">\n    <!-- Scaling factor: 0.5 -->\n    <g style=\"fill: #262626\" transform=\"translate(66.441357 16.318125) scale(0.12 -0.12)\">\n     <defs>\n      <path id=\"DejaVuSans-53\" d=\"M 3425 4513 \nL 3425 3897 \nQ 3066 4069 2747 4153 \nQ 2428 4238 2131 4238 \nQ 1616 4238 1336 4038 \nQ 1056 3838 1056 3469 \nQ 1056 3159 1242 3001 \nQ 1428 2844 1947 2747 \nL 2328 2669 \nQ 3034 2534 3370 2195 \nQ 3706 1856 3706 1288 \nQ 3706 609 3251 259 \nQ 2797 -91 1919 -91 \nQ 1588 -91 1214 -16 \nQ 841 59 441 206 \nL 441 856 \nQ 825 641 1194 531 \nQ 1563 422 1919 422 \nQ 2459 422 2753 634 \nQ 3047 847 3047 1241 \nQ 3047 1584 2836 1778 \nQ 2625 1972 2144 2069 \nL 1759 2144 \nQ 1053 2284 737 2584 \nQ 422 2884 422 3419 \nQ 422 4038 858 4394 \nQ 1294 4750 2059 4750 \nQ 2388 4750 2728 4690 \nQ 3069 4631 3425 4513 \nz\n\" transform=\"scale(0.015625)\"/>\n      <path id=\"DejaVuSans-63\" d=\"M 3122 3366 \nL 3122 2828 \nQ 2878 2963 2633 3030 \nQ 2388 3097 2138 3097 \nQ 1578 3097 1268 2742 \nQ 959 2388 959 1747 \nQ 959 1106 1268 751 \nQ 1578 397 2138 397 \nQ 2388 397 2633 464 \nQ 2878 531 3122 666 \nL 3122 134 \nQ 2881 22 2623 -34 \nQ 2366 -91 2075 -91 \nQ 1284 -91 818 406 \nQ 353 903 353 1747 \nQ 353 2603 823 3093 \nQ 1294 3584 2113 3584 \nQ 2378 3584 2631 3529 \nQ 2884 3475 3122 3366 \nz\n\" transform=\"scale(0.015625)\"/>\n      <path id=\"DejaVuSans-61\" d=\"M 2194 1759 \nQ 1497 1759 1228 1600 \nQ 959 1441 959 1056 \nQ 959 750 1161 570 \nQ 1363 391 1709 391 \nQ 2188 391 2477 730 \nQ 2766 1069 2766 1631 \nL 2766 1759 \nL 2194 1759 \nz\nM 3341 1997 \nL 3341 0 \nL 2766 0 \nL 2766 531 \nQ 2569 213 2275 61 \nQ 1981 -91 1556 -91 \nQ 1019 -91 701 211 \nQ 384 513 384 1019 \nQ 384 1609 779 1909 \nQ 1175 2209 1959 2209 \nL 2766 2209 \nL 2766 2266 \nQ 2766 2663 2505 2880 \nQ 2244 3097 1772 3097 \nQ 1472 3097 1187 3025 \nQ 903 2953 641 2809 \nL 641 3341 \nQ 956 3463 1253 3523 \nQ 1550 3584 1831 3584 \nQ 2591 3584 2966 3190 \nQ 3341 2797 3341 1997 \nz\n\" transform=\"scale(0.015625)\"/>\n      <path id=\"DejaVuSans-6c\" d=\"M 603 4863 \nL 1178 4863 \nL 1178 0 \nL 603 0 \nL 603 4863 \nz\n\" transform=\"scale(0.015625)\"/>\n      <path id=\"DejaVuSans-69\" d=\"M 603 3500 \nL 1178 3500 \nL 1178 0 \nL 603 0 \nL 603 3500 \nz\nM 603 4863 \nL 1178 4863 \nL 1178 4134 \nL 603 4134 \nL 603 4863 \nz\n\" transform=\"scale(0.015625)\"/>\n      <path id=\"DejaVuSans-6e\" d=\"M 3513 2113 \nL 3513 0 \nL 2938 0 \nL 2938 2094 \nQ 2938 2591 2744 2837 \nQ 2550 3084 2163 3084 \nQ 1697 3084 1428 2787 \nQ 1159 2491 1159 1978 \nL 1159 0 \nL 581 0 \nL 581 3500 \nL 1159 3500 \nL 1159 2956 \nQ 1366 3272 1645 3428 \nQ 1925 3584 2291 3584 \nQ 2894 3584 3203 3211 \nQ 3513 2838 3513 2113 \nz\n\" transform=\"scale(0.015625)\"/>\n      <path id=\"DejaVuSans-67\" d=\"M 2906 1791 \nQ 2906 2416 2648 2759 \nQ 2391 3103 1925 3103 \nQ 1463 3103 1205 2759 \nQ 947 2416 947 1791 \nQ 947 1169 1205 825 \nQ 1463 481 1925 481 \nQ 2391 481 2648 825 \nQ 2906 1169 2906 1791 \nz\nM 3481 434 \nQ 3481 -459 3084 -895 \nQ 2688 -1331 1869 -1331 \nQ 1566 -1331 1297 -1286 \nQ 1028 -1241 775 -1147 \nL 775 -588 \nQ 1028 -725 1275 -790 \nQ 1522 -856 1778 -856 \nQ 2344 -856 2625 -561 \nQ 2906 -266 2906 331 \nL 2906 616 \nQ 2728 306 2450 153 \nQ 2172 0 1784 0 \nQ 1141 0 747 490 \nQ 353 981 353 1791 \nQ 353 2603 747 3093 \nQ 1141 3584 1784 3584 \nQ 2172 3584 2450 3431 \nQ 2728 3278 2906 2969 \nL 2906 3500 \nL 3481 3500 \nL 3481 434 \nz\n\" transform=\"scale(0.015625)\"/>\n      <path id=\"DejaVuSans-20\" transform=\"scale(0.015625)\"/>\n      <path id=\"DejaVuSans-66\" d=\"M 2375 4863 \nL 2375 4384 \nL 1825 4384 \nQ 1516 4384 1395 4259 \nQ 1275 4134 1275 3809 \nL 1275 3500 \nL 2222 3500 \nL 2222 3053 \nL 1275 3053 \nL 1275 0 \nL 697 0 \nL 697 3053 \nL 147 3053 \nL 147 3500 \nL 697 3500 \nL 697 3744 \nQ 697 4328 969 4595 \nQ 1241 4863 1831 4863 \nL 2375 4863 \nz\n\" transform=\"scale(0.015625)\"/>\n      <path id=\"DejaVuSans-74\" d=\"M 1172 4494 \nL 1172 3500 \nL 2356 3500 \nL 2356 3053 \nL 1172 3053 \nL 1172 1153 \nQ 1172 725 1289 603 \nQ 1406 481 1766 481 \nL 2356 481 \nL 2356 0 \nL 1766 0 \nQ 1100 0 847 248 \nQ 594 497 594 1153 \nL 594 3053 \nL 172 3053 \nL 172 3500 \nL 594 3500 \nL 594 4494 \nL 1172 4494 \nz\n\" transform=\"scale(0.015625)\"/>\n      <path id=\"DejaVuSans-6f\" d=\"M 1959 3097 \nQ 1497 3097 1228 2736 \nQ 959 2375 959 1747 \nQ 959 1119 1226 758 \nQ 1494 397 1959 397 \nQ 2419 397 2687 759 \nQ 2956 1122 2956 1747 \nQ 2956 2369 2687 2733 \nQ 2419 3097 1959 3097 \nz\nM 1959 3584 \nQ 2709 3584 3137 3096 \nQ 3566 2609 3566 1747 \nQ 3566 888 3137 398 \nQ 2709 -91 1959 -91 \nQ 1206 -91 779 398 \nQ 353 888 353 1747 \nQ 353 2609 779 3096 \nQ 1206 3584 1959 3584 \nz\n\" transform=\"scale(0.015625)\"/>\n      <path id=\"DejaVuSans-72\" d=\"M 2631 2963 \nQ 2534 3019 2420 3045 \nQ 2306 3072 2169 3072 \nQ 1681 3072 1420 2755 \nQ 1159 2438 1159 1844 \nL 1159 0 \nL 581 0 \nL 581 3500 \nL 1159 3500 \nL 1159 2956 \nQ 1341 3275 1631 3429 \nQ 1922 3584 2338 3584 \nQ 2397 3584 2469 3576 \nQ 2541 3569 2628 3553 \nL 2631 2963 \nz\n\" transform=\"scale(0.015625)\"/>\n      <path id=\"DejaVuSans-3a\" d=\"M 750 794 \nL 1409 794 \nL 1409 0 \nL 750 0 \nL 750 794 \nz\nM 750 3309 \nL 1409 3309 \nL 1409 2516 \nL 750 2516 \nL 750 3309 \nz\n\" transform=\"scale(0.015625)\"/>\n     </defs>\n     <use xlink:href=\"#DejaVuSans-53\"/>\n     <use xlink:href=\"#DejaVuSans-63\" x=\"63.476562\"/>\n     <use xlink:href=\"#DejaVuSans-61\" x=\"118.457031\"/>\n     <use xlink:href=\"#DejaVuSans-6c\" x=\"179.736328\"/>\n     <use xlink:href=\"#DejaVuSans-69\" x=\"207.519531\"/>\n     <use xlink:href=\"#DejaVuSans-6e\" x=\"235.302734\"/>\n     <use xlink:href=\"#DejaVuSans-67\" x=\"298.681641\"/>\n     <use xlink:href=\"#DejaVuSans-20\" x=\"362.158203\"/>\n     <use xlink:href=\"#DejaVuSans-66\" x=\"393.945312\"/>\n     <use xlink:href=\"#DejaVuSans-61\" x=\"429.150391\"/>\n     <use xlink:href=\"#DejaVuSans-63\" x=\"490.429688\"/>\n     <use xlink:href=\"#DejaVuSans-74\" x=\"545.410156\"/>\n     <use xlink:href=\"#DejaVuSans-6f\" x=\"584.619141\"/>\n     <use xlink:href=\"#DejaVuSans-72\" x=\"645.800781\"/>\n     <use xlink:href=\"#DejaVuSans-3a\" x=\"685.164062\"/>\n     <use xlink:href=\"#DejaVuSans-20\" x=\"718.855469\"/>\n     <use xlink:href=\"#DejaVuSans-30\" x=\"750.642578\"/>\n     <use xlink:href=\"#DejaVuSans-2e\" x=\"814.265625\"/>\n     <use xlink:href=\"#DejaVuSans-35\" x=\"846.052734\"/>\n    </g>\n   </g>\n  </g>\n  <g id=\"axes_2\">\n   <g id=\"patch_7\">\n    <path d=\"M 279.611143 188.638125 \nL 455.821669 188.638125 \nL 455.821669 22.318125 \nL 279.611143 22.318125 \nz\n\" style=\"fill: #eaeaf2\"/>\n   </g>\n   <g id=\"matplotlib.axis_3\">\n    <g id=\"xtick_6\">\n     <g id=\"line2d_14\">\n      <path d=\"M 287.620712 188.638125 \nL 287.620712 22.318125 \n\" clip-path=\"url(#pce4eb655b3)\" style=\"fill: none; stroke: #ffffff; stroke-linecap: round\"/>\n     </g>\n     <g id=\"text_14\">\n      <!-- −5.0 -->\n      <g style=\"fill: #262626\" transform=\"translate(274.265166 206.496406) scale(0.11 -0.11)\">\n       <use xlink:href=\"#DejaVuSans-2212\"/>\n       <use xlink:href=\"#DejaVuSans-35\" x=\"83.789062\"/>\n       <use xlink:href=\"#DejaVuSans-2e\" x=\"147.412109\"/>\n       <use xlink:href=\"#DejaVuSans-30\" x=\"179.199219\"/>\n      </g>\n     </g>\n    </g>\n    <g id=\"xtick_7\">\n     <g id=\"line2d_15\">\n      <path d=\"M 327.708648 188.638125 \nL 327.708648 22.318125 \n\" clip-path=\"url(#pce4eb655b3)\" style=\"fill: none; stroke: #ffffff; stroke-linecap: round\"/>\n     </g>\n     <g id=\"text_15\">\n      <!-- −2.5 -->\n      <g style=\"fill: #262626\" transform=\"translate(314.353101 206.496406) scale(0.11 -0.11)\">\n       <use xlink:href=\"#DejaVuSans-2212\"/>\n       <use xlink:href=\"#DejaVuSans-32\" x=\"83.789062\"/>\n       <use xlink:href=\"#DejaVuSans-2e\" x=\"147.412109\"/>\n       <use xlink:href=\"#DejaVuSans-35\" x=\"179.199219\"/>\n      </g>\n     </g>\n    </g>\n    <g id=\"xtick_8\">\n     <g id=\"line2d_16\">\n      <path d=\"M 367.796584 188.638125 \nL 367.796584 22.318125 \n\" clip-path=\"url(#pce4eb655b3)\" style=\"fill: none; stroke: #ffffff; stroke-linecap: round\"/>\n     </g>\n     <g id=\"text_16\">\n      <!-- 0.0 -->\n      <g style=\"fill: #262626\" transform=\"translate(359.049865 206.496406) scale(0.11 -0.11)\">\n       <use xlink:href=\"#DejaVuSans-30\"/>\n       <use xlink:href=\"#DejaVuSans-2e\" x=\"63.623047\"/>\n       <use xlink:href=\"#DejaVuSans-30\" x=\"95.410156\"/>\n      </g>\n     </g>\n    </g>\n    <g id=\"xtick_9\">\n     <g id=\"line2d_17\">\n      <path d=\"M 407.88452 188.638125 \nL 407.88452 22.318125 \n\" clip-path=\"url(#pce4eb655b3)\" style=\"fill: none; stroke: #ffffff; stroke-linecap: round\"/>\n     </g>\n     <g id=\"text_17\">\n      <!-- 2.5 -->\n      <g style=\"fill: #262626\" transform=\"translate(399.137801 206.496406) scale(0.11 -0.11)\">\n       <use xlink:href=\"#DejaVuSans-32\"/>\n       <use xlink:href=\"#DejaVuSans-2e\" x=\"63.623047\"/>\n       <use xlink:href=\"#DejaVuSans-35\" x=\"95.410156\"/>\n      </g>\n     </g>\n    </g>\n    <g id=\"xtick_10\">\n     <g id=\"line2d_18\">\n      <path d=\"M 447.972455 188.638125 \nL 447.972455 22.318125 \n\" clip-path=\"url(#pce4eb655b3)\" style=\"fill: none; stroke: #ffffff; stroke-linecap: round\"/>\n     </g>\n     <g id=\"text_18\">\n      <!-- 5.0 -->\n      <g style=\"fill: #262626\" transform=\"translate(439.225737 206.496406) scale(0.11 -0.11)\">\n       <use xlink:href=\"#DejaVuSans-35\"/>\n       <use xlink:href=\"#DejaVuSans-2e\" x=\"63.623047\"/>\n       <use xlink:href=\"#DejaVuSans-30\" x=\"95.410156\"/>\n      </g>\n     </g>\n    </g>\n   </g>\n   <g id=\"matplotlib.axis_4\">\n    <g id=\"ytick_8\">\n     <g id=\"line2d_19\">\n      <path d=\"M 279.611143 188.638125 \nL 455.821669 188.638125 \n\" clip-path=\"url(#pce4eb655b3)\" style=\"fill: none; stroke: #ffffff; stroke-linecap: round\"/>\n     </g>\n     <g id=\"text_19\">\n      <!-- −3 -->\n      <g style=\"fill: #262626\" transform=\"translate(253.894737 192.817266) scale(0.11 -0.11)\">\n       <use xlink:href=\"#DejaVuSans-2212\"/>\n       <use xlink:href=\"#DejaVuSans-33\" x=\"83.789062\"/>\n      </g>\n     </g>\n    </g>\n    <g id=\"ytick_9\">\n     <g id=\"line2d_20\">\n      <path d=\"M 279.611143 160.918125 \nL 455.821669 160.918125 \n\" clip-path=\"url(#pce4eb655b3)\" style=\"fill: none; stroke: #ffffff; stroke-linecap: round\"/>\n     </g>\n     <g id=\"text_20\">\n      <!-- −2 -->\n      <g style=\"fill: #262626\" transform=\"translate(253.894737 165.097266) scale(0.11 -0.11)\">\n       <use xlink:href=\"#DejaVuSans-2212\"/>\n       <use xlink:href=\"#DejaVuSans-32\" x=\"83.789062\"/>\n      </g>\n     </g>\n    </g>\n    <g id=\"ytick_10\">\n     <g id=\"line2d_21\">\n      <path d=\"M 279.611143 133.198125 \nL 455.821669 133.198125 \n\" clip-path=\"url(#pce4eb655b3)\" style=\"fill: none; stroke: #ffffff; stroke-linecap: round\"/>\n     </g>\n     <g id=\"text_21\">\n      <!-- −1 -->\n      <g style=\"fill: #262626\" transform=\"translate(253.894737 137.377266) scale(0.11 -0.11)\">\n       <use xlink:href=\"#DejaVuSans-2212\"/>\n       <use xlink:href=\"#DejaVuSans-31\" x=\"83.789062\"/>\n      </g>\n     </g>\n    </g>\n    <g id=\"ytick_11\">\n     <g id=\"line2d_22\">\n      <path d=\"M 279.611143 105.478125 \nL 455.821669 105.478125 \n\" clip-path=\"url(#pce4eb655b3)\" style=\"fill: none; stroke: #ffffff; stroke-linecap: round\"/>\n     </g>\n     <g id=\"text_22\">\n      <!-- 0 -->\n      <g style=\"fill: #262626\" transform=\"translate(263.112393 109.657266) scale(0.11 -0.11)\">\n       <use xlink:href=\"#DejaVuSans-30\"/>\n      </g>\n     </g>\n    </g>\n    <g id=\"ytick_12\">\n     <g id=\"line2d_23\">\n      <path d=\"M 279.611143 77.758125 \nL 455.821669 77.758125 \n\" clip-path=\"url(#pce4eb655b3)\" style=\"fill: none; stroke: #ffffff; stroke-linecap: round\"/>\n     </g>\n     <g id=\"text_23\">\n      <!-- 1 -->\n      <g style=\"fill: #262626\" transform=\"translate(263.112393 81.937266) scale(0.11 -0.11)\">\n       <use xlink:href=\"#DejaVuSans-31\"/>\n      </g>\n     </g>\n    </g>\n    <g id=\"ytick_13\">\n     <g id=\"line2d_24\">\n      <path d=\"M 279.611143 50.038125 \nL 455.821669 50.038125 \n\" clip-path=\"url(#pce4eb655b3)\" style=\"fill: none; stroke: #ffffff; stroke-linecap: round\"/>\n     </g>\n     <g id=\"text_24\">\n      <!-- 2 -->\n      <g style=\"fill: #262626\" transform=\"translate(263.112393 54.217266) scale(0.11 -0.11)\">\n       <use xlink:href=\"#DejaVuSans-32\"/>\n      </g>\n     </g>\n    </g>\n    <g id=\"ytick_14\">\n     <g id=\"line2d_25\">\n      <path d=\"M 279.611143 22.318125 \nL 455.821669 22.318125 \n\" clip-path=\"url(#pce4eb655b3)\" style=\"fill: none; stroke: #ffffff; stroke-linecap: round\"/>\n     </g>\n     <g id=\"text_25\">\n      <!-- 3 -->\n      <g style=\"fill: #262626\" transform=\"translate(263.112393 26.497266) scale(0.11 -0.11)\">\n       <use xlink:href=\"#DejaVuSans-33\"/>\n      </g>\n     </g>\n    </g>\n   </g>\n   <g id=\"line2d_26\">\n    <path d=\"M 287.620712 133.195609 \nL 318.728952 133.07651 \nL 327.548297 132.834373 \nL 333.160606 132.470457 \nL 337.329751 131.985028 \nL 340.697138 131.372686 \nL 343.583471 130.618475 \nL 345.988747 129.771741 \nL 348.233671 128.75334 \nL 350.318245 127.567586 \nL 352.242464 126.232209 \nL 354.166685 124.634571 \nL 356.090906 122.749497 \nL 358.015127 120.561328 \nL 360.0997 117.847998 \nL 362.344625 114.555798 \nL 365.070604 110.145648 \nL 374.371006 94.709662 \nL 376.615929 91.603706 \nL 378.700503 89.081207 \nL 380.785075 86.917084 \nL 382.709296 85.226062 \nL 384.793868 83.699523 \nL 386.87844 82.454479 \nL 389.123366 81.382533 \nL 391.528642 80.489433 \nL 394.254621 79.730192 \nL 397.301303 79.122084 \nL 400.989394 78.627052 \nL 405.479242 78.257822 \nL 411.57261 77.992943 \nL 421.033362 77.830491 \nL 440.75663 77.764314 \nL 447.8121 77.760693 \nL 447.8121 77.760693 \n\" clip-path=\"url(#pce4eb655b3)\" style=\"fill: none; stroke: #4c72b0; stroke-width: 1.5; stroke-linecap: round\"/>\n   </g>\n   <g id=\"patch_8\">\n    <path d=\"M 279.611143 188.638125 \nL 279.611143 22.318125 \n\" style=\"fill: none; stroke: #ffffff; stroke-width: 1.25; stroke-linejoin: miter; stroke-linecap: square\"/>\n   </g>\n   <g id=\"patch_9\">\n    <path d=\"M 455.821669 188.638125 \nL 455.821669 22.318125 \n\" style=\"fill: none; stroke: #ffffff; stroke-width: 1.25; stroke-linejoin: miter; stroke-linecap: square\"/>\n   </g>\n   <g id=\"patch_10\">\n    <path d=\"M 279.611143 188.638125 \nL 455.821669 188.638125 \n\" style=\"fill: none; stroke: #ffffff; stroke-width: 1.25; stroke-linejoin: miter; stroke-linecap: square\"/>\n   </g>\n   <g id=\"patch_11\">\n    <path d=\"M 279.611143 22.318125 \nL 455.821669 22.318125 \n\" style=\"fill: none; stroke: #ffffff; stroke-width: 1.25; stroke-linejoin: miter; stroke-linecap: square\"/>\n   </g>\n   <g id=\"text_26\">\n    <!-- Scaling factor: 1 -->\n    <g style=\"fill: #262626\" transform=\"translate(318.860469 16.318125) scale(0.12 -0.12)\">\n     <use xlink:href=\"#DejaVuSans-53\"/>\n     <use xlink:href=\"#DejaVuSans-63\" x=\"63.476562\"/>\n     <use xlink:href=\"#DejaVuSans-61\" x=\"118.457031\"/>\n     <use xlink:href=\"#DejaVuSans-6c\" x=\"179.736328\"/>\n     <use xlink:href=\"#DejaVuSans-69\" x=\"207.519531\"/>\n     <use xlink:href=\"#DejaVuSans-6e\" x=\"235.302734\"/>\n     <use xlink:href=\"#DejaVuSans-67\" x=\"298.681641\"/>\n     <use xlink:href=\"#DejaVuSans-20\" x=\"362.158203\"/>\n     <use xlink:href=\"#DejaVuSans-66\" x=\"393.945312\"/>\n     <use xlink:href=\"#DejaVuSans-61\" x=\"429.150391\"/>\n     <use xlink:href=\"#DejaVuSans-63\" x=\"490.429688\"/>\n     <use xlink:href=\"#DejaVuSans-74\" x=\"545.410156\"/>\n     <use xlink:href=\"#DejaVuSans-6f\" x=\"584.619141\"/>\n     <use xlink:href=\"#DejaVuSans-72\" x=\"645.800781\"/>\n     <use xlink:href=\"#DejaVuSans-3a\" x=\"685.164062\"/>\n     <use xlink:href=\"#DejaVuSans-20\" x=\"718.855469\"/>\n     <use xlink:href=\"#DejaVuSans-31\" x=\"750.642578\"/>\n    </g>\n   </g>\n  </g>\n  <g id=\"axes_3\">\n   <g id=\"patch_12\">\n    <path d=\"M 526.30588 188.638125 \nL 702.516406 188.638125 \nL 702.516406 22.318125 \nL 526.30588 22.318125 \nz\n\" style=\"fill: #eaeaf2\"/>\n   </g>\n   <g id=\"matplotlib.axis_5\">\n    <g id=\"xtick_11\">\n     <g id=\"line2d_27\">\n      <path d=\"M 534.315449 188.638125 \nL 534.315449 22.318125 \n\" clip-path=\"url(#p0fb3a61c5c)\" style=\"fill: none; stroke: #ffffff; stroke-linecap: round\"/>\n     </g>\n     <g id=\"text_27\">\n      <!-- −5.0 -->\n      <g style=\"fill: #262626\" transform=\"translate(520.959902 206.496406) scale(0.11 -0.11)\">\n       <use xlink:href=\"#DejaVuSans-2212\"/>\n       <use xlink:href=\"#DejaVuSans-35\" x=\"83.789062\"/>\n       <use xlink:href=\"#DejaVuSans-2e\" x=\"147.412109\"/>\n       <use xlink:href=\"#DejaVuSans-30\" x=\"179.199219\"/>\n      </g>\n     </g>\n    </g>\n    <g id=\"xtick_12\">\n     <g id=\"line2d_28\">\n      <path d=\"M 574.403385 188.638125 \nL 574.403385 22.318125 \n\" clip-path=\"url(#p0fb3a61c5c)\" style=\"fill: none; stroke: #ffffff; stroke-linecap: round\"/>\n     </g>\n     <g id=\"text_28\">\n      <!-- −2.5 -->\n      <g style=\"fill: #262626\" transform=\"translate(561.047838 206.496406) scale(0.11 -0.11)\">\n       <use xlink:href=\"#DejaVuSans-2212\"/>\n       <use xlink:href=\"#DejaVuSans-32\" x=\"83.789062\"/>\n       <use xlink:href=\"#DejaVuSans-2e\" x=\"147.412109\"/>\n       <use xlink:href=\"#DejaVuSans-35\" x=\"179.199219\"/>\n      </g>\n     </g>\n    </g>\n    <g id=\"xtick_13\">\n     <g id=\"line2d_29\">\n      <path d=\"M 614.491321 188.638125 \nL 614.491321 22.318125 \n\" clip-path=\"url(#p0fb3a61c5c)\" style=\"fill: none; stroke: #ffffff; stroke-linecap: round\"/>\n     </g>\n     <g id=\"text_29\">\n      <!-- 0.0 -->\n      <g style=\"fill: #262626\" transform=\"translate(605.744602 206.496406) scale(0.11 -0.11)\">\n       <use xlink:href=\"#DejaVuSans-30\"/>\n       <use xlink:href=\"#DejaVuSans-2e\" x=\"63.623047\"/>\n       <use xlink:href=\"#DejaVuSans-30\" x=\"95.410156\"/>\n      </g>\n     </g>\n    </g>\n    <g id=\"xtick_14\">\n     <g id=\"line2d_30\">\n      <path d=\"M 654.579257 188.638125 \nL 654.579257 22.318125 \n\" clip-path=\"url(#p0fb3a61c5c)\" style=\"fill: none; stroke: #ffffff; stroke-linecap: round\"/>\n     </g>\n     <g id=\"text_30\">\n      <!-- 2.5 -->\n      <g style=\"fill: #262626\" transform=\"translate(645.832538 206.496406) scale(0.11 -0.11)\">\n       <use xlink:href=\"#DejaVuSans-32\"/>\n       <use xlink:href=\"#DejaVuSans-2e\" x=\"63.623047\"/>\n       <use xlink:href=\"#DejaVuSans-35\" x=\"95.410156\"/>\n      </g>\n     </g>\n    </g>\n    <g id=\"xtick_15\">\n     <g id=\"line2d_31\">\n      <path d=\"M 694.667192 188.638125 \nL 694.667192 22.318125 \n\" clip-path=\"url(#p0fb3a61c5c)\" style=\"fill: none; stroke: #ffffff; stroke-linecap: round\"/>\n     </g>\n     <g id=\"text_31\">\n      <!-- 5.0 -->\n      <g style=\"fill: #262626\" transform=\"translate(685.920474 206.496406) scale(0.11 -0.11)\">\n       <use xlink:href=\"#DejaVuSans-35\"/>\n       <use xlink:href=\"#DejaVuSans-2e\" x=\"63.623047\"/>\n       <use xlink:href=\"#DejaVuSans-30\" x=\"95.410156\"/>\n      </g>\n     </g>\n    </g>\n   </g>\n   <g id=\"matplotlib.axis_6\">\n    <g id=\"ytick_15\">\n     <g id=\"line2d_32\">\n      <path d=\"M 526.30588 188.638125 \nL 702.516406 188.638125 \n\" clip-path=\"url(#p0fb3a61c5c)\" style=\"fill: none; stroke: #ffffff; stroke-linecap: round\"/>\n     </g>\n     <g id=\"text_32\">\n      <!-- −3 -->\n      <g style=\"fill: #262626\" transform=\"translate(500.589474 192.817266) scale(0.11 -0.11)\">\n       <use xlink:href=\"#DejaVuSans-2212\"/>\n       <use xlink:href=\"#DejaVuSans-33\" x=\"83.789062\"/>\n      </g>\n     </g>\n    </g>\n    <g id=\"ytick_16\">\n     <g id=\"line2d_33\">\n      <path d=\"M 526.30588 160.918125 \nL 702.516406 160.918125 \n\" clip-path=\"url(#p0fb3a61c5c)\" style=\"fill: none; stroke: #ffffff; stroke-linecap: round\"/>\n     </g>\n     <g id=\"text_33\">\n      <!-- −2 -->\n      <g style=\"fill: #262626\" transform=\"translate(500.589474 165.097266) scale(0.11 -0.11)\">\n       <use xlink:href=\"#DejaVuSans-2212\"/>\n       <use xlink:href=\"#DejaVuSans-32\" x=\"83.789062\"/>\n      </g>\n     </g>\n    </g>\n    <g id=\"ytick_17\">\n     <g id=\"line2d_34\">\n      <path d=\"M 526.30588 133.198125 \nL 702.516406 133.198125 \n\" clip-path=\"url(#p0fb3a61c5c)\" style=\"fill: none; stroke: #ffffff; stroke-linecap: round\"/>\n     </g>\n     <g id=\"text_34\">\n      <!-- −1 -->\n      <g style=\"fill: #262626\" transform=\"translate(500.589474 137.377266) scale(0.11 -0.11)\">\n       <use xlink:href=\"#DejaVuSans-2212\"/>\n       <use xlink:href=\"#DejaVuSans-31\" x=\"83.789062\"/>\n      </g>\n     </g>\n    </g>\n    <g id=\"ytick_18\">\n     <g id=\"line2d_35\">\n      <path d=\"M 526.30588 105.478125 \nL 702.516406 105.478125 \n\" clip-path=\"url(#p0fb3a61c5c)\" style=\"fill: none; stroke: #ffffff; stroke-linecap: round\"/>\n     </g>\n     <g id=\"text_35\">\n      <!-- 0 -->\n      <g style=\"fill: #262626\" transform=\"translate(509.80713 109.657266) scale(0.11 -0.11)\">\n       <use xlink:href=\"#DejaVuSans-30\"/>\n      </g>\n     </g>\n    </g>\n    <g id=\"ytick_19\">\n     <g id=\"line2d_36\">\n      <path d=\"M 526.30588 77.758125 \nL 702.516406 77.758125 \n\" clip-path=\"url(#p0fb3a61c5c)\" style=\"fill: none; stroke: #ffffff; stroke-linecap: round\"/>\n     </g>\n     <g id=\"text_36\">\n      <!-- 1 -->\n      <g style=\"fill: #262626\" transform=\"translate(509.80713 81.937266) scale(0.11 -0.11)\">\n       <use xlink:href=\"#DejaVuSans-31\"/>\n      </g>\n     </g>\n    </g>\n    <g id=\"ytick_20\">\n     <g id=\"line2d_37\">\n      <path d=\"M 526.30588 50.038125 \nL 702.516406 50.038125 \n\" clip-path=\"url(#p0fb3a61c5c)\" style=\"fill: none; stroke: #ffffff; stroke-linecap: round\"/>\n     </g>\n     <g id=\"text_37\">\n      <!-- 2 -->\n      <g style=\"fill: #262626\" transform=\"translate(509.80713 54.217266) scale(0.11 -0.11)\">\n       <use xlink:href=\"#DejaVuSans-32\"/>\n      </g>\n     </g>\n    </g>\n    <g id=\"ytick_21\">\n     <g id=\"line2d_38\">\n      <path d=\"M 526.30588 22.318125 \nL 702.516406 22.318125 \n\" clip-path=\"url(#p0fb3a61c5c)\" style=\"fill: none; stroke: #ffffff; stroke-linecap: round\"/>\n     </g>\n     <g id=\"text_38\">\n      <!-- 3 -->\n      <g style=\"fill: #262626\" transform=\"translate(509.80713 26.497266) scale(0.11 -0.11)\">\n       <use xlink:href=\"#DejaVuSans-33\"/>\n      </g>\n     </g>\n    </g>\n   </g>\n   <g id=\"line2d_39\">\n    <path d=\"M 534.315449 160.176021 \nL 542.493392 159.687784 \nL 548.907463 159.092637 \nL 554.359417 158.370393 \nL 559.009617 157.539385 \nL 563.178762 156.575428 \nL 567.027204 155.45551 \nL 570.554943 154.192821 \nL 573.761979 152.812668 \nL 576.808663 151.264271 \nL 579.694991 149.555474 \nL 582.581324 147.584043 \nL 585.307303 145.457699 \nL 588.033284 143.054366 \nL 590.759263 140.357932 \nL 593.485241 137.357585 \nL 596.371574 133.845542 \nL 599.418257 129.771895 \nL 602.625292 125.103426 \nL 606.313382 119.316667 \nL 610.803231 111.825767 \nL 623.952073 89.581798 \nL 627.640164 83.9412 \nL 630.847198 79.424364 \nL 633.89388 75.50738 \nL 636.780215 72.148454 \nL 639.666543 69.133481 \nL 642.392524 66.593944 \nL 645.118503 64.339521 \nL 648.004834 62.242973 \nL 650.891166 60.42073 \nL 653.93785 58.765528 \nL 657.144882 57.286941 \nL 660.512269 55.987576 \nL 664.040008 54.863805 \nL 667.88845 53.869721 \nL 672.217947 52.9872 \nL 677.028502 52.238017 \nL 682.640812 51.5975 \nL 689.215231 51.077923 \nL 694.506837 50.787638 \nL 694.506837 50.787638 \n\" clip-path=\"url(#p0fb3a61c5c)\" style=\"fill: none; stroke: #4c72b0; stroke-width: 1.5; stroke-linecap: round\"/>\n   </g>\n   <g id=\"patch_13\">\n    <path d=\"M 526.30588 188.638125 \nL 526.30588 22.318125 \n\" style=\"fill: none; stroke: #ffffff; stroke-width: 1.25; stroke-linejoin: miter; stroke-linecap: square\"/>\n   </g>\n   <g id=\"patch_14\">\n    <path d=\"M 702.516406 188.638125 \nL 702.516406 22.318125 \n\" style=\"fill: none; stroke: #ffffff; stroke-width: 1.25; stroke-linejoin: miter; stroke-linecap: square\"/>\n   </g>\n   <g id=\"patch_15\">\n    <path d=\"M 526.30588 188.638125 \nL 702.516406 188.638125 \n\" style=\"fill: none; stroke: #ffffff; stroke-width: 1.25; stroke-linejoin: miter; stroke-linecap: square\"/>\n   </g>\n   <g id=\"patch_16\">\n    <path d=\"M 526.30588 22.318125 \nL 702.516406 22.318125 \n\" style=\"fill: none; stroke: #ffffff; stroke-width: 1.25; stroke-linejoin: miter; stroke-linecap: square\"/>\n   </g>\n   <g id=\"text_39\">\n    <!-- Scaling factor: 2 -->\n    <g style=\"fill: #262626\" transform=\"translate(565.555206 16.318125) scale(0.12 -0.12)\">\n     <use xlink:href=\"#DejaVuSans-53\"/>\n     <use xlink:href=\"#DejaVuSans-63\" x=\"63.476562\"/>\n     <use xlink:href=\"#DejaVuSans-61\" x=\"118.457031\"/>\n     <use xlink:href=\"#DejaVuSans-6c\" x=\"179.736328\"/>\n     <use xlink:href=\"#DejaVuSans-69\" x=\"207.519531\"/>\n     <use xlink:href=\"#DejaVuSans-6e\" x=\"235.302734\"/>\n     <use xlink:href=\"#DejaVuSans-67\" x=\"298.681641\"/>\n     <use xlink:href=\"#DejaVuSans-20\" x=\"362.158203\"/>\n     <use xlink:href=\"#DejaVuSans-66\" x=\"393.945312\"/>\n     <use xlink:href=\"#DejaVuSans-61\" x=\"429.150391\"/>\n     <use xlink:href=\"#DejaVuSans-63\" x=\"490.429688\"/>\n     <use xlink:href=\"#DejaVuSans-74\" x=\"545.410156\"/>\n     <use xlink:href=\"#DejaVuSans-6f\" x=\"584.619141\"/>\n     <use xlink:href=\"#DejaVuSans-72\" x=\"645.800781\"/>\n     <use xlink:href=\"#DejaVuSans-3a\" x=\"685.164062\"/>\n     <use xlink:href=\"#DejaVuSans-20\" x=\"718.855469\"/>\n     <use xlink:href=\"#DejaVuSans-32\" x=\"750.642578\"/>\n    </g>\n   </g>\n  </g>\n </g>\n <defs>\n  <clipPath id=\"paff5711ea7\">\n   <rect x=\"32.916406\" y=\"22.318125\" width=\"176.210526\" height=\"166.32\"/>\n  </clipPath>\n  <clipPath id=\"pce4eb655b3\">\n   <rect x=\"279.611143\" y=\"22.318125\" width=\"176.210526\" height=\"166.32\"/>\n  </clipPath>\n  <clipPath id=\"p0fb3a61c5c\">\n   <rect x=\"526.30588\" y=\"22.318125\" width=\"176.210526\" height=\"166.32\"/>\n  </clipPath>\n </defs>\n</svg>\n",
            "application/pdf": "[encoded data removed]"
          },
          "metadata": {}
        }
      ]
    },
    {
      "cell_type": "code",
      "source": [
        "def create_checkerboard_mask(h, w, invert=False):\n",
        "    x, y = torch.arange(h, dtype=torch.int32), torch.arange(w, dtype=torch.int32)\n",
        "    xx, yy = torch.meshgrid(x, y, indexing='ij')\n",
        "    mask = torch.fmod(xx + yy, 2)\n",
        "    mask = mask.to(torch.float32).view(1, 1, h, w)\n",
        "    if invert:\n",
        "        mask = 1 - mask\n",
        "    return mask\n",
        "\n",
        "def create_channel_mask(c_in, invert=False):\n",
        "    mask = torch.cat([torch.ones(c_in//2, dtype=torch.float32),\n",
        "                      torch.zeros(c_in-c_in//2, dtype=torch.float32)])\n",
        "    mask = mask.view(1, c_in, 1, 1)\n",
        "    if invert:\n",
        "        mask = 1 - mask\n",
        "    return mask"
      ],
      "metadata": {
        "id": "yoVe7kDSsf4_"
      },
      "execution_count": 17,
      "outputs": []
    },
    {
      "cell_type": "code",
      "source": [
        "checkerboard_mask = create_checkerboard_mask(h=8, w=8).expand(-1,2,-1,-1)\n",
        "channel_mask = create_channel_mask(c_in=2).expand(-1,-1,8,8)\n",
        "\n",
        "show_imgs(checkerboard_mask.transpose(0,1), \"Checkerboard mask\")\n",
        "show_imgs(channel_mask.transpose(0,1), \"Channel mask\")"
      ],
      "metadata": {
        "id": "uiwQfbgEshs-",
        "colab": {
          "base_uri": "https://localhost:8080/",
          "height": 327
        },
        "outputId": "5e1fe30b-e725-4da0-c812-e753f4eaff5b"
      },
      "execution_count": 18,
      "outputs": [
        {
          "output_type": "display_data",
          "data": {
            "text/plain": [
              "<Figure size 300x150 with 1 Axes>"
            ],
            "image/svg+xml": "<?xml version=\"1.0\" encoding=\"utf-8\" standalone=\"no\"?>\n<!DOCTYPE svg PUBLIC \"-//W3C//DTD SVG 1.1//EN\"\n  \"http://www.w3.org/Graphics/SVG/1.1/DTD/svg11.dtd\">\n<svg xmlns:xlink=\"http://www.w3.org/1999/xlink\" width=\"166.86pt\" height=\"112.678125pt\" viewBox=\"0 0 166.86 112.678125\" xmlns=\"http://www.w3.org/2000/svg\" version=\"1.1\">\n <metadata>\n  <rdf:RDF xmlns:dc=\"http://purl.org/dc/elements/1.1/\" xmlns:cc=\"http://creativecommons.org/ns#\" xmlns:rdf=\"http://www.w3.org/1999/02/22-rdf-syntax-ns#\">\n   <cc:Work>\n    <dc:type rdf:resource=\"http://purl.org/dc/dcmitype/StillImage\"/>\n    <dc:date>2024-11-29T07:51:25.669844</dc:date>\n    <dc:format>image/svg+xml</dc:format>\n    <dc:creator>\n     <cc:Agent>\n      <dc:title>Matplotlib v3.8.0, https://matplotlib.org/</dc:title>\n     </cc:Agent>\n    </dc:creator>\n   </cc:Work>\n  </rdf:RDF>\n </metadata>\n <defs>\n  <style type=\"text/css\">*{stroke-linejoin: round; stroke-linecap: butt}</style>\n </defs>\n <g id=\"figure_1\">\n  <g id=\"patch_1\">\n   <path d=\"M 0 112.678125 \nL 166.86 112.678125 \nL 166.86 0 \nL 0 0 \nz\n\" style=\"fill: #ffffff\"/>\n  </g>\n  <g id=\"axes_1\">\n   <g clip-path=\"url(#p010178de52)\">\n    <image xlink:href=\"data:image/png;base64,\niVBORw0KGgoAAAANSUhEUgAAANQAAAB0CAYAAAD9whz2AAAB/UlEQVR4nO3cQYrjMBBA0Wjoeys3dx+ha+DLcc+8B9kFEVN8tJCVtfe+XkDiz6d/APxLBAUhQUFIUBASFIQEBSFBQUhQEBIUhAQFIUFBSFAQEhSEBAUhQUFIUBASFIQEBaGvcrH3+z363lpr9L3r+vl2/lPXmq639x6tNTWZwSee86lrvV7tDOxQEBIUhAQFIUFBSFAQEhSEBAUhQUFIUBBKg1prjT7XdY0+v3mt6Xq1pz7nU9eqZ2CHgpCgICQoCAkKQoKCkKAgJCgICQpCgoJQGpQT+L9fr/bU53zqWvUM7FAQEhSEBAUhQUFIUBASFIQEBSFBQcgV+IMHhndfv57OwAH8uRnYoSAkKAgJCkKCgpCgICQoCAkKQoKCkKAg5Ar8wRP4u69fT2fgjZZzM7BDQUhQEBIUhAQFIUFBSFAQEhSEBAUhQUHIf0ocPIG/+/8MpjPwRsu5GdihICQoCAkKQoKCkKAgJCgICQpCgoKQK/AHDwzvvn49nYED+HMzsENBSFAQEhSEBAUhQUFIUBASFIQEBSFBQcgV+IMn8Hdfv57OwBst52Zgh4KQoCAkKAgJCkKCgpCgICQoCAkKQoKC0Np798f18J+yQ0FIUBASFIQEBSFBQUhQEBIUhAQFIUFBSFAQEhSEBAUhQUFIUBASFIQEBSFBQUhQEPoGTzNvOzde4OcAAAAASUVORK5CYII=\" id=\"image13fc3577f7\" transform=\"scale(1 -1) translate(0 -83.52)\" x=\"7.2\" y=\"-21.958125\" width=\"152.64\" height=\"83.52\"/>\n   </g>\n   <g id=\"text_1\">\n    <!-- Checkerboard mask -->\n    <g transform=\"translate(23.675625 16.318125) scale(0.12 -0.12)\">\n     <defs>\n      <path id=\"DejaVuSans-43\" d=\"M 4122 4306 \nL 4122 3641 \nQ 3803 3938 3442 4084 \nQ 3081 4231 2675 4231 \nQ 1875 4231 1450 3742 \nQ 1025 3253 1025 2328 \nQ 1025 1406 1450 917 \nQ 1875 428 2675 428 \nQ 3081 428 3442 575 \nQ 3803 722 4122 1019 \nL 4122 359 \nQ 3791 134 3420 21 \nQ 3050 -91 2638 -91 \nQ 1578 -91 968 557 \nQ 359 1206 359 2328 \nQ 359 3453 968 4101 \nQ 1578 4750 2638 4750 \nQ 3056 4750 3426 4639 \nQ 3797 4528 4122 4306 \nz\n\" transform=\"scale(0.015625)\"/>\n      <path id=\"DejaVuSans-68\" d=\"M 3513 2113 \nL 3513 0 \nL 2938 0 \nL 2938 2094 \nQ 2938 2591 2744 2837 \nQ 2550 3084 2163 3084 \nQ 1697 3084 1428 2787 \nQ 1159 2491 1159 1978 \nL 1159 0 \nL 581 0 \nL 581 4863 \nL 1159 4863 \nL 1159 2956 \nQ 1366 3272 1645 3428 \nQ 1925 3584 2291 3584 \nQ 2894 3584 3203 3211 \nQ 3513 2838 3513 2113 \nz\n\" transform=\"scale(0.015625)\"/>\n      <path id=\"DejaVuSans-65\" d=\"M 3597 1894 \nL 3597 1613 \nL 953 1613 \nQ 991 1019 1311 708 \nQ 1631 397 2203 397 \nQ 2534 397 2845 478 \nQ 3156 559 3463 722 \nL 3463 178 \nQ 3153 47 2828 -22 \nQ 2503 -91 2169 -91 \nQ 1331 -91 842 396 \nQ 353 884 353 1716 \nQ 353 2575 817 3079 \nQ 1281 3584 2069 3584 \nQ 2775 3584 3186 3129 \nQ 3597 2675 3597 1894 \nz\nM 3022 2063 \nQ 3016 2534 2758 2815 \nQ 2500 3097 2075 3097 \nQ 1594 3097 1305 2825 \nQ 1016 2553 972 2059 \nL 3022 2063 \nz\n\" transform=\"scale(0.015625)\"/>\n      <path id=\"DejaVuSans-63\" d=\"M 3122 3366 \nL 3122 2828 \nQ 2878 2963 2633 3030 \nQ 2388 3097 2138 3097 \nQ 1578 3097 1268 2742 \nQ 959 2388 959 1747 \nQ 959 1106 1268 751 \nQ 1578 397 2138 397 \nQ 2388 397 2633 464 \nQ 2878 531 3122 666 \nL 3122 134 \nQ 2881 22 2623 -34 \nQ 2366 -91 2075 -91 \nQ 1284 -91 818 406 \nQ 353 903 353 1747 \nQ 353 2603 823 3093 \nQ 1294 3584 2113 3584 \nQ 2378 3584 2631 3529 \nQ 2884 3475 3122 3366 \nz\n\" transform=\"scale(0.015625)\"/>\n      <path id=\"DejaVuSans-6b\" d=\"M 581 4863 \nL 1159 4863 \nL 1159 1991 \nL 2875 3500 \nL 3609 3500 \nL 1753 1863 \nL 3688 0 \nL 2938 0 \nL 1159 1709 \nL 1159 0 \nL 581 0 \nL 581 4863 \nz\n\" transform=\"scale(0.015625)\"/>\n      <path id=\"DejaVuSans-72\" d=\"M 2631 2963 \nQ 2534 3019 2420 3045 \nQ 2306 3072 2169 3072 \nQ 1681 3072 1420 2755 \nQ 1159 2438 1159 1844 \nL 1159 0 \nL 581 0 \nL 581 3500 \nL 1159 3500 \nL 1159 2956 \nQ 1341 3275 1631 3429 \nQ 1922 3584 2338 3584 \nQ 2397 3584 2469 3576 \nQ 2541 3569 2628 3553 \nL 2631 2963 \nz\n\" transform=\"scale(0.015625)\"/>\n      <path id=\"DejaVuSans-62\" d=\"M 3116 1747 \nQ 3116 2381 2855 2742 \nQ 2594 3103 2138 3103 \nQ 1681 3103 1420 2742 \nQ 1159 2381 1159 1747 \nQ 1159 1113 1420 752 \nQ 1681 391 2138 391 \nQ 2594 391 2855 752 \nQ 3116 1113 3116 1747 \nz\nM 1159 2969 \nQ 1341 3281 1617 3432 \nQ 1894 3584 2278 3584 \nQ 2916 3584 3314 3078 \nQ 3713 2572 3713 1747 \nQ 3713 922 3314 415 \nQ 2916 -91 2278 -91 \nQ 1894 -91 1617 61 \nQ 1341 213 1159 525 \nL 1159 0 \nL 581 0 \nL 581 4863 \nL 1159 4863 \nL 1159 2969 \nz\n\" transform=\"scale(0.015625)\"/>\n      <path id=\"DejaVuSans-6f\" d=\"M 1959 3097 \nQ 1497 3097 1228 2736 \nQ 959 2375 959 1747 \nQ 959 1119 1226 758 \nQ 1494 397 1959 397 \nQ 2419 397 2687 759 \nQ 2956 1122 2956 1747 \nQ 2956 2369 2687 2733 \nQ 2419 3097 1959 3097 \nz\nM 1959 3584 \nQ 2709 3584 3137 3096 \nQ 3566 2609 3566 1747 \nQ 3566 888 3137 398 \nQ 2709 -91 1959 -91 \nQ 1206 -91 779 398 \nQ 353 888 353 1747 \nQ 353 2609 779 3096 \nQ 1206 3584 1959 3584 \nz\n\" transform=\"scale(0.015625)\"/>\n      <path id=\"DejaVuSans-61\" d=\"M 2194 1759 \nQ 1497 1759 1228 1600 \nQ 959 1441 959 1056 \nQ 959 750 1161 570 \nQ 1363 391 1709 391 \nQ 2188 391 2477 730 \nQ 2766 1069 2766 1631 \nL 2766 1759 \nL 2194 1759 \nz\nM 3341 1997 \nL 3341 0 \nL 2766 0 \nL 2766 531 \nQ 2569 213 2275 61 \nQ 1981 -91 1556 -91 \nQ 1019 -91 701 211 \nQ 384 513 384 1019 \nQ 384 1609 779 1909 \nQ 1175 2209 1959 2209 \nL 2766 2209 \nL 2766 2266 \nQ 2766 2663 2505 2880 \nQ 2244 3097 1772 3097 \nQ 1472 3097 1187 3025 \nQ 903 2953 641 2809 \nL 641 3341 \nQ 956 3463 1253 3523 \nQ 1550 3584 1831 3584 \nQ 2591 3584 2966 3190 \nQ 3341 2797 3341 1997 \nz\n\" transform=\"scale(0.015625)\"/>\n      <path id=\"DejaVuSans-64\" d=\"M 2906 2969 \nL 2906 4863 \nL 3481 4863 \nL 3481 0 \nL 2906 0 \nL 2906 525 \nQ 2725 213 2448 61 \nQ 2172 -91 1784 -91 \nQ 1150 -91 751 415 \nQ 353 922 353 1747 \nQ 353 2572 751 3078 \nQ 1150 3584 1784 3584 \nQ 2172 3584 2448 3432 \nQ 2725 3281 2906 2969 \nz\nM 947 1747 \nQ 947 1113 1208 752 \nQ 1469 391 1925 391 \nQ 2381 391 2643 752 \nQ 2906 1113 2906 1747 \nQ 2906 2381 2643 2742 \nQ 2381 3103 1925 3103 \nQ 1469 3103 1208 2742 \nQ 947 2381 947 1747 \nz\n\" transform=\"scale(0.015625)\"/>\n      <path id=\"DejaVuSans-20\" transform=\"scale(0.015625)\"/>\n      <path id=\"DejaVuSans-6d\" d=\"M 3328 2828 \nQ 3544 3216 3844 3400 \nQ 4144 3584 4550 3584 \nQ 5097 3584 5394 3201 \nQ 5691 2819 5691 2113 \nL 5691 0 \nL 5113 0 \nL 5113 2094 \nQ 5113 2597 4934 2840 \nQ 4756 3084 4391 3084 \nQ 3944 3084 3684 2787 \nQ 3425 2491 3425 1978 \nL 3425 0 \nL 2847 0 \nL 2847 2094 \nQ 2847 2600 2669 2842 \nQ 2491 3084 2119 3084 \nQ 1678 3084 1418 2786 \nQ 1159 2488 1159 1978 \nL 1159 0 \nL 581 0 \nL 581 3500 \nL 1159 3500 \nL 1159 2956 \nQ 1356 3278 1631 3431 \nQ 1906 3584 2284 3584 \nQ 2666 3584 2933 3390 \nQ 3200 3197 3328 2828 \nz\n\" transform=\"scale(0.015625)\"/>\n      <path id=\"DejaVuSans-73\" d=\"M 2834 3397 \nL 2834 2853 \nQ 2591 2978 2328 3040 \nQ 2066 3103 1784 3103 \nQ 1356 3103 1142 2972 \nQ 928 2841 928 2578 \nQ 928 2378 1081 2264 \nQ 1234 2150 1697 2047 \nL 1894 2003 \nQ 2506 1872 2764 1633 \nQ 3022 1394 3022 966 \nQ 3022 478 2636 193 \nQ 2250 -91 1575 -91 \nQ 1294 -91 989 -36 \nQ 684 19 347 128 \nL 347 722 \nQ 666 556 975 473 \nQ 1284 391 1588 391 \nQ 1994 391 2212 530 \nQ 2431 669 2431 922 \nQ 2431 1156 2273 1281 \nQ 2116 1406 1581 1522 \nL 1381 1569 \nQ 847 1681 609 1914 \nQ 372 2147 372 2553 \nQ 372 3047 722 3315 \nQ 1072 3584 1716 3584 \nQ 2034 3584 2315 3537 \nQ 2597 3491 2834 3397 \nz\n\" transform=\"scale(0.015625)\"/>\n     </defs>\n     <use xlink:href=\"#DejaVuSans-43\"/>\n     <use xlink:href=\"#DejaVuSans-68\" x=\"69.824219\"/>\n     <use xlink:href=\"#DejaVuSans-65\" x=\"133.203125\"/>\n     <use xlink:href=\"#DejaVuSans-63\" x=\"194.726562\"/>\n     <use xlink:href=\"#DejaVuSans-6b\" x=\"249.707031\"/>\n     <use xlink:href=\"#DejaVuSans-65\" x=\"303.992188\"/>\n     <use xlink:href=\"#DejaVuSans-72\" x=\"365.515625\"/>\n     <use xlink:href=\"#DejaVuSans-62\" x=\"406.628906\"/>\n     <use xlink:href=\"#DejaVuSans-6f\" x=\"470.105469\"/>\n     <use xlink:href=\"#DejaVuSans-61\" x=\"531.287109\"/>\n     <use xlink:href=\"#DejaVuSans-72\" x=\"592.566406\"/>\n     <use xlink:href=\"#DejaVuSans-64\" x=\"631.929688\"/>\n     <use xlink:href=\"#DejaVuSans-20\" x=\"695.40625\"/>\n     <use xlink:href=\"#DejaVuSans-6d\" x=\"727.193359\"/>\n     <use xlink:href=\"#DejaVuSans-61\" x=\"824.605469\"/>\n     <use xlink:href=\"#DejaVuSans-73\" x=\"885.884766\"/>\n     <use xlink:href=\"#DejaVuSans-6b\" x=\"937.984375\"/>\n    </g>\n   </g>\n  </g>\n </g>\n <defs>\n  <clipPath id=\"p010178de52\">\n   <rect x=\"7.2\" y=\"22.318125\" width=\"152.46\" height=\"83.16\"/>\n  </clipPath>\n </defs>\n</svg>\n",
            "application/pdf": "[encoded data removed]"
          },
          "metadata": {}
        },
        {
          "output_type": "display_data",
          "data": {
            "text/plain": [
              "<Figure size 300x150 with 1 Axes>"
            ],
            "image/svg+xml": "<?xml version=\"1.0\" encoding=\"utf-8\" standalone=\"no\"?>\n<!DOCTYPE svg PUBLIC \"-//W3C//DTD SVG 1.1//EN\"\n  \"http://www.w3.org/Graphics/SVG/1.1/DTD/svg11.dtd\">\n<svg xmlns:xlink=\"http://www.w3.org/1999/xlink\" width=\"166.86pt\" height=\"112.678125pt\" viewBox=\"0 0 166.86 112.678125\" xmlns=\"http://www.w3.org/2000/svg\" version=\"1.1\">\n <metadata>\n  <rdf:RDF xmlns:dc=\"http://purl.org/dc/elements/1.1/\" xmlns:cc=\"http://creativecommons.org/ns#\" xmlns:rdf=\"http://www.w3.org/1999/02/22-rdf-syntax-ns#\">\n   <cc:Work>\n    <dc:type rdf:resource=\"http://purl.org/dc/dcmitype/StillImage\"/>\n    <dc:date>2024-11-29T07:51:25.858986</dc:date>\n    <dc:format>image/svg+xml</dc:format>\n    <dc:creator>\n     <cc:Agent>\n      <dc:title>Matplotlib v3.8.0, https://matplotlib.org/</dc:title>\n     </cc:Agent>\n    </dc:creator>\n   </cc:Work>\n  </rdf:RDF>\n </metadata>\n <defs>\n  <style type=\"text/css\">*{stroke-linejoin: round; stroke-linecap: butt}</style>\n </defs>\n <g id=\"figure_1\">\n  <g id=\"patch_1\">\n   <path d=\"M 0 112.678125 \nL 166.86 112.678125 \nL 166.86 0 \nL 0 0 \nz\n\" style=\"fill: #ffffff\"/>\n  </g>\n  <g id=\"axes_1\">\n   <g clip-path=\"url(#p79399c6181)\">\n    <image xlink:href=\"data:image/png;base64,\niVBORw0KGgoAAAANSUhEUgAAANQAAAB0CAYAAAD9whz2AAABeUlEQVR4nO3VgQmEMBBFQZXre5PKvSYeCDpTwGcJPHLOzH0AievpA+BNBAUhQUFIUBASFIQEBSFBQUhQEBIUhAQFIUFBSFAQEhSEBAUhQUFIUBASFIQEBaFfObbWKuc+oX6zvXe69wUzk235oSAkKAgJCkKCgpCgICQoCAkKQoKCkKAgJCgICQpCgoKQoCAkKAgJCkKCgpCgICQoCAkKQoKCkKAgJCgICQpCgoKQoCAkKAgJCkKCgpCgICQoCAkKQoKCkKAgJCgICQpCgoKQoCAkKAgJCkKCgpCgICQoCAkKQoKCkKAgJCgICQpCgoKQoCAkKAgJCkKCgpCgICQoCAkKQoKCkKAgJCgICQpCgoKQoCAkKAgJCkKCgpCgICQoCAkKQoKCkKAgJCgICQpCgoKQoCAkKAgJCkKCgpCgIHTOzP30EfAWfigICQpCgoKQoCAkKAgJCkKCgpCgICQoCAkKQoKCkKAgJCgICQpCgoKQoCAkKAgJCkJ/PRwL4fKav+AAAAAASUVORK5CYII=\" id=\"image1019619c31\" transform=\"scale(1 -1) translate(0 -83.52)\" x=\"7.2\" y=\"-21.958125\" width=\"152.64\" height=\"83.52\"/>\n   </g>\n   <g id=\"text_1\">\n    <!-- Channel mask -->\n    <g transform=\"translate(40.769063 16.318125) scale(0.12 -0.12)\">\n     <defs>\n      <path id=\"DejaVuSans-43\" d=\"M 4122 4306 \nL 4122 3641 \nQ 3803 3938 3442 4084 \nQ 3081 4231 2675 4231 \nQ 1875 4231 1450 3742 \nQ 1025 3253 1025 2328 \nQ 1025 1406 1450 917 \nQ 1875 428 2675 428 \nQ 3081 428 3442 575 \nQ 3803 722 4122 1019 \nL 4122 359 \nQ 3791 134 3420 21 \nQ 3050 -91 2638 -91 \nQ 1578 -91 968 557 \nQ 359 1206 359 2328 \nQ 359 3453 968 4101 \nQ 1578 4750 2638 4750 \nQ 3056 4750 3426 4639 \nQ 3797 4528 4122 4306 \nz\n\" transform=\"scale(0.015625)\"/>\n      <path id=\"DejaVuSans-68\" d=\"M 3513 2113 \nL 3513 0 \nL 2938 0 \nL 2938 2094 \nQ 2938 2591 2744 2837 \nQ 2550 3084 2163 3084 \nQ 1697 3084 1428 2787 \nQ 1159 2491 1159 1978 \nL 1159 0 \nL 581 0 \nL 581 4863 \nL 1159 4863 \nL 1159 2956 \nQ 1366 3272 1645 3428 \nQ 1925 3584 2291 3584 \nQ 2894 3584 3203 3211 \nQ 3513 2838 3513 2113 \nz\n\" transform=\"scale(0.015625)\"/>\n      <path id=\"DejaVuSans-61\" d=\"M 2194 1759 \nQ 1497 1759 1228 1600 \nQ 959 1441 959 1056 \nQ 959 750 1161 570 \nQ 1363 391 1709 391 \nQ 2188 391 2477 730 \nQ 2766 1069 2766 1631 \nL 2766 1759 \nL 2194 1759 \nz\nM 3341 1997 \nL 3341 0 \nL 2766 0 \nL 2766 531 \nQ 2569 213 2275 61 \nQ 1981 -91 1556 -91 \nQ 1019 -91 701 211 \nQ 384 513 384 1019 \nQ 384 1609 779 1909 \nQ 1175 2209 1959 2209 \nL 2766 2209 \nL 2766 2266 \nQ 2766 2663 2505 2880 \nQ 2244 3097 1772 3097 \nQ 1472 3097 1187 3025 \nQ 903 2953 641 2809 \nL 641 3341 \nQ 956 3463 1253 3523 \nQ 1550 3584 1831 3584 \nQ 2591 3584 2966 3190 \nQ 3341 2797 3341 1997 \nz\n\" transform=\"scale(0.015625)\"/>\n      <path id=\"DejaVuSans-6e\" d=\"M 3513 2113 \nL 3513 0 \nL 2938 0 \nL 2938 2094 \nQ 2938 2591 2744 2837 \nQ 2550 3084 2163 3084 \nQ 1697 3084 1428 2787 \nQ 1159 2491 1159 1978 \nL 1159 0 \nL 581 0 \nL 581 3500 \nL 1159 3500 \nL 1159 2956 \nQ 1366 3272 1645 3428 \nQ 1925 3584 2291 3584 \nQ 2894 3584 3203 3211 \nQ 3513 2838 3513 2113 \nz\n\" transform=\"scale(0.015625)\"/>\n      <path id=\"DejaVuSans-65\" d=\"M 3597 1894 \nL 3597 1613 \nL 953 1613 \nQ 991 1019 1311 708 \nQ 1631 397 2203 397 \nQ 2534 397 2845 478 \nQ 3156 559 3463 722 \nL 3463 178 \nQ 3153 47 2828 -22 \nQ 2503 -91 2169 -91 \nQ 1331 -91 842 396 \nQ 353 884 353 1716 \nQ 353 2575 817 3079 \nQ 1281 3584 2069 3584 \nQ 2775 3584 3186 3129 \nQ 3597 2675 3597 1894 \nz\nM 3022 2063 \nQ 3016 2534 2758 2815 \nQ 2500 3097 2075 3097 \nQ 1594 3097 1305 2825 \nQ 1016 2553 972 2059 \nL 3022 2063 \nz\n\" transform=\"scale(0.015625)\"/>\n      <path id=\"DejaVuSans-6c\" d=\"M 603 4863 \nL 1178 4863 \nL 1178 0 \nL 603 0 \nL 603 4863 \nz\n\" transform=\"scale(0.015625)\"/>\n      <path id=\"DejaVuSans-20\" transform=\"scale(0.015625)\"/>\n      <path id=\"DejaVuSans-6d\" d=\"M 3328 2828 \nQ 3544 3216 3844 3400 \nQ 4144 3584 4550 3584 \nQ 5097 3584 5394 3201 \nQ 5691 2819 5691 2113 \nL 5691 0 \nL 5113 0 \nL 5113 2094 \nQ 5113 2597 4934 2840 \nQ 4756 3084 4391 3084 \nQ 3944 3084 3684 2787 \nQ 3425 2491 3425 1978 \nL 3425 0 \nL 2847 0 \nL 2847 2094 \nQ 2847 2600 2669 2842 \nQ 2491 3084 2119 3084 \nQ 1678 3084 1418 2786 \nQ 1159 2488 1159 1978 \nL 1159 0 \nL 581 0 \nL 581 3500 \nL 1159 3500 \nL 1159 2956 \nQ 1356 3278 1631 3431 \nQ 1906 3584 2284 3584 \nQ 2666 3584 2933 3390 \nQ 3200 3197 3328 2828 \nz\n\" transform=\"scale(0.015625)\"/>\n      <path id=\"DejaVuSans-73\" d=\"M 2834 3397 \nL 2834 2853 \nQ 2591 2978 2328 3040 \nQ 2066 3103 1784 3103 \nQ 1356 3103 1142 2972 \nQ 928 2841 928 2578 \nQ 928 2378 1081 2264 \nQ 1234 2150 1697 2047 \nL 1894 2003 \nQ 2506 1872 2764 1633 \nQ 3022 1394 3022 966 \nQ 3022 478 2636 193 \nQ 2250 -91 1575 -91 \nQ 1294 -91 989 -36 \nQ 684 19 347 128 \nL 347 722 \nQ 666 556 975 473 \nQ 1284 391 1588 391 \nQ 1994 391 2212 530 \nQ 2431 669 2431 922 \nQ 2431 1156 2273 1281 \nQ 2116 1406 1581 1522 \nL 1381 1569 \nQ 847 1681 609 1914 \nQ 372 2147 372 2553 \nQ 372 3047 722 3315 \nQ 1072 3584 1716 3584 \nQ 2034 3584 2315 3537 \nQ 2597 3491 2834 3397 \nz\n\" transform=\"scale(0.015625)\"/>\n      <path id=\"DejaVuSans-6b\" d=\"M 581 4863 \nL 1159 4863 \nL 1159 1991 \nL 2875 3500 \nL 3609 3500 \nL 1753 1863 \nL 3688 0 \nL 2938 0 \nL 1159 1709 \nL 1159 0 \nL 581 0 \nL 581 4863 \nz\n\" transform=\"scale(0.015625)\"/>\n     </defs>\n     <use xlink:href=\"#DejaVuSans-43\"/>\n     <use xlink:href=\"#DejaVuSans-68\" x=\"69.824219\"/>\n     <use xlink:href=\"#DejaVuSans-61\" x=\"133.203125\"/>\n     <use xlink:href=\"#DejaVuSans-6e\" x=\"194.482422\"/>\n     <use xlink:href=\"#DejaVuSans-6e\" x=\"257.861328\"/>\n     <use xlink:href=\"#DejaVuSans-65\" x=\"321.240234\"/>\n     <use xlink:href=\"#DejaVuSans-6c\" x=\"382.763672\"/>\n     <use xlink:href=\"#DejaVuSans-20\" x=\"410.546875\"/>\n     <use xlink:href=\"#DejaVuSans-6d\" x=\"442.333984\"/>\n     <use xlink:href=\"#DejaVuSans-61\" x=\"539.746094\"/>\n     <use xlink:href=\"#DejaVuSans-73\" x=\"601.025391\"/>\n     <use xlink:href=\"#DejaVuSans-6b\" x=\"653.125\"/>\n    </g>\n   </g>\n  </g>\n </g>\n <defs>\n  <clipPath id=\"p79399c6181\">\n   <rect x=\"7.2\" y=\"22.318125\" width=\"152.46\" height=\"83.16\"/>\n  </clipPath>\n </defs>\n</svg>\n",
            "application/pdf": "[encoded data removed]"
          },
          "metadata": {}
        }
      ]
    },
    {
      "cell_type": "code",
      "source": [
        "class ConcatELU(nn.Module):\n",
        "    \"\"\"\n",
        "    Activation function that applies ELU in both direction (inverted and plain).\n",
        "    Allows non-linearity while providing strong gradients for any input (important for final convolution)\n",
        "    \"\"\"\n",
        "\n",
        "    def forward(self, x):\n",
        "        return torch.cat([F.elu(x), F.elu(-x)], dim=1)\n",
        "\n",
        "\n",
        "class LayerNormChannels(nn.Module):\n",
        "\n",
        "    def __init__(self, c_in, eps=1e-5):\n",
        "        \"\"\"\n",
        "        This module applies layer norm across channels in an image.\n",
        "        Inputs:\n",
        "            c_in - Number of channels of the input\n",
        "            eps - Small constant to stabilize std\n",
        "        \"\"\"\n",
        "        super().__init__()\n",
        "        self.gamma = nn.Parameter(torch.ones(1, c_in, 1, 1))\n",
        "        self.beta = nn.Parameter(torch.zeros(1, c_in, 1, 1))\n",
        "        self.eps = eps\n",
        "\n",
        "    def forward(self, x):\n",
        "        mean = x.mean(dim=1, keepdim=True)\n",
        "        var = x.var(dim=1, unbiased=False, keepdim=True)\n",
        "        y = (x - mean) / torch.sqrt(var + self.eps)\n",
        "        y = y * self.gamma + self.beta\n",
        "        return y\n",
        "\n",
        "\n",
        "class GatedConv(nn.Module):\n",
        "\n",
        "    def __init__(self, c_in, c_hidden):\n",
        "        \"\"\"\n",
        "        This module applies a two-layer convolutional ResNet block with input gate\n",
        "        Inputs:\n",
        "            c_in - Number of channels of the input\n",
        "            c_hidden - Number of hidden dimensions we want to model (usually similar to c_in)\n",
        "        \"\"\"\n",
        "        super().__init__()\n",
        "        self.net = nn.Sequential(\n",
        "            ConcatELU(),\n",
        "            nn.Conv2d(2*c_in, c_hidden, kernel_size=3, padding=1),\n",
        "            ConcatELU(),\n",
        "            nn.Conv2d(2*c_hidden, 2*c_in, kernel_size=1)\n",
        "        )\n",
        "\n",
        "    def forward(self, x):\n",
        "        out = self.net(x)\n",
        "        val, gate = out.chunk(2, dim=1)\n",
        "        return x + val * torch.sigmoid(gate)\n",
        "\n",
        "\n",
        "class GatedConvNet(nn.Module):\n",
        "\n",
        "    def __init__(self, c_in, c_hidden=32, c_out=-1, num_layers=3):\n",
        "        \"\"\"\n",
        "        Module that summarizes the previous blocks to a full convolutional neural network.\n",
        "        Inputs:\n",
        "            c_in - Number of input channels\n",
        "            c_hidden - Number of hidden dimensions to use within the network\n",
        "            c_out - Number of output channels. If -1, 2 times the input channels are used (affine coupling)\n",
        "            num_layers - Number of gated ResNet blocks to apply\n",
        "        \"\"\"\n",
        "        super().__init__()\n",
        "        c_out = c_out if c_out > 0 else 2 * c_in\n",
        "        layers = []\n",
        "        layers += [nn.Conv2d(c_in, c_hidden, kernel_size=3, padding=1)]\n",
        "        for layer_index in range(num_layers):\n",
        "            layers += [GatedConv(c_hidden, c_hidden),\n",
        "                       LayerNormChannels(c_hidden)]\n",
        "        layers += [ConcatELU(),\n",
        "                   nn.Conv2d(2*c_hidden, c_out, kernel_size=3, padding=1)]\n",
        "        self.nn = nn.Sequential(*layers)\n",
        "\n",
        "        self.nn[-1].weight.data.zero_()\n",
        "        self.nn[-1].bias.data.zero_()\n",
        "\n",
        "    def forward(self, x):\n",
        "        return self.nn(x)"
      ],
      "metadata": {
        "id": "7AZx1l6xsj9E"
      },
      "execution_count": 19,
      "outputs": []
    },
    {
      "cell_type": "markdown",
      "source": [
        "# Training Loop"
      ],
      "metadata": {
        "id": "JKlXEucWskh0"
      }
    },
    {
      "cell_type": "code",
      "source": [
        "def create_simple_flow(use_vardeq=True):\n",
        "    flow_layers = []\n",
        "    if use_vardeq:\n",
        "        vardeq_layers = [CouplingLayer(network=GatedConvNet(c_in=2, c_out=2, c_hidden=16),\n",
        "                                       mask=create_checkerboard_mask(h=28, w=28, invert=(i%2==1)),\n",
        "                                       c_in=1) for i in range(4)]\n",
        "        flow_layers += [VariationalDequantization(var_flows=vardeq_layers)]\n",
        "    else:\n",
        "        flow_layers += [Dequantization()]\n",
        "\n",
        "    for i in range(8):\n",
        "        flow_layers += [CouplingLayer(network=GatedConvNet(c_in=1, c_hidden=32),\n",
        "                                      mask=create_checkerboard_mask(h=28, w=28, invert=(i%2==1)),\n",
        "                                      c_in=1)]\n",
        "\n",
        "    flow_model = ImageFlow(flow_layers).to(device)\n",
        "    return flow_model"
      ],
      "metadata": {
        "id": "8sa9DbnmsmNs"
      },
      "execution_count": 20,
      "outputs": []
    },
    {
      "cell_type": "code",
      "source": [
        "def train_flow(flow, model_name=\"MNISTFlow\"):\n",
        "    # Create a PyTorch Lightning trainer\n",
        "    trainer = pl.Trainer(default_root_dir=os.path.join(CHECKPOINT_PATH, model_name),\n",
        "                         accelerator=\"gpu\" if str(device).startswith(\"cuda\") else \"cpu\",\n",
        "                         devices=1,\n",
        "                         max_epochs=5, # I'm going to train the models for 5 epochs, as the training process can be expensive time-wise.\n",
        "                         gradient_clip_val=1.0,\n",
        "                         callbacks=[ModelCheckpoint(save_weights_only=True, mode=\"min\", monitor=\"val_bpd\"),\n",
        "                                    LearningRateMonitor(\"epoch\")],\n",
        "                         check_val_every_n_epoch=5)\n",
        "    trainer.logger._log_graph = True\n",
        "    trainer.logger._default_hp_metric = None # Optional logging argument that we don't need\n",
        "\n",
        "    train_data_loader = data.DataLoader(train_set, batch_size=128, shuffle=True, drop_last=True, pin_memory=True, num_workers=8)\n",
        "    result = None\n",
        "\n",
        "    # Check whether pretrained model exists. If yes, load it and fine-tune with the FasionMNIST dataset.\n",
        "    pretrained_filename = os.path.join(CHECKPOINT_PATH, model_name + \".ckpt\")\n",
        "    if os.path.isfile(pretrained_filename):\n",
        "        print(\"Found pretrained model, loading...\")\n",
        "        ckpt = torch.load(pretrained_filename, map_location=device)\n",
        "        flow.load_state_dict(ckpt['state_dict'])\n",
        "        print(\"Start fine-tuning\", model_name)\n",
        "        trainer.fit(flow, train_data_loader, val_loader)\n",
        "    else:\n",
        "      print(\"Start training\", model_name)\n",
        "      trainer.fit(flow, train_data_loader, val_loader)\n",
        "\n",
        "    # Test best model on validation and test set if no result has been found\n",
        "    # Testing can be expensive due to the importance sampling.\n",
        "    if result is None:\n",
        "        val_result = trainer.test(flow, val_loader, verbose=False)\n",
        "        start_time = time.time()\n",
        "        test_result = trainer.test(flow, test_loader, verbose=False)\n",
        "        duration = time.time() - start_time\n",
        "        result = {\"test\": test_result, \"val\": val_result, \"time\": duration / len(test_loader) / flow.import_samples}\n",
        "\n",
        "    return flow, result"
      ],
      "metadata": {
        "id": "1JFdMSRFsoN8"
      },
      "execution_count": 89,
      "outputs": []
    },
    {
      "cell_type": "markdown",
      "source": [
        "# Multi-Scale Architecture"
      ],
      "metadata": {
        "id": "4gjUmJSgsqQg"
      }
    },
    {
      "cell_type": "markdown",
      "source": [
        "## Squeeze and Split"
      ],
      "metadata": {
        "id": "af2zmN_AsvkY"
      }
    },
    {
      "cell_type": "code",
      "source": [
        "class SqueezeFlow(nn.Module):\n",
        "\n",
        "    def forward(self, z, ldj, reverse=False):\n",
        "        B, C, H, W = z.shape\n",
        "        if not reverse:\n",
        "            # Forward direction: H x W x C => H/2 x W/2 x 4C\n",
        "            z = z.reshape(B, C, H//2, 2, W//2, 2)\n",
        "            z = z.permute(0, 1, 3, 5, 2, 4)\n",
        "            z = z.reshape(B, 4*C, H//2, W//2)\n",
        "        else:\n",
        "            # Reverse direction: H/2 x W/2 x 4C => H x W x C\n",
        "            z = z.reshape(B, C//4, 2, 2, H, W)\n",
        "            z = z.permute(0, 1, 4, 2, 5, 3)\n",
        "            z = z.reshape(B, C//4, H*2, W*2)\n",
        "        return z, ldj"
      ],
      "metadata": {
        "id": "8AwyOr_7su25"
      },
      "execution_count": 23,
      "outputs": []
    },
    {
      "cell_type": "code",
      "source": [
        "sq_flow = SqueezeFlow()\n",
        "rand_img = torch.arange(1,17).view(1, 1, 4, 4)\n",
        "print(\"Image (before)\\n\", rand_img)\n",
        "forward_img, _ = sq_flow(rand_img, ldj=None, reverse=False)\n",
        "print(\"\\nImage (forward)\\n\", forward_img.permute(0,2,3,1)) # Permute for readability\n",
        "reconst_img, _ = sq_flow(forward_img, ldj=None, reverse=True)\n",
        "print(\"\\nImage (reverse)\\n\", reconst_img)"
      ],
      "metadata": {
        "id": "0UvgqeyKstNM",
        "colab": {
          "base_uri": "https://localhost:8080/"
        },
        "outputId": "de225e95-625f-4dd6-fcf6-e9813cabe8bc"
      },
      "execution_count": 24,
      "outputs": [
        {
          "output_type": "stream",
          "name": "stdout",
          "text": [
            "Image (before)\n",
            " tensor([[[[ 1,  2,  3,  4],\n",
            "          [ 5,  6,  7,  8],\n",
            "          [ 9, 10, 11, 12],\n",
            "          [13, 14, 15, 16]]]])\n",
            "\n",
            "Image (forward)\n",
            " tensor([[[[ 1,  2,  5,  6],\n",
            "          [ 3,  4,  7,  8]],\n",
            "\n",
            "         [[ 9, 10, 13, 14],\n",
            "          [11, 12, 15, 16]]]])\n",
            "\n",
            "Image (reverse)\n",
            " tensor([[[[ 1,  2,  3,  4],\n",
            "          [ 5,  6,  7,  8],\n",
            "          [ 9, 10, 11, 12],\n",
            "          [13, 14, 15, 16]]]])\n"
          ]
        }
      ]
    },
    {
      "cell_type": "code",
      "source": [
        "class SplitFlow(nn.Module):\n",
        "\n",
        "    def __init__(self):\n",
        "        super().__init__()\n",
        "        self.prior = torch.distributions.normal.Normal(loc=0.0, scale=1.0)\n",
        "\n",
        "    def forward(self, z, ldj, reverse=False):\n",
        "        if not reverse:\n",
        "            z, z_split = z.chunk(2, dim=1)\n",
        "            ldj += self.prior.log_prob(z_split).sum(dim=[1,2,3])\n",
        "        else:\n",
        "            z_split = self.prior.sample(sample_shape=z.shape).to(device)\n",
        "            z = torch.cat([z, z_split], dim=1)\n",
        "            ldj -= self.prior.log_prob(z_split).sum(dim=[1,2,3])\n",
        "        return z, ldj"
      ],
      "metadata": {
        "id": "agsgqSGns3kr"
      },
      "execution_count": 25,
      "outputs": []
    },
    {
      "cell_type": "markdown",
      "source": [
        "## Multi-Scale Flow"
      ],
      "metadata": {
        "id": "y-QHmQ5rs5zy"
      }
    },
    {
      "cell_type": "code",
      "source": [
        "def create_multiscale_flow():\n",
        "    flow_layers = []\n",
        "\n",
        "    vardeq_layers = [CouplingLayer(network=GatedConvNet(c_in=2, c_out=2, c_hidden=16),\n",
        "                                   mask=create_checkerboard_mask(h=28, w=28, invert=(i%2==1)),\n",
        "                                   c_in=1) for i in range(4)]\n",
        "    flow_layers += [VariationalDequantization(vardeq_layers)]\n",
        "\n",
        "    flow_layers += [CouplingLayer(network=GatedConvNet(c_in=1, c_hidden=32),\n",
        "                                  mask=create_checkerboard_mask(h=28, w=28, invert=(i%2==1)),\n",
        "                                  c_in=1) for i in range(2)]\n",
        "    flow_layers += [SqueezeFlow()]\n",
        "    for i in range(2):\n",
        "        flow_layers += [CouplingLayer(network=GatedConvNet(c_in=4, c_hidden=48),\n",
        "                                      mask=create_channel_mask(c_in=4, invert=(i%2==1)),\n",
        "                                      c_in=4)]\n",
        "    flow_layers += [SplitFlow(),\n",
        "                    SqueezeFlow()]\n",
        "    for i in range(4):\n",
        "        flow_layers += [CouplingLayer(network=GatedConvNet(c_in=8, c_hidden=64),\n",
        "                                      mask=create_channel_mask(c_in=8, invert=(i%2==1)),\n",
        "                                      c_in=8)]\n",
        "\n",
        "    flow_model = ImageFlow(flow_layers).to(device)\n",
        "    return flow_model"
      ],
      "metadata": {
        "id": "UzoZULPRs4ZS"
      },
      "execution_count": 26,
      "outputs": []
    },
    {
      "cell_type": "code",
      "source": [
        "def print_num_params(model):\n",
        "    num_params = sum([np.prod(p.shape) for p in model.parameters()])\n",
        "    print(\"Number of parameters: {:,}\".format(num_params))\n",
        "\n",
        "print_num_params(create_simple_flow(use_vardeq=False))\n",
        "print_num_params(create_simple_flow(use_vardeq=True))\n",
        "print_num_params(create_multiscale_flow())"
      ],
      "metadata": {
        "id": "H4nK3pgXs_Fp",
        "colab": {
          "base_uri": "https://localhost:8080/"
        },
        "outputId": "b77aecb4-7830-42e6-eaa2-2c2777205cd0"
      },
      "execution_count": 27,
      "outputs": [
        {
          "output_type": "stream",
          "name": "stdout",
          "text": [
            "Number of parameters: 556,312\n",
            "Number of parameters: 628,388\n",
            "Number of parameters: 1,711,818\n"
          ]
        }
      ]
    },
    {
      "cell_type": "markdown",
      "source": [
        "# Analysing the Flows"
      ],
      "metadata": {
        "id": "Yn5fz4CytDLL"
      }
    },
    {
      "cell_type": "markdown",
      "source": [
        "## Training Flow Variants"
      ],
      "metadata": {
        "id": "6-6an29FtGq3"
      }
    },
    {
      "cell_type": "markdown",
      "source": [
        "In this notebook, our aims is to use Normalizing Flows with the FashionMNIST dataset. Therefore, we cannot just directly use the pretrained models. That's way I decided to load the pretrained models and retrain them on the FashionMNIST dataset for 2 epochs. I know that with only 5 epochs the results we will get won't be that great but the training time increases rapidly with the number of epochs. Of course I am going to take this into account when comparing the results of this notebook with the previous notebook's results."
      ],
      "metadata": {
        "id": "dT1rs1kymVa-"
      }
    },
    {
      "cell_type": "code",
      "source": [
        "flow_dict = {\"simple\": {}, \"vardeq\": {}, \"multiscale\": {}}\n",
        "flow_dict[\"simple\"][\"model\"], flow_dict[\"simple\"][\"result\"] = train_flow(create_simple_flow(use_vardeq=False), model_name=\"MNISTFlow_simple\")\n",
        "flow_dict[\"vardeq\"][\"model\"], flow_dict[\"vardeq\"][\"result\"] = train_flow(create_simple_flow(use_vardeq=True), model_name=\"MNISTFlow_vardeq\")\n",
        "flow_dict[\"multiscale\"][\"model\"], flow_dict[\"multiscale\"][\"result\"] = train_flow(create_multiscale_flow(), model_name=\"MNISTFlow_multiscale\")"
      ],
      "metadata": {
        "id": "xzLkwGkntBMu",
        "colab": {
          "base_uri": "https://localhost:8080/",
          "height": 1000,
          "referenced_widgets": [
            "cdfd3ab7154a4634933d556cb83cb516",
            "e10ad1f56e77482184e0a8389be829f1",
            "fda31c3ae3be429895ea84d5a45782de",
            "9dcc7fb51a124eaba163fb6b6c2b06d8",
            "3ad8691e0648423c9ecd1ca0a23b60ac",
            "1a1e1bb922da468caff120e503f4a600",
            "f812853220c241b29b0e3d7a138223a8",
            "f7b2247ba6a0446da4ce86ee014ce9fa",
            "c535573d2a35426585fb04e324f8b65e",
            "60da4af9b26d4667915cdf5db9c82803",
            "4c050018ed0b445db7a1ee316378c4a0",
            "380ff16ac23a4f3b8b3a68b6bdf3f650",
            "112bf9968b9644c7a1aae9c4263ce7eb",
            "dadccb51821141fbac9c3f3db755616c",
            "5c4b31351b1d453aa3a1466f086b5abf",
            "983472666516460184c0c5c3e117f239",
            "2957c0805890432eb9c1398c7a641158",
            "22fcfd5b5d5143378e30045d6d2bd4a0",
            "e2b822a2034f4ff897100bbe50d55001",
            "04b66587042540fca15d5efcc08efe48",
            "190e6cb1d8fd4b2d98d2a4bca693dc2d",
            "8adc66d084384a268deba8f5498706d2",
            "8d6b871d7e374d3babb11eda1b8334c1",
            "18c7c273bb934d158dc94bb5e9aa2e22",
            "b5cab6f2cf1c43d99176697480a813df",
            "417a8b04717f4374a3969a20a4d0182e",
            "c36637a01bef443d998f709c6fb39eef",
            "3560734956af417bb90569987935ad2b",
            "301bec4a552641929371d86574c4d800",
            "b8fa52ca72994329a65b5b309aa16f27",
            "3c156ead5eb54616a263f24807333256",
            "1a68534db1a8409183039732982a8e0d",
            "629e0ac4f62245fb859af2dd67f1c2fd",
            "8877924a22444ba7a3ff18d4edc7132f",
            "8e41f08a719440c7915bed0aa4e3bfd2",
            "10e383ef712045a099c1e5271ace079c",
            "e6ad58dfbe7e4a19a95eb1c2572bd63c",
            "5b33d682d71e41118f3e6a1724ada490",
            "4367d89ae9fc4a418bae6e2141b5ac84",
            "17d7468a2bec4cf1b2f9ec6c53c86c9c",
            "c81759010a8c4f74b2a16a32ed114cb0",
            "5130fba558c1475a9df7a93a66187398",
            "892f9434d05e4acb92a7d258ae610014",
            "892e7659a49a4e138bfb4bd41820bd40",
            "1af6654a87cb467382edfa470b1984fa",
            "eb19bf6e4f334b908365138190f9fdfd",
            "e07dbafab0e94edb98e51c125c272047",
            "a8f15a9b3e43445b94abf2dae5fad6c8",
            "7d977a4f33fa483382e16afb725c203f",
            "397a82b5c65742709f85bf30d0899493",
            "8856df010cff426bb7fd9e40b2dbc1cf",
            "d926ddf137e44f56a848203791114d8e",
            "ffa5785e7af84fc6ab43b3742043a255",
            "2464ecac329344568c838bbcac78cf0a",
            "36275609488449a6a3be9ae510431c58",
            "7b5b445b3d16412b95586c9e0e59327d",
            "5b88285eb9364f8aae577fef3c52b0de",
            "167a08b4e3e04a54899ce249a443edf4",
            "a880a2a13adc4ff88affe7abafe9133c",
            "8e4c741516904539952fd68ea14550d9",
            "9e69f2a6f826480fbc832890c2266799",
            "38204da4998a4ae78146780614bf990b",
            "7266b9d4031f4588b061cc0bc0cf28a0",
            "ac66a1ab3aff4542b385effcff9b2390",
            "ad40222602744f19bb769c3212020444",
            "900c4f29b8fe4888a607ba50ec7bfd6b",
            "d54258c33312491c8c17d5981a20f80b",
            "38d65a2e04fd48d1b245dd783d832465",
            "b5904b84c0714356989bee74aa2eeb86",
            "368ed7e92f61439eb6f2d209a3aeba8b",
            "273a86fa06dc45e6bf62eaf7821ec142",
            "cfccf8deb53648de9aa9c6a880635e96",
            "2b88add53c83452ba5ca6a0d4841bb2c",
            "0667af94311f415990e954062a7ced75",
            "667a5e53bce2479491e8acf81c7f824a",
            "d90052538db34ca8821d8d184df7fb11",
            "bf941284201446509dbbbbd2aa47f88b"
          ]
        },
        "outputId": "5ae34b8b-858d-49bd-a11c-9f61627939e7"
      },
      "execution_count": null,
      "outputs": [
        {
          "output_type": "stream",
          "name": "stderr",
          "text": [
            "INFO:pytorch_lightning.utilities.rank_zero:GPU available: True (cuda), used: True\n",
            "INFO:pytorch_lightning.utilities.rank_zero:TPU available: False, using: 0 TPU cores\n",
            "INFO:pytorch_lightning.utilities.rank_zero:HPU available: False, using: 0 HPUs\n",
            "<ipython-input-89-96ac3a96f8ac>:21: FutureWarning: You are using `torch.load` with `weights_only=False` (the current default value), which uses the default pickle module implicitly. It is possible to construct malicious pickle data which will execute arbitrary code during unpickling (See https://github.com/pytorch/pytorch/blob/main/SECURITY.md#untrusted-models for more details). In a future release, the default value for `weights_only` will be flipped to `True`. This limits the functions that could be executed during unpickling. Arbitrary objects will no longer be allowed to be loaded via this mode unless they are explicitly allowlisted by the user via `torch.serialization.add_safe_globals`. We recommend you start setting `weights_only=True` for any use case where you don't have full control of the loaded file. Please open an issue on GitHub for any issues related to this experimental feature.\n",
            "  ckpt = torch.load(pretrained_filename, map_location=device)\n",
            "INFO:pytorch_lightning.accelerators.cuda:LOCAL_RANK: 0 - CUDA_VISIBLE_DEVICES: [0]\n",
            "INFO:pytorch_lightning.callbacks.model_summary:\n",
            "  | Name  | Type       | Params | Mode  | In sizes | Out sizes\n",
            "--------------------------------------------------------------------\n",
            "0 | flows | ModuleList | 556 K  | train | ?        | ?        \n",
            "--------------------------------------------------------------------\n",
            "556 K     Trainable params\n",
            "0         Non-trainable params\n",
            "556 K     Total params\n",
            "2.225     Total estimated model params size (MB)\n",
            "218       Modules in train mode\n",
            "0         Modules in eval mode\n"
          ]
        },
        {
          "output_type": "stream",
          "name": "stdout",
          "text": [
            "Found pretrained model, loading...\n",
            "Start fine-tuning MNISTFlow_simple\n"
          ]
        },
        {
          "output_type": "stream",
          "name": "stderr",
          "text": [
            "/usr/local/lib/python3.10/dist-packages/torch/jit/_trace.py:1306: TracerWarning: Output nr 1. of the traced function does not match the corresponding output of the Python function. Detailed error:\n",
            "Scalars are not close!\n",
            "\n",
            "Expected 6.052651405334473 but got 6.017515659332275.\n",
            "Absolute difference: 0.035135746002197266 (up to 1e-05 allowed)\n",
            "Relative difference: 0.005805017280729328 (up to 1e-05 allowed)\n",
            "  _check_trace(\n"
          ]
        },
        {
          "output_type": "display_data",
          "data": {
            "text/plain": [
              "Sanity Checking: |          | 0/? [00:00<?, ?it/s]"
            ],
            "application/vnd.jupyter.widget-view+json": {
              "version_major": 2,
              "version_minor": 0,
              "model_id": "cdfd3ab7154a4634933d556cb83cb516"
            }
          },
          "metadata": {}
        },
        {
          "output_type": "display_data",
          "data": {
            "text/plain": [
              "Training: |          | 0/? [00:00<?, ?it/s]"
            ],
            "application/vnd.jupyter.widget-view+json": {
              "version_major": 2,
              "version_minor": 0,
              "model_id": "380ff16ac23a4f3b8b3a68b6bdf3f650"
            }
          },
          "metadata": {}
        },
        {
          "output_type": "display_data",
          "data": {
            "text/plain": [
              "Validation: |          | 0/? [00:00<?, ?it/s]"
            ],
            "application/vnd.jupyter.widget-view+json": {
              "version_major": 2,
              "version_minor": 0,
              "model_id": "8d6b871d7e374d3babb11eda1b8334c1"
            }
          },
          "metadata": {}
        },
        {
          "output_type": "stream",
          "name": "stderr",
          "text": [
            "INFO:pytorch_lightning.utilities.rank_zero:`Trainer.fit` stopped: `max_epochs=5` reached.\n",
            "INFO:pytorch_lightning.accelerators.cuda:LOCAL_RANK: 0 - CUDA_VISIBLE_DEVICES: [0]\n",
            "/usr/local/lib/python3.10/dist-packages/torch/jit/_trace.py:1306: TracerWarning: Output nr 1. of the traced function does not match the corresponding output of the Python function. Detailed error:\n",
            "Scalars are not close!\n",
            "\n",
            "Expected 3.6521964073181152 but got 3.678029775619507.\n",
            "Absolute difference: 0.0258333683013916 (up to 1e-05 allowed)\n",
            "Relative difference: 0.007073378707023478 (up to 1e-05 allowed)\n",
            "  _check_trace(\n"
          ]
        },
        {
          "output_type": "display_data",
          "data": {
            "text/plain": [
              "Testing: |          | 0/? [00:00<?, ?it/s]"
            ],
            "application/vnd.jupyter.widget-view+json": {
              "version_major": 2,
              "version_minor": 0,
              "model_id": "8877924a22444ba7a3ff18d4edc7132f"
            }
          },
          "metadata": {}
        },
        {
          "output_type": "stream",
          "name": "stderr",
          "text": [
            "INFO:pytorch_lightning.accelerators.cuda:LOCAL_RANK: 0 - CUDA_VISIBLE_DEVICES: [0]\n",
            "/usr/local/lib/python3.10/dist-packages/torch/jit/_trace.py:1306: TracerWarning: Output nr 1. of the traced function does not match the corresponding output of the Python function. Detailed error:\n",
            "Scalars are not close!\n",
            "\n",
            "Expected 3.6901957988739014 but got 3.6416261196136475.\n",
            "Absolute difference: 0.048569679260253906 (up to 1e-05 allowed)\n",
            "Relative difference: 0.01316181631204377 (up to 1e-05 allowed)\n",
            "  _check_trace(\n"
          ]
        },
        {
          "output_type": "display_data",
          "data": {
            "text/plain": [
              "Testing: |          | 0/? [00:00<?, ?it/s]"
            ],
            "application/vnd.jupyter.widget-view+json": {
              "version_major": 2,
              "version_minor": 0,
              "model_id": "1af6654a87cb467382edfa470b1984fa"
            }
          },
          "metadata": {}
        },
        {
          "output_type": "stream",
          "name": "stderr",
          "text": [
            "INFO:pytorch_lightning.utilities.rank_zero:GPU available: True (cuda), used: True\n",
            "INFO:pytorch_lightning.utilities.rank_zero:TPU available: False, using: 0 TPU cores\n",
            "INFO:pytorch_lightning.utilities.rank_zero:HPU available: False, using: 0 HPUs\n",
            "INFO:pytorch_lightning.accelerators.cuda:LOCAL_RANK: 0 - CUDA_VISIBLE_DEVICES: [0]\n"
          ]
        },
        {
          "output_type": "stream",
          "name": "stdout",
          "text": [
            "Found pretrained model, loading...\n",
            "Start fine-tuning MNISTFlow_vardeq\n"
          ]
        },
        {
          "output_type": "stream",
          "name": "stderr",
          "text": [
            "INFO:pytorch_lightning.callbacks.model_summary:\n",
            "  | Name  | Type       | Params | Mode  | In sizes | Out sizes\n",
            "--------------------------------------------------------------------\n",
            "0 | flows | ModuleList | 628 K  | train | ?        | ?        \n",
            "--------------------------------------------------------------------\n",
            "628 K     Trainable params\n",
            "0         Non-trainable params\n",
            "628 K     Total params\n",
            "2.514     Total estimated model params size (MB)\n",
            "327       Modules in train mode\n",
            "0         Modules in eval mode\n",
            "/usr/local/lib/python3.10/dist-packages/torch/jit/_trace.py:1306: TracerWarning: Output nr 1. of the traced function does not match the corresponding output of the Python function. Detailed error:\n",
            "Scalars are not close!\n",
            "\n",
            "Expected 6.75172233581543 but got 6.7243146896362305.\n",
            "Absolute difference: 0.02740764617919922 (up to 1e-05 allowed)\n",
            "Relative difference: 0.004059356237713099 (up to 1e-05 allowed)\n",
            "  _check_trace(\n"
          ]
        },
        {
          "output_type": "display_data",
          "data": {
            "text/plain": [
              "Sanity Checking: |          | 0/? [00:00<?, ?it/s]"
            ],
            "application/vnd.jupyter.widget-view+json": {
              "version_major": 2,
              "version_minor": 0,
              "model_id": "7b5b445b3d16412b95586c9e0e59327d"
            }
          },
          "metadata": {}
        },
        {
          "output_type": "display_data",
          "data": {
            "text/plain": [
              "Training: |          | 0/? [00:00<?, ?it/s]"
            ],
            "application/vnd.jupyter.widget-view+json": {
              "version_major": 2,
              "version_minor": 0,
              "model_id": "d54258c33312491c8c17d5981a20f80b"
            }
          },
          "metadata": {}
        }
      ]
    },
    {
      "cell_type": "code",
      "source": [
        "flow_dict[\"simple\"][\"result\"]"
      ],
      "metadata": {
        "id": "ySdax3QHtQgV",
        "colab": {
          "base_uri": "https://localhost:8080/"
        },
        "outputId": "1de0df4b-e9a2-4fa7-fb30-8eadcd34554b"
      },
      "execution_count": 77,
      "outputs": [
        {
          "output_type": "execute_result",
          "data": {
            "text/plain": [
              "{'test': [{'test_bpd': 3.4520010948181152}],\n",
              " 'val': [{'test_bpd': 3.4512243270874023}],\n",
              " 'time': 0.05481287267557375}"
            ]
          },
          "metadata": {},
          "execution_count": 77
        }
      ]
    },
    {
      "cell_type": "code",
      "source": [
        "flow_dict[\"vardeq\"][\"result\"]"
      ],
      "metadata": {
        "colab": {
          "base_uri": "https://localhost:8080/"
        },
        "id": "aqBp_xzYnk2J",
        "outputId": "e9ffa0a9-f9b5-40da-963b-e87cb8383de0"
      },
      "execution_count": 78,
      "outputs": [
        {
          "output_type": "execute_result",
          "data": {
            "text/plain": [
              "{'test': [{'test_bpd': 3.3730628490448}],\n",
              " 'val': [{'test_bpd': 3.3721656799316406}],\n",
              " 'time': 0.06984678442311135}"
            ]
          },
          "metadata": {},
          "execution_count": 78
        }
      ]
    },
    {
      "cell_type": "code",
      "source": [
        "flow_dict[\"multiscale\"][\"result\"]"
      ],
      "metadata": {
        "colab": {
          "base_uri": "https://localhost:8080/"
        },
        "id": "B4wGMJOonnBx",
        "outputId": "df0238da-532f-4643-ffc4-5221f7f48c7b"
      },
      "execution_count": 79,
      "outputs": [
        {
          "output_type": "execute_result",
          "data": {
            "text/plain": [
              "{'test': [{'test_bpd': 3.2447009086608887}],\n",
              " 'val': [{'test_bpd': 3.2422232627868652}],\n",
              " 'time': 0.04676129711661369}"
            ]
          },
          "metadata": {},
          "execution_count": 79
        }
      ]
    },
    {
      "cell_type": "markdown",
      "source": [
        "## Density Modeling & Sampling"
      ],
      "metadata": {
        "id": "aACvYbx6tSpE"
      }
    },
    {
      "cell_type": "code",
      "source": [
        "%%html\n",
        "<!-- Some HTML code to increase font size in the following table -->\n",
        "<style>\n",
        "th {font-size: 120%;}\n",
        "td {font-size: 120%;}\n",
        "</style>"
      ],
      "metadata": {
        "id": "1xsw6si9tXR7",
        "colab": {
          "base_uri": "https://localhost:8080/",
          "height": 17
        },
        "outputId": "7db64c98-8e25-4424-df8a-c6ae495f6211"
      },
      "execution_count": 58,
      "outputs": [
        {
          "output_type": "display_data",
          "data": {
            "text/plain": [
              "<IPython.core.display.HTML object>"
            ],
            "text/html": [
              "<!-- Some HTML code to increase font size in the following table -->\n",
              "<style>\n",
              "th {font-size: 120%;}\n",
              "td {font-size: 120%;}\n",
              "</style>\n"
            ]
          },
          "metadata": {}
        }
      ]
    },
    {
      "cell_type": "code",
      "source": [
        "import tabulate\n",
        "from IPython.display import display, HTML\n",
        "\n",
        "table = [[key,\n",
        "          \"%4.3f bpd\" % flow_dict[key][\"result\"][\"val\"][0][\"test_bpd\"],\n",
        "          \"%4.3f bpd\" % flow_dict[key][\"result\"][\"test\"][0][\"test_bpd\"],\n",
        "          \"%2.0f ms\" % (1000 * flow_dict[key][\"result\"][\"time\"]),\n",
        "          \"%2.0f ms\" % (1000 * flow_dict[key][\"result\"].get(\"samp_time\", 0)),\n",
        "          \"{:,}\".format(sum([np.prod(p.shape) for p in flow_dict[key][\"model\"].parameters()]))]\n",
        "         for key in flow_dict]\n",
        "display(HTML(tabulate.tabulate(table, tablefmt='html', headers=[\"Model\", \"Validation Bpd\", \"Test Bpd\", \"Inference time\", \"Sampling time\", \"Num Parameters\"])))"
      ],
      "metadata": {
        "id": "1zzjgGSotY62",
        "colab": {
          "base_uri": "https://localhost:8080/",
          "height": 102
        },
        "outputId": "170448df-9933-451b-d7f9-f736c6001484"
      },
      "execution_count": 80,
      "outputs": [
        {
          "output_type": "display_data",
          "data": {
            "text/plain": [
              "<IPython.core.display.HTML object>"
            ],
            "text/html": [
              "<table>\n",
              "<thead>\n",
              "<tr><th>Model     </th><th>Validation Bpd  </th><th>Test Bpd  </th><th>Inference time  </th><th>Sampling time  </th><th>Num Parameters  </th></tr>\n",
              "</thead>\n",
              "<tbody>\n",
              "<tr><td>simple    </td><td>3.451 bpd       </td><td>3.452 bpd </td><td>55 ms           </td><td>0 ms           </td><td>556,312         </td></tr>\n",
              "<tr><td>vardeq    </td><td>3.372 bpd       </td><td>3.373 bpd </td><td>70 ms           </td><td>0 ms           </td><td>628,388         </td></tr>\n",
              "<tr><td>multiscale</td><td>3.242 bpd       </td><td>3.245 bpd </td><td>47 ms           </td><td>0 ms           </td><td>1,711,818       </td></tr>\n",
              "</tbody>\n",
              "</table>"
            ]
          },
          "metadata": {}
        }
      ]
    },
    {
      "cell_type": "markdown",
      "source": [
        "## Interpolation in Latent Space\n"
      ],
      "metadata": {
        "id": "_QMBP2EYtctl"
      }
    },
    {
      "cell_type": "code",
      "source": [
        "@torch.no_grad()\n",
        "def interpolate(model, img1, img2, num_steps=8):\n",
        "    \"\"\"\n",
        "    Inputs:\n",
        "        model - object of ImageFlow class that represents the (trained) flow model\n",
        "        img1, img2 - Image tensors of shape [1, 28, 28]. Images between which should be interpolated.\n",
        "        num_steps - Number of interpolation steps. 8 interpolation steps mean 6 intermediate pictures besides img1 and img2\n",
        "    \"\"\"\n",
        "    imgs = torch.stack([img1, img2], dim=0).to(\"cuda\")\n",
        "    z, _ = model.encode(imgs)\n",
        "    alpha = torch.linspace(0, 1, steps=num_steps, device=\"cuda\").view(-1, 1, 1, 1)\n",
        "    interpolations = z[0:1] * alpha + z[1:2] * (1 - alpha)\n",
        "    interp_imgs = model.sample(interpolations.shape[:1] + imgs.shape[1:], z_init=interpolations)\n",
        "    show_imgs(interp_imgs, row_size=8)\n",
        "\n",
        "exmp_imgs, _ = next(iter(train_loader))"
      ],
      "metadata": {
        "id": "0TEP_z4TtgA6"
      },
      "execution_count": 81,
      "outputs": []
    },
    {
      "cell_type": "code",
      "source": [
        "print(flow_dict[\"vardeq\"][\"model\"].device)"
      ],
      "metadata": {
        "colab": {
          "base_uri": "https://localhost:8080/"
        },
        "id": "3JE-oRaH-I7I",
        "outputId": "eff35c27-9061-4927-a6f2-8042cb50b40f"
      },
      "execution_count": 61,
      "outputs": [
        {
          "output_type": "stream",
          "name": "stdout",
          "text": [
            "cpu\n"
          ]
        }
      ]
    },
    {
      "cell_type": "code",
      "source": [
        "pl.seed_everything(42)\n",
        "for i in range(2):\n",
        "    interpolate(flow_dict[\"vardeq\"][\"model\"].to(\"cuda\"), exmp_imgs[2*i], exmp_imgs[2*i+1])"
      ],
      "metadata": {
        "id": "5ryC18xTtjtY",
        "colab": {
          "base_uri": "https://localhost:8080/",
          "height": 304
        },
        "outputId": "825a8389-569f-42aa-e845-b9924b90092b"
      },
      "execution_count": 82,
      "outputs": [
        {
          "output_type": "stream",
          "name": "stderr",
          "text": [
            "INFO:lightning_fabric.utilities.seed:Seed set to 42\n"
          ]
        },
        {
          "output_type": "display_data",
          "data": {
            "text/plain": [
              "<Figure size 1200x150 with 1 Axes>"
            ],
            "image/svg+xml": "<?xml version=\"1.0\" encoding=\"utf-8\" standalone=\"no\"?>\n<!DOCTYPE svg PUBLIC \"-//W3C//DTD SVG 1.1//EN\"\n  \"http://www.w3.org/Graphics/SVG/1.1/DTD/svg11.dtd\">\n<svg xmlns:xlink=\"http://www.w3.org/1999/xlink\" width=\"643.2975pt\" height=\"97.56pt\" viewBox=\"0 0 643.2975 97.56\" xmlns=\"http://www.w3.org/2000/svg\" version=\"1.1\">\n <metadata>\n  <rdf:RDF xmlns:dc=\"http://purl.org/dc/elements/1.1/\" xmlns:cc=\"http://creativecommons.org/ns#\" xmlns:rdf=\"http://www.w3.org/1999/02/22-rdf-syntax-ns#\">\n   <cc:Work>\n    <dc:type rdf:resource=\"http://purl.org/dc/dcmitype/StillImage\"/>\n    <dc:date>2024-11-29T09:13:00.077950</dc:date>\n    <dc:format>image/svg+xml</dc:format>\n    <dc:creator>\n     <cc:Agent>\n      <dc:title>Matplotlib v3.8.0, https://matplotlib.org/</dc:title>\n     </cc:Agent>\n    </dc:creator>\n   </cc:Work>\n  </rdf:RDF>\n </metadata>\n <defs>\n  <style type=\"text/css\">*{stroke-linejoin: round; stroke-linecap: butt}</style>\n </defs>\n <g id=\"figure_1\">\n  <g id=\"patch_1\">\n   <path d=\"M 0 97.56 \nL 643.2975 97.56 \nL 643.2975 0 \nL 0 0 \nz\n\" style=\"fill: #ffffff\"/>\n  </g>\n  <g id=\"axes_1\">\n   <g clip-path=\"url(#pe39f622a1c)\">\n    <image xlink:href=\"data:image/png;base64,\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\" id=\"image52e9f37937\" transform=\"scale(1 -1) translate(0 -83.52)\" x=\"7.2\" y=\"-6.84\" width=\"629.28\" height=\"83.52\"/>\n   </g>\n  </g>\n </g>\n <defs>\n  <clipPath id=\"pe39f622a1c\">\n   <rect x=\"7.2\" y=\"7.2\" width=\"628.8975\" height=\"83.16\"/>\n  </clipPath>\n </defs>\n</svg>\n",
            "application/pdf": "[encoded data removed]"
          },
          "metadata": {}
        },
        {
          "output_type": "display_data",
          "data": {
            "text/plain": [
              "<Figure size 1200x150 with 1 Axes>"
            ],
            "image/svg+xml": "<?xml version=\"1.0\" encoding=\"utf-8\" standalone=\"no\"?>\n<!DOCTYPE svg PUBLIC \"-//W3C//DTD SVG 1.1//EN\"\n  \"http://www.w3.org/Graphics/SVG/1.1/DTD/svg11.dtd\">\n<svg xmlns:xlink=\"http://www.w3.org/1999/xlink\" width=\"643.2975pt\" height=\"97.56pt\" viewBox=\"0 0 643.2975 97.56\" xmlns=\"http://www.w3.org/2000/svg\" version=\"1.1\">\n <metadata>\n  <rdf:RDF xmlns:dc=\"http://purl.org/dc/elements/1.1/\" xmlns:cc=\"http://creativecommons.org/ns#\" xmlns:rdf=\"http://www.w3.org/1999/02/22-rdf-syntax-ns#\">\n   <cc:Work>\n    <dc:type rdf:resource=\"http://purl.org/dc/dcmitype/StillImage\"/>\n    <dc:date>2024-11-29T09:13:00.374749</dc:date>\n    <dc:format>image/svg+xml</dc:format>\n    <dc:creator>\n     <cc:Agent>\n      <dc:title>Matplotlib v3.8.0, https://matplotlib.org/</dc:title>\n     </cc:Agent>\n    </dc:creator>\n   </cc:Work>\n  </rdf:RDF>\n </metadata>\n <defs>\n  <style type=\"text/css\">*{stroke-linejoin: round; stroke-linecap: butt}</style>\n </defs>\n <g id=\"figure_1\">\n  <g id=\"patch_1\">\n   <path d=\"M 0 97.56 \nL 643.2975 97.56 \nL 643.2975 0 \nL 0 0 \nz\n\" style=\"fill: #ffffff\"/>\n  </g>\n  <g id=\"axes_1\">\n   <g clip-path=\"url(#pceefb26c04)\">\n    <image xlink:href=\"data:image/png;base64,\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\" id=\"imagee50a6f6d21\" transform=\"scale(1 -1) translate(0 -83.52)\" x=\"7.2\" y=\"-6.84\" width=\"629.28\" height=\"83.52\"/>\n   </g>\n  </g>\n </g>\n <defs>\n  <clipPath id=\"pceefb26c04\">\n   <rect x=\"7.2\" y=\"7.2\" width=\"628.8975\" height=\"83.16\"/>\n  </clipPath>\n </defs>\n</svg>\n",
            "application/pdf": "[encoded data removed]"
          },
          "metadata": {}
        }
      ]
    },
    {
      "cell_type": "code",
      "source": [
        "pl.seed_everything(42)\n",
        "for i in range(2):\n",
        "    interpolate(flow_dict[\"multiscale\"][\"model\"].to(\"cuda\"), exmp_imgs[2*i], exmp_imgs[2*i+1])"
      ],
      "metadata": {
        "id": "Uhdag99mtlOD",
        "colab": {
          "base_uri": "https://localhost:8080/",
          "height": 304
        },
        "outputId": "1522b2e5-3a4f-4e17-87dc-eb34e2144b95"
      },
      "execution_count": 83,
      "outputs": [
        {
          "output_type": "stream",
          "name": "stderr",
          "text": [
            "INFO:lightning_fabric.utilities.seed:Seed set to 42\n"
          ]
        },
        {
          "output_type": "display_data",
          "data": {
            "text/plain": [
              "<Figure size 1200x150 with 1 Axes>"
            ],
            "image/svg+xml": "<?xml version=\"1.0\" encoding=\"utf-8\" standalone=\"no\"?>\n<!DOCTYPE svg PUBLIC \"-//W3C//DTD SVG 1.1//EN\"\n  \"http://www.w3.org/Graphics/SVG/1.1/DTD/svg11.dtd\">\n<svg xmlns:xlink=\"http://www.w3.org/1999/xlink\" width=\"643.2975pt\" height=\"97.56pt\" viewBox=\"0 0 643.2975 97.56\" xmlns=\"http://www.w3.org/2000/svg\" version=\"1.1\">\n <metadata>\n  <rdf:RDF xmlns:dc=\"http://purl.org/dc/elements/1.1/\" xmlns:cc=\"http://creativecommons.org/ns#\" xmlns:rdf=\"http://www.w3.org/1999/02/22-rdf-syntax-ns#\">\n   <cc:Work>\n    <dc:type rdf:resource=\"http://purl.org/dc/dcmitype/StillImage\"/>\n    <dc:date>2024-11-29T09:13:04.427260</dc:date>\n    <dc:format>image/svg+xml</dc:format>\n    <dc:creator>\n     <cc:Agent>\n      <dc:title>Matplotlib v3.8.0, https://matplotlib.org/</dc:title>\n     </cc:Agent>\n    </dc:creator>\n   </cc:Work>\n  </rdf:RDF>\n </metadata>\n <defs>\n  <style type=\"text/css\">*{stroke-linejoin: round; stroke-linecap: butt}</style>\n </defs>\n <g id=\"figure_1\">\n  <g id=\"patch_1\">\n   <path d=\"M 0 97.56 \nL 643.2975 97.56 \nL 643.2975 0 \nL 0 0 \nz\n\" style=\"fill: #ffffff\"/>\n  </g>\n  <g id=\"axes_1\">\n   <g clip-path=\"url(#p84d2a027c3)\">\n    <image xlink:href=\"data:image/png;base64,\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\" id=\"image419486816e\" transform=\"scale(1 -1) translate(0 -83.52)\" x=\"7.2\" y=\"-6.84\" width=\"629.28\" height=\"83.52\"/>\n   </g>\n  </g>\n </g>\n <defs>\n  <clipPath id=\"p84d2a027c3\">\n   <rect x=\"7.2\" y=\"7.2\" width=\"628.8975\" height=\"83.16\"/>\n  </clipPath>\n </defs>\n</svg>\n",
            "application/pdf": "[encoded data removed]"
          },
          "metadata": {}
        },
        {
          "output_type": "display_data",
          "data": {
            "text/plain": [
              "<Figure size 1200x150 with 1 Axes>"
            ],
            "image/svg+xml": "<?xml version=\"1.0\" encoding=\"utf-8\" standalone=\"no\"?>\n<!DOCTYPE svg PUBLIC \"-//W3C//DTD SVG 1.1//EN\"\n  \"http://www.w3.org/Graphics/SVG/1.1/DTD/svg11.dtd\">\n<svg xmlns:xlink=\"http://www.w3.org/1999/xlink\" width=\"643.2975pt\" height=\"97.56pt\" viewBox=\"0 0 643.2975 97.56\" xmlns=\"http://www.w3.org/2000/svg\" version=\"1.1\">\n <metadata>\n  <rdf:RDF xmlns:dc=\"http://purl.org/dc/elements/1.1/\" xmlns:cc=\"http://creativecommons.org/ns#\" xmlns:rdf=\"http://www.w3.org/1999/02/22-rdf-syntax-ns#\">\n   <cc:Work>\n    <dc:type rdf:resource=\"http://purl.org/dc/dcmitype/StillImage\"/>\n    <dc:date>2024-11-29T09:13:04.757259</dc:date>\n    <dc:format>image/svg+xml</dc:format>\n    <dc:creator>\n     <cc:Agent>\n      <dc:title>Matplotlib v3.8.0, https://matplotlib.org/</dc:title>\n     </cc:Agent>\n    </dc:creator>\n   </cc:Work>\n  </rdf:RDF>\n </metadata>\n <defs>\n  <style type=\"text/css\">*{stroke-linejoin: round; stroke-linecap: butt}</style>\n </defs>\n <g id=\"figure_1\">\n  <g id=\"patch_1\">\n   <path d=\"M 0 97.56 \nL 643.2975 97.56 \nL 643.2975 0 \nL 0 0 \nz\n\" style=\"fill: #ffffff\"/>\n  </g>\n  <g id=\"axes_1\">\n   <g clip-path=\"url(#peaa427101b)\">\n    <image xlink:href=\"data:image/png;base64,\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\" id=\"imageffa8406057\" transform=\"scale(1 -1) translate(0 -83.52)\" x=\"7.2\" y=\"-6.84\" width=\"629.28\" height=\"83.52\"/>\n   </g>\n  </g>\n </g>\n <defs>\n  <clipPath id=\"peaa427101b\">\n   <rect x=\"7.2\" y=\"7.2\" width=\"628.8975\" height=\"83.16\"/>\n  </clipPath>\n </defs>\n</svg>\n",
            "application/pdf": "[encoded data removed]"
          },
          "metadata": {}
        }
      ]
    },
    {
      "cell_type": "markdown",
      "source": [
        "## Visualization of Latents in Different Levels of Multi-Scale\n"
      ],
      "metadata": {
        "id": "4OLMQSKvtpNw"
      }
    },
    {
      "cell_type": "code",
      "source": [
        "pl.seed_everything(44)\n",
        "for _ in range(3):\n",
        "    z_init = flow_dict[\"multiscale\"][\"model\"].prior.sample(sample_shape=[1,8,7,7])\n",
        "    z_init = z_init.expand(8, -1, -1, -1)\n",
        "    samples = flow_dict[\"multiscale\"][\"model\"].sample(img_shape=z_init.shape, z_init=z_init)\n",
        "    show_imgs(samples.cpu())"
      ],
      "metadata": {
        "id": "RlNpUwJ7tmsg",
        "colab": {
          "base_uri": "https://localhost:8080/",
          "height": 771
        },
        "outputId": "4fa0ed64-854b-4207-bd23-ace6800f8c24"
      },
      "execution_count": 84,
      "outputs": [
        {
          "output_type": "stream",
          "name": "stderr",
          "text": [
            "INFO:lightning_fabric.utilities.seed:Seed set to 44\n"
          ]
        },
        {
          "output_type": "display_data",
          "data": {
            "text/plain": [
              "<Figure size 600x300 with 1 Axes>"
            ],
            "image/svg+xml": "<?xml version=\"1.0\" encoding=\"utf-8\" standalone=\"no\"?>\n<!DOCTYPE svg PUBLIC \"-//W3C//DTD SVG 1.1//EN\"\n  \"http://www.w3.org/Graphics/SVG/1.1/DTD/svg11.dtd\">\n<svg xmlns:xlink=\"http://www.w3.org/1999/xlink\" width=\"341.674839pt\" height=\"180.72pt\" viewBox=\"0 0 341.674839 180.72\" xmlns=\"http://www.w3.org/2000/svg\" version=\"1.1\">\n <metadata>\n  <rdf:RDF xmlns:dc=\"http://purl.org/dc/elements/1.1/\" xmlns:cc=\"http://creativecommons.org/ns#\" xmlns:rdf=\"http://www.w3.org/1999/02/22-rdf-syntax-ns#\">\n   <cc:Work>\n    <dc:type rdf:resource=\"http://purl.org/dc/dcmitype/StillImage\"/>\n    <dc:date>2024-11-29T09:13:07.484276</dc:date>\n    <dc:format>image/svg+xml</dc:format>\n    <dc:creator>\n     <cc:Agent>\n      <dc:title>Matplotlib v3.8.0, https://matplotlib.org/</dc:title>\n     </cc:Agent>\n    </dc:creator>\n   </cc:Work>\n  </rdf:RDF>\n </metadata>\n <defs>\n  <style type=\"text/css\">*{stroke-linejoin: round; stroke-linecap: butt}</style>\n </defs>\n <g id=\"figure_1\">\n  <g id=\"patch_1\">\n   <path d=\"M 0 180.72 \nL 341.674839 180.72 \nL 341.674839 0 \nL 0 0 \nz\n\" style=\"fill: #ffffff\"/>\n  </g>\n  <g id=\"axes_1\">\n   <g clip-path=\"url(#pbcba94b51a)\">\n    <image xlink:href=\"data:image/png;base64,\niVBORw0KGgoAAAANSUhEUgAAAccAAADnCAYAAABrJ50wAAAxxUlEQVR4nO2dd7hV1fG/x5hoBBXpXZoUQUCCgoKAgChgiYUQGyomFjQaNNHoo/jFEoka8REs2KOiiKIIIk2MSImCBUNHqnQximBLz++//Zt5D3cfjrecc+Hz/rXmWfecvc9ee+1193zWzOwzdOjQ/5kQQgghEn6Q7xMQQgghCg0tjkIIIQTQ4iiEEEIALY5CCCEE0OIohBBCAC2OQgghBPhhWufQoUNL7EA/+EH6Ovzf//53t7/rsMMOS9pffPFF6Ntnn32C3bRp02D36NEjaXfu3Dn0jR8/Ptg//GG8PGPGjEnaO3bs2O3zLU3SxijX8fPXrmLFiqHvm2++KfJz//vf948GatCgQbCnTZsW7H/961/BXrduXdLmPTV79uxg33PPPUn7P//5z/c+x9Ikl/Hbd999g/2jH/0oaf/9739PPQ6vVdp84xzyxzEzq1KlStIePHhw6LvggguC7ceL99DWrVuD/dvf/jbY27ZtS9oHHHBA6Pv22293ceZlT0nOPw/HwLPffvsF+x//+Efqd/lr9+9//zv0cX4dcsghwf7yyy+Tdo0aNULf2LFjg127du1g9+rVK2lv2LAh9OVyP5YmaWOkN0chhBACaHEUQgghgBZHIYQQAqRqjrnifdv0g1MvSdOAfvzjHwd72LBhwe7fv3/Srly5cpHnsKvjeI2S/vXu3bsH+9133w12nz59kvbPfvaz0PfPf/7TCh3qGNQK/RhR06H+6q8rv6dSpUrBbtmyZbCnTp2atPfff//QR33L60787po1a4Y+Pz5mZldfffUuz9fM7MQTTwz2smXLrNDhb/A2NWJqSZx/fn5S76EedOCBBwbbXyt+L8ezQoUKSZtj6fV/szivzcx27tyZtNevXx/6OnXqFOxsulshkKYj8r7n+HmyPWs4BvXr10/a2XRCzil/j3399dehj/cFf5/X8w4//PDQ9/jjjwf7ySeftEJDb45CCCEE0OIohBBCAC2OQgghBChRzfG7775L2vQ/p/nQSbdu3YLdsGHDIo9DHYbxXl7zMIv+eMYqLlq0KNgdOnQIto+jY7xQeSBbPKK/ltSdOH5pcavLly8P9nPPPVfkZzdu3Bj6qHls3rw52H48P/zww9DH+8Rr1wcddFDo69u3b7DLg+ZI/Bzj+FC39/odP0uuv/76YG/ZsiXYX331VdKm5sjz8PNkyJAhoW/UqFFF/q1ZHGuOrY+hMzN7/fXXg12c2NvSgtfKxw3yGnN8vC6cNnZmZo0bNw72ueeem7THjRsX+rwub2a2ffv2YPux5j3FZwB101atWiXtZs2ahb727dsHW5qjEEIIUQ7Q4iiEEEIALY5CCCEEyElzZE4/xhR6Pz/94rnkIqVvu27dusH28TaMczz00EODzXyOXq/829/+Fvrq1KkTbGogXbp0SdrUrCZNmmSFDjWPatWqBdtrjtQeqC+kaTrTp08Pdrt27YLtc2oyPo0aMeOjvPbCsWccXb169ZI2Y7ReeeWVXZ57IcNr43+/14bMctP4sx2H8aM+3yZjWjkmmzZtStrDhw9PPce1a9cGu1GjRkWe0+rVq4NdiBoj4TPRzynGERcn16jXGM2i3sd9FLxvmjRpEmx/XflM4H4AzrE2bdoU2Tdjxoxg+2vDscwWn11a6M1RCCGEAFochRBCCJCTW5Wv+nxV9qVsWHqoY8eOwU5z+9BdS3enD9dg2iyGdqxcuTLY8+bNS9pnnXVW6ON30RVctWrVIs8xW4mnNLdBaUFXKK8N3cq+vziuDO/ONMt0ifmUVQsXLgx9PC7LGPkt33Sj1qpVK9jeVcWUW/ztaeTLrUPoFve/n245pkbk7/f9dJcdccQRweb4+fnI0Cleq/vvvz9pU3p45JFHgl29evVgU8bxMAQojUIZP84/73LmOaWVjsp2/sccc0yw/e/nHPHPQzOzrl27BvvCCy9M2nyGz58/P9hprm/vYjXLTE+Zy5iU1XjqzVEIIYQAWhyFEEIIoMVRCCGEADlpjtSwqHP4/l//+tehL9vWZO9HZjkTplby3+VLUJmZNW3aNNgsLXXKKackbW5Fpm7Ikiz+902cONFyIR86B685U6gRr2lRU/UhMGZRA+F9Qe2I3+W1XKYFI9QkW7RokbRnzpwZ+k466aRge13Rp+oyy62kWqGECVCz8hoPU3dxPwDvhc8//7zI41APYniUn3O8buSll15K2gwd4pjwN/hz5rOGmj77fRhWoYwf50FaGjiOtZ9jHEuOQc+ePYPt7/XPPvss9DVv3jzYXgc1i7rvJZdcEvquueaaYDMEzz8/+SzleaT9vnyNn94chRBCCKDFUQghhABaHIUQQgiQk+bIWCnaXpeiH5wxS9SwvF+ZvvmlS5cG22sgH3/8cZF9ZmY333xzsL2f3MdlmpmdccYZwWYqrCeeeCJp51LCqVCgTpPmy2eclS/1ZRY1R2oE1B6ob/nrynNi/OEbb7wRbK9nXnnllaFv/fr1wfbnRQ2H9262MkCFALXA4pAWdztnzpxgM1b47LPPTtq8jvwuP2duv/320McyU+edd16w/XdTI+ZxipNurazgvV5S8N7mvXzDDTckbeqEZMqUKcH2z7mHHnoo9FGvPOqoo4Lt93C0bt069FHbLMTxK/wnuhBCCFHGaHEUQgghgBZHIYQQAuSkOWbD6wCMTWTpoeXLlwfb+5yXLFkS+hjr5nM/tm3bNvSxlM1FF10U7Msuuyxp+5g5s0ydlDkn+/fvn7Svuuqq0FcosVRp5OLXX7duXbCZ3zYN6svUhf13MU61Zs2awU6L32vQoEHoo/ayc+fOpM0Yu1xKcO0JcEyoFXqYL5X7A7wezXnMse7cuXPSnjVrVug7+eSTg8370+vPzPfK8SrE3JwliY8JZYwgz58x2C+++GLSvvfee0Pf6NGjg80xWbZsWdLmM9zPL7P0e4z3VC5xnBwvPqdZWrCk0JujEEIIAbQ4CiGEEKBE3aoevup/+umnwe7SpUuR/QzH4DbgxYsXJ21fLdws0wVEt5x/RWeaJbqENmzYEGxf3oXhCnTb5VJSpzywdevWYHsXCl109evXDzZdsn6MGC5D6ELxacJYGot/6105HNsFCxYEm6WxGEJS3mHokU8lyGrwDBnp1q1bsFesWJG0OQ9Y5s3385lAFx7P0bvQ+VmmKOQ8Z2pIT3lwoxI/JldffXXoe+CBB4L9y1/+Mtj9+vVL2rNnzw59lDF4L/h0nF5WMsuUJtLScVKmefjhh4M9aNCgpM1wruK40IuD3hyFEEIIoMVRCCGEAFochRBCCFBqmiOpVatWsJk+6JNPPknaTBXFv23SpEnSpj7Cbb3cbuxLaU2aNCn0de/ePdhM93TWWWclbfrqn3nmGduToZ7nt9Z/9NFHoY/lkqg3eH2WW7qZao5lxLxO3K5du9DH7/KaMbehMxUWf8OeBrfDe5vlnoYPHx7ssWPHBrtVq1ZJu2rVqqGPmpXXo30aMzOzqVOnBvvUU08NtteMeU9Rc1yzZo3tyXid3odmmGXe9/5ZamY2ZsyYpO3TPppl7pXg3oK5c+cW+b0Mo2PaTz+XWbKKzwSvgfMZQI2Rv7e00JujEEIIAbQ4CiGEEECLoxBCCAFKTXOkxkEtghpC3bp1k/bMmTNDH33ZjIfyeN+1WWbcY9++fZM29RKmMqOe6TUs+sGpf7HMT3mHMU0PPvhg0ma8GnVfXmevX1LvYrwa004NGDAgaTN2kefoY+w4tjxH3idpJZ3yRXHSnjEll9f1s6Xjou3nBfcHVKhQIdg+fvm2224LfaeffnqwjznmmCLPmePDEmq8Twpx/IqD19mYmpOwdJsfX8abc2wZO+znrk+9aZYZj8g4R//dTMXJPRv+uDz/stIYid4chRBCCKDFUQghhABllj6Or8qsGu3drKxCT5eQr6ZBdy3dL3z199ntp0+fHvqYHompsPz2cYYG8JxffvnlYPvfkC83T3HccnSfeRcLs/EvXbo02BwT7xanu4UuPrrpKlWqlLT9WJplprHbtm1b0uY91KZNm2Az5Z132fKz+Rq/kjyu/7383r/85S/B5nX20oW/xmaZ6Rz9tnyGZPXq1SvYtWvXDvaHH36YtOkOHDlyZLDPOOOMYPvKFYVShYNu/1yq5Hg4Jygz8Xu93bBhw9DHuUsXpq98w+NyrjIsxD+bs1Xl8POa45Ov8dOboxBCCAG0OAohhBBAi6MQQggBSk1zpD+aPua1a9cGu3HjxkmbJaqYTujggw9O2kzxRt82/fE+VMBrGmZmp512WpF/axZDA6jBeZ+5Wf62H6dRkr76hQsXJm0fhmOWqSPyuH6LN0tWUZeizuG3sVOjSiuZw9RX1H98GSaz768HFQr8fRwDr5FTU2TKRY7vX//616TN8kgMM/DpyFiKrlOnTkX+rVlMOcawKoZ3cW+Bh9ciX3OzpO4pXgvC1Hr+WcxrwbFnejmv3fKaM7UjP+v3bPCzvMf8s7hQ5p7eHIUQQgigxVEIIYQAWhyFEEIIUGqaI/36jFWhjuhtxj8xxdGdd96ZtBlXRT8409T5uJ7evXuHPpZRoW7q/fXz588PfUOGDLE0/GcLxadeUjDW7YUXXgh2hw4dgu3j5Kg5ej3ZLDOO9cgjj0za1K0Z5+h14Tp16oQ+xs2ljUmhxMnlQrZ77P333y+yj7ov0wN27tw5aTN+mdfGa02MqeMYMFbY683UsX0qR7P0MdoT5ltaOjw+pxiv7Z/Ft9xyS+ijzsv56K8791nw2fqTn/wk2P65QM3/hBNOCHba87Ok4kNzRW+OQgghBNDiKIQQQgAtjkIIIQQoUc3R+8UZn5YtLsmXoJkzZ07ou/TSS4PtYwqpbTLWhhqk16Wob7EEUseOHYv8rkGDBoW+CRMmBJu/YU/QPTw+BpRxVffdd1+wV61aFWwfm8r8tbxPGGvq41apMTK3oy+HxZySjH8dPXp0sM8///ykXagao9diWPqLvy9bv+e5554LNstD+fhDxhlzPvrjUhdkeSTGKPs5w/uEuhq54oorkjbPn7l+80Wajshr47XARYsWhT7meX7zzTeDPWzYsKTdtWvX0Pfee+8Fm/eF3x/AZzbnJssF+nnPuEY+l/v165e0n3rqqdCXr2en3hyFEEIIoMVRCCGEAMVyq3ILsU8P1bJly9DHEkHDhw8P9uWXX5606V4ZMWJEsP0WcLpR6Zaju8JvP6ZbwIcJmJmtXr062D49mS/lYmbWrFmzYC9evDjY3q1QKC5WbpH27mq64eiy9OnWuB2c7jO6r/2Wfo414Xf5MeD5M32cT33FcJNjjz022HT9+nOk+7ZQ8Pc2r0Xbtm2DzSruN9xwQ9Jm6BTdkGlb+BmSxTSK/hwXLFgQ+hii1aRJkyKPwzAruuko4/g5lu0eyxd+zLyr2ixzDPxzjSEvLP9H96d/ti5btiz00V1dpUqVIvsZVsVnLUOA/L3BZ4Sfm2bp8zpf6f705iiEEEIALY5CCCEE0OIohBBCgGJpjmllqJjai6ENtWrVCvZJJ51U5GfpF/elo5iSinreF198EWy/RZp6Jf+WmiTP2cPt1EuXLg22T8HF8kjZStCUFrxWPlUU/f7Ulp555pmkzbAW6nfUSLx2QX2E14K6th+TmjVrhr7ly5cH248nNe8XX3wx2AMHDgy2T1F48803h75C1LB4Th999FGwr7zyymB7DfKOO+4IfbyO1J+9jkjdkGnC/DPCz1uzTF2N88+HBlCzmjhxYrDbtWtnRVGooTj+vKihUt9r3rx50r7nnntCH+eXLylmFp9bc+fODX3UiBma47Vc6rp8/jMdoE/Z+Oqrr4a+vn37BtunM6xatWro436BskJvjkIIIQTQ4iiEEEIALY5CCCEEKJbmmEspH/rQR40aFWzv62b8DGPsfPqnV155JfSde+65qcf1fvEtW7aEvvr16web2pmP92LsHvVL6lTUAQqBXMr8UIP0v5+/laVsqBt67YKaI1PRUVP2+hdjSRlr6nVS/i1LWDF9nE8lSD0vXyV0igPP8fTTT0/anIssMUbN0euMvK5Me+Z1RmpWjB/l/ei1zyOOOCL01a5dO9jUOn3KyUcffTT0Fcr4+fnGZyftyZMnJ22Wd2LsIstOeT2T84t6HtO6+ecy+zgvGDv8yCOPJG3G3fKc/Z6Nww47LPQxnVza/ViS6M1RCCGEAFochRBCCKDFUQghhADF0hxziR/i3zKmyce20JfdunXrYI8dOzZpt2/fPvRR16De5W3mEWScDkvbeE2EOgXzslLTevrpp5N2vnIFEl6bNN899SCv+fA6MT6UGojXlJm3kzZzTnodkfGvLNXjy+9Q22R5Msbhei3b6z1mmZpqvihO/N6GDRuSdqNGjUJfWtkis3jfcGyp8XuNi3GO/Nu0PQC85rznTjjhhGD7uDlqjIUS95hWsiqNunXrBjstDtwsxkFS56V+xzjjxo0bJ20fB22WGafKMmJ+X0KrVq1C37Rp04Ltz4vPVj57SktjJHpzFEIIIYAWRyGEEAIUy62aC3Qb8BXdp1vzpa/YZxZdeoMHDw59dKvSJetdRkz51qNHj2AzlMO7dnhOTZs2DXZaGrRCcavm4p7gOc+fPz9p00XJ7eLHHXdcsDdu3Ji0L7zwwtDH0A2GzPhUWKeeemroYxkxfxymv2N5HYaB+JJOdOvsCaxcuTJp05XtU5WZZabp89eV8y9NbmCaM6b043HHjx+ftJlejfPPyxZmMd1ctrCrfPF9Q0jojp43b16wOV7+OjPk5dprrw0273UvPXH8GLZz0003BfuDDz5I2v6eMcssWeXdu1wb+Ezg/Vpa6M1RCCGEAFochRBCCKDFUQghhABlpjmSYcOGBfvWW29N2tQIpkyZEmyvOXKb9rp164LdsGHDYPvtx08++WTou+aaa4LN0lJed+vVq1foo2Y1YsSIYHN7fHnHl6Ch1uf1LLNMjeTee+9N2tRdGMbDLft+2zpTUFE/8VoMQ2t4zjxHbxdK6EZJ8tprryVtarcTJkwItg+dMov6elq4k1lmiaS0vu7duxd5HI7P+vXrg00Ny4czlIf0frmwYMGCYDPdpi8nZxb3VsyaNSv0MQyEewv8deceDK8pmmWGs/nwvCZNmoS+fv36Bfuhhx5K2m+//XboKyuNkejNUQghhABaHIUQQgigxVEIIYQApaY5Zitn5UuhmMX0XqtXrw59S5YsKfKz/B7C/nfeeSdp05dNzaNjx47B9impmHqOOhvjsgolZdXukm38fKo2lqzyKafMMnUOH8dK7Yixl0xx58eM5zRy5Mhg+zJHkyZNCn1MS8fvYqxYeSPb+Hm9tmfPnqGP8YczZswIto8RpZ5H28ev8ZwYb/jRRx8F+84770zaffr0CX28T3xcI49VVunGSpK08bvgggtC30UXXRRspnEbN25c0uZ97dMImmVqjn782Ef7jjvuCLZP/8fUnHz2+uNwzucLvTkKIYQQQIujEEIIAfIWykEefvjhpN21a9fQ57cEm8XXeVaAoDuC243TtnXTnctKDj41HcNNmJ6svEM3HK+rv46333576CvJdE903aSl4aML/b333tvl58wy0/sxJMhvcS9vLnGz7Ofs++mOJtlctGl4lyYrQJC1a9cG24daMVSDY83xK5QUjd+XtGvMZ9hTTz2125/NFYZWpUH3tX82d+jQIfTNnDmzyM/KrSqEEEIUKFochRBCCKDFUQghhAClpjnm6vf2Go9PbVXS5+H1E/q2s4UR+K3K1NkINZDynsIqbTzZV5rpnvx1zFZKyqfVGjBgQOhj6rLly5cHmxXT92ZKSsOiDphNy/RaKHU1hjMwPaP/7vKoGedCaf6+XOYbz8Pv4TjjjDNCH1Pg+TR1hfKs1JujEEIIAbQ4CiGEEECLoxBCCAGKpTkWJ/4pX/hzzKYxbt++Pdg+5VY2vzj79yYNpDTx146lenw5MrOYwu9Pf/pT6MsWH1ve4+TKA9nmgdd9zzvvvNCXNr/43eXxOVWIZLtuvkyYWYyRvOuuu0If566fj4ytzNf46c1RCCGEAFochRBCCKDFUQghhADF0hxLy/ebLZ6mpM7B50o1M2vVqlWwfW5OM7Phw4cXedw0f/veRjaNoKT012xxc16XYuwl4+KogXi9S5pV5PuOH/+WOXibNWsW7MWLFxf5XRwvfvfePP/SKMl7uV69esHmNfc2j/Pdd98Fm3sACgG9OQohhBBAi6MQQggBCqZklaes3FZ0tbVv3z7YK1asCLZ3BdAtl82Nsze54nIpl1QcmOKNLiPvqqlUqVLoYzmytGrxe9PY7Q6lNX6UJjwsd5WLG3VPH79cXKUleS1YRiwX1yjPoxDTNerNUQghhABaHIUQQgigxVEIIYQABaM55iO9GkMBnnnmmWBTk0xLKcbUc0o/VvakXXNqjGRP16XKA4sWLQq21xmpCdOm3sU9AXsy+bp3+XxkSr+08SNpf5uv36c3RyGEEAJocRRCCCGAFkchhBAC7DN06FCJLUIIIYRDb45CCCEE0OIohBBCAC2OQgghBNDiKIQQQgAtjkIIIQTQ4iiEEEKA1PRxQ4cODTZLoxDfz1RCaX9rlp4iKO1vGzVqFPouvfTSYB988MHBnjRpUtLeuXNn6Pv444+DvWPHjmD79GSFkh6OY7S7fdnIlg7vBz/4//9XpaWN2lW/T/XFtF8nnXRSsA8//PBgV69ePWl36dIl9LG6uK8kf9RRR4W+o48+Otj8vWWVfixtjG699dZg8xz9dd5///1DX7bUXmklgrLNTV9aasiQIaHvzDPPDLZP23fjjTeGvmXLlgX7iy++CLa/x/bbb7/QxxJV+UoxVlLzL1tJLj///HUxy/6srV27dtIeOXJk6OOc4Xhu3749aX/99depx61YsWKw+feFSNoY6c1RCCGEAFochRBCCKDFUQghhAA5layiH5zaRLVq1ZL2559/HvqoLdFf7TUe6gt9+/YN9kMPPZS06X+vUaNGkd9rZvbzn/88aVetWjX08fdt3Lgx2AcddFDS7t27d+ibN2+eFTrZtKQ0HZGaVloJGn4vr/OGDRuSNrWWbFqn14nZx7H+9ttvkzZ/e506dYLNsS4EeB15zf0YHXjggaGPmmPlypWD7bUk6o+8VvzsZ599VuRxvB5pZta4ceOkPWHChNBXpUqVYHM8t23btsu2mVn79u1TP1uI8Fnln3PcG8HnZ4UKFZI2x4v3CZ+1Rx55ZNLu3Llz6ON3rV27dlenbmZm33zzTZHntKvzWLNmTdL2c9HM7MQTTwz2p59+WuRx84XeHIUQQgigxVEIIYQAWhyFEEIIkJPmmA3vk07TFM0ytUHvY7/44otDH+PZVq9enbQZW0M/OH3dW7duTdr0t1O38RqqWdRTjj/++NBXHjTHbLFgfsyoj2TTOTwXXHBBsA855JBg+zHx+pVZpgbJ8fXHpU7BsW/VqlXSppZ5zjnnBPuee+6xQodj4u9Xzjfey9TsvK5IjZHfxfhD//ccg3fffTfYp5xyStLetGlT6GNccbNmzYLttU5qmV7/NzP78ssvrdDp1KlTsL1e659pZpkaqo9HzBZvfsIJJwT7yiuvTNrZngEcI6+F8rN8JlDr9DHo/D3UHJ999tnU88oHenMUQgghgBZHIYQQAuTkVqVbp379+sH2W5O5JZjb0OmO8a4cpjSiS9b/LV1ptOm28246ulzpeqpZs2awfTq5N954I/RlC5Pw/flKdUWXJV1v/jozPVca/D0dO3YMdocOHYL9ySefJG1uYT/00EOD7dOPmZl99dVXRX6W980BBxywy7ZZ5v2XNn65pDosS7zLktvs58yZs9vfw9+zYMGCYKd9t09NZmZ29tlnB9vfR/xbPhM4/7wrlfcq52Z5cKvOnTs32D41Ip9xlAH8M4/jRZuylJeHfEpFM7O6desGu2nTpsH2YVc8zsqVK4Ndr169YG/evLnI780ltVy+5p/eHIUQQgigxVEIIYQAWhyFEEIIkJPmyC3e9BtTg0wjrewK9S6GfXjtgroFtwxTP/G+fZ4v9S5uTfbaC9ONZfOD57J1vrTgcbx+x/60MkVm8Try97Ro0SLYhx12WLD9+FJTzBYC5DUQliujDuU/Sy2a2kva+BWKxsjr7DXkPn36hL4lS5YEm3qsLw323nvvhT6fbsws8173IQjUI3mt5s+fn7RfffXV0Dd48OBgc/z8cTivGV6SVrKrUDRjHteX7OLzMNtnPUy3yTJvfu7yefnBBx8Ee9SoUcG+5ZZbkjb3kfD5yHnvf9OUKVNCH+/HNPI1XnpzFEIIIYAWRyGEEAJocRRCCCFATpojfdv0Ba9bty5pU+PJFrvodYHzzjsv9DGNm9c56Pemfd999wW7YcOGSfuGG24IfSy/w1gjn86KemuahrorOx8wzjHtnKm/MlXU+vXri/xexhROnTo12K1bt07avE84fqeddlqw+/Xrl7SzlTzysXH8rdQcs5XKKgSYhm/RokVJe9y4caGvUqVKwa5Vq1awffko3pscL84/n7qNsaac115XpJa5fPnyYLPf31cse+Zjjs3Sx6tQNGPGefo5xfnFkmpeU124cGHo4/ixxJiPK+b8YjnAAQMGBNvr+gMHDgx9Z555ZrAZN+6fA5deemnou/HGG4Pt51+2uVdWGrLeHIUQQgigxVEIIYQAWhyFEEIIkJPmSL94WikbxsXlEsdD3eL9998v8jyojTVo0CDYb7/9drA7d+6ctKnLZCvJ4su50L9eHuDvSYO6YePGjYPtNcds8a+0fXkv6kzMoTlx4sRgT5s2LWkzxo4apL+PmGOX1yKtDFChxMlxvvl7kLHB1M8Zv3b55ZcXeZwRI0ak/q2fy5xDzHH64YcfJm3uWWDJqtdeey3YO3fuTNrUHHO5lwsF5o7115E625AhQ4LdrVu3pN2kSZPQx9hFatM+npJwfvXo0SPYPg6SJbeqV68ebOZ09fOEz3/OXa8v81pk289RWujNUQghhABaHIUQQgiQk1s1G/41mqEbTCHGytf+s9xu7F14Zmb9+/cv8jh0PbHfVyq/6aabQt8f//jH1OO2adMmafNVP5urrVC2k+8uPkzALLq4zKKrkW4OhmcwTMK7UumyZCVyVoe/7LLLkvZVV10V+hia49PjMdVcLhTK2PE80lJw0TXlQzfM0l1T1157berf+jADhvHwb/19Q7mEIVt0qa9YsSJpUz5JK+lklj5m+XKTc0zSQhYYUuGvM68j8dKDWbyOp59+eujjXN2+fXuwfQgQ3eCcU3Qbe7c/71Ve87TfpPRxQgghRIGgxVEIIYQAWhyFEEIIUKKaYxrcSs/0SN7X3apVq9A3ffr0YPvt4QwxoAbStGnTYPvtx16/MsvcHs4t0D7901tvvRX6mFppzZo1Vt7wWgz9/NRffT81nHr16qV+1usPTD/GEASGBHmtiToGdShfDoshB9zuzhAET6GEchQHzqE0WPKIoTheS+L4cPx8qjmWlWJKO+418POR3/vggw8Ge9CgQba7lIfxS9Pk6tatG/o+/fTTYHNO9ezZs8i/5b3NEC4/JgzFad68ebAZUuLDi5jyrnfv3sGePHmyFQWvhdLHCSGEEHlCi6MQQggBtDgKIYQQoMw0Rx9zZpaZ5m3Lli1J25e+MsvUNTp06JC0GSvEODl+1sdI0g+eTZfauHFj0p41a1boS9OsygtpvnvqQV6bYCqojz76KNhMtee1CcalUjfcunVrsH1sHDUPasZe5+ZYvvzyy8F+/PHHgz1mzJikXR40qmwwDtDHFFK7pTY4evToYPsyR/ws7wVvM66R9xRj3fx9smHDhtDH+LxsaezKO36+Mcaaz0Duw3j++eeTNktU8b7gGHitl+XjWNrs1FNPDbYfA54TU9HNnj07aVPj5vwrq/moN0chhBACaHEUQgghQJm5Vfn67l/1zcy6du2atB9++OHQ16JFi2D7cIxsW5PpJkhzq27evDn1u7wLsGHDhqFvT3C9pUGXpXe9cWx9Jn+zzNAAH27D7d90g7O/X79+SXvJkiWhjy4+73pjWqyKFSsG++677w72Sy+9VOQ5lEf4G3yIBbf+s8KHlzHM0lOZMZTKz6lHHnkk9NHdzhSF3lXqw3LMMtNR0s3qXXqFGoqTFjpF/L1drVq10EeXMysRff7550k7WxhIWjq53//+96GP6eQYbuOfEezj/ehT0TF1Zb7Qm6MQQggBtDgKIYQQQIujEEIIAcpMcyS/+MUvgu31h/PPPz/0MfWc91+vWrUq9PkUb2aZutSOHTuSNvWRtFRlZtEfT52tcuXKwU7bSp4vzaMktRevJ/C6Mc0Uj+vDCBjK4cfHLFPT8sf1uplZ5n3iNSxud//kk0+CnVZOqFA0q5I8j3bt2iVtau0MxeHWeh9WQC2pfv36wfZzhho/5ya39/uxZ6o5amUsbeb700pD5ZPvO35t27YNNkNvmDLT/36GyTHEjnPK33OcqxwDX9LPLD7TeQ9RN61Ro0bSzle6OKI3RyGEEAJocRRCCCGAFkchhBAC5E1znD9/frC9H5lxVvRtey2Q/nbGujEGyPvf6bvetm1bsFl6yX+WsXzZSlTRb54PcvHVM0UVP+s1VWqM1DE4Rv672MexZjyU16GoCXP8vB7GODmvcZhl6iWFEgvnKclz8temSpUqoY9pwbp37x5snxKOGj/j5Px85H3Ca855z1hUD7+LaQYLVWf8vvh7nXGn1113XbCZlu/NN99M2kcccUToY9o94udbWqysWeaz12vT1CuPPfbYYP/qV79KPY98oDdHIYQQAmhxFEIIIYAWRyGEEALkTXOkfuI1rv/7v/8Lfaecckqw58yZk7SZK5BljKg9eK2FsYrUMZiP0+sp9JkXSixcScFrQ7z+wGs8ffr0YFOD7NmzZ9Km5lGnTp1gswSS16WoSTHe0v8GxrS2bNky2NQgPdRfs12bQoT354wZM5I2tVtexxUrVgTba4XMucvxWrt2bdJmDldqVCwr5r+L15z33MqVK60o8jV+JflM8L/3iiuuSD0O8876uHFeJ+Y9Ztyqfwby+cjcuMTvAfD6467sXPLMlhV6cxRCCCGAFkchhBAClJlblVu8+UruXR3dunULfXS/DB8+PGkPHTo09NHFwNd37+Kja4buF7psfdgBj3P55ZcHm2W3CsVVsLvw93F7uHen8bexcjxL6Pjr6svpmGWmi6NLz7vaDj300NRz9uPLbeeE7kFPeXSj8l6mS9On6atatWro4/gxHMqncpswYULoO/HEE4v8W6b3I3Tb+b9nuAlLxvkydmYxJChf41dWc56SAZ+X1157bdIeMWJE6GOqOYY8ebcq7yFeV4ZleegyZ1iIHz+GZPH38RlRWujNUQghhABaHIUQQgigxVEIIYQAxdIcqWt4fYFb8jt27BjsadOmBdvrHgMHDgx9TFHl9SHqGNlKIPnSKfSRU5/885//HGy/5Z2p5Y488shgl4ft/zzHBg0aJG1eC6b2olaY1te7d+9gp6Weo82QmUWLFiVt6iM8Z59SjDoF/5Ylkfx9laZH5hOvsVLTpybXokWLYL/11ltJm3oQNR/qQ+vXr0/aaVqfWRwjhnnw/qOu7fclULc++eSTg33JJZcE+84770zahZpKzmtpDL9g+JMfv+XLl4c+6umTJk0Ktk91ybJgLN3GkmP+Ob506dLQxzJU3EfitWr+LUOn/G/gMzuX+VeS4TN6cxRCCCGAFkchhBACaHEUQgghQLE0R/pzvcbDPp/yzcxs3LhxRX7XfffdF/qeeOKJYD/99NNJmynEFi5cGGzqXz5Wh5rH6tWrg03d1OuM77zzTugbMGBAsKkhfPzxx1ZoUAf1qb54bYhPM/XYY4+FPmoiBx54YLD9taCeRXvu3LnBPvroo5M2ddCNGzcWeY6tWrUKfbwft2zZEuzjjjsuaTPlFssj5SuG1R+Xel7r1q2DfdlllwX7pZdeStqMa9y5c2ewqQX6a8UUi7S9Tk+dl9rS5s2bg92lS5ekzXusR48ewfb3hZlZ48aNkzZ1tULRkP29zjlD/LOIsb+8P3kve73vvffeC32cm7NmzQq23wvCuGLGgTPtp9eyBw8eHPpGjhwZbF/y7/rrrw99d911l+0uJTkX9eYohBBCAC2OQgghBNDiKIQQQoAS1Ry9Tb837SlTpgTb+6fPOeec0McSSI0aNUra9957b+j7zW9+E2zqht7/Ts2KusWCBQuCvWzZsqRNbeX2228PdpquwVyB1NnKirSYoGxxmS+++GLS5m9lHkzql77/7rvvDn3M/eh1ULOYN5LldRh7um7duqTNeFj+9g4dOgTba2WM+ysU0sr8vPDCC6n2mDFjkjbvR+qXjAf2cYPU6ant+vPiNed+Ac7V2bNnJ21f5swsU0dkjJ3Xn3l/Fkp5uVzKNH344YdJm/ls+du538HPtyZNmoS+VatWBZvzwJcvYykzavw333xzsF9++eWkPXPmzNDH+6Rz585JOy2G2iwzFrq0NGS9OQohhBBAi6MQQggBUt2qpel+GDZsWLD9dnKGPUyePDnY3r3JV2qGiHTv3j3YPs0WXW0+rZlZprvCu2EZYkDXKK9d5cqVkzZdsvmiOOPpr413X5plujt9WIRZTAHnXWf8XrPM7eN+uz/Pn+53389q9wwj8OPDfqZmYyqsfFGc8fPb/33IhFnmtaK72m+7Z9gHXbQ+dIrzi65Rhnr4uc0yTHxG8DdQMvGUt/JxhPOLYTt0f/p7myFM/FvOR58W06eXNDNr1qxZsJk60Kebo2veP8PN4vOT9wHvqbIKxdGboxBCCAG0OAohhBBAi6MQQggBUjXH0vTN/+53vwu216Hoc+bW5Xnz5iXtn/70p6HPb1E3yyyz4vUj+uqrVasWbGppPryBZXCojTHlFvXN8o4vDZZWKsosc7u/h9rQ8ccfH2xu2/Ypq7p27Rr6GIrjNZAlS5aEPpb1adOmTbC9xsVyV+VdszKLpaR4LWrWrBlsX6KKnx0/fnzoGzt2bLB9eAa1TJbVYmkzP/+os/nQBv6tWSyBxHusUNLH5XIf+ecNS4w9+uijweZzzI8B5+ptt90WbOp7fsyee+650Md9FkxR6EMyfNkss8yUd75UFvVk3jdlFfqmN0chhBACaHEUQgghgBZHIYQQAhQrfVxxuPXWW4PdqVOnpN28efPQ1759+2C3bds2adNvz/g1lmDxeN3MzKxdu3bBZozk22+/nbRZMqdPnz7BPvvss4NNv3l5x5enYQo/XvP7778/2Bs2bEjajLOiDkx9wZfcoY5IbcmnxjrttNNC38CBA4PN8TrzzDOTNvXl8kC2GGWvxV966aWhj5rxq6++GmxfMolaIPU8nzaS3/v+++8Hu1evXsH2+wl4T/H31apVK9heM2ZZpkLRHL8vTL3py0qZmW3atKnIv2csIu9t7o3w+z041ozXZto6f89RR+QY+Gf+tGnTQh+PW1bozVEIIYQAWhyFEEIIkDe3Kl+rq1evnrR91Q0zs+effz7Y3kWZLZUXXQ7e7epDQswyXW3cMu23JtNNOnz48GDTjZWtykV5w7swGT7TsWPHYPsKHmZxmz1dJkzLR7err/BBl+uzzz4bbJ/5nxUD+Nlbbrkl2H78GMpRHsgWJjBjxoykzTCIfv36Bdu7wc1iKjCmhOO8rlSpUtLmnKFLb9CgQcH24VAM6WFVB4YZeHiOZUVx0m+mffaxxx4LfT4Mwszs2GOPDbafb7zmy5cvTz0P/8zjnOHveeWVV4Lt083Rpc7xfPLJJ5M2q/jki8I4CyGEEKKA0OIohBBCAC2OQgghBCg1zZF+Y/qnaftSU9yqTF1x8eLFSTublpetqrSHoQCsAO81SG5j3tNCNXKBZXBoUz/xKaqyjR81krTUURy/hQsXFnkO1MbSqt3v6bAa/B/+8Idg89r5ez1bKi9f0irXtHtpW/h5ztQV/XjmSzMuTprBXD5LTZj6nh8vXtNsx8kl7IXzb+3atUl71KhRoe/iiy8u8nuY4i5f6M1RCCGEAFochRBCCKDFUQghhAClpjnmGtfnfd/ZYhdz+W761L1+ki0OiWmnvBZzxRVXhL6yKqNSHuF1zUUD4t96LZs6ITWPihUrJu0BAwaEvokTJwbbl2EyK/8pxkhxYu74t7nc6/6zPAfanNc+Fo7pGSdPnpx6jrwX9iY4Z0pLc812T/nj1qtXL/QdfPDBwfbPfJ/6L5/ozVEIIYQAWhyFEEIIoMVRCCGEAHnLrZovvJ+cGgd96D5GyyyztE/aZ9M0neLoP3s7fsxq1qwZ+tavXx9sr12MHj069Pl8k2Zmxx9/fLBff/314pxmwVFSeT1L8rM+3tUsU+f1mtXUqVNTv9fnYd3Vd4niw9h1Pj8rVKgQ7G+//TZp9+3bN/TVrl072H6sqTlmO25poTdHIYQQAmhxFEIIIUC5dKt6102uLkn/Sk43AO201HMspUTSXAN7WvkqUlZuY6bwq1y5crD9+HE7O91wTZs2LfI4coPvPmnXhn1M0cfSSz4tGtOecfzSXLT5csvli9K6X9NCbczMqlWrFmyfxo7zb9OmTcFOSxmXr/mmN0chhBACaHEUQgghgBZHIYQQApRLzbE4Pmjvj2carBo1agSbZXA8TE+VlqbObO/SHMuKHTt2pPanhe30798/2Nddd12wR4wYkbSpWe3pqQKzza/iaP4eao5M1+h1fWqODNVIC93Y2+ZbWWl0HL+WLVsGu3nz5kn7zTffDH1p6f4KRePXm6MQQggBtDgKIYQQQIujEEIIAcql5lgcvP+aOsWaNWuCTd93WukXlk+iRrKn61SefGkE++67b7D9mPhUVmZmDzzwQLDHjx8fbK9T7W2aVTZKa3xXrVpV5HGyHZNxjnvTfMsX1BznzJkTbP+8zDaH/Nzl9+YLvTkKIYQQQIujEEIIAbQ4CiGEEGCfoUOHKlGkEEII4dCboxBCCAG0OAohhBBAi6MQQggBtDgKIYQQQIujEEIIAbQ4CiGEEOD/AUhtup6iNTioAAAAAElFTkSuQmCC\" id=\"image48d3c15c78\" transform=\"scale(1 -1) translate(0 -166.32)\" x=\"7.2\" y=\"-7.2\" width=\"327.6\" height=\"166.32\"/>\n   </g>\n  </g>\n </g>\n <defs>\n  <clipPath id=\"pbcba94b51a\">\n   <rect x=\"7.2\" y=\"7.2\" width=\"327.274839\" height=\"166.32\"/>\n  </clipPath>\n </defs>\n</svg>\n",
            "application/pdf": "[encoded data removed]"
          },
          "metadata": {}
        },
        {
          "output_type": "display_data",
          "data": {
            "text/plain": [
              "<Figure size 600x300 with 1 Axes>"
            ],
            "image/svg+xml": "<?xml version=\"1.0\" encoding=\"utf-8\" standalone=\"no\"?>\n<!DOCTYPE svg PUBLIC \"-//W3C//DTD SVG 1.1//EN\"\n  \"http://www.w3.org/Graphics/SVG/1.1/DTD/svg11.dtd\">\n<svg xmlns:xlink=\"http://www.w3.org/1999/xlink\" width=\"341.674839pt\" height=\"180.72pt\" viewBox=\"0 0 341.674839 180.72\" xmlns=\"http://www.w3.org/2000/svg\" version=\"1.1\">\n <metadata>\n  <rdf:RDF xmlns:dc=\"http://purl.org/dc/elements/1.1/\" xmlns:cc=\"http://creativecommons.org/ns#\" xmlns:rdf=\"http://www.w3.org/1999/02/22-rdf-syntax-ns#\">\n   <cc:Work>\n    <dc:type rdf:resource=\"http://purl.org/dc/dcmitype/StillImage\"/>\n    <dc:date>2024-11-29T09:13:07.990629</dc:date>\n    <dc:format>image/svg+xml</dc:format>\n    <dc:creator>\n     <cc:Agent>\n      <dc:title>Matplotlib v3.8.0, https://matplotlib.org/</dc:title>\n     </cc:Agent>\n    </dc:creator>\n   </cc:Work>\n  </rdf:RDF>\n </metadata>\n <defs>\n  <style type=\"text/css\">*{stroke-linejoin: round; stroke-linecap: butt}</style>\n </defs>\n <g id=\"figure_1\">\n  <g id=\"patch_1\">\n   <path d=\"M 0 180.72 \nL 341.674839 180.72 \nL 341.674839 0 \nL 0 0 \nz\n\" style=\"fill: #ffffff\"/>\n  </g>\n  <g id=\"axes_1\">\n   <g clip-path=\"url(#pcc437d4a14)\">\n    <image xlink:href=\"data:image/png;base64,\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\" id=\"image00a6cf3340\" transform=\"scale(1 -1) translate(0 -166.32)\" x=\"7.2\" y=\"-7.2\" width=\"327.6\" height=\"166.32\"/>\n   </g>\n  </g>\n </g>\n <defs>\n  <clipPath id=\"pcc437d4a14\">\n   <rect x=\"7.2\" y=\"7.2\" width=\"327.274839\" height=\"166.32\"/>\n  </clipPath>\n </defs>\n</svg>\n",
            "application/pdf": "[encoded data removed]"
          },
          "metadata": {}
        },
        {
          "output_type": "display_data",
          "data": {
            "text/plain": [
              "<Figure size 600x300 with 1 Axes>"
            ],
            "image/svg+xml": "<?xml version=\"1.0\" encoding=\"utf-8\" standalone=\"no\"?>\n<!DOCTYPE svg PUBLIC \"-//W3C//DTD SVG 1.1//EN\"\n  \"http://www.w3.org/Graphics/SVG/1.1/DTD/svg11.dtd\">\n<svg xmlns:xlink=\"http://www.w3.org/1999/xlink\" width=\"341.674839pt\" height=\"180.72pt\" viewBox=\"0 0 341.674839 180.72\" xmlns=\"http://www.w3.org/2000/svg\" version=\"1.1\">\n <metadata>\n  <rdf:RDF xmlns:dc=\"http://purl.org/dc/elements/1.1/\" xmlns:cc=\"http://creativecommons.org/ns#\" xmlns:rdf=\"http://www.w3.org/1999/02/22-rdf-syntax-ns#\">\n   <cc:Work>\n    <dc:type rdf:resource=\"http://purl.org/dc/dcmitype/StillImage\"/>\n    <dc:date>2024-11-29T09:13:08.445490</dc:date>\n    <dc:format>image/svg+xml</dc:format>\n    <dc:creator>\n     <cc:Agent>\n      <dc:title>Matplotlib v3.8.0, https://matplotlib.org/</dc:title>\n     </cc:Agent>\n    </dc:creator>\n   </cc:Work>\n  </rdf:RDF>\n </metadata>\n <defs>\n  <style type=\"text/css\">*{stroke-linejoin: round; stroke-linecap: butt}</style>\n </defs>\n <g id=\"figure_1\">\n  <g id=\"patch_1\">\n   <path d=\"M 0 180.72 \nL 341.674839 180.72 \nL 341.674839 0 \nL 0 0 \nz\n\" style=\"fill: #ffffff\"/>\n  </g>\n  <g id=\"axes_1\">\n   <g clip-path=\"url(#p788dd455b3)\">\n    <image xlink:href=\"data:image/png;base64,\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\" id=\"image81bea1f87b\" transform=\"scale(1 -1) translate(0 -166.32)\" x=\"7.2\" y=\"-7.2\" width=\"327.6\" height=\"166.32\"/>\n   </g>\n  </g>\n </g>\n <defs>\n  <clipPath id=\"p788dd455b3\">\n   <rect x=\"7.2\" y=\"7.2\" width=\"327.274839\" height=\"166.32\"/>\n  </clipPath>\n </defs>\n</svg>\n",
            "application/pdf": "[encoded data removed]"
          },
          "metadata": {}
        }
      ]
    },
    {
      "cell_type": "markdown",
      "source": [
        "## Visualizing Dequantization\n"
      ],
      "metadata": {
        "id": "s0J0gkCFtyvf"
      }
    },
    {
      "cell_type": "code",
      "source": [
        "def visualize_dequant_distribution(model : ImageFlow, imgs : torch.Tensor, title:str=None):\n",
        "    \"\"\"\n",
        "    Inputs:\n",
        "        model - The flow of which we want to visualize the dequantization distribution\n",
        "        imgs - Example training images of which we want to visualize the dequantization distribution\n",
        "    \"\"\"\n",
        "    imgs = imgs.to(device)\n",
        "    ldj = torch.zeros(imgs.shape[0], dtype=torch.float32).to(device)\n",
        "    with torch.no_grad():\n",
        "        dequant_vals = []\n",
        "        for _ in tqdm(range(8), leave=False):\n",
        "            d, _ = model.flows[0](imgs, ldj, reverse=False)\n",
        "            dequant_vals.append(d)\n",
        "        dequant_vals = torch.cat(dequant_vals, dim=0)\n",
        "    dequant_vals = dequant_vals.view(-1).cpu().numpy()\n",
        "    sns.set()\n",
        "    plt.figure(figsize=(10,3))\n",
        "    plt.hist(dequant_vals, bins=256, color=to_rgb(\"C0\")+(0.5,), edgecolor=\"C0\", density=True)\n",
        "    if title is not None:\n",
        "        plt.title(title)\n",
        "    plt.show()\n",
        "    plt.close()\n",
        "\n",
        "sample_imgs, _ = next(iter(train_loader))"
      ],
      "metadata": {
        "id": "ftIV4AlctuMX"
      },
      "execution_count": 65,
      "outputs": []
    },
    {
      "cell_type": "code",
      "source": [
        "visualize_dequant_distribution(flow_dict[\"simple\"][\"model\"], sample_imgs, title=\"Dequantization\")"
      ],
      "metadata": {
        "id": "0tF5wxrPt2Q7",
        "colab": {
          "base_uri": "https://localhost:8080/",
          "height": 310,
          "referenced_widgets": [
            "b957dd827e784e7b8029899e3f8d07f5",
            "8b16a6805d9347f7b620818f6f446a4b",
            "e3bef570f1184187bfab282dd713ec1f",
            "a72e0bf73bba402d8f9c2568ad2cf3f5",
            "38622d486f83417992c6b803c44cea61",
            "de397d874722418f89e83d3443035fb0",
            "851b25dbb63b4ba3bd85c144e2834771",
            "8df5de9042b24652be368c95cbbeb50c",
            "28a2bb5e6730450aa0183794f9a01f4b",
            "7758bd26f75f443188de2e061d4315b0",
            "5bd999ee997f43a9a37f93942f2b23e8"
          ]
        },
        "outputId": "f6b55740-0ca2-4b0f-d489-7e996ad73ce4"
      },
      "execution_count": 66,
      "outputs": [
        {
          "output_type": "display_data",
          "data": {
            "text/plain": [
              "  0%|          | 0/8 [00:00<?, ?it/s]"
            ],
            "application/vnd.jupyter.widget-view+json": {
              "version_major": 2,
              "version_minor": 0,
              "model_id": "b957dd827e784e7b8029899e3f8d07f5"
            }
          },
          "metadata": {}
        },
        {
          "output_type": "display_data",
          "data": {
            "text/plain": [
              "<Figure size 1000x300 with 1 Axes>"
            ],
            "image/svg+xml": "<?xml version=\"1.0\" encoding=\"utf-8\" standalone=\"no\"?>\n<!DOCTYPE svg PUBLIC \"-//W3C//DTD SVG 1.1//EN\"\n  \"http://www.w3.org/Graphics/SVG/1.1/DTD/svg11.dtd\">\n<svg xmlns:xlink=\"http://www.w3.org/1999/xlink\" width=\"599.393438pt\" height=\"215.984063pt\" viewBox=\"0 0 599.393438 215.984063\" xmlns=\"http://www.w3.org/2000/svg\" version=\"1.1\">\n <metadata>\n  <rdf:RDF xmlns:dc=\"http://purl.org/dc/elements/1.1/\" xmlns:cc=\"http://creativecommons.org/ns#\" xmlns:rdf=\"http://www.w3.org/1999/02/22-rdf-syntax-ns#\">\n   <cc:Work>\n    <dc:type rdf:resource=\"http://purl.org/dc/dcmitype/StillImage\"/>\n    <dc:date>2024-11-29T08:42:46.901505</dc:date>\n    <dc:format>image/svg+xml</dc:format>\n    <dc:creator>\n     <cc:Agent>\n      <dc:title>Matplotlib v3.8.0, https://matplotlib.org/</dc:title>\n     </cc:Agent>\n    </dc:creator>\n   </cc:Work>\n  </rdf:RDF>\n </metadata>\n <defs>\n  <style type=\"text/css\">*{stroke-linejoin: round; stroke-linecap: butt}</style>\n </defs>\n <g id=\"figure_1\">\n  <g id=\"patch_1\">\n   <path d=\"M 0 215.984063 \nL 599.393438 215.984063 \nL 599.393438 0 \nL 0 0 \nz\n\" style=\"fill: #ffffff\"/>\n  </g>\n  <g id=\"axes_1\">\n   <g id=\"patch_2\">\n    <path d=\"M 34.193438 188.638125 \nL 592.193437 188.638125 \nL 592.193437 22.318125 \nL 34.193438 22.318125 \nz\n\" style=\"fill: #eaeaf2\"/>\n   </g>\n   <g id=\"matplotlib.axis_1\">\n    <g id=\"xtick_1\">\n     <g id=\"line2d_1\">\n      <path d=\"M 105.62876 188.638125 \nL 105.62876 22.318125 \n\" clip-path=\"url(#pe7d515365a)\" style=\"fill: none; stroke: #ffffff; stroke-linecap: round\"/>\n     </g>\n     <g id=\"text_1\">\n      <!-- −10 -->\n      <g style=\"fill: #262626\" transform=\"translate(94.021182 206.496406) scale(0.11 -0.11)\">\n       <defs>\n        <path id=\"DejaVuSans-2212\" d=\"M 678 2272 \nL 4684 2272 \nL 4684 1741 \nL 678 1741 \nL 678 2272 \nz\n\" transform=\"scale(0.015625)\"/>\n        <path id=\"DejaVuSans-31\" d=\"M 794 531 \nL 1825 531 \nL 1825 4091 \nL 703 3866 \nL 703 4441 \nL 1819 4666 \nL 2450 4666 \nL 2450 531 \nL 3481 531 \nL 3481 0 \nL 794 0 \nL 794 531 \nz\n\" transform=\"scale(0.015625)\"/>\n        <path id=\"DejaVuSans-30\" d=\"M 2034 4250 \nQ 1547 4250 1301 3770 \nQ 1056 3291 1056 2328 \nQ 1056 1369 1301 889 \nQ 1547 409 2034 409 \nQ 2525 409 2770 889 \nQ 3016 1369 3016 2328 \nQ 3016 3291 2770 3770 \nQ 2525 4250 2034 4250 \nz\nM 2034 4750 \nQ 2819 4750 3233 4129 \nQ 3647 3509 3647 2328 \nQ 3647 1150 3233 529 \nQ 2819 -91 2034 -91 \nQ 1250 -91 836 529 \nQ 422 1150 422 2328 \nQ 422 3509 836 4129 \nQ 1250 4750 2034 4750 \nz\n\" transform=\"scale(0.015625)\"/>\n       </defs>\n       <use xlink:href=\"#DejaVuSans-2212\"/>\n       <use xlink:href=\"#DejaVuSans-31\" x=\"83.789062\"/>\n       <use xlink:href=\"#DejaVuSans-30\" x=\"147.412109\"/>\n      </g>\n     </g>\n    </g>\n    <g id=\"xtick_2\">\n     <g id=\"line2d_2\">\n      <path d=\"M 210.059599 188.638125 \nL 210.059599 22.318125 \n\" clip-path=\"url(#pe7d515365a)\" style=\"fill: none; stroke: #ffffff; stroke-linecap: round\"/>\n     </g>\n     <g id=\"text_2\">\n      <!-- −5 -->\n      <g style=\"fill: #262626\" transform=\"translate(201.951395 206.496406) scale(0.11 -0.11)\">\n       <defs>\n        <path id=\"DejaVuSans-35\" d=\"M 691 4666 \nL 3169 4666 \nL 3169 4134 \nL 1269 4134 \nL 1269 2991 \nQ 1406 3038 1543 3061 \nQ 1681 3084 1819 3084 \nQ 2600 3084 3056 2656 \nQ 3513 2228 3513 1497 \nQ 3513 744 3044 326 \nQ 2575 -91 1722 -91 \nQ 1428 -91 1123 -41 \nQ 819 9 494 109 \nL 494 744 \nQ 775 591 1075 516 \nQ 1375 441 1709 441 \nQ 2250 441 2565 725 \nQ 2881 1009 2881 1497 \nQ 2881 1984 2565 2268 \nQ 2250 2553 1709 2553 \nQ 1456 2553 1204 2497 \nQ 953 2441 691 2322 \nL 691 4666 \nz\n\" transform=\"scale(0.015625)\"/>\n       </defs>\n       <use xlink:href=\"#DejaVuSans-2212\"/>\n       <use xlink:href=\"#DejaVuSans-35\" x=\"83.789062\"/>\n      </g>\n     </g>\n    </g>\n    <g id=\"xtick_3\">\n     <g id=\"line2d_3\">\n      <path d=\"M 314.490437 188.638125 \nL 314.490437 22.318125 \n\" clip-path=\"url(#pe7d515365a)\" style=\"fill: none; stroke: #ffffff; stroke-linecap: round\"/>\n     </g>\n     <g id=\"text_3\">\n      <!-- 0 -->\n      <g style=\"fill: #262626\" transform=\"translate(310.991062 206.496406) scale(0.11 -0.11)\">\n       <use xlink:href=\"#DejaVuSans-30\"/>\n      </g>\n     </g>\n    </g>\n    <g id=\"xtick_4\">\n     <g id=\"line2d_4\">\n      <path d=\"M 418.921276 188.638125 \nL 418.921276 22.318125 \n\" clip-path=\"url(#pe7d515365a)\" style=\"fill: none; stroke: #ffffff; stroke-linecap: round\"/>\n     </g>\n     <g id=\"text_4\">\n      <!-- 5 -->\n      <g style=\"fill: #262626\" transform=\"translate(415.421901 206.496406) scale(0.11 -0.11)\">\n       <use xlink:href=\"#DejaVuSans-35\"/>\n      </g>\n     </g>\n    </g>\n    <g id=\"xtick_5\">\n     <g id=\"line2d_5\">\n      <path d=\"M 523.352115 188.638125 \nL 523.352115 22.318125 \n\" clip-path=\"url(#pe7d515365a)\" style=\"fill: none; stroke: #ffffff; stroke-linecap: round\"/>\n     </g>\n     <g id=\"text_5\">\n      <!-- 10 -->\n      <g style=\"fill: #262626\" transform=\"translate(516.353365 206.496406) scale(0.11 -0.11)\">\n       <use xlink:href=\"#DejaVuSans-31\"/>\n       <use xlink:href=\"#DejaVuSans-30\" x=\"63.623047\"/>\n      </g>\n     </g>\n    </g>\n   </g>\n   <g id=\"matplotlib.axis_2\">\n    <g id=\"ytick_1\">\n     <g id=\"line2d_6\">\n      <path d=\"M 34.193438 188.638125 \nL 592.193437 188.638125 \n\" clip-path=\"url(#pe7d515365a)\" style=\"fill: none; stroke: #ffffff; stroke-linecap: round\"/>\n     </g>\n     <g id=\"text_6\">\n      <!-- 0.0 -->\n      <g style=\"fill: #262626\" transform=\"translate(7.2 192.817266) scale(0.11 -0.11)\">\n       <defs>\n        <path id=\"DejaVuSans-2e\" d=\"M 684 794 \nL 1344 794 \nL 1344 0 \nL 684 0 \nL 684 794 \nz\n\" transform=\"scale(0.015625)\"/>\n       </defs>\n       <use xlink:href=\"#DejaVuSans-30\"/>\n       <use xlink:href=\"#DejaVuSans-2e\" x=\"63.623047\"/>\n       <use xlink:href=\"#DejaVuSans-30\" x=\"95.410156\"/>\n      </g>\n     </g>\n    </g>\n    <g id=\"ytick_2\">\n     <g id=\"line2d_7\">\n      <path d=\"M 34.193438 154.63173 \nL 592.193437 154.63173 \n\" clip-path=\"url(#pe7d515365a)\" style=\"fill: none; stroke: #ffffff; stroke-linecap: round\"/>\n     </g>\n     <g id=\"text_7\">\n      <!-- 0.1 -->\n      <g style=\"fill: #262626\" transform=\"translate(7.2 158.81087) scale(0.11 -0.11)\">\n       <use xlink:href=\"#DejaVuSans-30\"/>\n       <use xlink:href=\"#DejaVuSans-2e\" x=\"63.623047\"/>\n       <use xlink:href=\"#DejaVuSans-31\" x=\"95.410156\"/>\n      </g>\n     </g>\n    </g>\n    <g id=\"ytick_3\">\n     <g id=\"line2d_8\">\n      <path d=\"M 34.193438 120.625334 \nL 592.193437 120.625334 \n\" clip-path=\"url(#pe7d515365a)\" style=\"fill: none; stroke: #ffffff; stroke-linecap: round\"/>\n     </g>\n     <g id=\"text_8\">\n      <!-- 0.2 -->\n      <g style=\"fill: #262626\" transform=\"translate(7.2 124.804475) scale(0.11 -0.11)\">\n       <defs>\n        <path id=\"DejaVuSans-32\" d=\"M 1228 531 \nL 3431 531 \nL 3431 0 \nL 469 0 \nL 469 531 \nQ 828 903 1448 1529 \nQ 2069 2156 2228 2338 \nQ 2531 2678 2651 2914 \nQ 2772 3150 2772 3378 \nQ 2772 3750 2511 3984 \nQ 2250 4219 1831 4219 \nQ 1534 4219 1204 4116 \nQ 875 4013 500 3803 \nL 500 4441 \nQ 881 4594 1212 4672 \nQ 1544 4750 1819 4750 \nQ 2544 4750 2975 4387 \nQ 3406 4025 3406 3419 \nQ 3406 3131 3298 2873 \nQ 3191 2616 2906 2266 \nQ 2828 2175 2409 1742 \nQ 1991 1309 1228 531 \nz\n\" transform=\"scale(0.015625)\"/>\n       </defs>\n       <use xlink:href=\"#DejaVuSans-30\"/>\n       <use xlink:href=\"#DejaVuSans-2e\" x=\"63.623047\"/>\n       <use xlink:href=\"#DejaVuSans-32\" x=\"95.410156\"/>\n      </g>\n     </g>\n    </g>\n    <g id=\"ytick_4\">\n     <g id=\"line2d_9\">\n      <path d=\"M 34.193438 86.618939 \nL 592.193437 86.618939 \n\" clip-path=\"url(#pe7d515365a)\" style=\"fill: none; stroke: #ffffff; stroke-linecap: round\"/>\n     </g>\n     <g id=\"text_9\">\n      <!-- 0.3 -->\n      <g style=\"fill: #262626\" transform=\"translate(7.2 90.79808) scale(0.11 -0.11)\">\n       <defs>\n        <path id=\"DejaVuSans-33\" d=\"M 2597 2516 \nQ 3050 2419 3304 2112 \nQ 3559 1806 3559 1356 \nQ 3559 666 3084 287 \nQ 2609 -91 1734 -91 \nQ 1441 -91 1130 -33 \nQ 819 25 488 141 \nL 488 750 \nQ 750 597 1062 519 \nQ 1375 441 1716 441 \nQ 2309 441 2620 675 \nQ 2931 909 2931 1356 \nQ 2931 1769 2642 2001 \nQ 2353 2234 1838 2234 \nL 1294 2234 \nL 1294 2753 \nL 1863 2753 \nQ 2328 2753 2575 2939 \nQ 2822 3125 2822 3475 \nQ 2822 3834 2567 4026 \nQ 2313 4219 1838 4219 \nQ 1578 4219 1281 4162 \nQ 984 4106 628 3988 \nL 628 4550 \nQ 988 4650 1302 4700 \nQ 1616 4750 1894 4750 \nQ 2613 4750 3031 4423 \nQ 3450 4097 3450 3541 \nQ 3450 3153 3228 2886 \nQ 3006 2619 2597 2516 \nz\n\" transform=\"scale(0.015625)\"/>\n       </defs>\n       <use xlink:href=\"#DejaVuSans-30\"/>\n       <use xlink:href=\"#DejaVuSans-2e\" x=\"63.623047\"/>\n       <use xlink:href=\"#DejaVuSans-33\" x=\"95.410156\"/>\n      </g>\n     </g>\n    </g>\n    <g id=\"ytick_5\">\n     <g id=\"line2d_10\">\n      <path d=\"M 34.193438 52.612544 \nL 592.193437 52.612544 \n\" clip-path=\"url(#pe7d515365a)\" style=\"fill: none; stroke: #ffffff; stroke-linecap: round\"/>\n     </g>\n     <g id=\"text_10\">\n      <!-- 0.4 -->\n      <g style=\"fill: #262626\" transform=\"translate(7.2 56.791684) scale(0.11 -0.11)\">\n       <defs>\n        <path id=\"DejaVuSans-34\" d=\"M 2419 4116 \nL 825 1625 \nL 2419 1625 \nL 2419 4116 \nz\nM 2253 4666 \nL 3047 4666 \nL 3047 1625 \nL 3713 1625 \nL 3713 1100 \nL 3047 1100 \nL 3047 0 \nL 2419 0 \nL 2419 1100 \nL 313 1100 \nL 313 1709 \nL 2253 4666 \nz\n\" transform=\"scale(0.015625)\"/>\n       </defs>\n       <use xlink:href=\"#DejaVuSans-30\"/>\n       <use xlink:href=\"#DejaVuSans-2e\" x=\"63.623047\"/>\n       <use xlink:href=\"#DejaVuSans-34\" x=\"95.410156\"/>\n      </g>\n     </g>\n    </g>\n   </g>\n   <g id=\"patch_3\">\n    <path d=\"M 59.557074 188.638125 \nL 61.538616 188.638125 \nL 61.538616 188.432745 \nL 59.557074 188.432745 \nz\n\" clip-path=\"url(#pe7d515365a)\" style=\"fill: #4c72b0; fill-opacity: 0.5; stroke: #4c72b0; stroke-linejoin: miter\"/>\n   </g>\n   <g id=\"patch_4\">\n    <path d=\"M 61.538616 188.638125 \nL 63.520139 188.638125 \nL 63.520139 188.421581 \nL 61.538616 188.421581 \nz\n\" clip-path=\"url(#pe7d515365a)\" style=\"fill: #4c72b0; fill-opacity: 0.5; stroke: #4c72b0; stroke-linejoin: miter\"/>\n   </g>\n   <g id=\"patch_5\">\n    <path d=\"M 63.520139 188.638125 \nL 65.501681 188.638125 \nL 65.501681 188.316661 \nL 63.520139 188.316661 \nz\n\" clip-path=\"url(#pe7d515365a)\" style=\"fill: #4c72b0; fill-opacity: 0.5; stroke: #4c72b0; stroke-linejoin: miter\"/>\n   </g>\n   <g id=\"patch_6\">\n    <path d=\"M 65.501681 188.638125 \nL 67.483203 188.638125 \nL 67.483203 188.338982 \nL 65.501681 188.338982 \nz\n\" clip-path=\"url(#pe7d515365a)\" style=\"fill: #4c72b0; fill-opacity: 0.5; stroke: #4c72b0; stroke-linejoin: miter\"/>\n   </g>\n   <g id=\"patch_7\">\n    <path d=\"M 67.483203 188.638125 \nL 69.464746 188.638125 \nL 69.464746 188.350147 \nL 67.483203 188.350147 \nz\n\" clip-path=\"url(#pe7d515365a)\" style=\"fill: #4c72b0; fill-opacity: 0.5; stroke: #4c72b0; stroke-linejoin: miter\"/>\n   </g>\n   <g id=\"patch_8\">\n    <path d=\"M 69.464746 188.638125 \nL 71.446288 188.638125 \nL 71.446288 188.260851 \nL 69.464746 188.260851 \nz\n\" clip-path=\"url(#pe7d515365a)\" style=\"fill: #4c72b0; fill-opacity: 0.5; stroke: #4c72b0; stroke-linejoin: miter\"/>\n   </g>\n   <g id=\"patch_9\">\n    <path d=\"M 71.446288 188.638125 \nL 73.42781 188.638125 \nL 73.42781 188.211734 \nL 71.446288 188.211734 \nz\n\" clip-path=\"url(#pe7d515365a)\" style=\"fill: #4c72b0; fill-opacity: 0.5; stroke: #4c72b0; stroke-linejoin: miter\"/>\n   </g>\n   <g id=\"patch_10\">\n    <path d=\"M 73.42781 188.638125 \nL 75.409353 188.638125 \nL 75.409353 188.133605 \nL 73.42781 188.133605 \nz\n\" clip-path=\"url(#pe7d515365a)\" style=\"fill: #4c72b0; fill-opacity: 0.5; stroke: #4c72b0; stroke-linejoin: miter\"/>\n   </g>\n   <g id=\"patch_11\">\n    <path d=\"M 75.409353 188.638125 \nL 77.390875 188.638125 \nL 77.390875 188.176016 \nL 75.409353 188.176016 \nz\n\" clip-path=\"url(#pe7d515365a)\" style=\"fill: #4c72b0; fill-opacity: 0.5; stroke: #4c72b0; stroke-linejoin: miter\"/>\n   </g>\n   <g id=\"patch_12\">\n    <path d=\"M 77.390875 188.638125 \nL 79.372418 188.638125 \nL 79.372418 188.095654 \nL 77.390875 188.095654 \nz\n\" clip-path=\"url(#pe7d515365a)\" style=\"fill: #4c72b0; fill-opacity: 0.5; stroke: #4c72b0; stroke-linejoin: miter\"/>\n   </g>\n   <g id=\"patch_13\">\n    <path d=\"M 79.372418 188.638125 \nL 81.35394 188.638125 \nL 81.35394 188.053233 \nL 79.372418 188.053233 \nz\n\" clip-path=\"url(#pe7d515365a)\" style=\"fill: #4c72b0; fill-opacity: 0.5; stroke: #4c72b0; stroke-linejoin: miter\"/>\n   </g>\n   <g id=\"patch_14\">\n    <path d=\"M 81.35394 188.638125 \nL 83.335482 188.638125 \nL 83.335482 187.963943 \nL 81.35394 187.963943 \nz\n\" clip-path=\"url(#pe7d515365a)\" style=\"fill: #4c72b0; fill-opacity: 0.5; stroke: #4c72b0; stroke-linejoin: miter\"/>\n   </g>\n   <g id=\"patch_15\">\n    <path d=\"M 83.335482 188.638125 \nL 85.317025 188.638125 \nL 85.317025 187.841162 \nL 83.335482 187.841162 \nz\n\" clip-path=\"url(#pe7d515365a)\" style=\"fill: #4c72b0; fill-opacity: 0.5; stroke: #4c72b0; stroke-linejoin: miter\"/>\n   </g>\n   <g id=\"patch_16\">\n    <path d=\"M 85.317025 188.638125 \nL 87.298547 188.638125 \nL 87.298547 187.845619 \nL 85.317025 187.845619 \nz\n\" clip-path=\"url(#pe7d515365a)\" style=\"fill: #4c72b0; fill-opacity: 0.5; stroke: #4c72b0; stroke-linejoin: miter\"/>\n   </g>\n   <g id=\"patch_17\">\n    <path d=\"M 87.298547 188.638125 \nL 89.280089 188.638125 \nL 89.280089 187.769725 \nL 87.298547 187.769725 \nz\n\" clip-path=\"url(#pe7d515365a)\" style=\"fill: #4c72b0; fill-opacity: 0.5; stroke: #4c72b0; stroke-linejoin: miter\"/>\n   </g>\n   <g id=\"patch_18\">\n    <path d=\"M 89.280089 188.638125 \nL 91.261612 188.638125 \nL 91.261612 187.655864 \nL 89.280089 187.655864 \nz\n\" clip-path=\"url(#pe7d515365a)\" style=\"fill: #4c72b0; fill-opacity: 0.5; stroke: #4c72b0; stroke-linejoin: miter\"/>\n   </g>\n   <g id=\"patch_19\">\n    <path d=\"M 91.261612 188.638125 \nL 93.243154 188.638125 \nL 93.243154 187.593367 \nL 91.261612 187.593367 \nz\n\" clip-path=\"url(#pe7d515365a)\" style=\"fill: #4c72b0; fill-opacity: 0.5; stroke: #4c72b0; stroke-linejoin: miter\"/>\n   </g>\n   <g id=\"patch_20\">\n    <path d=\"M 93.243154 188.638125 \nL 95.224697 188.638125 \nL 95.224697 187.450494 \nL 93.243154 187.450494 \nz\n\" clip-path=\"url(#pe7d515365a)\" style=\"fill: #4c72b0; fill-opacity: 0.5; stroke: #4c72b0; stroke-linejoin: miter\"/>\n   </g>\n   <g id=\"patch_21\">\n    <path d=\"M 95.224697 188.638125 \nL 97.206219 188.638125 \nL 97.206219 187.352256 \nL 95.224697 187.352256 \nz\n\" clip-path=\"url(#pe7d515365a)\" style=\"fill: #4c72b0; fill-opacity: 0.5; stroke: #4c72b0; stroke-linejoin: miter\"/>\n   </g>\n   <g id=\"patch_22\">\n    <path d=\"M 97.206219 188.638125 \nL 99.187761 188.638125 \nL 99.187761 187.329945 \nL 97.206219 187.329945 \nz\n\" clip-path=\"url(#pe7d515365a)\" style=\"fill: #4c72b0; fill-opacity: 0.5; stroke: #4c72b0; stroke-linejoin: miter\"/>\n   </g>\n   <g id=\"patch_23\">\n    <path d=\"M 99.187761 188.638125 \nL 101.169284 188.638125 \nL 101.169284 187.068739 \nL 99.187761 187.068739 \nz\n\" clip-path=\"url(#pe7d515365a)\" style=\"fill: #4c72b0; fill-opacity: 0.5; stroke: #4c72b0; stroke-linejoin: miter\"/>\n   </g>\n   <g id=\"patch_24\">\n    <path d=\"M 101.169284 188.638125 \nL 103.150826 188.638125 \nL 103.150826 186.934812 \nL 101.169284 186.934812 \nz\n\" clip-path=\"url(#pe7d515365a)\" style=\"fill: #4c72b0; fill-opacity: 0.5; stroke: #4c72b0; stroke-linejoin: miter\"/>\n   </g>\n   <g id=\"patch_25\">\n    <path d=\"M 103.150826 188.638125 \nL 105.132348 188.638125 \nL 105.132348 186.872287 \nL 103.150826 186.872287 \nz\n\" clip-path=\"url(#pe7d515365a)\" style=\"fill: #4c72b0; fill-opacity: 0.5; stroke: #4c72b0; stroke-linejoin: miter\"/>\n   </g>\n   <g id=\"patch_26\">\n    <path d=\"M 105.132348 188.638125 \nL 107.113891 188.638125 \nL 107.113891 186.579862 \nL 105.132348 186.579862 \nz\n\" clip-path=\"url(#pe7d515365a)\" style=\"fill: #4c72b0; fill-opacity: 0.5; stroke: #4c72b0; stroke-linejoin: miter\"/>\n   </g>\n   <g id=\"patch_27\">\n    <path d=\"M 107.113891 188.638125 \nL 109.095433 188.638125 \nL 109.095433 186.367785 \nL 107.113891 186.367785 \nz\n\" clip-path=\"url(#pe7d515365a)\" style=\"fill: #4c72b0; fill-opacity: 0.5; stroke: #4c72b0; stroke-linejoin: miter\"/>\n   </g>\n   <g id=\"patch_28\">\n    <path d=\"M 109.095433 188.638125 \nL 111.076956 188.638125 \nL 111.076956 186.191401 \nL 109.095433 186.191401 \nz\n\" clip-path=\"url(#pe7d515365a)\" style=\"fill: #4c72b0; fill-opacity: 0.5; stroke: #4c72b0; stroke-linejoin: miter\"/>\n   </g>\n   <g id=\"patch_29\">\n    <path d=\"M 111.076956 188.638125 \nL 113.058498 188.638125 \nL 113.058498 185.972652 \nL 111.076956 185.972652 \nz\n\" clip-path=\"url(#pe7d515365a)\" style=\"fill: #4c72b0; fill-opacity: 0.5; stroke: #4c72b0; stroke-linejoin: miter\"/>\n   </g>\n   <g id=\"patch_30\">\n    <path d=\"M 113.058498 188.638125 \nL 115.04002 188.638125 \nL 115.04002 185.83868 \nL 113.058498 185.83868 \nz\n\" clip-path=\"url(#pe7d515365a)\" style=\"fill: #4c72b0; fill-opacity: 0.5; stroke: #4c72b0; stroke-linejoin: miter\"/>\n   </g>\n   <g id=\"patch_31\">\n    <path d=\"M 115.04002 188.638125 \nL 117.021563 188.638125 \nL 117.021563 185.258287 \nL 115.04002 185.258287 \nz\n\" clip-path=\"url(#pe7d515365a)\" style=\"fill: #4c72b0; fill-opacity: 0.5; stroke: #4c72b0; stroke-linejoin: miter\"/>\n   </g>\n   <g id=\"patch_32\">\n    <path d=\"M 117.021563 188.638125 \nL 119.003105 188.638125 \nL 119.003105 185.171224 \nL 117.021563 185.171224 \nz\n\" clip-path=\"url(#pe7d515365a)\" style=\"fill: #4c72b0; fill-opacity: 0.5; stroke: #4c72b0; stroke-linejoin: miter\"/>\n   </g>\n   <g id=\"patch_33\">\n    <path d=\"M 119.003105 188.638125 \nL 120.984627 188.638125 \nL 120.984627 184.659967 \nL 119.003105 184.659967 \nz\n\" clip-path=\"url(#pe7d515365a)\" style=\"fill: #4c72b0; fill-opacity: 0.5; stroke: #4c72b0; stroke-linejoin: miter\"/>\n   </g>\n   <g id=\"patch_34\">\n    <path d=\"M 120.984627 188.638125 \nL 122.96617 188.638125 \nL 122.96617 184.367564 \nL 120.984627 184.367564 \nz\n\" clip-path=\"url(#pe7d515365a)\" style=\"fill: #4c72b0; fill-opacity: 0.5; stroke: #4c72b0; stroke-linejoin: miter\"/>\n   </g>\n   <g id=\"patch_35\">\n    <path d=\"M 122.96617 188.638125 \nL 124.947692 188.638125 \nL 124.947692 183.992476 \nL 122.96617 183.992476 \nz\n\" clip-path=\"url(#pe7d515365a)\" style=\"fill: #4c72b0; fill-opacity: 0.5; stroke: #4c72b0; stroke-linejoin: miter\"/>\n   </g>\n   <g id=\"patch_36\">\n    <path d=\"M 124.947692 188.638125 \nL 126.929235 188.638125 \nL 126.929235 183.546044 \nL 124.947692 183.546044 \nz\n\" clip-path=\"url(#pe7d515365a)\" style=\"fill: #4c72b0; fill-opacity: 0.5; stroke: #4c72b0; stroke-linejoin: miter\"/>\n   </g>\n   <g id=\"patch_37\">\n    <path d=\"M 126.929235 188.638125 \nL 128.910777 188.638125 \nL 128.910777 182.91651 \nL 126.929235 182.91651 \nz\n\" clip-path=\"url(#pe7d515365a)\" style=\"fill: #4c72b0; fill-opacity: 0.5; stroke: #4c72b0; stroke-linejoin: miter\"/>\n   </g>\n   <g id=\"patch_38\">\n    <path d=\"M 128.910777 188.638125 \nL 130.892299 188.638125 \nL 130.892299 182.266821 \nL 128.910777 182.266821 \nz\n\" clip-path=\"url(#pe7d515365a)\" style=\"fill: #4c72b0; fill-opacity: 0.5; stroke: #4c72b0; stroke-linejoin: miter\"/>\n   </g>\n   <g id=\"patch_39\">\n    <path d=\"M 130.892299 188.638125 \nL 132.873842 188.638125 \nL 132.873842 181.755668 \nL 130.892299 181.755668 \nz\n\" clip-path=\"url(#pe7d515365a)\" style=\"fill: #4c72b0; fill-opacity: 0.5; stroke: #4c72b0; stroke-linejoin: miter\"/>\n   </g>\n   <g id=\"patch_40\">\n    <path d=\"M 132.873842 188.638125 \nL 134.855364 188.638125 \nL 134.855364 181.184101 \nL 132.873842 181.184101 \nz\n\" clip-path=\"url(#pe7d515365a)\" style=\"fill: #4c72b0; fill-opacity: 0.5; stroke: #4c72b0; stroke-linejoin: miter\"/>\n   </g>\n   <g id=\"patch_41\">\n    <path d=\"M 134.855364 188.638125 \nL 136.836906 188.638125 \nL 136.836906 180.259967 \nL 134.855364 180.259967 \nz\n\" clip-path=\"url(#pe7d515365a)\" style=\"fill: #4c72b0; fill-opacity: 0.5; stroke: #4c72b0; stroke-linejoin: miter\"/>\n   </g>\n   <g id=\"patch_42\">\n    <path d=\"M 136.836906 188.638125 \nL 138.818429 188.638125 \nL 138.818429 179.63704 \nL 136.836906 179.63704 \nz\n\" clip-path=\"url(#pe7d515365a)\" style=\"fill: #4c72b0; fill-opacity: 0.5; stroke: #4c72b0; stroke-linejoin: miter\"/>\n   </g>\n   <g id=\"patch_43\">\n    <path d=\"M 138.818429 188.638125 \nL 140.799971 188.638125 \nL 140.799971 178.433872 \nL 138.818429 178.433872 \nz\n\" clip-path=\"url(#pe7d515365a)\" style=\"fill: #4c72b0; fill-opacity: 0.5; stroke: #4c72b0; stroke-linejoin: miter\"/>\n   </g>\n   <g id=\"patch_44\">\n    <path d=\"M 140.799971 188.638125 \nL 142.781513 188.638125 \nL 142.781513 177.661465 \nL 140.799971 177.661465 \nz\n\" clip-path=\"url(#pe7d515365a)\" style=\"fill: #4c72b0; fill-opacity: 0.5; stroke: #4c72b0; stroke-linejoin: miter\"/>\n   </g>\n   <g id=\"patch_45\">\n    <path d=\"M 142.781513 188.638125 \nL 144.763036 188.638125 \nL 144.763036 176.375486 \nL 142.781513 176.375486 \nz\n\" clip-path=\"url(#pe7d515365a)\" style=\"fill: #4c72b0; fill-opacity: 0.5; stroke: #4c72b0; stroke-linejoin: miter\"/>\n   </g>\n   <g id=\"patch_46\">\n    <path d=\"M 144.763036 188.638125 \nL 146.744578 188.638125 \nL 146.744578 175.214766 \nL 144.763036 175.214766 \nz\n\" clip-path=\"url(#pe7d515365a)\" style=\"fill: #4c72b0; fill-opacity: 0.5; stroke: #4c72b0; stroke-linejoin: miter\"/>\n   </g>\n   <g id=\"patch_47\">\n    <path d=\"M 146.744578 188.638125 \nL 148.726111 188.638125 \nL 148.726111 173.788195 \nL 146.744578 173.788195 \nz\n\" clip-path=\"url(#pe7d515365a)\" style=\"fill: #4c72b0; fill-opacity: 0.5; stroke: #4c72b0; stroke-linejoin: miter\"/>\n   </g>\n   <g id=\"patch_48\">\n    <path d=\"M 148.726111 188.638125 \nL 150.707643 188.638125 \nL 150.707643 172.475543 \nL 148.726111 172.475543 \nz\n\" clip-path=\"url(#pe7d515365a)\" style=\"fill: #4c72b0; fill-opacity: 0.5; stroke: #4c72b0; stroke-linejoin: miter\"/>\n   </g>\n   <g id=\"patch_49\">\n    <path d=\"M 150.707643 188.638125 \nL 152.689175 188.638125 \nL 152.689175 170.834728 \nL 150.707643 170.834728 \nz\n\" clip-path=\"url(#pe7d515365a)\" style=\"fill: #4c72b0; fill-opacity: 0.5; stroke: #4c72b0; stroke-linejoin: miter\"/>\n   </g>\n   <g id=\"patch_50\">\n    <path d=\"M 152.689175 188.638125 \nL 154.670708 188.638125 \nL 154.670708 168.861286 \nL 152.689175 168.861286 \nz\n\" clip-path=\"url(#pe7d515365a)\" style=\"fill: #4c72b0; fill-opacity: 0.5; stroke: #4c72b0; stroke-linejoin: miter\"/>\n   </g>\n   <g id=\"patch_51\">\n    <path d=\"M 154.670708 188.638125 \nL 156.65224 188.638125 \nL 156.65224 167.075366 \nL 154.670708 167.075366 \nz\n\" clip-path=\"url(#pe7d515365a)\" style=\"fill: #4c72b0; fill-opacity: 0.5; stroke: #4c72b0; stroke-linejoin: miter\"/>\n   </g>\n   <g id=\"patch_52\">\n    <path d=\"M 156.65224 188.638125 \nL 158.633782 188.638125 \nL 158.633782 164.57743 \nL 156.65224 164.57743 \nz\n\" clip-path=\"url(#pe7d515365a)\" style=\"fill: #4c72b0; fill-opacity: 0.5; stroke: #4c72b0; stroke-linejoin: miter\"/>\n   </g>\n   <g id=\"patch_53\">\n    <path d=\"M 158.633782 188.638125 \nL 160.615315 188.638125 \nL 160.615315 162.340443 \nL 158.633782 162.340443 \nz\n\" clip-path=\"url(#pe7d515365a)\" style=\"fill: #4c72b0; fill-opacity: 0.5; stroke: #4c72b0; stroke-linejoin: miter\"/>\n   </g>\n   <g id=\"patch_54\">\n    <path d=\"M 160.615315 188.638125 \nL 162.596847 188.638125 \nL 162.596847 159.623612 \nL 160.615315 159.623612 \nz\n\" clip-path=\"url(#pe7d515365a)\" style=\"fill: #4c72b0; fill-opacity: 0.5; stroke: #4c72b0; stroke-linejoin: miter\"/>\n   </g>\n   <g id=\"patch_55\">\n    <path d=\"M 162.596847 188.638125 \nL 164.57838 188.638125 \nL 164.57838 156.772836 \nL 162.596847 156.772836 \nz\n\" clip-path=\"url(#pe7d515365a)\" style=\"fill: #4c72b0; fill-opacity: 0.5; stroke: #4c72b0; stroke-linejoin: miter\"/>\n   </g>\n   <g id=\"patch_56\">\n    <path d=\"M 164.57838 188.638125 \nL 166.559912 188.638125 \nL 166.559912 153.75463 \nL 164.57838 153.75463 \nz\n\" clip-path=\"url(#pe7d515365a)\" style=\"fill: #4c72b0; fill-opacity: 0.5; stroke: #4c72b0; stroke-linejoin: miter\"/>\n   </g>\n   <g id=\"patch_57\">\n    <path d=\"M 166.559912 188.638125 \nL 168.541444 188.638125 \nL 168.541444 150.502022 \nL 166.559912 150.502022 \nz\n\" clip-path=\"url(#pe7d515365a)\" style=\"fill: #4c72b0; fill-opacity: 0.5; stroke: #4c72b0; stroke-linejoin: miter\"/>\n   </g>\n   <g id=\"patch_58\">\n    <path d=\"M 168.541444 188.638125 \nL 170.522987 188.638125 \nL 170.522987 146.479447 \nL 168.541444 146.479447 \nz\n\" clip-path=\"url(#pe7d515365a)\" style=\"fill: #4c72b0; fill-opacity: 0.5; stroke: #4c72b0; stroke-linejoin: miter\"/>\n   </g>\n   <g id=\"patch_59\">\n    <path d=\"M 170.522987 188.638125 \nL 172.504519 188.638125 \nL 172.504519 142.38278 \nL 170.522987 142.38278 \nz\n\" clip-path=\"url(#pe7d515365a)\" style=\"fill: #4c72b0; fill-opacity: 0.5; stroke: #4c72b0; stroke-linejoin: miter\"/>\n   </g>\n   <g id=\"patch_60\">\n    <path d=\"M 172.504519 188.638125 \nL 174.486051 188.638125 \nL 174.486051 138.540818 \nL 172.504519 138.540818 \nz\n\" clip-path=\"url(#pe7d515365a)\" style=\"fill: #4c72b0; fill-opacity: 0.5; stroke: #4c72b0; stroke-linejoin: miter\"/>\n   </g>\n   <g id=\"patch_61\">\n    <path d=\"M 174.486051 188.638125 \nL 176.467584 188.638125 \nL 176.467584 133.069204 \nL 174.486051 133.069204 \nz\n\" clip-path=\"url(#pe7d515365a)\" style=\"fill: #4c72b0; fill-opacity: 0.5; stroke: #4c72b0; stroke-linejoin: miter\"/>\n   </g>\n   <g id=\"patch_62\">\n    <path d=\"M 176.467584 188.638125 \nL 178.449116 188.638125 \nL 178.449116 126.838573 \nL 176.467584 126.838573 \nz\n\" clip-path=\"url(#pe7d515365a)\" style=\"fill: #4c72b0; fill-opacity: 0.5; stroke: #4c72b0; stroke-linejoin: miter\"/>\n   </g>\n   <g id=\"patch_63\">\n    <path d=\"M 178.449116 188.638125 \nL 180.430649 188.638125 \nL 180.430649 121.561178 \nL 178.449116 121.561178 \nz\n\" clip-path=\"url(#pe7d515365a)\" style=\"fill: #4c72b0; fill-opacity: 0.5; stroke: #4c72b0; stroke-linejoin: miter\"/>\n   </g>\n   <g id=\"patch_64\">\n    <path d=\"M 180.430649 188.638125 \nL 182.412191 188.638125 \nL 182.412191 114.772818 \nL 180.430649 114.772818 \nz\n\" clip-path=\"url(#pe7d515365a)\" style=\"fill: #4c72b0; fill-opacity: 0.5; stroke: #4c72b0; stroke-linejoin: miter\"/>\n   </g>\n   <g id=\"patch_65\">\n    <path d=\"M 182.412191 188.638125 \nL 184.393723 188.638125 \nL 184.393723 107.881025 \nL 182.412191 107.881025 \nz\n\" clip-path=\"url(#pe7d515365a)\" style=\"fill: #4c72b0; fill-opacity: 0.5; stroke: #4c72b0; stroke-linejoin: miter\"/>\n   </g>\n   <g id=\"patch_66\">\n    <path d=\"M 184.393723 188.638125 \nL 186.375256 188.638125 \nL 186.375256 98.658978 \nL 184.393723 98.658978 \nz\n\" clip-path=\"url(#pe7d515365a)\" style=\"fill: #4c72b0; fill-opacity: 0.5; stroke: #4c72b0; stroke-linejoin: miter\"/>\n   </g>\n   <g id=\"patch_67\">\n    <path d=\"M 186.375256 188.638125 \nL 188.356788 188.638125 \nL 188.356788 89.988333 \nL 186.375256 89.988333 \nz\n\" clip-path=\"url(#pe7d515365a)\" style=\"fill: #4c72b0; fill-opacity: 0.5; stroke: #4c72b0; stroke-linejoin: miter\"/>\n   </g>\n   <g id=\"patch_68\">\n    <path d=\"M 188.356788 188.638125 \nL 190.33832 188.638125 \nL 190.33832 81.194906 \nL 188.356788 81.194906 \nz\n\" clip-path=\"url(#pe7d515365a)\" style=\"fill: #4c72b0; fill-opacity: 0.5; stroke: #4c72b0; stroke-linejoin: miter\"/>\n   </g>\n   <g id=\"patch_69\">\n    <path d=\"M 190.33832 188.638125 \nL 192.319863 188.638125 \nL 192.319863 69.993315 \nL 190.33832 69.993315 \nz\n\" clip-path=\"url(#pe7d515365a)\" style=\"fill: #4c72b0; fill-opacity: 0.5; stroke: #4c72b0; stroke-linejoin: miter\"/>\n   </g>\n   <g id=\"patch_70\">\n    <path d=\"M 192.319863 188.638125 \nL 194.301395 188.638125 \nL 194.301395 57.857388 \nL 192.319863 57.857388 \nz\n\" clip-path=\"url(#pe7d515365a)\" style=\"fill: #4c72b0; fill-opacity: 0.5; stroke: #4c72b0; stroke-linejoin: miter\"/>\n   </g>\n   <g id=\"patch_71\">\n    <path d=\"M 194.301395 188.638125 \nL 196.282928 188.638125 \nL 196.282928 46.222115 \nL 194.301395 46.222115 \nz\n\" clip-path=\"url(#pe7d515365a)\" style=\"fill: #4c72b0; fill-opacity: 0.5; stroke: #4c72b0; stroke-linejoin: miter\"/>\n   </g>\n   <g id=\"patch_72\">\n    <path d=\"M 196.282928 188.638125 \nL 198.26446 188.638125 \nL 198.26446 30.238125 \nL 196.282928 30.238125 \nz\n\" clip-path=\"url(#pe7d515365a)\" style=\"fill: #4c72b0; fill-opacity: 0.5; stroke: #4c72b0; stroke-linejoin: miter\"/>\n   </g>\n   <g id=\"patch_73\">\n    <path d=\"M 198.26446 188.638125 \nL 200.245992 188.638125 \nL 200.245992 142.320273 \nL 198.26446 142.320273 \nz\n\" clip-path=\"url(#pe7d515365a)\" style=\"fill: #4c72b0; fill-opacity: 0.5; stroke: #4c72b0; stroke-linejoin: miter\"/>\n   </g>\n   <g id=\"patch_74\">\n    <path d=\"M 200.245992 188.638125 \nL 202.227525 188.638125 \nL 202.227525 184.874297 \nL 200.245992 184.874297 \nz\n\" clip-path=\"url(#pe7d515365a)\" style=\"fill: #4c72b0; fill-opacity: 0.5; stroke: #4c72b0; stroke-linejoin: miter\"/>\n   </g>\n   <g id=\"patch_75\">\n    <path d=\"M 202.227525 188.638125 \nL 204.209067 188.638125 \nL 204.209067 184.202367 \nL 202.227525 184.202367 \nz\n\" clip-path=\"url(#pe7d515365a)\" style=\"fill: #4c72b0; fill-opacity: 0.5; stroke: #4c72b0; stroke-linejoin: miter\"/>\n   </g>\n   <g id=\"patch_76\">\n    <path d=\"M 204.209067 188.638125 \nL 206.190599 188.638125 \nL 206.190599 183.91883 \nL 204.209067 183.91883 \nz\n\" clip-path=\"url(#pe7d515365a)\" style=\"fill: #4c72b0; fill-opacity: 0.5; stroke: #4c72b0; stroke-linejoin: miter\"/>\n   </g>\n   <g id=\"patch_77\">\n    <path d=\"M 206.190599 188.638125 \nL 208.172132 188.638125 \nL 208.172132 183.421004 \nL 206.190599 183.421004 \nz\n\" clip-path=\"url(#pe7d515365a)\" style=\"fill: #4c72b0; fill-opacity: 0.5; stroke: #4c72b0; stroke-linejoin: miter\"/>\n   </g>\n   <g id=\"patch_78\">\n    <path d=\"M 208.172132 188.638125 \nL 210.153664 188.638125 \nL 210.153664 182.996848 \nL 208.172132 182.996848 \nz\n\" clip-path=\"url(#pe7d515365a)\" style=\"fill: #4c72b0; fill-opacity: 0.5; stroke: #4c72b0; stroke-linejoin: miter\"/>\n   </g>\n   <g id=\"patch_79\">\n    <path d=\"M 210.153664 188.638125 \nL 212.135197 188.638125 \nL 212.135197 182.40303 \nL 210.153664 182.40303 \nz\n\" clip-path=\"url(#pe7d515365a)\" style=\"fill: #4c72b0; fill-opacity: 0.5; stroke: #4c72b0; stroke-linejoin: miter\"/>\n   </g>\n   <g id=\"patch_80\">\n    <path d=\"M 212.135197 188.638125 \nL 214.116729 188.638125 \nL 214.116729 182.791467 \nL 212.135197 182.791467 \nz\n\" clip-path=\"url(#pe7d515365a)\" style=\"fill: #4c72b0; fill-opacity: 0.5; stroke: #4c72b0; stroke-linejoin: miter\"/>\n   </g>\n   <g id=\"patch_81\">\n    <path d=\"M 214.116729 188.638125 \nL 216.098271 188.638125 \nL 216.098271 184.206832 \nL 214.116729 184.206832 \nz\n\" clip-path=\"url(#pe7d515365a)\" style=\"fill: #4c72b0; fill-opacity: 0.5; stroke: #4c72b0; stroke-linejoin: miter\"/>\n   </g>\n   <g id=\"patch_82\">\n    <path d=\"M 216.098271 188.638125 \nL 218.079804 188.638125 \nL 218.079804 183.744702 \nL 216.098271 183.744702 \nz\n\" clip-path=\"url(#pe7d515365a)\" style=\"fill: #4c72b0; fill-opacity: 0.5; stroke: #4c72b0; stroke-linejoin: miter\"/>\n   </g>\n   <g id=\"patch_83\">\n    <path d=\"M 218.079804 188.638125 \nL 220.061336 188.638125 \nL 220.061336 183.025869 \nL 218.079804 183.025869 \nz\n\" clip-path=\"url(#pe7d515365a)\" style=\"fill: #4c72b0; fill-opacity: 0.5; stroke: #4c72b0; stroke-linejoin: miter\"/>\n   </g>\n   <g id=\"patch_84\">\n    <path d=\"M 220.061336 188.638125 \nL 222.042868 188.638125 \nL 222.042868 182.67315 \nL 220.061336 182.67315 \nz\n\" clip-path=\"url(#pe7d515365a)\" style=\"fill: #4c72b0; fill-opacity: 0.5; stroke: #4c72b0; stroke-linejoin: miter\"/>\n   </g>\n   <g id=\"patch_85\">\n    <path d=\"M 222.042868 188.638125 \nL 224.024401 188.638125 \nL 224.024401 184.586318 \nL 222.042868 184.586318 \nz\n\" clip-path=\"url(#pe7d515365a)\" style=\"fill: #4c72b0; fill-opacity: 0.5; stroke: #4c72b0; stroke-linejoin: miter\"/>\n   </g>\n   <g id=\"patch_86\">\n    <path d=\"M 224.024401 188.638125 \nL 226.005933 188.638125 \nL 226.005933 184.164394 \nL 224.024401 184.164394 \nz\n\" clip-path=\"url(#pe7d515365a)\" style=\"fill: #4c72b0; fill-opacity: 0.5; stroke: #4c72b0; stroke-linejoin: miter\"/>\n   </g>\n   <g id=\"patch_87\">\n    <path d=\"M 226.005933 188.638125 \nL 227.987475 188.638125 \nL 227.987475 183.805002 \nL 226.005933 183.805002 \nz\n\" clip-path=\"url(#pe7d515365a)\" style=\"fill: #4c72b0; fill-opacity: 0.5; stroke: #4c72b0; stroke-linejoin: miter\"/>\n   </g>\n   <g id=\"patch_88\">\n    <path d=\"M 227.987475 188.638125 \nL 229.969008 188.638125 \nL 229.969008 184.968058 \nL 227.987475 184.968058 \nz\n\" clip-path=\"url(#pe7d515365a)\" style=\"fill: #4c72b0; fill-opacity: 0.5; stroke: #4c72b0; stroke-linejoin: miter\"/>\n   </g>\n   <g id=\"patch_89\">\n    <path d=\"M 229.969008 188.638125 \nL 231.95054 188.638125 \nL 231.95054 184.374239 \nL 229.969008 184.374239 \nz\n\" clip-path=\"url(#pe7d515365a)\" style=\"fill: #4c72b0; fill-opacity: 0.5; stroke: #4c72b0; stroke-linejoin: miter\"/>\n   </g>\n   <g id=\"patch_90\">\n    <path d=\"M 231.95054 188.638125 \nL 233.932073 188.638125 \nL 233.932073 184.963593 \nL 231.95054 184.963593 \nz\n\" clip-path=\"url(#pe7d515365a)\" style=\"fill: #4c72b0; fill-opacity: 0.5; stroke: #4c72b0; stroke-linejoin: miter\"/>\n   </g>\n   <g id=\"patch_91\">\n    <path d=\"M 233.932073 188.638125 \nL 235.91361 188.638125 \nL 235.91361 185.037272 \nL 233.932073 185.037272 \nz\n\" clip-path=\"url(#pe7d515365a)\" style=\"fill: #4c72b0; fill-opacity: 0.5; stroke: #4c72b0; stroke-linejoin: miter\"/>\n   </g>\n   <g id=\"patch_92\">\n    <path d=\"M 235.91361 188.638125 \nL 237.895142 188.638125 \nL 237.895142 185.215855 \nL 235.91361 185.215855 \nz\n\" clip-path=\"url(#pe7d515365a)\" style=\"fill: #4c72b0; fill-opacity: 0.5; stroke: #4c72b0; stroke-linejoin: miter\"/>\n   </g>\n   <g id=\"patch_93\">\n    <path d=\"M 237.895142 188.638125 \nL 239.876675 188.638125 \nL 239.876675 185.276129 \nL 237.895142 185.276129 \nz\n\" clip-path=\"url(#pe7d515365a)\" style=\"fill: #4c72b0; fill-opacity: 0.5; stroke: #4c72b0; stroke-linejoin: miter\"/>\n   </g>\n   <g id=\"patch_94\">\n    <path d=\"M 239.876675 188.638125 \nL 241.858212 188.638125 \nL 241.858212 185.829772 \nL 239.876675 185.829772 \nz\n\" clip-path=\"url(#pe7d515365a)\" style=\"fill: #4c72b0; fill-opacity: 0.5; stroke: #4c72b0; stroke-linejoin: miter\"/>\n   </g>\n   <g id=\"patch_95\">\n    <path d=\"M 241.858212 188.638125 \nL 243.839744 188.638125 \nL 243.839744 185.939152 \nL 241.858212 185.939152 \nz\n\" clip-path=\"url(#pe7d515365a)\" style=\"fill: #4c72b0; fill-opacity: 0.5; stroke: #4c72b0; stroke-linejoin: miter\"/>\n   </g>\n   <g id=\"patch_96\">\n    <path d=\"M 243.839744 188.638125 \nL 245.821277 188.638125 \nL 245.821277 185.867716 \nL 243.839744 185.867716 \nz\n\" clip-path=\"url(#pe7d515365a)\" style=\"fill: #4c72b0; fill-opacity: 0.5; stroke: #4c72b0; stroke-linejoin: miter\"/>\n   </g>\n   <g id=\"patch_97\">\n    <path d=\"M 245.821277 188.638125 \nL 247.802814 188.638125 \nL 247.802814 185.836469 \nL 245.821277 185.836469 \nz\n\" clip-path=\"url(#pe7d515365a)\" style=\"fill: #4c72b0; fill-opacity: 0.5; stroke: #4c72b0; stroke-linejoin: miter\"/>\n   </g>\n   <g id=\"patch_98\">\n    <path d=\"M 247.802814 188.638125 \nL 249.784347 188.638125 \nL 249.784347 185.6668 \nL 247.802814 185.6668 \nz\n\" clip-path=\"url(#pe7d515365a)\" style=\"fill: #4c72b0; fill-opacity: 0.5; stroke: #4c72b0; stroke-linejoin: miter\"/>\n   </g>\n   <g id=\"patch_99\">\n    <path d=\"M 249.784347 188.638125 \nL 251.765879 188.638125 \nL 251.765879 185.590898 \nL 249.784347 185.590898 \nz\n\" clip-path=\"url(#pe7d515365a)\" style=\"fill: #4c72b0; fill-opacity: 0.5; stroke: #4c72b0; stroke-linejoin: miter\"/>\n   </g>\n   <g id=\"patch_100\">\n    <path d=\"M 251.765879 188.638125 \nL 253.747416 188.638125 \nL 253.747416 185.095314 \nL 251.765879 185.095314 \nz\n\" clip-path=\"url(#pe7d515365a)\" style=\"fill: #4c72b0; fill-opacity: 0.5; stroke: #4c72b0; stroke-linejoin: miter\"/>\n   </g>\n   <g id=\"patch_101\">\n    <path d=\"M 253.747416 188.638125 \nL 255.728949 188.638125 \nL 255.728949 185.102002 \nL 253.747416 185.102002 \nz\n\" clip-path=\"url(#pe7d515365a)\" style=\"fill: #4c72b0; fill-opacity: 0.5; stroke: #4c72b0; stroke-linejoin: miter\"/>\n   </g>\n   <g id=\"patch_102\">\n    <path d=\"M 255.728949 188.638125 \nL 257.710481 188.638125 \nL 257.710481 184.619804 \nL 255.728949 184.619804 \nz\n\" clip-path=\"url(#pe7d515365a)\" style=\"fill: #4c72b0; fill-opacity: 0.5; stroke: #4c72b0; stroke-linejoin: miter\"/>\n   </g>\n   <g id=\"patch_103\">\n    <path d=\"M 257.710481 188.638125 \nL 259.692018 188.638125 \nL 259.692018 184.137616 \nL 257.710481 184.137616 \nz\n\" clip-path=\"url(#pe7d515365a)\" style=\"fill: #4c72b0; fill-opacity: 0.5; stroke: #4c72b0; stroke-linejoin: miter\"/>\n   </g>\n   <g id=\"patch_104\">\n    <path d=\"M 259.692018 188.638125 \nL 261.673551 188.638125 \nL 261.673551 183.505836 \nL 259.692018 183.505836 \nz\n\" clip-path=\"url(#pe7d515365a)\" style=\"fill: #4c72b0; fill-opacity: 0.5; stroke: #4c72b0; stroke-linejoin: miter\"/>\n   </g>\n   <g id=\"patch_105\">\n    <path d=\"M 261.673551 188.638125 \nL 263.655083 188.638125 \nL 263.655083 182.96113 \nL 261.673551 182.96113 \nz\n\" clip-path=\"url(#pe7d515365a)\" style=\"fill: #4c72b0; fill-opacity: 0.5; stroke: #4c72b0; stroke-linejoin: miter\"/>\n   </g>\n   <g id=\"patch_106\">\n    <path d=\"M 263.655083 188.638125 \nL 265.636621 188.638125 \nL 265.636621 182.662003 \nL 263.655083 182.662003 \nz\n\" clip-path=\"url(#pe7d515365a)\" style=\"fill: #4c72b0; fill-opacity: 0.5; stroke: #4c72b0; stroke-linejoin: miter\"/>\n   </g>\n   <g id=\"patch_107\">\n    <path d=\"M 265.636621 188.638125 \nL 267.618153 188.638125 \nL 267.618153 181.697591 \nL 265.636621 181.697591 \nz\n\" clip-path=\"url(#pe7d515365a)\" style=\"fill: #4c72b0; fill-opacity: 0.5; stroke: #4c72b0; stroke-linejoin: miter\"/>\n   </g>\n   <g id=\"patch_108\">\n    <path d=\"M 267.618153 188.638125 \nL 269.599685 188.638125 \nL 269.599685 180.402798 \nL 267.618153 180.402798 \nz\n\" clip-path=\"url(#pe7d515365a)\" style=\"fill: #4c72b0; fill-opacity: 0.5; stroke: #4c72b0; stroke-linejoin: miter\"/>\n   </g>\n   <g id=\"patch_109\">\n    <path d=\"M 269.599685 188.638125 \nL 271.581223 188.638125 \nL 271.581223 180.201904 \nL 269.599685 180.201904 \nz\n\" clip-path=\"url(#pe7d515365a)\" style=\"fill: #4c72b0; fill-opacity: 0.5; stroke: #4c72b0; stroke-linejoin: miter\"/>\n   </g>\n   <g id=\"patch_110\">\n    <path d=\"M 271.581223 188.638125 \nL 273.562755 188.638125 \nL 273.562755 178.188257 \nL 271.581223 178.188257 \nz\n\" clip-path=\"url(#pe7d515365a)\" style=\"fill: #4c72b0; fill-opacity: 0.5; stroke: #4c72b0; stroke-linejoin: miter\"/>\n   </g>\n   <g id=\"patch_111\">\n    <path d=\"M 273.562755 188.638125 \nL 275.54429 188.638125 \nL 275.54429 176.846599 \nL 273.562755 176.846599 \nz\n\" clip-path=\"url(#pe7d515365a)\" style=\"fill: #4c72b0; fill-opacity: 0.5; stroke: #4c72b0; stroke-linejoin: miter\"/>\n   </g>\n   <g id=\"patch_112\">\n    <path d=\"M 275.54429 188.638125 \nL 277.525825 188.638125 \nL 277.525825 176.634521 \nL 275.54429 176.634521 \nz\n\" clip-path=\"url(#pe7d515365a)\" style=\"fill: #4c72b0; fill-opacity: 0.5; stroke: #4c72b0; stroke-linejoin: miter\"/>\n   </g>\n   <g id=\"patch_113\">\n    <path d=\"M 277.525825 188.638125 \nL 279.507357 188.638125 \nL 279.507357 172.917558 \nL 277.525825 172.917558 \nz\n\" clip-path=\"url(#pe7d515365a)\" style=\"fill: #4c72b0; fill-opacity: 0.5; stroke: #4c72b0; stroke-linejoin: miter\"/>\n   </g>\n   <g id=\"patch_114\">\n    <path d=\"M 279.507357 188.638125 \nL 281.488892 188.638125 \nL 281.488892 171.734407 \nL 279.507357 171.734407 \nz\n\" clip-path=\"url(#pe7d515365a)\" style=\"fill: #4c72b0; fill-opacity: 0.5; stroke: #4c72b0; stroke-linejoin: miter\"/>\n   </g>\n   <g id=\"patch_115\">\n    <path d=\"M 281.488892 188.638125 \nL 283.470427 188.638125 \nL 283.470427 170.935209 \nL 281.488892 170.935209 \nz\n\" clip-path=\"url(#pe7d515365a)\" style=\"fill: #4c72b0; fill-opacity: 0.5; stroke: #4c72b0; stroke-linejoin: miter\"/>\n   </g>\n   <g id=\"patch_116\">\n    <path d=\"M 283.470427 188.638125 \nL 285.451959 188.638125 \nL 285.451959 170.586932 \nL 283.470427 170.586932 \nz\n\" clip-path=\"url(#pe7d515365a)\" style=\"fill: #4c72b0; fill-opacity: 0.5; stroke: #4c72b0; stroke-linejoin: miter\"/>\n   </g>\n   <g id=\"patch_117\">\n    <path d=\"M 285.451959 188.638125 \nL 287.433494 188.638125 \nL 287.433494 169.164917 \nL 285.451959 169.164917 \nz\n\" clip-path=\"url(#pe7d515365a)\" style=\"fill: #4c72b0; fill-opacity: 0.5; stroke: #4c72b0; stroke-linejoin: miter\"/>\n   </g>\n   <g id=\"patch_118\">\n    <path d=\"M 287.433494 188.638125 \nL 289.415029 188.638125 \nL 289.415029 169.104642 \nL 287.433494 169.104642 \nz\n\" clip-path=\"url(#pe7d515365a)\" style=\"fill: #4c72b0; fill-opacity: 0.5; stroke: #4c72b0; stroke-linejoin: miter\"/>\n   </g>\n   <g id=\"patch_119\">\n    <path d=\"M 289.415029 188.638125 \nL 291.396561 188.638125 \nL 291.396561 168.399179 \nL 289.415029 168.399179 \nz\n\" clip-path=\"url(#pe7d515365a)\" style=\"fill: #4c72b0; fill-opacity: 0.5; stroke: #4c72b0; stroke-linejoin: miter\"/>\n   </g>\n   <g id=\"patch_120\">\n    <path d=\"M 291.396561 188.638125 \nL 293.378096 188.638125 \nL 293.378096 166.568638 \nL 291.396561 166.568638 \nz\n\" clip-path=\"url(#pe7d515365a)\" style=\"fill: #4c72b0; fill-opacity: 0.5; stroke: #4c72b0; stroke-linejoin: miter\"/>\n   </g>\n   <g id=\"patch_121\">\n    <path d=\"M 293.378096 188.638125 \nL 295.359631 188.638125 \nL 295.359631 166.818667 \nL 293.378096 166.818667 \nz\n\" clip-path=\"url(#pe7d515365a)\" style=\"fill: #4c72b0; fill-opacity: 0.5; stroke: #4c72b0; stroke-linejoin: miter\"/>\n   </g>\n   <g id=\"patch_122\">\n    <path d=\"M 295.359631 188.638125 \nL 297.341165 188.638125 \nL 297.341165 166.260553 \nL 295.359631 166.260553 \nz\n\" clip-path=\"url(#pe7d515365a)\" style=\"fill: #4c72b0; fill-opacity: 0.5; stroke: #4c72b0; stroke-linejoin: miter\"/>\n   </g>\n   <g id=\"patch_123\">\n    <path d=\"M 297.341165 188.638125 \nL 299.322698 188.638125 \nL 299.322698 164.99255 \nL 297.341165 164.99255 \nz\n\" clip-path=\"url(#pe7d515365a)\" style=\"fill: #4c72b0; fill-opacity: 0.5; stroke: #4c72b0; stroke-linejoin: miter\"/>\n   </g>\n   <g id=\"patch_124\">\n    <path d=\"M 299.322698 188.638125 \nL 301.304233 188.638125 \nL 301.304233 162.139561 \nL 299.322698 162.139561 \nz\n\" clip-path=\"url(#pe7d515365a)\" style=\"fill: #4c72b0; fill-opacity: 0.5; stroke: #4c72b0; stroke-linejoin: miter\"/>\n   </g>\n   <g id=\"patch_125\">\n    <path d=\"M 301.304233 188.638125 \nL 303.285767 188.638125 \nL 303.285767 159.875891 \nL 301.304233 159.875891 \nz\n\" clip-path=\"url(#pe7d515365a)\" style=\"fill: #4c72b0; fill-opacity: 0.5; stroke: #4c72b0; stroke-linejoin: miter\"/>\n   </g>\n   <g id=\"patch_126\">\n    <path d=\"M 303.285767 188.638125 \nL 305.267301 188.638125 \nL 305.267301 160.75993 \nL 303.285767 160.75993 \nz\n\" clip-path=\"url(#pe7d515365a)\" style=\"fill: #4c72b0; fill-opacity: 0.5; stroke: #4c72b0; stroke-linejoin: miter\"/>\n   </g>\n   <g id=\"patch_127\">\n    <path d=\"M 305.267301 188.638125 \nL 307.248835 188.638125 \nL 307.248835 159.918316 \nL 305.267301 159.918316 \nz\n\" clip-path=\"url(#pe7d515365a)\" style=\"fill: #4c72b0; fill-opacity: 0.5; stroke: #4c72b0; stroke-linejoin: miter\"/>\n   </g>\n   <g id=\"patch_128\">\n    <path d=\"M 307.248835 188.638125 \nL 309.230369 188.638125 \nL 309.230369 158.223915 \nL 307.248835 158.223915 \nz\n\" clip-path=\"url(#pe7d515365a)\" style=\"fill: #4c72b0; fill-opacity: 0.5; stroke: #4c72b0; stroke-linejoin: miter\"/>\n   </g>\n   <g id=\"patch_129\">\n    <path d=\"M 309.230369 188.638125 \nL 311.211903 188.638125 \nL 311.211903 156.161189 \nL 309.230369 156.161189 \nz\n\" clip-path=\"url(#pe7d515365a)\" style=\"fill: #4c72b0; fill-opacity: 0.5; stroke: #4c72b0; stroke-linejoin: miter\"/>\n   </g>\n   <g id=\"patch_130\">\n    <path d=\"M 311.211903 188.638125 \nL 313.193438 188.638125 \nL 313.193438 156.06966 \nL 311.211903 156.06966 \nz\n\" clip-path=\"url(#pe7d515365a)\" style=\"fill: #4c72b0; fill-opacity: 0.5; stroke: #4c72b0; stroke-linejoin: miter\"/>\n   </g>\n   <g id=\"patch_131\">\n    <path d=\"M 313.193438 188.638125 \nL 315.174972 188.638125 \nL 315.174972 153.59616 \nL 313.193438 153.59616 \nz\n\" clip-path=\"url(#pe7d515365a)\" style=\"fill: #4c72b0; fill-opacity: 0.5; stroke: #4c72b0; stroke-linejoin: miter\"/>\n   </g>\n   <g id=\"patch_132\">\n    <path d=\"M 315.174972 188.638125 \nL 317.156506 188.638125 \nL 317.156506 154.085055 \nL 315.174972 154.085055 \nz\n\" clip-path=\"url(#pe7d515365a)\" style=\"fill: #4c72b0; fill-opacity: 0.5; stroke: #4c72b0; stroke-linejoin: miter\"/>\n   </g>\n   <g id=\"patch_133\">\n    <path d=\"M 317.156506 188.638125 \nL 319.13804 188.638125 \nL 319.13804 154.451166 \nL 317.156506 154.451166 \nz\n\" clip-path=\"url(#pe7d515365a)\" style=\"fill: #4c72b0; fill-opacity: 0.5; stroke: #4c72b0; stroke-linejoin: miter\"/>\n   </g>\n   <g id=\"patch_134\">\n    <path d=\"M 319.13804 188.638125 \nL 321.119574 188.638125 \nL 321.119574 151.674067 \nL 319.13804 151.674067 \nz\n\" clip-path=\"url(#pe7d515365a)\" style=\"fill: #4c72b0; fill-opacity: 0.5; stroke: #4c72b0; stroke-linejoin: miter\"/>\n   </g>\n   <g id=\"patch_135\">\n    <path d=\"M 321.119574 188.638125 \nL 323.101108 188.638125 \nL 323.101108 150.906122 \nL 321.119574 150.906122 \nz\n\" clip-path=\"url(#pe7d515365a)\" style=\"fill: #4c72b0; fill-opacity: 0.5; stroke: #4c72b0; stroke-linejoin: miter\"/>\n   </g>\n   <g id=\"patch_136\">\n    <path d=\"M 323.101108 188.638125 \nL 325.082642 188.638125 \nL 325.082642 151.23204 \nL 323.101108 151.23204 \nz\n\" clip-path=\"url(#pe7d515365a)\" style=\"fill: #4c72b0; fill-opacity: 0.5; stroke: #4c72b0; stroke-linejoin: miter\"/>\n   </g>\n   <g id=\"patch_137\">\n    <path d=\"M 325.082642 188.638125 \nL 327.064177 188.638125 \nL 327.064177 148.169214 \nL 325.082642 148.169214 \nz\n\" clip-path=\"url(#pe7d515365a)\" style=\"fill: #4c72b0; fill-opacity: 0.5; stroke: #4c72b0; stroke-linejoin: miter\"/>\n   </g>\n   <g id=\"patch_138\">\n    <path d=\"M 327.064177 188.638125 \nL 329.04571 188.638125 \nL 329.04571 147.506166 \nL 327.064177 147.506166 \nz\n\" clip-path=\"url(#pe7d515365a)\" style=\"fill: #4c72b0; fill-opacity: 0.5; stroke: #4c72b0; stroke-linejoin: miter\"/>\n   </g>\n   <g id=\"patch_139\">\n    <path d=\"M 329.04571 188.638125 \nL 331.027244 188.638125 \nL 331.027244 146.64446 \nL 329.04571 146.64446 \nz\n\" clip-path=\"url(#pe7d515365a)\" style=\"fill: #4c72b0; fill-opacity: 0.5; stroke: #4c72b0; stroke-linejoin: miter\"/>\n   </g>\n   <g id=\"patch_140\">\n    <path d=\"M 331.027244 188.638125 \nL 333.008779 188.638125 \nL 333.008779 145.204589 \nL 331.027244 145.204589 \nz\n\" clip-path=\"url(#pe7d515365a)\" style=\"fill: #4c72b0; fill-opacity: 0.5; stroke: #4c72b0; stroke-linejoin: miter\"/>\n   </g>\n   <g id=\"patch_141\">\n    <path d=\"M 333.008779 188.638125 \nL 334.990312 188.638125 \nL 334.990312 146.818587 \nL 333.008779 146.818587 \nz\n\" clip-path=\"url(#pe7d515365a)\" style=\"fill: #4c72b0; fill-opacity: 0.5; stroke: #4c72b0; stroke-linejoin: miter\"/>\n   </g>\n   <g id=\"patch_142\">\n    <path d=\"M 334.990312 188.638125 \nL 336.971846 188.638125 \nL 336.971846 143.119501 \nL 334.990312 143.119501 \nz\n\" clip-path=\"url(#pe7d515365a)\" style=\"fill: #4c72b0; fill-opacity: 0.5; stroke: #4c72b0; stroke-linejoin: miter\"/>\n   </g>\n   <g id=\"patch_143\">\n    <path d=\"M 336.971846 188.638125 \nL 338.953381 188.638125 \nL 338.953381 142.11495 \nL 336.971846 142.11495 \nz\n\" clip-path=\"url(#pe7d515365a)\" style=\"fill: #4c72b0; fill-opacity: 0.5; stroke: #4c72b0; stroke-linejoin: miter\"/>\n   </g>\n   <g id=\"patch_144\">\n    <path d=\"M 338.953381 188.638125 \nL 340.934916 188.638125 \nL 340.934916 140.512089 \nL 338.953381 140.512089 \nz\n\" clip-path=\"url(#pe7d515365a)\" style=\"fill: #4c72b0; fill-opacity: 0.5; stroke: #4c72b0; stroke-linejoin: miter\"/>\n   </g>\n   <g id=\"patch_145\">\n    <path d=\"M 340.934916 188.638125 \nL 342.916448 188.638125 \nL 342.916448 141.965321 \nL 340.934916 141.965321 \nz\n\" clip-path=\"url(#pe7d515365a)\" style=\"fill: #4c72b0; fill-opacity: 0.5; stroke: #4c72b0; stroke-linejoin: miter\"/>\n   </g>\n   <g id=\"patch_146\">\n    <path d=\"M 342.916448 188.638125 \nL 344.897983 188.638125 \nL 344.897983 140.431722 \nL 342.916448 140.431722 \nz\n\" clip-path=\"url(#pe7d515365a)\" style=\"fill: #4c72b0; fill-opacity: 0.5; stroke: #4c72b0; stroke-linejoin: miter\"/>\n   </g>\n   <g id=\"patch_147\">\n    <path d=\"M 344.897983 188.638125 \nL 346.879518 188.638125 \nL 346.879518 138.525254 \nL 344.897983 138.525254 \nz\n\" clip-path=\"url(#pe7d515365a)\" style=\"fill: #4c72b0; fill-opacity: 0.5; stroke: #4c72b0; stroke-linejoin: miter\"/>\n   </g>\n   <g id=\"patch_148\">\n    <path d=\"M 346.879518 188.638125 \nL 348.86105 188.638125 \nL 348.86105 142.068012 \nL 346.879518 142.068012 \nz\n\" clip-path=\"url(#pe7d515365a)\" style=\"fill: #4c72b0; fill-opacity: 0.5; stroke: #4c72b0; stroke-linejoin: miter\"/>\n   </g>\n   <g id=\"patch_149\">\n    <path d=\"M 348.86105 188.638125 \nL 350.842585 188.638125 \nL 350.842585 146.10871 \nL 348.86105 146.10871 \nz\n\" clip-path=\"url(#pe7d515365a)\" style=\"fill: #4c72b0; fill-opacity: 0.5; stroke: #4c72b0; stroke-linejoin: miter\"/>\n   </g>\n   <g id=\"patch_150\">\n    <path d=\"M 350.842585 188.638125 \nL 352.82412 188.638125 \nL 352.82412 150.794514 \nL 350.842585 150.794514 \nz\n\" clip-path=\"url(#pe7d515365a)\" style=\"fill: #4c72b0; fill-opacity: 0.5; stroke: #4c72b0; stroke-linejoin: miter\"/>\n   </g>\n   <g id=\"patch_151\">\n    <path d=\"M 352.82412 188.638125 \nL 354.805652 188.638125 \nL 354.805652 150.888227 \nL 352.82412 150.888227 \nz\n\" clip-path=\"url(#pe7d515365a)\" style=\"fill: #4c72b0; fill-opacity: 0.5; stroke: #4c72b0; stroke-linejoin: miter\"/>\n   </g>\n   <g id=\"patch_152\">\n    <path d=\"M 354.805652 188.638125 \nL 356.78719 188.638125 \nL 356.78719 152.524668 \nL 354.805652 152.524668 \nz\n\" clip-path=\"url(#pe7d515365a)\" style=\"fill: #4c72b0; fill-opacity: 0.5; stroke: #4c72b0; stroke-linejoin: miter\"/>\n   </g>\n   <g id=\"patch_153\">\n    <path d=\"M 356.78719 188.638125 \nL 358.768722 188.638125 \nL 358.768722 155.511529 \nL 356.78719 155.511529 \nz\n\" clip-path=\"url(#pe7d515365a)\" style=\"fill: #4c72b0; fill-opacity: 0.5; stroke: #4c72b0; stroke-linejoin: miter\"/>\n   </g>\n   <g id=\"patch_154\">\n    <path d=\"M 358.768722 188.638125 \nL 360.750254 188.638125 \nL 360.750254 155.933453 \nL 358.768722 155.933453 \nz\n\" clip-path=\"url(#pe7d515365a)\" style=\"fill: #4c72b0; fill-opacity: 0.5; stroke: #4c72b0; stroke-linejoin: miter\"/>\n   </g>\n   <g id=\"patch_155\">\n    <path d=\"M 360.750254 188.638125 \nL 362.731792 188.638125 \nL 362.731792 162.244516 \nL 360.750254 162.244516 \nz\n\" clip-path=\"url(#pe7d515365a)\" style=\"fill: #4c72b0; fill-opacity: 0.5; stroke: #4c72b0; stroke-linejoin: miter\"/>\n   </g>\n   <g id=\"patch_156\">\n    <path d=\"M 362.731792 188.638125 \nL 364.713324 188.638125 \nL 364.713324 167.037415 \nL 362.731792 167.037415 \nz\n\" clip-path=\"url(#pe7d515365a)\" style=\"fill: #4c72b0; fill-opacity: 0.5; stroke: #4c72b0; stroke-linejoin: miter\"/>\n   </g>\n   <g id=\"patch_157\">\n    <path d=\"M 364.713324 188.638125 \nL 366.694857 188.638125 \nL 366.694857 171.42185 \nL 364.713324 171.42185 \nz\n\" clip-path=\"url(#pe7d515365a)\" style=\"fill: #4c72b0; fill-opacity: 0.5; stroke: #4c72b0; stroke-linejoin: miter\"/>\n   </g>\n   <g id=\"patch_158\">\n    <path d=\"M 366.694857 188.638125 \nL 368.676394 188.638125 \nL 368.676394 174.243641 \nL 366.694857 174.243641 \nz\n\" clip-path=\"url(#pe7d515365a)\" style=\"fill: #4c72b0; fill-opacity: 0.5; stroke: #4c72b0; stroke-linejoin: miter\"/>\n   </g>\n   <g id=\"patch_159\">\n    <path d=\"M 368.676394 188.638125 \nL 370.657926 188.638125 \nL 370.657926 177.39129 \nL 368.676394 177.39129 \nz\n\" clip-path=\"url(#pe7d515365a)\" style=\"fill: #4c72b0; fill-opacity: 0.5; stroke: #4c72b0; stroke-linejoin: miter\"/>\n   </g>\n   <g id=\"patch_160\">\n    <path d=\"M 370.657926 188.638125 \nL 372.639459 188.638125 \nL 372.639459 178.592321 \nL 370.657926 178.592321 \nz\n\" clip-path=\"url(#pe7d515365a)\" style=\"fill: #4c72b0; fill-opacity: 0.5; stroke: #4c72b0; stroke-linejoin: miter\"/>\n   </g>\n   <g id=\"patch_161\">\n    <path d=\"M 372.639459 188.638125 \nL 374.620996 188.638125 \nL 374.620996 180.16172 \nL 372.639459 180.16172 \nz\n\" clip-path=\"url(#pe7d515365a)\" style=\"fill: #4c72b0; fill-opacity: 0.5; stroke: #4c72b0; stroke-linejoin: miter\"/>\n   </g>\n   <g id=\"patch_162\">\n    <path d=\"M 374.620996 188.638125 \nL 376.602528 188.638125 \nL 376.602528 182.041381 \nL 374.620996 182.041381 \nz\n\" clip-path=\"url(#pe7d515365a)\" style=\"fill: #4c72b0; fill-opacity: 0.5; stroke: #4c72b0; stroke-linejoin: miter\"/>\n   </g>\n   <g id=\"patch_163\">\n    <path d=\"M 376.602528 188.638125 \nL 378.584061 188.638125 \nL 378.584061 183.153116 \nL 376.602528 183.153116 \nz\n\" clip-path=\"url(#pe7d515365a)\" style=\"fill: #4c72b0; fill-opacity: 0.5; stroke: #4c72b0; stroke-linejoin: miter\"/>\n   </g>\n   <g id=\"patch_164\">\n    <path d=\"M 378.584061 188.638125 \nL 380.565598 188.638125 \nL 380.565598 183.780433 \nL 378.584061 183.780433 \nz\n\" clip-path=\"url(#pe7d515365a)\" style=\"fill: #4c72b0; fill-opacity: 0.5; stroke: #4c72b0; stroke-linejoin: miter\"/>\n   </g>\n   <g id=\"patch_165\">\n    <path d=\"M 380.565598 188.638125 \nL 382.547131 188.638125 \nL 382.547131 184.456838 \nL 380.565598 184.456838 \nz\n\" clip-path=\"url(#pe7d515365a)\" style=\"fill: #4c72b0; fill-opacity: 0.5; stroke: #4c72b0; stroke-linejoin: miter\"/>\n   </g>\n   <g id=\"patch_166\">\n    <path d=\"M 382.547131 188.638125 \nL 384.528663 188.638125 \nL 384.528663 185.148883 \nL 382.547131 185.148883 \nz\n\" clip-path=\"url(#pe7d515365a)\" style=\"fill: #4c72b0; fill-opacity: 0.5; stroke: #4c72b0; stroke-linejoin: miter\"/>\n   </g>\n   <g id=\"patch_167\">\n    <path d=\"M 384.528663 188.638125 \nL 386.5102 188.638125 \nL 386.5102 185.6043 \nL 384.528663 185.6043 \nz\n\" clip-path=\"url(#pe7d515365a)\" style=\"fill: #4c72b0; fill-opacity: 0.5; stroke: #4c72b0; stroke-linejoin: miter\"/>\n   </g>\n   <g id=\"patch_168\">\n    <path d=\"M 386.5102 188.638125 \nL 388.491733 188.638125 \nL 388.491733 186.133371 \nL 386.5102 186.133371 \nz\n\" clip-path=\"url(#pe7d515365a)\" style=\"fill: #4c72b0; fill-opacity: 0.5; stroke: #4c72b0; stroke-linejoin: miter\"/>\n   </g>\n   <g id=\"patch_169\">\n    <path d=\"M 388.491733 188.638125 \nL 390.473265 188.638125 \nL 390.473265 186.122209 \nL 388.491733 186.122209 \nz\n\" clip-path=\"url(#pe7d515365a)\" style=\"fill: #4c72b0; fill-opacity: 0.5; stroke: #4c72b0; stroke-linejoin: miter\"/>\n   </g>\n   <g id=\"patch_170\">\n    <path d=\"M 390.473265 188.638125 \nL 392.454802 188.638125 \nL 392.454802 186.332061 \nL 390.473265 186.332061 \nz\n\" clip-path=\"url(#pe7d515365a)\" style=\"fill: #4c72b0; fill-opacity: 0.5; stroke: #4c72b0; stroke-linejoin: miter\"/>\n   </g>\n   <g id=\"patch_171\">\n    <path d=\"M 392.454802 188.638125 \nL 394.436335 188.638125 \nL 394.436335 187.004008 \nL 392.454802 187.004008 \nz\n\" clip-path=\"url(#pe7d515365a)\" style=\"fill: #4c72b0; fill-opacity: 0.5; stroke: #4c72b0; stroke-linejoin: miter\"/>\n   </g>\n   <g id=\"patch_172\">\n    <path d=\"M 394.436335 188.638125 \nL 396.417867 188.638125 \nL 396.417867 187.207156 \nL 394.436335 187.207156 \nz\n\" clip-path=\"url(#pe7d515365a)\" style=\"fill: #4c72b0; fill-opacity: 0.5; stroke: #4c72b0; stroke-linejoin: miter\"/>\n   </g>\n   <g id=\"patch_173\">\n    <path d=\"M 396.417867 188.638125 \nL 398.3994 188.638125 \nL 398.3994 187.124557 \nL 396.417867 187.124557 \nz\n\" clip-path=\"url(#pe7d515365a)\" style=\"fill: #4c72b0; fill-opacity: 0.5; stroke: #4c72b0; stroke-linejoin: miter\"/>\n   </g>\n   <g id=\"patch_174\">\n    <path d=\"M 398.3994 188.638125 \nL 400.380942 188.638125 \nL 400.380942 187.350036 \nL 398.3994 187.350036 \nz\n\" clip-path=\"url(#pe7d515365a)\" style=\"fill: #4c72b0; fill-opacity: 0.5; stroke: #4c72b0; stroke-linejoin: miter\"/>\n   </g>\n   <g id=\"patch_175\">\n    <path d=\"M 400.380942 188.638125 \nL 402.362474 188.638125 \nL 402.362474 187.289755 \nL 400.380942 187.289755 \nz\n\" clip-path=\"url(#pe7d515365a)\" style=\"fill: #4c72b0; fill-opacity: 0.5; stroke: #4c72b0; stroke-linejoin: miter\"/>\n   </g>\n   <g id=\"patch_176\">\n    <path d=\"M 402.362474 188.638125 \nL 404.344007 188.638125 \nL 404.344007 187.29422 \nL 402.362474 187.29422 \nz\n\" clip-path=\"url(#pe7d515365a)\" style=\"fill: #4c72b0; fill-opacity: 0.5; stroke: #4c72b0; stroke-linejoin: miter\"/>\n   </g>\n   <g id=\"patch_177\">\n    <path d=\"M 404.344007 188.638125 \nL 406.325539 188.638125 \nL 406.325539 187.46165 \nL 404.344007 187.46165 \nz\n\" clip-path=\"url(#pe7d515365a)\" style=\"fill: #4c72b0; fill-opacity: 0.5; stroke: #4c72b0; stroke-linejoin: miter\"/>\n   </g>\n   <g id=\"patch_178\">\n    <path d=\"M 406.325539 188.638125 \nL 408.307071 188.638125 \nL 408.307071 187.475044 \nL 406.325539 187.475044 \nz\n\" clip-path=\"url(#pe7d515365a)\" style=\"fill: #4c72b0; fill-opacity: 0.5; stroke: #4c72b0; stroke-linejoin: miter\"/>\n   </g>\n   <g id=\"patch_179\">\n    <path d=\"M 408.307071 188.638125 \nL 410.288604 188.638125 \nL 410.288604 187.450488 \nL 408.307071 187.450488 \nz\n\" clip-path=\"url(#pe7d515365a)\" style=\"fill: #4c72b0; fill-opacity: 0.5; stroke: #4c72b0; stroke-linejoin: miter\"/>\n   </g>\n   <g id=\"patch_180\">\n    <path d=\"M 410.288604 188.638125 \nL 412.270146 188.638125 \nL 412.270146 187.602296 \nL 410.288604 187.602296 \nz\n\" clip-path=\"url(#pe7d515365a)\" style=\"fill: #4c72b0; fill-opacity: 0.5; stroke: #4c72b0; stroke-linejoin: miter\"/>\n   </g>\n   <g id=\"patch_181\">\n    <path d=\"M 412.270146 188.638125 \nL 414.251678 188.638125 \nL 414.251678 187.734003 \nL 412.270146 187.734003 \nz\n\" clip-path=\"url(#pe7d515365a)\" style=\"fill: #4c72b0; fill-opacity: 0.5; stroke: #4c72b0; stroke-linejoin: miter\"/>\n   </g>\n   <g id=\"patch_182\">\n    <path d=\"M 414.251678 188.638125 \nL 416.233211 188.638125 \nL 416.233211 187.829996 \nL 414.251678 187.829996 \nz\n\" clip-path=\"url(#pe7d515365a)\" style=\"fill: #4c72b0; fill-opacity: 0.5; stroke: #4c72b0; stroke-linejoin: miter\"/>\n   </g>\n   <g id=\"patch_183\">\n    <path d=\"M 416.233211 188.638125 \nL 418.214743 188.638125 \nL 418.214743 187.749629 \nL 416.233211 187.749629 \nz\n\" clip-path=\"url(#pe7d515365a)\" style=\"fill: #4c72b0; fill-opacity: 0.5; stroke: #4c72b0; stroke-linejoin: miter\"/>\n   </g>\n   <g id=\"patch_184\">\n    <path d=\"M 418.214743 188.638125 \nL 420.196276 188.638125 \nL 420.196276 187.834461 \nL 418.214743 187.834461 \nz\n\" clip-path=\"url(#pe7d515365a)\" style=\"fill: #4c72b0; fill-opacity: 0.5; stroke: #4c72b0; stroke-linejoin: miter\"/>\n   </g>\n   <g id=\"patch_185\">\n    <path d=\"M 420.196276 188.638125 \nL 422.177808 188.638125 \nL 422.177808 187.888038 \nL 420.196276 187.888038 \nz\n\" clip-path=\"url(#pe7d515365a)\" style=\"fill: #4c72b0; fill-opacity: 0.5; stroke: #4c72b0; stroke-linejoin: miter\"/>\n   </g>\n   <g id=\"patch_186\">\n    <path d=\"M 422.177808 188.638125 \nL 424.15935 188.638125 \nL 424.15935 187.908134 \nL 422.177808 187.908134 \nz\n\" clip-path=\"url(#pe7d515365a)\" style=\"fill: #4c72b0; fill-opacity: 0.5; stroke: #4c72b0; stroke-linejoin: miter\"/>\n   </g>\n   <g id=\"patch_187\">\n    <path d=\"M 424.15935 188.638125 \nL 426.140883 188.638125 \nL 426.140883 188.073328 \nL 424.15935 188.073328 \nz\n\" clip-path=\"url(#pe7d515365a)\" style=\"fill: #4c72b0; fill-opacity: 0.5; stroke: #4c72b0; stroke-linejoin: miter\"/>\n   </g>\n   <g id=\"patch_188\">\n    <path d=\"M 426.140883 188.638125 \nL 428.122415 188.638125 \nL 428.122415 188.064398 \nL 426.140883 188.064398 \nz\n\" clip-path=\"url(#pe7d515365a)\" style=\"fill: #4c72b0; fill-opacity: 0.5; stroke: #4c72b0; stroke-linejoin: miter\"/>\n   </g>\n   <g id=\"patch_189\">\n    <path d=\"M 428.122415 188.638125 \nL 430.103947 188.638125 \nL 430.103947 188.18718 \nL 428.122415 188.18718 \nz\n\" clip-path=\"url(#pe7d515365a)\" style=\"fill: #4c72b0; fill-opacity: 0.5; stroke: #4c72b0; stroke-linejoin: miter\"/>\n   </g>\n   <g id=\"patch_190\">\n    <path d=\"M 430.103947 188.638125 \nL 432.08548 188.638125 \nL 432.08548 186.003892 \nL 430.103947 186.003892 \nz\n\" clip-path=\"url(#pe7d515365a)\" style=\"fill: #4c72b0; fill-opacity: 0.5; stroke: #4c72b0; stroke-linejoin: miter\"/>\n   </g>\n   <g id=\"patch_191\">\n    <path d=\"M 432.08548 188.638125 \nL 434.067012 188.638125 \nL 434.067012 186.347682 \nL 432.08548 186.347682 \nz\n\" clip-path=\"url(#pe7d515365a)\" style=\"fill: #4c72b0; fill-opacity: 0.5; stroke: #4c72b0; stroke-linejoin: miter\"/>\n   </g>\n   <g id=\"patch_192\">\n    <path d=\"M 434.067012 188.638125 \nL 436.048555 188.638125 \nL 436.048555 186.343228 \nL 434.067012 186.343228 \nz\n\" clip-path=\"url(#pe7d515365a)\" style=\"fill: #4c72b0; fill-opacity: 0.5; stroke: #4c72b0; stroke-linejoin: miter\"/>\n   </g>\n   <g id=\"patch_193\">\n    <path d=\"M 436.048555 188.638125 \nL 438.030087 188.638125 \nL 438.030087 186.711563 \nL 436.048555 186.711563 \nz\n\" clip-path=\"url(#pe7d515365a)\" style=\"fill: #4c72b0; fill-opacity: 0.5; stroke: #4c72b0; stroke-linejoin: miter\"/>\n   </g>\n   <g id=\"patch_194\">\n    <path d=\"M 438.030087 188.638125 \nL 440.011619 188.638125 \nL 440.011619 186.89462 \nL 438.030087 186.89462 \nz\n\" clip-path=\"url(#pe7d515365a)\" style=\"fill: #4c72b0; fill-opacity: 0.5; stroke: #4c72b0; stroke-linejoin: miter\"/>\n   </g>\n   <g id=\"patch_195\">\n    <path d=\"M 440.011619 188.638125 \nL 441.993152 188.638125 \nL 441.993152 187.019634 \nL 440.011619 187.019634 \nz\n\" clip-path=\"url(#pe7d515365a)\" style=\"fill: #4c72b0; fill-opacity: 0.5; stroke: #4c72b0; stroke-linejoin: miter\"/>\n   </g>\n   <g id=\"patch_196\">\n    <path d=\"M 441.993152 188.638125 \nL 443.974684 188.638125 \nL 443.974684 187.225015 \nL 441.993152 187.225015 \nz\n\" clip-path=\"url(#pe7d515365a)\" style=\"fill: #4c72b0; fill-opacity: 0.5; stroke: #4c72b0; stroke-linejoin: miter\"/>\n   </g>\n   <g id=\"patch_197\">\n    <path d=\"M 443.974684 188.638125 \nL 445.956226 188.638125 \nL 445.956226 187.202698 \nL 443.974684 187.202698 \nz\n\" clip-path=\"url(#pe7d515365a)\" style=\"fill: #4c72b0; fill-opacity: 0.5; stroke: #4c72b0; stroke-linejoin: miter\"/>\n   </g>\n   <g id=\"patch_198\">\n    <path d=\"M 445.956226 188.638125 \nL 447.937759 188.638125 \nL 447.937759 187.329938 \nL 445.956226 187.329938 \nz\n\" clip-path=\"url(#pe7d515365a)\" style=\"fill: #4c72b0; fill-opacity: 0.5; stroke: #4c72b0; stroke-linejoin: miter\"/>\n   </g>\n   <g id=\"patch_199\">\n    <path d=\"M 447.937759 188.638125 \nL 449.919291 188.638125 \nL 449.919291 187.495136 \nL 447.937759 187.495136 \nz\n\" clip-path=\"url(#pe7d515365a)\" style=\"fill: #4c72b0; fill-opacity: 0.5; stroke: #4c72b0; stroke-linejoin: miter\"/>\n   </g>\n   <g id=\"patch_200\">\n    <path d=\"M 449.919291 188.638125 \nL 451.900824 188.638125 \nL 451.900824 187.597826 \nL 449.919291 187.597826 \nz\n\" clip-path=\"url(#pe7d515365a)\" style=\"fill: #4c72b0; fill-opacity: 0.5; stroke: #4c72b0; stroke-linejoin: miter\"/>\n   </g>\n   <g id=\"patch_201\">\n    <path d=\"M 451.900824 188.638125 \nL 453.882356 188.638125 \nL 453.882356 187.691587 \nL 451.900824 187.691587 \nz\n\" clip-path=\"url(#pe7d515365a)\" style=\"fill: #4c72b0; fill-opacity: 0.5; stroke: #4c72b0; stroke-linejoin: miter\"/>\n   </g>\n   <g id=\"patch_202\">\n    <path d=\"M 453.882356 188.638125 \nL 455.863888 188.638125 \nL 455.863888 187.823299 \nL 453.882356 187.823299 \nz\n\" clip-path=\"url(#pe7d515365a)\" style=\"fill: #4c72b0; fill-opacity: 0.5; stroke: #4c72b0; stroke-linejoin: miter\"/>\n   </g>\n   <g id=\"patch_203\">\n    <path d=\"M 455.863888 188.638125 \nL 457.845431 188.638125 \nL 457.845431 187.865718 \nL 455.863888 187.865718 \nz\n\" clip-path=\"url(#pe7d515365a)\" style=\"fill: #4c72b0; fill-opacity: 0.5; stroke: #4c72b0; stroke-linejoin: miter\"/>\n   </g>\n   <g id=\"patch_204\">\n    <path d=\"M 457.845431 188.638125 \nL 459.826963 188.638125 \nL 459.826963 187.975102 \nL 457.845431 187.975102 \nz\n\" clip-path=\"url(#pe7d515365a)\" style=\"fill: #4c72b0; fill-opacity: 0.5; stroke: #4c72b0; stroke-linejoin: miter\"/>\n   </g>\n   <g id=\"patch_205\">\n    <path d=\"M 459.826963 188.638125 \nL 461.808495 188.638125 \nL 461.808495 188.001891 \nL 459.826963 188.001891 \nz\n\" clip-path=\"url(#pe7d515365a)\" style=\"fill: #4c72b0; fill-opacity: 0.5; stroke: #4c72b0; stroke-linejoin: miter\"/>\n   </g>\n   <g id=\"patch_206\">\n    <path d=\"M 461.808495 188.638125 \nL 463.790028 188.638125 \nL 463.790028 188.055468 \nL 461.808495 188.055468 \nz\n\" clip-path=\"url(#pe7d515365a)\" style=\"fill: #4c72b0; fill-opacity: 0.5; stroke: #4c72b0; stroke-linejoin: miter\"/>\n   </g>\n   <g id=\"patch_207\">\n    <path d=\"M 463.790028 188.638125 \nL 465.77156 188.638125 \nL 465.77156 188.158159 \nL 463.790028 188.158159 \nz\n\" clip-path=\"url(#pe7d515365a)\" style=\"fill: #4c72b0; fill-opacity: 0.5; stroke: #4c72b0; stroke-linejoin: miter\"/>\n   </g>\n   <g id=\"patch_208\">\n    <path d=\"M 465.77156 188.638125 \nL 467.753093 188.638125 \nL 467.753093 188.071095 \nL 465.77156 188.071095 \nz\n\" clip-path=\"url(#pe7d515365a)\" style=\"fill: #4c72b0; fill-opacity: 0.5; stroke: #4c72b0; stroke-linejoin: miter\"/>\n   </g>\n   <g id=\"patch_209\">\n    <path d=\"M 467.753093 188.638125 \nL 469.734635 188.638125 \nL 469.734635 188.187182 \nL 467.753093 188.187182 \nz\n\" clip-path=\"url(#pe7d515365a)\" style=\"fill: #4c72b0; fill-opacity: 0.5; stroke: #4c72b0; stroke-linejoin: miter\"/>\n   </g>\n   <g id=\"patch_210\">\n    <path d=\"M 469.734635 188.638125 \nL 471.716167 188.638125 \nL 471.716167 188.247455 \nL 469.734635 188.247455 \nz\n\" clip-path=\"url(#pe7d515365a)\" style=\"fill: #4c72b0; fill-opacity: 0.5; stroke: #4c72b0; stroke-linejoin: miter\"/>\n   </g>\n   <g id=\"patch_211\">\n    <path d=\"M 471.716167 188.638125 \nL 473.6977 188.638125 \nL 473.6977 188.309962 \nL 471.716167 188.309962 \nz\n\" clip-path=\"url(#pe7d515365a)\" style=\"fill: #4c72b0; fill-opacity: 0.5; stroke: #4c72b0; stroke-linejoin: miter\"/>\n   </g>\n   <g id=\"patch_212\">\n    <path d=\"M 473.6977 188.638125 \nL 475.679232 188.638125 \nL 475.679232 188.321124 \nL 473.6977 188.321124 \nz\n\" clip-path=\"url(#pe7d515365a)\" style=\"fill: #4c72b0; fill-opacity: 0.5; stroke: #4c72b0; stroke-linejoin: miter\"/>\n   </g>\n   <g id=\"patch_213\">\n    <path d=\"M 475.679232 188.638125 \nL 477.660764 188.638125 \nL 477.660764 188.327821 \nL 475.679232 188.327821 \nz\n\" clip-path=\"url(#pe7d515365a)\" style=\"fill: #4c72b0; fill-opacity: 0.5; stroke: #4c72b0; stroke-linejoin: miter\"/>\n   </g>\n   <g id=\"patch_214\">\n    <path d=\"M 477.660764 188.638125 \nL 479.642297 188.638125 \nL 479.642297 188.347913 \nL 477.660764 188.347913 \nz\n\" clip-path=\"url(#pe7d515365a)\" style=\"fill: #4c72b0; fill-opacity: 0.5; stroke: #4c72b0; stroke-linejoin: miter\"/>\n   </g>\n   <g id=\"patch_215\">\n    <path d=\"M 479.642297 188.638125 \nL 481.623839 188.638125 \nL 481.623839 188.408189 \nL 479.642297 188.408189 \nz\n\" clip-path=\"url(#pe7d515365a)\" style=\"fill: #4c72b0; fill-opacity: 0.5; stroke: #4c72b0; stroke-linejoin: miter\"/>\n   </g>\n   <g id=\"patch_216\">\n    <path d=\"M 481.623839 188.638125 \nL 483.605362 188.638125 \nL 483.605362 188.408187 \nL 481.623839 188.408187 \nz\n\" clip-path=\"url(#pe7d515365a)\" style=\"fill: #4c72b0; fill-opacity: 0.5; stroke: #4c72b0; stroke-linejoin: miter\"/>\n   </g>\n   <g id=\"patch_217\">\n    <path d=\"M 483.605362 188.638125 \nL 485.586904 188.638125 \nL 485.586904 188.43721 \nL 483.605362 188.43721 \nz\n\" clip-path=\"url(#pe7d515365a)\" style=\"fill: #4c72b0; fill-opacity: 0.5; stroke: #4c72b0; stroke-linejoin: miter\"/>\n   </g>\n   <g id=\"patch_218\">\n    <path d=\"M 485.586904 188.638125 \nL 487.568446 188.638125 \nL 487.568446 188.439442 \nL 485.586904 188.439442 \nz\n\" clip-path=\"url(#pe7d515365a)\" style=\"fill: #4c72b0; fill-opacity: 0.5; stroke: #4c72b0; stroke-linejoin: miter\"/>\n   </g>\n   <g id=\"patch_219\">\n    <path d=\"M 487.568446 188.638125 \nL 489.549969 188.638125 \nL 489.549969 188.450602 \nL 487.568446 188.450602 \nz\n\" clip-path=\"url(#pe7d515365a)\" style=\"fill: #4c72b0; fill-opacity: 0.5; stroke: #4c72b0; stroke-linejoin: miter\"/>\n   </g>\n   <g id=\"patch_220\">\n    <path d=\"M 489.549969 188.638125 \nL 491.531511 188.638125 \nL 491.531511 188.459534 \nL 489.549969 188.459534 \nz\n\" clip-path=\"url(#pe7d515365a)\" style=\"fill: #4c72b0; fill-opacity: 0.5; stroke: #4c72b0; stroke-linejoin: miter\"/>\n   </g>\n   <g id=\"patch_221\">\n    <path d=\"M 491.531511 188.638125 \nL 493.513033 188.638125 \nL 493.513033 188.486321 \nL 491.531511 188.486321 \nz\n\" clip-path=\"url(#pe7d515365a)\" style=\"fill: #4c72b0; fill-opacity: 0.5; stroke: #4c72b0; stroke-linejoin: miter\"/>\n   </g>\n   <g id=\"patch_222\">\n    <path d=\"M 493.513033 188.638125 \nL 495.494576 188.638125 \nL 495.494576 188.515344 \nL 493.513033 188.515344 \nz\n\" clip-path=\"url(#pe7d515365a)\" style=\"fill: #4c72b0; fill-opacity: 0.5; stroke: #4c72b0; stroke-linejoin: miter\"/>\n   </g>\n   <g id=\"patch_223\">\n    <path d=\"M 495.494576 188.638125 \nL 497.476098 188.638125 \nL 497.476098 188.535434 \nL 495.494576 188.535434 \nz\n\" clip-path=\"url(#pe7d515365a)\" style=\"fill: #4c72b0; fill-opacity: 0.5; stroke: #4c72b0; stroke-linejoin: miter\"/>\n   </g>\n   <g id=\"patch_224\">\n    <path d=\"M 497.476098 188.638125 \nL 499.45764 188.638125 \nL 499.45764 188.535435 \nL 497.476098 188.535435 \nz\n\" clip-path=\"url(#pe7d515365a)\" style=\"fill: #4c72b0; fill-opacity: 0.5; stroke: #4c72b0; stroke-linejoin: miter\"/>\n   </g>\n   <g id=\"patch_225\">\n    <path d=\"M 499.45764 188.638125 \nL 501.439183 188.638125 \nL 501.439183 188.557759 \nL 499.45764 188.557759 \nz\n\" clip-path=\"url(#pe7d515365a)\" style=\"fill: #4c72b0; fill-opacity: 0.5; stroke: #4c72b0; stroke-linejoin: miter\"/>\n   </g>\n   <g id=\"patch_226\">\n    <path d=\"M 501.439183 188.638125 \nL 503.420705 188.638125 \nL 503.420705 188.555526 \nL 501.439183 188.555526 \nz\n\" clip-path=\"url(#pe7d515365a)\" style=\"fill: #4c72b0; fill-opacity: 0.5; stroke: #4c72b0; stroke-linejoin: miter\"/>\n   </g>\n   <g id=\"patch_227\">\n    <path d=\"M 503.420705 188.638125 \nL 505.402248 188.638125 \nL 505.402248 188.555527 \nL 503.420705 188.555527 \nz\n\" clip-path=\"url(#pe7d515365a)\" style=\"fill: #4c72b0; fill-opacity: 0.5; stroke: #4c72b0; stroke-linejoin: miter\"/>\n   </g>\n   <g id=\"patch_228\">\n    <path d=\"M 505.402248 188.638125 \nL 507.38377 188.638125 \nL 507.38377 188.575617 \nL 505.402248 188.575617 \nz\n\" clip-path=\"url(#pe7d515365a)\" style=\"fill: #4c72b0; fill-opacity: 0.5; stroke: #4c72b0; stroke-linejoin: miter\"/>\n   </g>\n   <g id=\"patch_229\">\n    <path d=\"M 507.38377 188.638125 \nL 509.365312 188.638125 \nL 509.365312 188.589012 \nL 507.38377 188.589012 \nz\n\" clip-path=\"url(#pe7d515365a)\" style=\"fill: #4c72b0; fill-opacity: 0.5; stroke: #4c72b0; stroke-linejoin: miter\"/>\n   </g>\n   <g id=\"patch_230\">\n    <path d=\"M 509.365312 188.638125 \nL 511.346855 188.638125 \nL 511.346855 188.58678 \nL 509.365312 188.58678 \nz\n\" clip-path=\"url(#pe7d515365a)\" style=\"fill: #4c72b0; fill-opacity: 0.5; stroke: #4c72b0; stroke-linejoin: miter\"/>\n   </g>\n   <g id=\"patch_231\">\n    <path d=\"M 511.346855 188.638125 \nL 513.328377 188.638125 \nL 513.328377 188.584547 \nL 511.346855 188.584547 \nz\n\" clip-path=\"url(#pe7d515365a)\" style=\"fill: #4c72b0; fill-opacity: 0.5; stroke: #4c72b0; stroke-linejoin: miter\"/>\n   </g>\n   <g id=\"patch_232\">\n    <path d=\"M 513.328377 188.638125 \nL 515.309919 188.638125 \nL 515.309919 188.589012 \nL 513.328377 188.589012 \nz\n\" clip-path=\"url(#pe7d515365a)\" style=\"fill: #4c72b0; fill-opacity: 0.5; stroke: #4c72b0; stroke-linejoin: miter\"/>\n   </g>\n   <g id=\"patch_233\">\n    <path d=\"M 515.309919 188.638125 \nL 517.291442 188.638125 \nL 517.291442 188.597942 \nL 515.309919 188.597942 \nz\n\" clip-path=\"url(#pe7d515365a)\" style=\"fill: #4c72b0; fill-opacity: 0.5; stroke: #4c72b0; stroke-linejoin: miter\"/>\n   </g>\n   <g id=\"patch_234\">\n    <path d=\"M 517.291442 188.638125 \nL 519.272984 188.638125 \nL 519.272984 188.615801 \nL 517.291442 188.615801 \nz\n\" clip-path=\"url(#pe7d515365a)\" style=\"fill: #4c72b0; fill-opacity: 0.5; stroke: #4c72b0; stroke-linejoin: miter\"/>\n   </g>\n   <g id=\"patch_235\">\n    <path d=\"M 519.272984 188.638125 \nL 521.254527 188.638125 \nL 521.254527 188.613569 \nL 519.272984 188.613569 \nz\n\" clip-path=\"url(#pe7d515365a)\" style=\"fill: #4c72b0; fill-opacity: 0.5; stroke: #4c72b0; stroke-linejoin: miter\"/>\n   </g>\n   <g id=\"patch_236\">\n    <path d=\"M 521.254527 188.638125 \nL 523.236049 188.638125 \nL 523.236049 188.597942 \nL 521.254527 188.597942 \nz\n\" clip-path=\"url(#pe7d515365a)\" style=\"fill: #4c72b0; fill-opacity: 0.5; stroke: #4c72b0; stroke-linejoin: miter\"/>\n   </g>\n   <g id=\"patch_237\">\n    <path d=\"M 523.236049 188.638125 \nL 525.217591 188.638125 \nL 525.217591 188.613569 \nL 523.236049 188.613569 \nz\n\" clip-path=\"url(#pe7d515365a)\" style=\"fill: #4c72b0; fill-opacity: 0.5; stroke: #4c72b0; stroke-linejoin: miter\"/>\n   </g>\n   <g id=\"patch_238\">\n    <path d=\"M 525.217591 188.638125 \nL 527.199114 188.638125 \nL 527.199114 188.618033 \nL 525.217591 188.618033 \nz\n\" clip-path=\"url(#pe7d515365a)\" style=\"fill: #4c72b0; fill-opacity: 0.5; stroke: #4c72b0; stroke-linejoin: miter\"/>\n   </g>\n   <g id=\"patch_239\">\n    <path d=\"M 527.199114 188.638125 \nL 529.180656 188.638125 \nL 529.180656 188.620266 \nL 527.199114 188.620266 \nz\n\" clip-path=\"url(#pe7d515365a)\" style=\"fill: #4c72b0; fill-opacity: 0.5; stroke: #4c72b0; stroke-linejoin: miter\"/>\n   </g>\n   <g id=\"patch_240\">\n    <path d=\"M 529.180656 188.638125 \nL 531.162178 188.638125 \nL 531.162178 188.609104 \nL 529.180656 188.609104 \nz\n\" clip-path=\"url(#pe7d515365a)\" style=\"fill: #4c72b0; fill-opacity: 0.5; stroke: #4c72b0; stroke-linejoin: miter\"/>\n   </g>\n   <g id=\"patch_241\">\n    <path d=\"M 531.162178 188.638125 \nL 533.143721 188.638125 \nL 533.143721 188.611336 \nL 531.162178 188.611336 \nz\n\" clip-path=\"url(#pe7d515365a)\" style=\"fill: #4c72b0; fill-opacity: 0.5; stroke: #4c72b0; stroke-linejoin: miter\"/>\n   </g>\n   <g id=\"patch_242\">\n    <path d=\"M 533.143721 188.638125 \nL 535.125263 188.638125 \nL 535.125263 188.609104 \nL 533.143721 188.609104 \nz\n\" clip-path=\"url(#pe7d515365a)\" style=\"fill: #4c72b0; fill-opacity: 0.5; stroke: #4c72b0; stroke-linejoin: miter\"/>\n   </g>\n   <g id=\"patch_243\">\n    <path d=\"M 535.125263 188.638125 \nL 537.106786 188.638125 \nL 537.106786 188.622498 \nL 535.125263 188.622498 \nz\n\" clip-path=\"url(#pe7d515365a)\" style=\"fill: #4c72b0; fill-opacity: 0.5; stroke: #4c72b0; stroke-linejoin: miter\"/>\n   </g>\n   <g id=\"patch_244\">\n    <path d=\"M 537.106786 188.638125 \nL 539.088328 188.638125 \nL 539.088328 188.613569 \nL 537.106786 188.613569 \nz\n\" clip-path=\"url(#pe7d515365a)\" style=\"fill: #4c72b0; fill-opacity: 0.5; stroke: #4c72b0; stroke-linejoin: miter\"/>\n   </g>\n   <g id=\"patch_245\">\n    <path d=\"M 539.088328 188.638125 \nL 541.06985 188.638125 \nL 541.06985 188.63366 \nL 539.088328 188.63366 \nz\n\" clip-path=\"url(#pe7d515365a)\" style=\"fill: #4c72b0; fill-opacity: 0.5; stroke: #4c72b0; stroke-linejoin: miter\"/>\n   </g>\n   <g id=\"patch_246\">\n    <path d=\"M 541.06985 188.638125 \nL 543.051393 188.638125 \nL 543.051393 188.620266 \nL 541.06985 188.620266 \nz\n\" clip-path=\"url(#pe7d515365a)\" style=\"fill: #4c72b0; fill-opacity: 0.5; stroke: #4c72b0; stroke-linejoin: miter\"/>\n   </g>\n   <g id=\"patch_247\">\n    <path d=\"M 543.051393 188.638125 \nL 545.032935 188.638125 \nL 545.032935 188.618033 \nL 543.051393 188.618033 \nz\n\" clip-path=\"url(#pe7d515365a)\" style=\"fill: #4c72b0; fill-opacity: 0.5; stroke: #4c72b0; stroke-linejoin: miter\"/>\n   </g>\n   <g id=\"patch_248\">\n    <path d=\"M 545.032935 188.638125 \nL 547.014457 188.638125 \nL 547.014457 188.631428 \nL 545.032935 188.631428 \nz\n\" clip-path=\"url(#pe7d515365a)\" style=\"fill: #4c72b0; fill-opacity: 0.5; stroke: #4c72b0; stroke-linejoin: miter\"/>\n   </g>\n   <g id=\"patch_249\">\n    <path d=\"M 547.014457 188.638125 \nL 548.996 188.638125 \nL 548.996 188.626963 \nL 547.014457 188.626963 \nz\n\" clip-path=\"url(#pe7d515365a)\" style=\"fill: #4c72b0; fill-opacity: 0.5; stroke: #4c72b0; stroke-linejoin: miter\"/>\n   </g>\n   <g id=\"patch_250\">\n    <path d=\"M 548.996 188.638125 \nL 550.977522 188.638125 \nL 550.977522 188.629195 \nL 548.996 188.629195 \nz\n\" clip-path=\"url(#pe7d515365a)\" style=\"fill: #4c72b0; fill-opacity: 0.5; stroke: #4c72b0; stroke-linejoin: miter\"/>\n   </g>\n   <g id=\"patch_251\">\n    <path d=\"M 550.977522 188.638125 \nL 552.959065 188.638125 \nL 552.959065 188.631428 \nL 550.977522 188.631428 \nz\n\" clip-path=\"url(#pe7d515365a)\" style=\"fill: #4c72b0; fill-opacity: 0.5; stroke: #4c72b0; stroke-linejoin: miter\"/>\n   </g>\n   <g id=\"patch_252\">\n    <path d=\"M 552.959065 188.638125 \nL 554.940587 188.638125 \nL 554.940587 188.624731 \nL 552.959065 188.624731 \nz\n\" clip-path=\"url(#pe7d515365a)\" style=\"fill: #4c72b0; fill-opacity: 0.5; stroke: #4c72b0; stroke-linejoin: miter\"/>\n   </g>\n   <g id=\"patch_253\">\n    <path d=\"M 554.940587 188.638125 \nL 556.922129 188.638125 \nL 556.922129 188.629195 \nL 554.940587 188.629195 \nz\n\" clip-path=\"url(#pe7d515365a)\" style=\"fill: #4c72b0; fill-opacity: 0.5; stroke: #4c72b0; stroke-linejoin: miter\"/>\n   </g>\n   <g id=\"patch_254\">\n    <path d=\"M 556.922129 188.638125 \nL 558.903672 188.638125 \nL 558.903672 188.635893 \nL 556.922129 188.635893 \nz\n\" clip-path=\"url(#pe7d515365a)\" style=\"fill: #4c72b0; fill-opacity: 0.5; stroke: #4c72b0; stroke-linejoin: miter\"/>\n   </g>\n   <g id=\"patch_255\">\n    <path d=\"M 558.903672 188.638125 \nL 560.885194 188.638125 \nL 560.885194 188.63366 \nL 558.903672 188.63366 \nz\n\" clip-path=\"url(#pe7d515365a)\" style=\"fill: #4c72b0; fill-opacity: 0.5; stroke: #4c72b0; stroke-linejoin: miter\"/>\n   </g>\n   <g id=\"patch_256\">\n    <path d=\"M 560.885194 188.638125 \nL 562.866736 188.638125 \nL 562.866736 188.635893 \nL 560.885194 188.635893 \nz\n\" clip-path=\"url(#pe7d515365a)\" style=\"fill: #4c72b0; fill-opacity: 0.5; stroke: #4c72b0; stroke-linejoin: miter\"/>\n   </g>\n   <g id=\"patch_257\">\n    <path d=\"M 562.866736 188.638125 \nL 564.848259 188.638125 \nL 564.848259 188.63366 \nL 562.866736 188.63366 \nz\n\" clip-path=\"url(#pe7d515365a)\" style=\"fill: #4c72b0; fill-opacity: 0.5; stroke: #4c72b0; stroke-linejoin: miter\"/>\n   </g>\n   <g id=\"patch_258\">\n    <path d=\"M 564.848259 188.638125 \nL 566.829801 188.638125 \nL 566.829801 188.624731 \nL 564.848259 188.624731 \nz\n\" clip-path=\"url(#pe7d515365a)\" style=\"fill: #4c72b0; fill-opacity: 0.5; stroke: #4c72b0; stroke-linejoin: miter\"/>\n   </g>\n   <g id=\"patch_259\">\n    <path d=\"M 34.193438 188.638125 \nL 34.193438 22.318125 \n\" style=\"fill: none; stroke: #ffffff; stroke-width: 1.25; stroke-linejoin: miter; stroke-linecap: square\"/>\n   </g>\n   <g id=\"patch_260\">\n    <path d=\"M 592.193437 188.638125 \nL 592.193437 22.318125 \n\" style=\"fill: none; stroke: #ffffff; stroke-width: 1.25; stroke-linejoin: miter; stroke-linecap: square\"/>\n   </g>\n   <g id=\"patch_261\">\n    <path d=\"M 34.193438 188.638125 \nL 592.193438 188.638125 \n\" style=\"fill: none; stroke: #ffffff; stroke-width: 1.25; stroke-linejoin: miter; stroke-linecap: square\"/>\n   </g>\n   <g id=\"patch_262\">\n    <path d=\"M 34.193438 22.318125 \nL 592.193438 22.318125 \n\" style=\"fill: none; stroke: #ffffff; stroke-width: 1.25; stroke-linejoin: miter; stroke-linecap: square\"/>\n   </g>\n   <g id=\"text_11\">\n    <!-- Dequantization -->\n    <g style=\"fill: #262626\" transform=\"translate(267.452812 16.318125) scale(0.12 -0.12)\">\n     <defs>\n      <path id=\"DejaVuSans-44\" d=\"M 1259 4147 \nL 1259 519 \nL 2022 519 \nQ 2988 519 3436 956 \nQ 3884 1394 3884 2338 \nQ 3884 3275 3436 3711 \nQ 2988 4147 2022 4147 \nL 1259 4147 \nz\nM 628 4666 \nL 1925 4666 \nQ 3281 4666 3915 4102 \nQ 4550 3538 4550 2338 \nQ 4550 1131 3912 565 \nQ 3275 0 1925 0 \nL 628 0 \nL 628 4666 \nz\n\" transform=\"scale(0.015625)\"/>\n      <path id=\"DejaVuSans-65\" d=\"M 3597 1894 \nL 3597 1613 \nL 953 1613 \nQ 991 1019 1311 708 \nQ 1631 397 2203 397 \nQ 2534 397 2845 478 \nQ 3156 559 3463 722 \nL 3463 178 \nQ 3153 47 2828 -22 \nQ 2503 -91 2169 -91 \nQ 1331 -91 842 396 \nQ 353 884 353 1716 \nQ 353 2575 817 3079 \nQ 1281 3584 2069 3584 \nQ 2775 3584 3186 3129 \nQ 3597 2675 3597 1894 \nz\nM 3022 2063 \nQ 3016 2534 2758 2815 \nQ 2500 3097 2075 3097 \nQ 1594 3097 1305 2825 \nQ 1016 2553 972 2059 \nL 3022 2063 \nz\n\" transform=\"scale(0.015625)\"/>\n      <path id=\"DejaVuSans-71\" d=\"M 947 1747 \nQ 947 1113 1208 752 \nQ 1469 391 1925 391 \nQ 2381 391 2643 752 \nQ 2906 1113 2906 1747 \nQ 2906 2381 2643 2742 \nQ 2381 3103 1925 3103 \nQ 1469 3103 1208 2742 \nQ 947 2381 947 1747 \nz\nM 2906 525 \nQ 2725 213 2448 61 \nQ 2172 -91 1784 -91 \nQ 1150 -91 751 415 \nQ 353 922 353 1747 \nQ 353 2572 751 3078 \nQ 1150 3584 1784 3584 \nQ 2172 3584 2448 3432 \nQ 2725 3281 2906 2969 \nL 2906 3500 \nL 3481 3500 \nL 3481 -1331 \nL 2906 -1331 \nL 2906 525 \nz\n\" transform=\"scale(0.015625)\"/>\n      <path id=\"DejaVuSans-75\" d=\"M 544 1381 \nL 544 3500 \nL 1119 3500 \nL 1119 1403 \nQ 1119 906 1312 657 \nQ 1506 409 1894 409 \nQ 2359 409 2629 706 \nQ 2900 1003 2900 1516 \nL 2900 3500 \nL 3475 3500 \nL 3475 0 \nL 2900 0 \nL 2900 538 \nQ 2691 219 2414 64 \nQ 2138 -91 1772 -91 \nQ 1169 -91 856 284 \nQ 544 659 544 1381 \nz\nM 1991 3584 \nL 1991 3584 \nz\n\" transform=\"scale(0.015625)\"/>\n      <path id=\"DejaVuSans-61\" d=\"M 2194 1759 \nQ 1497 1759 1228 1600 \nQ 959 1441 959 1056 \nQ 959 750 1161 570 \nQ 1363 391 1709 391 \nQ 2188 391 2477 730 \nQ 2766 1069 2766 1631 \nL 2766 1759 \nL 2194 1759 \nz\nM 3341 1997 \nL 3341 0 \nL 2766 0 \nL 2766 531 \nQ 2569 213 2275 61 \nQ 1981 -91 1556 -91 \nQ 1019 -91 701 211 \nQ 384 513 384 1019 \nQ 384 1609 779 1909 \nQ 1175 2209 1959 2209 \nL 2766 2209 \nL 2766 2266 \nQ 2766 2663 2505 2880 \nQ 2244 3097 1772 3097 \nQ 1472 3097 1187 3025 \nQ 903 2953 641 2809 \nL 641 3341 \nQ 956 3463 1253 3523 \nQ 1550 3584 1831 3584 \nQ 2591 3584 2966 3190 \nQ 3341 2797 3341 1997 \nz\n\" transform=\"scale(0.015625)\"/>\n      <path id=\"DejaVuSans-6e\" d=\"M 3513 2113 \nL 3513 0 \nL 2938 0 \nL 2938 2094 \nQ 2938 2591 2744 2837 \nQ 2550 3084 2163 3084 \nQ 1697 3084 1428 2787 \nQ 1159 2491 1159 1978 \nL 1159 0 \nL 581 0 \nL 581 3500 \nL 1159 3500 \nL 1159 2956 \nQ 1366 3272 1645 3428 \nQ 1925 3584 2291 3584 \nQ 2894 3584 3203 3211 \nQ 3513 2838 3513 2113 \nz\n\" transform=\"scale(0.015625)\"/>\n      <path id=\"DejaVuSans-74\" d=\"M 1172 4494 \nL 1172 3500 \nL 2356 3500 \nL 2356 3053 \nL 1172 3053 \nL 1172 1153 \nQ 1172 725 1289 603 \nQ 1406 481 1766 481 \nL 2356 481 \nL 2356 0 \nL 1766 0 \nQ 1100 0 847 248 \nQ 594 497 594 1153 \nL 594 3053 \nL 172 3053 \nL 172 3500 \nL 594 3500 \nL 594 4494 \nL 1172 4494 \nz\n\" transform=\"scale(0.015625)\"/>\n      <path id=\"DejaVuSans-69\" d=\"M 603 3500 \nL 1178 3500 \nL 1178 0 \nL 603 0 \nL 603 3500 \nz\nM 603 4863 \nL 1178 4863 \nL 1178 4134 \nL 603 4134 \nL 603 4863 \nz\n\" transform=\"scale(0.015625)\"/>\n      <path id=\"DejaVuSans-7a\" d=\"M 353 3500 \nL 3084 3500 \nL 3084 2975 \nL 922 459 \nL 3084 459 \nL 3084 0 \nL 275 0 \nL 275 525 \nL 2438 3041 \nL 353 3041 \nL 353 3500 \nz\n\" transform=\"scale(0.015625)\"/>\n      <path id=\"DejaVuSans-6f\" d=\"M 1959 3097 \nQ 1497 3097 1228 2736 \nQ 959 2375 959 1747 \nQ 959 1119 1226 758 \nQ 1494 397 1959 397 \nQ 2419 397 2687 759 \nQ 2956 1122 2956 1747 \nQ 2956 2369 2687 2733 \nQ 2419 3097 1959 3097 \nz\nM 1959 3584 \nQ 2709 3584 3137 3096 \nQ 3566 2609 3566 1747 \nQ 3566 888 3137 398 \nQ 2709 -91 1959 -91 \nQ 1206 -91 779 398 \nQ 353 888 353 1747 \nQ 353 2609 779 3096 \nQ 1206 3584 1959 3584 \nz\n\" transform=\"scale(0.015625)\"/>\n     </defs>\n     <use xlink:href=\"#DejaVuSans-44\"/>\n     <use xlink:href=\"#DejaVuSans-65\" x=\"77.001953\"/>\n     <use xlink:href=\"#DejaVuSans-71\" x=\"138.525391\"/>\n     <use xlink:href=\"#DejaVuSans-75\" x=\"202.001953\"/>\n     <use xlink:href=\"#DejaVuSans-61\" x=\"265.380859\"/>\n     <use xlink:href=\"#DejaVuSans-6e\" x=\"326.660156\"/>\n     <use xlink:href=\"#DejaVuSans-74\" x=\"390.039062\"/>\n     <use xlink:href=\"#DejaVuSans-69\" x=\"429.248047\"/>\n     <use xlink:href=\"#DejaVuSans-7a\" x=\"457.03125\"/>\n     <use xlink:href=\"#DejaVuSans-61\" x=\"509.521484\"/>\n     <use xlink:href=\"#DejaVuSans-74\" x=\"570.800781\"/>\n     <use xlink:href=\"#DejaVuSans-69\" x=\"610.009766\"/>\n     <use xlink:href=\"#DejaVuSans-6f\" x=\"637.792969\"/>\n     <use xlink:href=\"#DejaVuSans-6e\" x=\"698.974609\"/>\n    </g>\n   </g>\n  </g>\n </g>\n <defs>\n  <clipPath id=\"pe7d515365a\">\n   <rect x=\"34.193438\" y=\"22.318125\" width=\"558\" height=\"166.32\"/>\n  </clipPath>\n </defs>\n</svg>\n",
            "application/pdf": "[encoded data removed]"
          },
          "metadata": {}
        }
      ]
    },
    {
      "cell_type": "markdown",
      "source": [
        "# Sampling and Visualizing Digits\n",
        "\n",
        "This would be the end of the tutorial code. Now, I will sample and visualize digits from the three implemented model types. Beware that the defined arquitecture of the models doesn't support being conditioned, so it is not possible to condition the implemented models to generate a specific digit. That being the case, I will try to sample as many different digits as possible. After each batch of generations, I will briefly give insight about the performance of the used model in each case."
      ],
      "metadata": {
        "id": "AAoRrAU2l58m"
      }
    },
    {
      "cell_type": "markdown",
      "source": [
        "## Simple Flow Model Sampling (Standard Dequantization)"
      ],
      "metadata": {
        "id": "lSDxtDMNoO0k"
      }
    },
    {
      "cell_type": "code",
      "source": [
        "pl.seed_everything(10)\n",
        "samples = flow_dict[\"simple\"][\"model\"].to(\"cuda\").sample(img_shape=[16,1,28,28])\n",
        "show_imgs(samples.cpu())"
      ],
      "metadata": {
        "colab": {
          "base_uri": "https://localhost:8080/",
          "height": 502
        },
        "id": "UbtlzR5woOCr",
        "outputId": "28345cfa-cd1e-4ff0-bd48-5cc10811a9df"
      },
      "execution_count": 85,
      "outputs": [
        {
          "output_type": "stream",
          "name": "stderr",
          "text": [
            "INFO:lightning_fabric.utilities.seed:Seed set to 10\n"
          ]
        },
        {
          "output_type": "display_data",
          "data": {
            "text/plain": [
              "<Figure size 600x600 with 1 Axes>"
            ],
            "image/svg+xml": "<?xml version=\"1.0\" encoding=\"utf-8\" standalone=\"no\"?>\n<!DOCTYPE svg PUBLIC \"-//W3C//DTD SVG 1.1//EN\"\n  \"http://www.w3.org/Graphics/SVG/1.1/DTD/svg11.dtd\">\n<svg xmlns:xlink=\"http://www.w3.org/1999/xlink\" width=\"347.04pt\" height=\"347.04pt\" viewBox=\"0 0 347.04 347.04\" xmlns=\"http://www.w3.org/2000/svg\" version=\"1.1\">\n <metadata>\n  <rdf:RDF xmlns:dc=\"http://purl.org/dc/elements/1.1/\" xmlns:cc=\"http://creativecommons.org/ns#\" xmlns:rdf=\"http://www.w3.org/1999/02/22-rdf-syntax-ns#\">\n   <cc:Work>\n    <dc:type rdf:resource=\"http://purl.org/dc/dcmitype/StillImage\"/>\n    <dc:date>2024-11-29T09:13:13.174619</dc:date>\n    <dc:format>image/svg+xml</dc:format>\n    <dc:creator>\n     <cc:Agent>\n      <dc:title>Matplotlib v3.8.0, https://matplotlib.org/</dc:title>\n     </cc:Agent>\n    </dc:creator>\n   </cc:Work>\n  </rdf:RDF>\n </metadata>\n <defs>\n  <style type=\"text/css\">*{stroke-linejoin: round; stroke-linecap: butt}</style>\n </defs>\n <g id=\"figure_1\">\n  <g id=\"patch_1\">\n   <path d=\"M 0 347.04 \nL 347.04 347.04 \nL 347.04 -0 \nL 0 -0 \nz\n\" style=\"fill: #ffffff\"/>\n  </g>\n  <g id=\"axes_1\">\n   <g clip-path=\"url(#p8f76e16587)\">\n    <image xlink:href=\"data:image/png;base64,\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\" id=\"image9d3ce68039\" transform=\"scale(1 -1) translate(0 -333.36)\" x=\"7.2\" y=\"-6.48\" width=\"332.64\" height=\"333.36\"/>\n   </g>\n  </g>\n </g>\n <defs>\n  <clipPath id=\"p8f76e16587\">\n   <rect x=\"7.2\" y=\"7.2\" width=\"332.64\" height=\"332.64\"/>\n  </clipPath>\n </defs>\n</svg>\n",
            "application/pdf": "[encoded data removed]"
          },
          "metadata": {}
        }
      ]
    },
    {
      "cell_type": "markdown",
      "source": [
        "As we can see, these are not good results. The generated \"articles\" cannot be categorised as any specific article as their shapes are quite abstract."
      ],
      "metadata": {
        "id": "FsTxcB2zofyv"
      }
    },
    {
      "cell_type": "markdown",
      "source": [
        "## Variational Dequantization Flow Model Sampling"
      ],
      "metadata": {
        "id": "RUDtHv-LptXO"
      }
    },
    {
      "cell_type": "code",
      "source": [
        "pl.seed_everything(10)\n",
        "samples = flow_dict[\"vardeq\"][\"model\"].to(\"cuda\").sample(img_shape=[16,1,28,28])\n",
        "show_imgs(samples.cpu())"
      ],
      "metadata": {
        "colab": {
          "base_uri": "https://localhost:8080/",
          "height": 502
        },
        "id": "LoRLdfaRp1DN",
        "outputId": "443be030-1250-489f-c7f9-d9826729a137"
      },
      "execution_count": 86,
      "outputs": [
        {
          "output_type": "stream",
          "name": "stderr",
          "text": [
            "INFO:lightning_fabric.utilities.seed:Seed set to 10\n"
          ]
        },
        {
          "output_type": "display_data",
          "data": {
            "text/plain": [
              "<Figure size 600x600 with 1 Axes>"
            ],
            "image/svg+xml": "<?xml version=\"1.0\" encoding=\"utf-8\" standalone=\"no\"?>\n<!DOCTYPE svg PUBLIC \"-//W3C//DTD SVG 1.1//EN\"\n  \"http://www.w3.org/Graphics/SVG/1.1/DTD/svg11.dtd\">\n<svg xmlns:xlink=\"http://www.w3.org/1999/xlink\" width=\"347.04pt\" height=\"347.04pt\" viewBox=\"0 0 347.04 347.04\" xmlns=\"http://www.w3.org/2000/svg\" version=\"1.1\">\n <metadata>\n  <rdf:RDF xmlns:dc=\"http://purl.org/dc/elements/1.1/\" xmlns:cc=\"http://creativecommons.org/ns#\" xmlns:rdf=\"http://www.w3.org/1999/02/22-rdf-syntax-ns#\">\n   <cc:Work>\n    <dc:type rdf:resource=\"http://purl.org/dc/dcmitype/StillImage\"/>\n    <dc:date>2024-11-29T09:13:16.109116</dc:date>\n    <dc:format>image/svg+xml</dc:format>\n    <dc:creator>\n     <cc:Agent>\n      <dc:title>Matplotlib v3.8.0, https://matplotlib.org/</dc:title>\n     </cc:Agent>\n    </dc:creator>\n   </cc:Work>\n  </rdf:RDF>\n </metadata>\n <defs>\n  <style type=\"text/css\">*{stroke-linejoin: round; stroke-linecap: butt}</style>\n </defs>\n <g id=\"figure_1\">\n  <g id=\"patch_1\">\n   <path d=\"M 0 347.04 \nL 347.04 347.04 \nL 347.04 -0 \nL 0 -0 \nz\n\" style=\"fill: #ffffff\"/>\n  </g>\n  <g id=\"axes_1\">\n   <g clip-path=\"url(#pcf10294c55)\">\n    <image xlink:href=\"data:image/png;base64,\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\" id=\"image0d1c816c91\" transform=\"scale(1 -1) translate(0 -333.36)\" x=\"7.2\" y=\"-6.48\" width=\"332.64\" height=\"333.36\"/>\n   </g>\n  </g>\n </g>\n <defs>\n  <clipPath id=\"pcf10294c55\">\n   <rect x=\"7.2\" y=\"7.2\" width=\"332.64\" height=\"332.64\"/>\n  </clipPath>\n </defs>\n</svg>\n",
            "application/pdf": "[encoded data removed]"
          },
          "metadata": {}
        }
      ]
    },
    {
      "cell_type": "markdown",
      "source": [
        "In this case, these are not good results neither. The results are very similar to the ones we got with the \"simple\" model. In the first notebook, the second model generated images with a little more shape than the first model but in this case both of the models generate images with no recognizible shapes."
      ],
      "metadata": {
        "id": "nnxVRzcypyS6"
      }
    },
    {
      "cell_type": "markdown",
      "source": [
        "## Multiscale Flow Model Sampling"
      ],
      "metadata": {
        "id": "9Xkgb8tYqSHA"
      }
    },
    {
      "cell_type": "code",
      "source": [
        "pl.seed_everything(40)\n",
        "samples = flow_dict[\"multiscale\"][\"model\"].to(\"cuda\").sample(img_shape=[25,8,7,7])\n",
        "show_imgs(samples.cpu())"
      ],
      "metadata": {
        "colab": {
          "base_uri": "https://localhost:8080/",
          "height": 834
        },
        "id": "fdg7MdEBqXPL",
        "outputId": "e3ab5f17-633a-4a0a-eef2-b40fd7ac5297"
      },
      "execution_count": 88,
      "outputs": [
        {
          "output_type": "stream",
          "name": "stderr",
          "text": [
            "INFO:lightning_fabric.utilities.seed:Seed set to 40\n"
          ]
        },
        {
          "output_type": "display_data",
          "data": {
            "text/plain": [
              "<Figure size 600x1050 with 1 Axes>"
            ],
            "image/svg+xml": "<?xml version=\"1.0\" encoding=\"utf-8\" standalone=\"no\"?>\n<!DOCTYPE svg PUBLIC \"-//W3C//DTD SVG 1.1//EN\"\n  \"http://www.w3.org/Graphics/SVG/1.1/DTD/svg11.dtd\">\n<svg xmlns:xlink=\"http://www.w3.org/1999/xlink\" width=\"349.2pt\" height=\"596.183607pt\" viewBox=\"0 0 349.2 596.183607\" xmlns=\"http://www.w3.org/2000/svg\" version=\"1.1\">\n <metadata>\n  <rdf:RDF xmlns:dc=\"http://purl.org/dc/elements/1.1/\" xmlns:cc=\"http://creativecommons.org/ns#\" xmlns:rdf=\"http://www.w3.org/1999/02/22-rdf-syntax-ns#\">\n   <cc:Work>\n    <dc:type rdf:resource=\"http://purl.org/dc/dcmitype/StillImage\"/>\n    <dc:date>2024-11-29T09:13:28.296064</dc:date>\n    <dc:format>image/svg+xml</dc:format>\n    <dc:creator>\n     <cc:Agent>\n      <dc:title>Matplotlib v3.8.0, https://matplotlib.org/</dc:title>\n     </cc:Agent>\n    </dc:creator>\n   </cc:Work>\n  </rdf:RDF>\n </metadata>\n <defs>\n  <style type=\"text/css\">*{stroke-linejoin: round; stroke-linecap: butt}</style>\n </defs>\n <g id=\"figure_1\">\n  <g id=\"patch_1\">\n   <path d=\"M 0 596.183607 \nL 349.2 596.183607 \nL 349.2 0 \nL 0 0 \nz\n\" style=\"fill: #ffffff\"/>\n  </g>\n  <g id=\"axes_1\">\n   <g clip-path=\"url(#pa759756c63)\">\n    <image xlink:href=\"data:image/png;base64,\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\" id=\"imageeb852b427d\" transform=\"scale(1 -1) translate(0 -582.48)\" x=\"7.2\" y=\"-6.503607\" width=\"334.8\" height=\"582.48\"/>\n   </g>\n  </g>\n </g>\n <defs>\n  <clipPath id=\"pa759756c63\">\n   <rect x=\"7.2\" y=\"7.2\" width=\"334.8\" height=\"581.783607\"/>\n  </clipPath>\n </defs>\n</svg>\n",
            "application/pdf": "[encoded data removed]"
          },
          "metadata": {}
        }
      ]
    },
    {
      "cell_type": "markdown",
      "source": [
        "With the multiscale flow model, the results are more accurate than with the other previous models. In this case, we can distinguish (maybe not very clearly) different clothing items. For example, we have some images that resemble a pullover or t-shirt. Additionally, there\n",
        "\n",
        "In order to have an image of each article, I will now proceed to manually choose them."
      ],
      "metadata": {
        "id": "jWxgep4gqzFI"
      }
    },
    {
      "cell_type": "code",
      "source": [
        "generated_articles = []\n",
        "\n",
        "# digit_0 = samples[1]\n",
        "# digit_1 = samples[21]\n",
        "# digit_2 = samples[12]\n",
        "# digit_3 = samples[9]\n",
        "# digit_4 = samples[13]\n",
        "# digit_5 = samples[6]\n",
        "# digit_6 = samples[17]\n",
        "# digit_7 = samples[24]\n",
        "# digit_8 = samples[15]\n",
        "# digit_9 = samples[7]\n",
        "\n",
        "generated_articles = [samples[1], samples[21], samples[12], samples[9], samples[13], samples[6], samples[17], samples[24], samples[15], samples[7]]\n",
        "\n",
        "show_imgs(generated_articles)"
      ],
      "metadata": {
        "colab": {
          "base_uri": "https://localhost:8080/",
          "height": 373
        },
        "id": "5dEx7TA-stgn",
        "outputId": "16958547-7529-41c9-a358-fb79ee7b4061"
      },
      "execution_count": null,
      "outputs": [
        {
          "output_type": "display_data",
          "data": {
            "text/plain": [
              "<Figure size 600x450 with 1 Axes>"
            ],
            "image/svg+xml": "<?xml version=\"1.0\" encoding=\"utf-8\" standalone=\"no\"?>\n<!DOCTYPE svg PUBLIC \"-//W3C//DTD SVG 1.1//EN\"\n  \"http://www.w3.org/Graphics/SVG/1.1/DTD/svg11.dtd\">\n<svg xmlns:xlink=\"http://www.w3.org/1999/xlink\" width=\"345.232174pt\" height=\"263.88pt\" viewBox=\"0 0 345.232174 263.88\" xmlns=\"http://www.w3.org/2000/svg\" version=\"1.1\">\n <metadata>\n  <rdf:RDF xmlns:dc=\"http://purl.org/dc/elements/1.1/\" xmlns:cc=\"http://creativecommons.org/ns#\" xmlns:rdf=\"http://www.w3.org/1999/02/22-rdf-syntax-ns#\">\n   <cc:Work>\n    <dc:type rdf:resource=\"http://purl.org/dc/dcmitype/StillImage\"/>\n    <dc:date>2024-11-29T07:04:37.556806</dc:date>\n    <dc:format>image/svg+xml</dc:format>\n    <dc:creator>\n     <cc:Agent>\n      <dc:title>Matplotlib v3.8.0, https://matplotlib.org/</dc:title>\n     </cc:Agent>\n    </dc:creator>\n   </cc:Work>\n  </rdf:RDF>\n </metadata>\n <defs>\n  <style type=\"text/css\">*{stroke-linejoin: round; stroke-linecap: butt}</style>\n </defs>\n <g id=\"figure_1\">\n  <g id=\"patch_1\">\n   <path d=\"M 0 263.88 \nL 345.232174 263.88 \nL 345.232174 0 \nL 0 0 \nz\n\" style=\"fill: #ffffff\"/>\n  </g>\n  <g id=\"axes_1\">\n   <g clip-path=\"url(#pf1516f39f4)\">\n    <image xlink:href=\"data:image/png;base64,\niVBORw0KGgoAAAANSUhEUgAAAcwAAAFbCAYAAABYuL59AAAmhElEQVR4nO3deZzO1f//8WNJiY+lUZbsIslaItqIFvlEoRJSllIqZQslDdkKNZESqZBEUdmStMhIsmWpZBeyjexj5/fH7/Y9n/N6meu6zoxrZq5r5nH/6zxv51pOLpfT+/26zjlZYmNjzxkAABBU1vQeAAAA0YAJEwAAD0yYAAB4YMIEAMADEyYAAB6YMAEA8MCECQCAh+yhHhAbG5sGw8CFCPUZ8RlGPj4jIPJxhQkAgAcmTAAAPDBhAgDggQkTAAAPTJgAAHhgwgQAwEPIZSWRKCYmRuQ2bdqIvHnzZpFnz55t28eOHUu9gQEAMiyuMAEA8MCECQCAByZMAAA8RGwNM3v2/w2tf//+oq9bt27Jeq39+/fb9ty5c0XfE088IfLRo0eT9dpImWrVqom8bNkykYcNGyZynz59bJs6NID0wBUmAAAemDABAPDAhAkAgIeIrWFWqFDBtnXN8ty5cyKXLl1a5BtuuEHkCRMm2Hbz5s1FX9as8v8ZVq1aJfKgQYM8R4zkePnll0U+e/asyF26dBH51ltvte1OnTqJvsWLF4d5dABwPq4wAQDwwIQJAICHiL0l6y4dOHnypOjTt+9Onz4t8rRp00Q+cuSIbU+ZMkX0NW3aVOT69euLvHLlStuOj48XfYcOHUpy7AhN32bfsGGDyPXq1RO5evXqtt2vXz/RFxsbK/KiRYvCMEIAkLjCBADAAxMmAAAemDABAPAQsTXM9evX27ZbRzTm/GUjbn3LGGNmzJghsrsdXr58+USf3pKtSpUqIk+fPt22a9WqJfqWLFmS1NDhYdOmTSK/8MILIhctWlTkrVu32rauM5crV05k/RlSawYQDlxhAgDggQkTAAAPTJgAAHiI2Bqma/Xq1SLXqFFD5FA1zGASExO9H6u3ydO1NITP9u3bRb7yyittW6/ZLF68uMhr164VuXLlyiInJCSEY4gAMhmuMAEA8MCECQCAByZMAAA8REUN84033hD5oYceElmv2cuWLZvIZ86cCfjaDRs2FHn+/Pkiu/WvU6dOib4cOXKIrPe8Rfjs2rXLtlu1aiX6Jk6cKHLBggVFfuedd0R+8MEHwzw6AJkBV5gAAHhgwgQAwENU3JJdt26dyKtWrRK5TZs2Ig8cOFDkjRs3BnxtvW1asWLFAj72jjvuEHnhwoUi6y37kDq+/PJLkSdNmiRy27ZtRb7//vtFHj9+vG2/9NJLom/btm1hGCGAjIgrTAAAPDBhAgDggQkTAAAPUVHDPHv2rMh6WYHeCq98+fIiB6thah06dBB5ypQpAR87ZMgQ79dF8lSsWFHkvHnz2nbJkiVF3+zZs0XWNcysWeX/F7Zs2dK29d+Nvn37JnusADIHrjABAPDAhAkAgAcmTAAAPERFDVPTNU29lvKzzz4TecyYMUm2jTFmzZo1Ip87d857HMmpjUJya5LGGHPfffeJPHbsWJF1HTIY/RnqnCVLFttu3bq16OvXr1/Q5wLIvLjCBADAAxMmAAAemDABAPAQlTVMvd9np06dRH7vvfdEfuaZZ2z7xhtvFH26htmoUSOR3TV+9evXF3179uzxHHHmdNlll4ns7vHboEED0VekSBGR9VFp//77b8DHhqozBqt/Hj58WOQSJUqIvGXLlqCvDSDz4AoTAAAPTJgAAHhgwgQAwENU1jDr1q0r8qhRo0S+6qqrRHbX3ekzK/Vj33//fZF79epl27fccovo27Fjh+eIMwf9Odx5550i6/qgS59xqddD7t2717b1Z1ajRg2R9ed06623ipwnTx7brlSpkujT60Hj4uICjhlA5sIVJgAAHpgwAQDwEJW3ZK+55hqR9S26YPQShKNHj4qslzO4jz9w4IDo07f6fvzxR+9xZATurW5jjImJiRG5ePHi3s/Vx6olJCQEfO4///wj8k8//STy0KFDRe7WrZvI9957r23ffPPNoq99+/Yi66PD1q1bF3BcADI2rjABAPDAhAkAgAcmTAAAPERFDTNfvnwiP//88yIn5wgm/djChQuLPGXKlIDPXbBgQdDXbty4scg//PCD97iikf6z1EtBmjRpIrJbt9TP7dGjh8jdu3cPxxCNMefXNN36qK5h6vp4qVKlRKaGCWReXGECAOCBCRMAAA9MmAAAeIiKGmatWrVELlOmjMihaphu/7Rp00RflSpVRF6xYoXIOXPmtG13SzVjzl9LqLfdy2x27dol8m233Sayu6YxV65coq9Lly4iL168WOTPP/88HEM0xhizYcMG29brbnPkyCGyPqIMQObFFSYAAB6YMAEA8MCECQCAh6ioYe7evVvkEydOiKzrTtrw4cNt+5VXXhF9JUuWFDl37twif/TRR7bdokUL0Xf69GmRa9asGXQcGZ17BJcxxpQtW1bk33//3bb1kVzahAkTRHb/rPVRYMm1evVq216yZInou+mmm0Rm3SWA/8MVJgAAHpgwAQDwEBW3ZJcvXy7y+vXrRa5YsaLIeplJ/vz5bfvUqVOiz709Z8z5S0XcpRBnz54N+tw1a9acN/bM7Oeffxa5bdu2tt2sWTPRFxsbK7K+zT5y5Ejbbt26teh79913Rd6xY4fIeivFIkWK2LZeChMXFyfytm3bDAAYwxUmAABemDABAPDAhAkAgIeoqGFqw4YNE1kf36S3M3vkkUdsu3r16qJPb5U3ePBgkYsVK2bbekmKrnfpbdYg/fnnn7at/+zuu+8+katWrSpyoUKFbFsfo6bzmTNnRD5w4IDI7jKj/v37BxsyAFhcYQIA4IEJEwAAD0yYAAB4iMoa5vjx40UuWLCgyIMGDQr43GuuuUbk3r17i3z55ZeL3LFjR9vu2bOn6NO1Mvg7fPiwyLq23LBhQ5HdOrXeck/Lli2byOPGjROZuiWAlOAKEwAAD0yYAAB4YMIEAMBDVNYwtfj4eJEHDBggsq5TBlO7du2AfdQsU4/e/3fmzJkiz5s3z7Zz5col+vQxa6VLlxaZ9bEAwoErTAAAPDBhAgDggQkTAAAPGaKGuWjRIpF/+eUXkUePHm3bc+bMEX0VKlQQOSEhIcyjQzgcP348yXZSVqxYkdrDAZAJcYUJAIAHJkwAADxkiFuyml6isGPHDtv+9ttvRZ97bJQxcvkCAAD/hytMAAA8MGECAOCBCRMAAA8ZsoYZTJcuXYJmAACSwhUmAAAemDABAPDAhAkAgAcmTAAAPDBhAgDggQkTAAAPTJgAAHhgwgQAwAMTJgAAHpgwAQDwwIQJAIAHJkwAADwwYQIA4IEJEwAAD1liY2PPpfcgAACIdFxhAgDggQkTAAAPTJgAAHhgwgQAwAMTJgAAHpgwAQDwwIQJAICH7KEeEBsbmwbDwIUI9RnxGUY+PsPox2cY/UJ9RlxhAgDggQkTAAAPTJgAAHhgwgQAwAMTJgAAHpgwAQDwEHJZCQBEsx49eoicO3du23711VdF38mTJ9NkTIhOXGECAOCBCRMAAA9MmAAAeKCGibBp0KCByDVr1hS5T58+tn3q1CnR995774k8Y8YMkRcuXGjbiYmJFzROZC5Vq1YV+YMPPrDtnDlzij5qmAiGK0wAADwwYQIA4IEJEwAAD9QwwygmJkbkRo0a2fZHH30k+s6dO5cWQ0pVjz/+uMhvvvmmyLo+dPToUds+ffq06HvmmWdEfvrpp0WeP3++bfft2zdgH1KXu6axU6dOoq9169Yif/fdd2F73+zZ5T9V+u9PMA8//HDYxgHp5Zdftu3q1auLvnbt2omckJCQJmNKTVxhAgDggQkTAAAPTJgAAHjIEDXMLFmyiLxo0SKRb7jhBttesmSJ6LvxxhvD9r4tWrQQefjw4bb966+/ir7ff/89xe+bXvr37y+y3qPz33//Fblnz54if/bZZ7Z9ySWXiL7Ro0eLXLlyZZHr1Klj2/ozGzp0qMi6xnnmzBmD8HDrlAULFhR9s2bNEnny5Mkijx07VmR37a3uGzBggMhz5swR2f1uhbNWiuBKlSol8iuvvGLb+t/Dq6++WmRqmAAAZBJMmAAAeMgQt2T1Eo1du3YF7K9YsaLoq1u3rsg//PBDisdx8cUXB3xf97awMdFzS/btt9+27Q4dOoi+rFnl/2+1b99eZL29XTB33XWXyOXLlxd52LBhtn3PPfeIPven7cac/znoW8MZYUlPWrnttttEnjt3rm3rzyhHjhwiu393jDn/O+Deshs8eHDQcTRs2FBkd9vFBQsWiL7XXntN5KVLlwZ9bfjTS4dc06dPF3n16tWpPZw0xxUmAAAemDABAPDAhAkAgIcMUcPUHnroIZHde+llypQRfYMGDRI5OctMdC1s+/btAfuzZcvm/bqR5Nprr7VtXbPU//379u0L2/uuXbtWZLeG9eyzz4q+t956S+Ru3bqJrJewdO3a1baTs8VaZnDllVeKrLcobNKkifdr6SVcOrtLhfRyheuuu05kvWTh8ssvDzimL7/8UmRqmCmnv/P6WD7Xxx9/LPLhw4dTZUzpiStMAAA8MGECAOCBCRMAAA8RU8PU28pVqlTJtt01eMaE3mLpxIkTInfv3t229TFb+kiaxo0bi/zVV18FfS+Xu02UMfIe/vLly71fJ5J8+OGHtn3kyBHRFxcXJ/Ivv/ySFkMyI0aMEDlXrlwi623V9NFhJ0+etG337wbO30ZQr8M8e/asbesatl6HGcqDDz5o23qN5rRp00QuUqRIwNfR9c3ExMRkjSPaub8zMOb8bQZ1bVH3Hzt2LOBr699e6N94uL8BmDp1aujBRjmuMAEA8MCECQCAByZMAAA8pFsNU+8Hqu+ru/uBvvvuuxf0Xu4eh5988onoe/LJJ0UeM2aMyMmpYZYoUSLga61YscL7dSLJ+PHjk2xHktdff13katWqidysWTOR27Zta9sDBw4Uffv37w/z6KJL6dKlRc6bN6/Ibk1L1zt11rW1YPsn6zWazz33nMgTJ04U+aKLLgr4WrqmndE1b95cZF0P1lk/fsOGDbb9zjvviL6///5b5Ntvv11kvY9vRscVJgAAHpgwAQDwkG63ZPXtG/2TdPcn6/p2jT6S648//gj6Xu5r9enTR/Tp20Y33XSTyO7tPr1sRG8T1apVK5Ez4vE2kchd6mCMMevWrRNZLztwb+cVL15c9GX2W7I///yzyJs2bRLZPZIr1HaPTzzxhMj6NmswellJy5YtRZ4yZYpt6+Utd9xxh8gLFy4UefPmzd7jiAZDhw4V2T36zBhj6tWrJ3KtWrUCZn18l/5u6a3yChUqZNv58uUTfQcOHAg86CjFFSYAAB6YMAEA8MCECQCAh3SrYerjm3TdqVy5crYdExMj+nr37i2y3lYvGH0ElT7ea/bs2SJ36dLFtt0t1ZIah667IG3oI9uqVq0a9PFz5syx7TVr1qTGkDKMwYMHi+xulRiK/j2AXt7jfl90rUx/5xcvXiyyu/3dpZdeKvr07xIOHTrkOeLodPDgQZE7deoksv73UX8u5cuXt+2CBQuKPl3/1/XiChUq2PaLL74o+vr16yey3lozGnGFCQCAByZMAAA8MGECAOAh3WqYW7duFfntt98Wefjw4bat76O7xwIZc/5xTnqdlbu911NPPSX6mjZtKrK+R+8qW7ZswD5cGL3Vma5Luuu/HnjgAdFXsWJFkRs0aCCy/kzdGqZeDwxp2bJlIu/cudO2CxcuHPS5eovCSZMmiewe06br/7p2qre01P8mBHtfvS7z008/DfjcjED/PkSvPdcuu+wy2y5atKjo++yzz0TW30v3c+jatavo038/Ro4cKXJaHQcYTlxhAgDggQkTAAAPTJgAAHhItxqmpmsYbt3h3nvvDfrc5cuXizxq1CiRZ86cadvdu3cXfcH2sNX00Uf6qJvvv/8+6DjxP1WqVBG5du3aIusju3LmzBnwtUKtFdu9e7fIme1Ioguhj+Ryj8PT9S39XdL0PqTu3rKdO3cWfbq2rI8Zmzx5sm27x1MZY0zfvn1F1r9bmDp1qm3r/aAzo3///TfJtjHG3HzzzSLrfz/dtbV6X2a9/+/dd98t8vz580V2P6e9e/eGGna64AoTAAAPTJgAAHhgwgQAwEPE1DDd9V3GyLWWer9PXUvMnl3+Z+hz2L799lvb1mspt2zZIvLx48dFvuSSS2z7uuuuE326NkIN09/GjRtFfuONN0TW+4O69JmNukZ5+eWXizxs2DCR169f7z1OSO7vAfQaTX3OYihurVnvJavr0vrsTbf+eeLECdH32GOPiaz3TnXPi4yPj/cfcCaka4kvvPCCyG+++aZtb9u2Lehrues9jTHm/vvvF3nPnj223bNnT9EXKfsBc4UJAIAHJkwAADxEzC1ZzT1KS9+uveqqq0TWywj0T9Bd27dvF1lvyXbllVeKPGbMGNvWW2yxVV7K6aN+jh07JrK+vePe7tu/f7/o08eu6dt7CB/3dneorfH00hBdKnE/pwkTJog+fdyfXjpy9OhR29a3a3XWt3f1EVZIOfc2ql4qpr+H+rivJk2aiNyhQwfb/ueff0Rf//79L2ic4cIVJgAAHpgwAQDwwIQJAICHiK1hulatWiWy3q5J3yt/5513vF9b1z91jXPfvn0Bn1uhQgWR77zzTpHnzp3rPY7MRtc7EhISRNbHDBUpUsS2dU07FF3TcpcKubUwhNaoUSPbLlmyZNDH6prVwIEDRQ5XrVnXShctWiSyXoZ28cUXh+V9o4X73THm/O0Ag21DFxMTI7L73THGmB07dti23kZR08u7dA3TpZeVfPDBByLrGmda4QoTAAAPTJgAAHhgwgQAwENU1DCD1RGNOX+dlV6nqdd0JYdbd2nevLno07UxXaPZunWrbf/1118pHkNGVKBAAZFbtWolsv5MhwwZYtv6mCBdw9JZ16zy5ctn23oLPr01ol4fevr0aZOZNW3a1PuxLVq0EDmt1tLperj+nUKo2mu008dsLVy4MOjj27VrZ9t6jfOsWbNETkxMFNmtJR48eFD06e0v77nnnqDjcOmapf4epheuMAEA8MCECQCAByZMAAA8REUNs2/fviJ3795dZL02qFChQmF77z/++MO2dV1Nq1ixosju+i9qmNK4ceNEDvVnW6dOHdt2134ZY0zbtm1FnjFjhsi67uIeKzR27FjRp/c71WtpBwwYYNuZ8TN1P7e77ror6GOvvvpqkWvXri2yPqYtXLp06SKyrktn9PXR+vsxceJEkbt27Sry1KlTbTtHjhyiT/9OQ6/LLFasmPe4dC3577//FvmVV16xbb23sH5ueuEKEwAAD0yYAAB4iIpbsvpyfNeuXSLrn4nrWw6TJ0+27QvZCk1v0Ve5cmWR9cnvF7KcJaPTt4kaNmwosr7Vkzt3btvOnz+/6Pvyyy9F1lvn6a0S3VPi582bJ/pq1qwp8hdffBHwtXv06GEyG/e79Pjjj4u+unXrBn2ue+vPGGOuv/56207Nrc5efPHFVHvtSKSXVelt5nbv3i2yu2Vdcm99uo/XZRW9HDAuLk5kfWTblClTkvXe6YErTAAAPDBhAgDggQkTAAAPUVHD1D755BORdY1C/5zdPUZG/1w5OXr16iWyXr6glyQcPnw4xe+V0en6n85ufcsYY15//XXbvu2220SfrrvoZUW9e/cW+dprr7XtUaNGiT5dD9WvXaJECYP/79dffxX5lltuETl7dvnPyxVXXCGyu1Xes88+K/o4di316Jq+u5VevXr1RN/atWtFjo+PF3nBggW2vXLlStEXruPbIglXmAAAeGDCBADAAxMmAAAeorKGqWuF+t55lSpVRHbrX/ron6+//tr7fX/88UeRW7duLfL06dNFpg6TcsuWLRPZra3oOqJe31epUiWR9fFe7jFt+sg2XbPUefPmzcGGnano3w6UL19e5MaNGwd9/qOPPmrb7jpbY4zJmzevyEuWLBF52rRptq3XR2f2I9hC0evFO3funE4jiT5cYQIA4IEJEwAAD0yYAAB4iMoaprv3oTHGzJ8/X2S9TnPPnj22fc8994i+5NQw9TFBkyZN8n4uwmfr1q0iV69eXWRdw9R7Dbv71rprdI0xJmfOnCK7R4EZc/7es/ifwYMHi1y/fn2R//Of/wR8brNmzUTW+5Lqz3jOnDm2PWLECNHXsWNHkSPlaChEP64wAQDwwIQJAICHqLwlqy1dulTkcuXKpdNIEAlWr14dNLtbGj755JNpMqbMQG+VlydPnjR5X71dG5BauMIEAMADEyYAAB6YMAEA8MCECQCAByZMAAA8MGECAOCBCRMAAA9MmAAAeGDCBADAAxMmAAAemDABAPDAhAkAgAcmTAAAPDBhAgDggQkTAAAPTJgAAHhgwgQAwAMTJgAAHrLExsaeS+9BAAAQ6bjCBADAAxMmAAAemDABAPDAhAkAgAcmTAAAPDBhAgDggQkTAAAP2UM9IDY2Ng2GgQsR6jPiM4x8fIbRj88w+oX6jLjCBADAAxMmAAAemDABAPDAhAkAgAcmTAAAPDBhAgDggQkTAAAPTJgAAHhgwgQAwAMTJgAAHkJujQekhqxZg/+/2tmzZ9NoJADghytMAAA8MGECAOCBCRMAAA/UMJFmOnbsaNsjRowQfbt27RK5cuXKIu/bty/1BgZkIvny5RO5V69etr1z507RV7hwYZEffvhhkY8fP27b7dq1E32rVq0S+eDBg8kea6ThChMAAA9MmAAAeGDCBADAAzVMpJlz584F7CtUqJDI3bp1E3ngwIG2ffjw4fAODOkib968tn3FFVeIvvXr16f1cDKMggULitynTx+Ry5QpI3L9+vVtO0uWLCl+3/nz54vcv39/kePi4kROTEwU2a2HRiquMAEA8MCECQCAh4i9JeveGsiTJ4/ou+qqq0TevHmzyEePHhX5xIkTKR5H0aJFbXvWrFmi7/rrrxf59OnTKX6fzODbb7+17VOnTom+iy66SOQePXqIPH78eNv+888/U2F0SEq2bNlEvu+++2z70UcfFX2HDh0SeezYsSKXLFlS5Jdeesm28+fPL/peffVVkb/55huR3dt3+vuf2dWrV0/kJ598UuRgpZFgfUlx/53W21m++OKLIuvv9Icffhh0nJGIK0wAADwwYQIA4IEJEwAAD+lWw9Q/X9bHPQ0YMMC2u3fvHvS5+t65WxsxxpitW7fa9qeffpqscbrjuuaaa0RfqVKlROan8MFt2LDBtu+66y7R9/3334usaymvvfaabXfo0EH06e28ED6dO3cWefDgwbYdaglC48aNRc6RI4fI2bMH/udn6NChIg8ZMkTkjRs32naBAgVE3549e0Ru0qSJyGvXrg34vhnBypUrk/V493PUdejvvvtO5O3bt4u8bt0629bfy4oVK4qsP++WLVuKPH36dNuePXt2qGGnC64wAQDwwIQJAIAHJkwAADykWw1T16gqVKggsrs1mn6sXof3zz//iOxuo2aMrHHqeqjejknXTtyjcPSatEceeURkvQUVAjt58mTQrOtdDRs2tG1d/9R16WjYYita6O3NkiNXrlxB+93vdaj1f/o3DnottksfX6Vrqdu2bbNtvWY7I9C/pWjfvr3IRYoUEXnp0qW2reuf+ti9YP766y+R9bp1vdb60ksvFfmrr76y7djYWNHn/qYlPXGFCQCAByZMAAA8MGECAOAhYvaSfe+990R21wZVr15d9K1YsULk3Llzi6zXYbZu3dq2q1atKvp07eTzzz8POA792PLlyxukzC+//CLyxx9/LHLbtm0DPnf06NEi63rnJ598IvKRI0dSMkQkITnHP+k1fTt27BC5cOHCtu0e9XWh76u5a0eNkXvcZsQapv49gN6zNbXoNZuTJk0S2f13OClunVrXnSdOnCjyli1bUjDCC8cVJgAAHpgwAQDwwIQJAICHiKlhuvu9GmNMzZo1bfvll18WfXpvSF2j6tWrl8jDhg2z7SpVqoi+u+++W+Q6deqIfODAAduuW7eu6Lv33ntF1vfo3TMcIel68Pvvvy9ysBqmXg/7+OOPi6xrnEg5XYeMiYnxfq6upem9RcuUKWPbN998s+hzz6FN6n3dczmLFSsWdBx6/9Njx44FfXxGo//s9Drmv//+27bj4+PD9r4dO3YUuVq1aiJXqlQp4HP1WcOTJ08W2Z0f0hJXmAAAeGDCBADAQ8TcktW3TVz6Uj65EhISbFv/9Flnzb3dM2jQINH38MMPi9yuXTuRf/rpJ9tOr59BR4vVq1eLPGfOHJHdW+d6icHFF18ssr4FtW/fvnAMMVNyj1UzRt5Gq1WrlujT29XppSJ6mz13qYC+FegeBZeUvn372ra+fV+oUCGR16xZI3JGXEriKlu2rMgzZ84UWX9O7tahb731luh79dVXRT548KD3OPSt782bN4sc7Jaspm/n16hRQ+Rff/3V+7UuBFeYAAB4YMIEAMADEyYAAB7SrYapt5ULdlyP/tn4kCFDRNZHdoWTexRQz549RV+BAgVErl+/vsjPPfecbXfu3DkVRpdxJCYmitymTRuRN23aZNv6WKBrr71W5DfeeEPkRx99NBxDzJTcJVlay5YtRX7sscdEvv3220XW358ePXrY9rx580TfAw88IPLhw4dFdpd76c87s4uLixM52L+txsgt6fS/U82bNxdZL9lbtmyZbetjF/XSsZEjR4rcqFGjoONy6d84/Pbbb97PDSeuMAEA8MCECQCAByZMAAA8pFsNU293V7t27YCP1evuWrRoIXJq1jBdeq1o+/btRdbb+z399NO2vXPnTtH3+uuvh3l0GcuePXtEHjFihG1369ZN9Lk1GGPOr63p2oo+7gkpo49c+v7770UeMGCAyHoryfz589u2rv+7NUpjjClZsqTI7m8LIOla8qxZs0TW2865dN2xSJEiIo8bNy7gc/UaTV1n1L89COb06dMi679LetvFtMIVJgAAHpgwAQDwwIQJAICHdKth6jpT48aNRZ46dapt6xqmXv/45ptvitylSxeR9X35cNF1tm+++UZk9xgdfQQVNczkcdd/6c9X1zD13xe95y81zNSh6/R6j9dcuXKJ3LRpU9v+8MMPRZ/+DLt27Sry888/n9JhZnh79+4VWR/npdfH3n///bZdqlQp0af3Cw72b2mePHlEvvXWW4OOU3/G7p627piMMWb27NlBXyutcIUJAIAHJkwAADxEzPFe06dPF3nx4sW2feONN4q+7NnlsDt16iSy3karT58+4RjiefRPm/XxXosWLbLt4sWLi74bbrhB5CVLloR5dBmXXs4zdOhQkfUte/05XX311bb9119/hXl0CEQfq7Vw4ULb3rFjh+grWrSoyE899ZTIp06dsu20WlYWrfbv3y+yW+5KKrvq1q0rst6Gsk6dOratb6OGokta7lFykXILVuMKEwAAD0yYAAB4YMIEAMBDxNQw9c+V3Z+Z6xpmqOf27t1b5Bo1agTsW7p0abLGGYze+smtpelt8/R2bfA3YcIEkX///XeR9WeqtwL7/PPPbbtSpUphHh18bdy40bbvvvtu0RcfHy+yXrLgHtlGDTP1/PDDD0Hz+++/b9uPPPKI6Bs1alTQ1/70009FHj58eEqGmKa4wgQAwAMTJgAAHpgwAQDwEDE1TG3mzJm2vWXLFtGnj/rR6+wuuugike+8807b1vWsI0eOiPzWW2+J/MUXX9i2rkNq5cqVEzlnzpy2rdeZ6vdFypUpU0bkUFshVqhQwbbj4uJEH1uupZze6iw5W1L+8ccfIv/8888i6xrnZZddZtt6HfYHH3wgMt81f82aNRP5mWeeEVn/fmDatGm2rX+X4a6zNcaYm266SeRnn31W5ISEBNvu37+/54jTFleYAAB4YMIEAMADEyYAAB4itoa5e/du2+7Ro4foa9Omjcjbtm0TecOGDSIPHDjQtt3aR1J52LBhIj/xxBO2rfcw1bURfeyUa9OmTQH7cGH0/pahuLW2hx56SPS5f1eMOX+/SwQWzmP0Ro4cKXKDBg0CPlYf73fgwAGRx48fH7ZxZUT58+e37REjRoi+K664QuRbbrlF5NKlS9v2Sy+9JPr0sWIzZswQWe9T6x7DRw0TAIAoxoQJAIAHJkwAADxEbA3TrYe4e38mlUP57bffbLtt27aiT99nd+/nGyPPTlywYEGy3td19uzZFD8Xwc2dO1dkff6prq25WddoypYtKzI1TH+XXHKJyLo+7K5LNsaYzZs323bWrPL/3WNjY0UOVh/V6z/ddbYILSYmxrZz5MiRrOd27drVtpcvXy769Dmb7u9BjDFm1apVIrvr2PVjR48enaxxpRauMAEA8MCECQCAh4i9JRtO8+bNS7KdlCZNmojsbqV36NAh0ae35NNHRbk/o+7Vq5foC3X0DfwVK1YsaL++ZefSt/ry5s0bljFlRrlz5xbZPfrJmPNvu54+fdq29+7dK/oKFy7s/b4rV64U2d3OEqG5y/Dq1Kkj+vRWeG6Jyhh5C3fMmDGiL3t2Ob3MmjVLZL0szz0ecefOnSFGnT64wgQAwAMTJgAAHpgwAQDwkClqmMnhHleTVE6ObNmy2bZeknIhRyFBmjx5ssj6p/EfffSRyMFqmtQwU04v0Qn252yMrGkWLFhQ9Onvw9GjR0V2t04bN26c6GMpUMqtXr1a5KpVq4qs/6xbtWpl2/q78/HHH4s8duxYkXPlyiWyu31ofHy834DTGFeYAAB4YMIEAMADEyYAAB6oYaaiM2fO2HZCQkI6jiRz0WvHSpUqJXK1atVs+7///a/oW7JkSeoNLIMrUaKEyKHq8m4NM1RNv3v37iJHylZpmY0+atFdL/n000+LPnddpTHnb3d3/Phxkd1tSvfv339B40wtXGECAOCBCRMAAA9MmAAAeKCGiQyvX79+6T2ETOHrr78WWR+zderUKZEbNmxo22+//bbo27Ztm8h6X1qkj127doncs2dP29b1/3fffVfkAgUKiJyYmCjyxo0bwzHEVMUVJgAAHpgwAQDwwC1ZAKli/fr1QftHjhyZZBvRaerUqUFzRsAVJgAAHpgwAQDwwIQJAIAHJkwAADwwYQIA4IEJEwAAD0yYAAB4YMIEAMADEyYAAB6YMAEA8MCECQCAByZMAAA8MGECAOCBCRMAAA9ZYmNjz6X3IAAAiHRcYQIA4IEJEwAAD0yYAAB4YMIEAMADEyYAAB6YMAEA8MCECQCAh/8HX/pmNHMv0fYAAAAASUVORK5CYII=\" id=\"image09a6dd3df6\" transform=\"scale(1 -1) translate(0 -249.84)\" x=\"7.2\" y=\"-6.84\" width=\"331.2\" height=\"249.84\"/>\n   </g>\n  </g>\n </g>\n <defs>\n  <clipPath id=\"pf1516f39f4\">\n   <rect x=\"7.2\" y=\"7.2\" width=\"330.832174\" height=\"249.48\"/>\n  </clipPath>\n </defs>\n</svg>\n",
            "application/pdf": "[encoded data removed]"
          },
          "metadata": {}
        }
      ]
    },
    {
      "cell_type": "markdown",
      "source": [
        "(NOTE: Images of the numbers 6 and 7 need a little bit of imagination)"
      ],
      "metadata": {
        "id": "oFRwA85Wuwbk"
      }
    },
    {
      "cell_type": "markdown",
      "source": [
        "## Final discussion"
      ],
      "metadata": {
        "id": "PPYRH07FvOGF"
      }
    },
    {
      "cell_type": "markdown",
      "source": [
        "As we have seen, the performance of the implemented models are not as good as we would desire. On one hand, the first two models (the one that uses standard dequantization and the one that uses variational dequantization) generated outputs of similar poor quality. Is is impossible to demonstrate that they have generated are any realistic digits. On the other hand, the multiscale model has been able to generate at least number-looking shapes. In the images I have manually chosen for example, almost every digit is recognizable by a human without any additional context (except the numbers 6, 7 and maybe 4).\n",
        "\n",
        "To improve the performance of the models, I would mainly suggest adding more coupling layers so the model is able to learn more details. However, this could noticeable impact the computational cost overall. Another idea I had is to use different transformations instead of the affine transformations. These transformations maybe are not the most suitable for implementing normalizing flows. After a little research I found out nowadays there are researchs being conducted about this so I think this aspect might be key to improve the overall performance of normalizing flows.\n",
        "\n",
        "With this, I conclude the first part of the second assignment. Thanks for reading!!!"
      ],
      "metadata": {
        "id": "JSqEt6lwvWaA"
      }
    }
  ]
}